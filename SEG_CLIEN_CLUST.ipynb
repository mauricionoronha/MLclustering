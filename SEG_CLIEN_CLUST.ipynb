{
  "nbformat": 4,
  "nbformat_minor": 0,
  "metadata": {
    "colab": {
      "provenance": [],
      "collapsed_sections": [
        "lGj3UUkcSIuG",
        "3-yjynv5oEhM",
        "Es-rZ7cDub9y"
      ],
      "mount_file_id": "1K_lJA6ELCPN7aKRE70bcUkJeWLz51Lnm",
      "authorship_tag": "ABX9TyN+dMJHwCJaKtJZLpVVdqOg"
    },
    "kernelspec": {
      "name": "python3",
      "display_name": "Python 3"
    },
    "language_info": {
      "name": "python"
    }
  },
  "cells": [
    {
      "cell_type": "markdown",
      "source": [
        "# SEGMENTAÇÃO DE CLIENTES UTILIZANDO CLUSTERIZAÇÃO"
      ],
      "metadata": {
        "id": "SdnbYfUnN9aX"
      }
    },
    {
      "cell_type": "markdown",
      "source": [],
      "metadata": {
        "id": "kf7I5JPHWz70"
      }
    },
    {
      "cell_type": "markdown",
      "source": [
        "Este projeto tem por objetivo desenvolver um modelo de Machine Learning não supervisonado para segmentar clientes frequentadores de um shopping.\n",
        "\n",
        "os dados foram extraidos do Kaggle: \n",
        "https://www.kaggle.com/shwetabh123/mall-customers"
      ],
      "metadata": {
        "id": "7TBVHcr9Oupi"
      }
    },
    {
      "cell_type": "code",
      "execution_count": 1,
      "metadata": {
        "id": "499VNuhsNyFr"
      },
      "outputs": [],
      "source": [
        "# Importando as bibliotecas\n",
        "import pandas as pd\n",
        "import numpy as np"
      ]
    },
    {
      "cell_type": "code",
      "source": [
        "# Importando a biblioteca \"warnings\" para ignorar mensagens de erro\n",
        "import warnings\n",
        "warnings.filterwarnings(\"ignore\")"
      ],
      "metadata": {
        "id": "9D00Hi3VPrfV"
      },
      "execution_count": 2,
      "outputs": []
    },
    {
      "cell_type": "code",
      "source": [
        "# Importando o arquivo CSV e criando um dataframe\n",
        "df = pd.read_csv(\"/content/drive/MyDrive/MACHINE_LEARNNING/Mall_Customers.csv\", sep=\",\", encoding=\"iso-8859-1\")"
      ],
      "metadata": {
        "id": "GZokSDFlP3iU"
      },
      "execution_count": 3,
      "outputs": []
    },
    {
      "cell_type": "code",
      "source": [
        "# Visualizando as 5 primeiras linhas do dataframe\n",
        "df.head()"
      ],
      "metadata": {
        "colab": {
          "base_uri": "https://localhost:8080/",
          "height": 0
        },
        "id": "9abWuQ9TQ0ZJ",
        "outputId": "8cc1dc57-0837-45b9-b177-ddbc92084e15"
      },
      "execution_count": 4,
      "outputs": [
        {
          "output_type": "execute_result",
          "data": {
            "text/plain": [
              "   CustomerID   Genre  Age  Annual Income (k$)  Spending Score (1-100)\n",
              "0           1    Male   19                  15                      39\n",
              "1           2    Male   21                  15                      81\n",
              "2           3  Female   20                  16                       6\n",
              "3           4  Female   23                  16                      77\n",
              "4           5  Female   31                  17                      40"
            ],
            "text/html": [
              "\n",
              "  <div id=\"df-fc9aba10-92a7-40fe-99ab-0c23db7cdaba\">\n",
              "    <div class=\"colab-df-container\">\n",
              "      <div>\n",
              "<style scoped>\n",
              "    .dataframe tbody tr th:only-of-type {\n",
              "        vertical-align: middle;\n",
              "    }\n",
              "\n",
              "    .dataframe tbody tr th {\n",
              "        vertical-align: top;\n",
              "    }\n",
              "\n",
              "    .dataframe thead th {\n",
              "        text-align: right;\n",
              "    }\n",
              "</style>\n",
              "<table border=\"1\" class=\"dataframe\">\n",
              "  <thead>\n",
              "    <tr style=\"text-align: right;\">\n",
              "      <th></th>\n",
              "      <th>CustomerID</th>\n",
              "      <th>Genre</th>\n",
              "      <th>Age</th>\n",
              "      <th>Annual Income (k$)</th>\n",
              "      <th>Spending Score (1-100)</th>\n",
              "    </tr>\n",
              "  </thead>\n",
              "  <tbody>\n",
              "    <tr>\n",
              "      <th>0</th>\n",
              "      <td>1</td>\n",
              "      <td>Male</td>\n",
              "      <td>19</td>\n",
              "      <td>15</td>\n",
              "      <td>39</td>\n",
              "    </tr>\n",
              "    <tr>\n",
              "      <th>1</th>\n",
              "      <td>2</td>\n",
              "      <td>Male</td>\n",
              "      <td>21</td>\n",
              "      <td>15</td>\n",
              "      <td>81</td>\n",
              "    </tr>\n",
              "    <tr>\n",
              "      <th>2</th>\n",
              "      <td>3</td>\n",
              "      <td>Female</td>\n",
              "      <td>20</td>\n",
              "      <td>16</td>\n",
              "      <td>6</td>\n",
              "    </tr>\n",
              "    <tr>\n",
              "      <th>3</th>\n",
              "      <td>4</td>\n",
              "      <td>Female</td>\n",
              "      <td>23</td>\n",
              "      <td>16</td>\n",
              "      <td>77</td>\n",
              "    </tr>\n",
              "    <tr>\n",
              "      <th>4</th>\n",
              "      <td>5</td>\n",
              "      <td>Female</td>\n",
              "      <td>31</td>\n",
              "      <td>17</td>\n",
              "      <td>40</td>\n",
              "    </tr>\n",
              "  </tbody>\n",
              "</table>\n",
              "</div>\n",
              "      <button class=\"colab-df-convert\" onclick=\"convertToInteractive('df-fc9aba10-92a7-40fe-99ab-0c23db7cdaba')\"\n",
              "              title=\"Convert this dataframe to an interactive table.\"\n",
              "              style=\"display:none;\">\n",
              "        \n",
              "  <svg xmlns=\"http://www.w3.org/2000/svg\" height=\"24px\"viewBox=\"0 0 24 24\"\n",
              "       width=\"24px\">\n",
              "    <path d=\"M0 0h24v24H0V0z\" fill=\"none\"/>\n",
              "    <path d=\"M18.56 5.44l.94 2.06.94-2.06 2.06-.94-2.06-.94-.94-2.06-.94 2.06-2.06.94zm-11 1L8.5 8.5l.94-2.06 2.06-.94-2.06-.94L8.5 2.5l-.94 2.06-2.06.94zm10 10l.94 2.06.94-2.06 2.06-.94-2.06-.94-.94-2.06-.94 2.06-2.06.94z\"/><path d=\"M17.41 7.96l-1.37-1.37c-.4-.4-.92-.59-1.43-.59-.52 0-1.04.2-1.43.59L10.3 9.45l-7.72 7.72c-.78.78-.78 2.05 0 2.83L4 21.41c.39.39.9.59 1.41.59.51 0 1.02-.2 1.41-.59l7.78-7.78 2.81-2.81c.8-.78.8-2.07 0-2.86zM5.41 20L4 18.59l7.72-7.72 1.47 1.35L5.41 20z\"/>\n",
              "  </svg>\n",
              "      </button>\n",
              "      \n",
              "  <style>\n",
              "    .colab-df-container {\n",
              "      display:flex;\n",
              "      flex-wrap:wrap;\n",
              "      gap: 12px;\n",
              "    }\n",
              "\n",
              "    .colab-df-convert {\n",
              "      background-color: #E8F0FE;\n",
              "      border: none;\n",
              "      border-radius: 50%;\n",
              "      cursor: pointer;\n",
              "      display: none;\n",
              "      fill: #1967D2;\n",
              "      height: 32px;\n",
              "      padding: 0 0 0 0;\n",
              "      width: 32px;\n",
              "    }\n",
              "\n",
              "    .colab-df-convert:hover {\n",
              "      background-color: #E2EBFA;\n",
              "      box-shadow: 0px 1px 2px rgba(60, 64, 67, 0.3), 0px 1px 3px 1px rgba(60, 64, 67, 0.15);\n",
              "      fill: #174EA6;\n",
              "    }\n",
              "\n",
              "    [theme=dark] .colab-df-convert {\n",
              "      background-color: #3B4455;\n",
              "      fill: #D2E3FC;\n",
              "    }\n",
              "\n",
              "    [theme=dark] .colab-df-convert:hover {\n",
              "      background-color: #434B5C;\n",
              "      box-shadow: 0px 1px 3px 1px rgba(0, 0, 0, 0.15);\n",
              "      filter: drop-shadow(0px 1px 2px rgba(0, 0, 0, 0.3));\n",
              "      fill: #FFFFFF;\n",
              "    }\n",
              "  </style>\n",
              "\n",
              "      <script>\n",
              "        const buttonEl =\n",
              "          document.querySelector('#df-fc9aba10-92a7-40fe-99ab-0c23db7cdaba button.colab-df-convert');\n",
              "        buttonEl.style.display =\n",
              "          google.colab.kernel.accessAllowed ? 'block' : 'none';\n",
              "\n",
              "        async function convertToInteractive(key) {\n",
              "          const element = document.querySelector('#df-fc9aba10-92a7-40fe-99ab-0c23db7cdaba');\n",
              "          const dataTable =\n",
              "            await google.colab.kernel.invokeFunction('convertToInteractive',\n",
              "                                                     [key], {});\n",
              "          if (!dataTable) return;\n",
              "\n",
              "          const docLinkHtml = 'Like what you see? Visit the ' +\n",
              "            '<a target=\"_blank\" href=https://colab.research.google.com/notebooks/data_table.ipynb>data table notebook</a>'\n",
              "            + ' to learn more about interactive tables.';\n",
              "          element.innerHTML = '';\n",
              "          dataTable['output_type'] = 'display_data';\n",
              "          await google.colab.output.renderOutput(dataTable, element);\n",
              "          const docLink = document.createElement('div');\n",
              "          docLink.innerHTML = docLinkHtml;\n",
              "          element.appendChild(docLink);\n",
              "        }\n",
              "      </script>\n",
              "    </div>\n",
              "  </div>\n",
              "  "
            ]
          },
          "metadata": {},
          "execution_count": 4
        }
      ]
    },
    {
      "cell_type": "markdown",
      "source": [
        "# ATRIBUTOS:\n",
        "* CustomerID: Identificação do cliente\n",
        "* Genre: Gênero\n",
        "* Age: Idade\n",
        "* Annual Income (k$): Rendimento anual\n",
        "* Spending Score (1-100): Pontuação de gastos"
      ],
      "metadata": {
        "id": "s9IvdJ1KRQtF"
      }
    },
    {
      "cell_type": "markdown",
      "source": [
        "# Visualização gráfica dos dados"
      ],
      "metadata": {
        "id": "lGj3UUkcSIuG"
      }
    },
    {
      "cell_type": "markdown",
      "source": [
        "## Idade"
      ],
      "metadata": {
        "id": "tQFH4wd8SQj-"
      }
    },
    {
      "cell_type": "code",
      "source": [
        "# Importando o Plotly para criar representações gráficas dos atributos\n",
        "import plotly.express as px"
      ],
      "metadata": {
        "id": "WxLQXw8PSTCs"
      },
      "execution_count": 5,
      "outputs": []
    },
    {
      "cell_type": "code",
      "source": [
        "# Criando um histograma com o atributo Age ( Idade )\n",
        "hist = px.histogram( df, x = \"Age\", nbins = 60)\n",
        "hist.update_layout (width = 600, height = 400, title_text = \"Distribuição de Idades\")\n",
        "hist.show()"
      ],
      "metadata": {
        "colab": {
          "base_uri": "https://localhost:8080/",
          "height": 0
        },
        "id": "cOBZMiDkSY_4",
        "outputId": "efc521ea-6c08-40a9-9439-a0e1c31c4f11"
      },
      "execution_count": 6,
      "outputs": [
        {
          "output_type": "display_data",
          "data": {
            "text/html": [
              "<html>\n",
              "<head><meta charset=\"utf-8\" /></head>\n",
              "<body>\n",
              "    <div>            <script src=\"https://cdnjs.cloudflare.com/ajax/libs/mathjax/2.7.5/MathJax.js?config=TeX-AMS-MML_SVG\"></script><script type=\"text/javascript\">if (window.MathJax) {MathJax.Hub.Config({SVG: {font: \"STIX-Web\"}});}</script>                <script type=\"text/javascript\">window.PlotlyConfig = {MathJaxConfig: 'local'};</script>\n",
              "        <script src=\"https://cdn.plot.ly/plotly-2.8.3.min.js\"></script>                <div id=\"ac75d3ab-8242-4669-a782-490206ce38fc\" class=\"plotly-graph-div\" style=\"height:400px; width:600px;\"></div>            <script type=\"text/javascript\">                                    window.PLOTLYENV=window.PLOTLYENV || {};                                    if (document.getElementById(\"ac75d3ab-8242-4669-a782-490206ce38fc\")) {                    Plotly.newPlot(                        \"ac75d3ab-8242-4669-a782-490206ce38fc\",                        [{\"alignmentgroup\":\"True\",\"bingroup\":\"x\",\"hovertemplate\":\"Age=%{x}<br>count=%{y}<extra></extra>\",\"legendgroup\":\"\",\"marker\":{\"color\":\"#636efa\",\"pattern\":{\"shape\":\"\"}},\"name\":\"\",\"nbinsx\":60,\"offsetgroup\":\"\",\"orientation\":\"v\",\"showlegend\":false,\"x\":[19,21,20,23,31,22,35,23,64,30,67,35,58,24,37,22,35,20,52,35,35,25,46,31,54,29,45,35,40,23,60,21,53,18,49,21,42,30,36,20,65,24,48,31,49,24,50,27,29,31,49,33,31,59,50,47,51,69,27,53,70,19,67,54,63,18,43,68,19,32,70,47,60,60,59,26,45,40,23,49,57,38,67,46,21,48,55,22,34,50,68,18,48,40,32,24,47,27,48,20,23,49,67,26,49,21,66,54,68,66,65,19,38,19,18,19,63,49,51,50,27,38,40,39,23,31,43,40,59,38,47,39,25,31,20,29,44,32,19,35,57,32,28,32,25,28,48,32,34,34,43,39,44,38,47,27,37,30,34,30,56,29,19,31,50,36,42,33,36,32,40,28,36,36,52,30,58,27,59,35,37,32,46,29,41,30,54,28,41,36,34,32,33,38,47,35,45,32,32,30],\"xaxis\":\"x\",\"yaxis\":\"y\",\"type\":\"histogram\"}],                        {\"template\":{\"data\":{\"bar\":[{\"error_x\":{\"color\":\"#2a3f5f\"},\"error_y\":{\"color\":\"#2a3f5f\"},\"marker\":{\"line\":{\"color\":\"#E5ECF6\",\"width\":0.5},\"pattern\":{\"fillmode\":\"overlay\",\"size\":10,\"solidity\":0.2}},\"type\":\"bar\"}],\"barpolar\":[{\"marker\":{\"line\":{\"color\":\"#E5ECF6\",\"width\":0.5},\"pattern\":{\"fillmode\":\"overlay\",\"size\":10,\"solidity\":0.2}},\"type\":\"barpolar\"}],\"carpet\":[{\"aaxis\":{\"endlinecolor\":\"#2a3f5f\",\"gridcolor\":\"white\",\"linecolor\":\"white\",\"minorgridcolor\":\"white\",\"startlinecolor\":\"#2a3f5f\"},\"baxis\":{\"endlinecolor\":\"#2a3f5f\",\"gridcolor\":\"white\",\"linecolor\":\"white\",\"minorgridcolor\":\"white\",\"startlinecolor\":\"#2a3f5f\"},\"type\":\"carpet\"}],\"choropleth\":[{\"colorbar\":{\"outlinewidth\":0,\"ticks\":\"\"},\"type\":\"choropleth\"}],\"contour\":[{\"colorbar\":{\"outlinewidth\":0,\"ticks\":\"\"},\"colorscale\":[[0.0,\"#0d0887\"],[0.1111111111111111,\"#46039f\"],[0.2222222222222222,\"#7201a8\"],[0.3333333333333333,\"#9c179e\"],[0.4444444444444444,\"#bd3786\"],[0.5555555555555556,\"#d8576b\"],[0.6666666666666666,\"#ed7953\"],[0.7777777777777778,\"#fb9f3a\"],[0.8888888888888888,\"#fdca26\"],[1.0,\"#f0f921\"]],\"type\":\"contour\"}],\"contourcarpet\":[{\"colorbar\":{\"outlinewidth\":0,\"ticks\":\"\"},\"type\":\"contourcarpet\"}],\"heatmap\":[{\"colorbar\":{\"outlinewidth\":0,\"ticks\":\"\"},\"colorscale\":[[0.0,\"#0d0887\"],[0.1111111111111111,\"#46039f\"],[0.2222222222222222,\"#7201a8\"],[0.3333333333333333,\"#9c179e\"],[0.4444444444444444,\"#bd3786\"],[0.5555555555555556,\"#d8576b\"],[0.6666666666666666,\"#ed7953\"],[0.7777777777777778,\"#fb9f3a\"],[0.8888888888888888,\"#fdca26\"],[1.0,\"#f0f921\"]],\"type\":\"heatmap\"}],\"heatmapgl\":[{\"colorbar\":{\"outlinewidth\":0,\"ticks\":\"\"},\"colorscale\":[[0.0,\"#0d0887\"],[0.1111111111111111,\"#46039f\"],[0.2222222222222222,\"#7201a8\"],[0.3333333333333333,\"#9c179e\"],[0.4444444444444444,\"#bd3786\"],[0.5555555555555556,\"#d8576b\"],[0.6666666666666666,\"#ed7953\"],[0.7777777777777778,\"#fb9f3a\"],[0.8888888888888888,\"#fdca26\"],[1.0,\"#f0f921\"]],\"type\":\"heatmapgl\"}],\"histogram\":[{\"marker\":{\"pattern\":{\"fillmode\":\"overlay\",\"size\":10,\"solidity\":0.2}},\"type\":\"histogram\"}],\"histogram2d\":[{\"colorbar\":{\"outlinewidth\":0,\"ticks\":\"\"},\"colorscale\":[[0.0,\"#0d0887\"],[0.1111111111111111,\"#46039f\"],[0.2222222222222222,\"#7201a8\"],[0.3333333333333333,\"#9c179e\"],[0.4444444444444444,\"#bd3786\"],[0.5555555555555556,\"#d8576b\"],[0.6666666666666666,\"#ed7953\"],[0.7777777777777778,\"#fb9f3a\"],[0.8888888888888888,\"#fdca26\"],[1.0,\"#f0f921\"]],\"type\":\"histogram2d\"}],\"histogram2dcontour\":[{\"colorbar\":{\"outlinewidth\":0,\"ticks\":\"\"},\"colorscale\":[[0.0,\"#0d0887\"],[0.1111111111111111,\"#46039f\"],[0.2222222222222222,\"#7201a8\"],[0.3333333333333333,\"#9c179e\"],[0.4444444444444444,\"#bd3786\"],[0.5555555555555556,\"#d8576b\"],[0.6666666666666666,\"#ed7953\"],[0.7777777777777778,\"#fb9f3a\"],[0.8888888888888888,\"#fdca26\"],[1.0,\"#f0f921\"]],\"type\":\"histogram2dcontour\"}],\"mesh3d\":[{\"colorbar\":{\"outlinewidth\":0,\"ticks\":\"\"},\"type\":\"mesh3d\"}],\"parcoords\":[{\"line\":{\"colorbar\":{\"outlinewidth\":0,\"ticks\":\"\"}},\"type\":\"parcoords\"}],\"pie\":[{\"automargin\":true,\"type\":\"pie\"}],\"scatter\":[{\"marker\":{\"colorbar\":{\"outlinewidth\":0,\"ticks\":\"\"}},\"type\":\"scatter\"}],\"scatter3d\":[{\"line\":{\"colorbar\":{\"outlinewidth\":0,\"ticks\":\"\"}},\"marker\":{\"colorbar\":{\"outlinewidth\":0,\"ticks\":\"\"}},\"type\":\"scatter3d\"}],\"scattercarpet\":[{\"marker\":{\"colorbar\":{\"outlinewidth\":0,\"ticks\":\"\"}},\"type\":\"scattercarpet\"}],\"scattergeo\":[{\"marker\":{\"colorbar\":{\"outlinewidth\":0,\"ticks\":\"\"}},\"type\":\"scattergeo\"}],\"scattergl\":[{\"marker\":{\"colorbar\":{\"outlinewidth\":0,\"ticks\":\"\"}},\"type\":\"scattergl\"}],\"scattermapbox\":[{\"marker\":{\"colorbar\":{\"outlinewidth\":0,\"ticks\":\"\"}},\"type\":\"scattermapbox\"}],\"scatterpolar\":[{\"marker\":{\"colorbar\":{\"outlinewidth\":0,\"ticks\":\"\"}},\"type\":\"scatterpolar\"}],\"scatterpolargl\":[{\"marker\":{\"colorbar\":{\"outlinewidth\":0,\"ticks\":\"\"}},\"type\":\"scatterpolargl\"}],\"scatterternary\":[{\"marker\":{\"colorbar\":{\"outlinewidth\":0,\"ticks\":\"\"}},\"type\":\"scatterternary\"}],\"surface\":[{\"colorbar\":{\"outlinewidth\":0,\"ticks\":\"\"},\"colorscale\":[[0.0,\"#0d0887\"],[0.1111111111111111,\"#46039f\"],[0.2222222222222222,\"#7201a8\"],[0.3333333333333333,\"#9c179e\"],[0.4444444444444444,\"#bd3786\"],[0.5555555555555556,\"#d8576b\"],[0.6666666666666666,\"#ed7953\"],[0.7777777777777778,\"#fb9f3a\"],[0.8888888888888888,\"#fdca26\"],[1.0,\"#f0f921\"]],\"type\":\"surface\"}],\"table\":[{\"cells\":{\"fill\":{\"color\":\"#EBF0F8\"},\"line\":{\"color\":\"white\"}},\"header\":{\"fill\":{\"color\":\"#C8D4E3\"},\"line\":{\"color\":\"white\"}},\"type\":\"table\"}]},\"layout\":{\"annotationdefaults\":{\"arrowcolor\":\"#2a3f5f\",\"arrowhead\":0,\"arrowwidth\":1},\"autotypenumbers\":\"strict\",\"coloraxis\":{\"colorbar\":{\"outlinewidth\":0,\"ticks\":\"\"}},\"colorscale\":{\"diverging\":[[0,\"#8e0152\"],[0.1,\"#c51b7d\"],[0.2,\"#de77ae\"],[0.3,\"#f1b6da\"],[0.4,\"#fde0ef\"],[0.5,\"#f7f7f7\"],[0.6,\"#e6f5d0\"],[0.7,\"#b8e186\"],[0.8,\"#7fbc41\"],[0.9,\"#4d9221\"],[1,\"#276419\"]],\"sequential\":[[0.0,\"#0d0887\"],[0.1111111111111111,\"#46039f\"],[0.2222222222222222,\"#7201a8\"],[0.3333333333333333,\"#9c179e\"],[0.4444444444444444,\"#bd3786\"],[0.5555555555555556,\"#d8576b\"],[0.6666666666666666,\"#ed7953\"],[0.7777777777777778,\"#fb9f3a\"],[0.8888888888888888,\"#fdca26\"],[1.0,\"#f0f921\"]],\"sequentialminus\":[[0.0,\"#0d0887\"],[0.1111111111111111,\"#46039f\"],[0.2222222222222222,\"#7201a8\"],[0.3333333333333333,\"#9c179e\"],[0.4444444444444444,\"#bd3786\"],[0.5555555555555556,\"#d8576b\"],[0.6666666666666666,\"#ed7953\"],[0.7777777777777778,\"#fb9f3a\"],[0.8888888888888888,\"#fdca26\"],[1.0,\"#f0f921\"]]},\"colorway\":[\"#636efa\",\"#EF553B\",\"#00cc96\",\"#ab63fa\",\"#FFA15A\",\"#19d3f3\",\"#FF6692\",\"#B6E880\",\"#FF97FF\",\"#FECB52\"],\"font\":{\"color\":\"#2a3f5f\"},\"geo\":{\"bgcolor\":\"white\",\"lakecolor\":\"white\",\"landcolor\":\"#E5ECF6\",\"showlakes\":true,\"showland\":true,\"subunitcolor\":\"white\"},\"hoverlabel\":{\"align\":\"left\"},\"hovermode\":\"closest\",\"mapbox\":{\"style\":\"light\"},\"paper_bgcolor\":\"white\",\"plot_bgcolor\":\"#E5ECF6\",\"polar\":{\"angularaxis\":{\"gridcolor\":\"white\",\"linecolor\":\"white\",\"ticks\":\"\"},\"bgcolor\":\"#E5ECF6\",\"radialaxis\":{\"gridcolor\":\"white\",\"linecolor\":\"white\",\"ticks\":\"\"}},\"scene\":{\"xaxis\":{\"backgroundcolor\":\"#E5ECF6\",\"gridcolor\":\"white\",\"gridwidth\":2,\"linecolor\":\"white\",\"showbackground\":true,\"ticks\":\"\",\"zerolinecolor\":\"white\"},\"yaxis\":{\"backgroundcolor\":\"#E5ECF6\",\"gridcolor\":\"white\",\"gridwidth\":2,\"linecolor\":\"white\",\"showbackground\":true,\"ticks\":\"\",\"zerolinecolor\":\"white\"},\"zaxis\":{\"backgroundcolor\":\"#E5ECF6\",\"gridcolor\":\"white\",\"gridwidth\":2,\"linecolor\":\"white\",\"showbackground\":true,\"ticks\":\"\",\"zerolinecolor\":\"white\"}},\"shapedefaults\":{\"line\":{\"color\":\"#2a3f5f\"}},\"ternary\":{\"aaxis\":{\"gridcolor\":\"white\",\"linecolor\":\"white\",\"ticks\":\"\"},\"baxis\":{\"gridcolor\":\"white\",\"linecolor\":\"white\",\"ticks\":\"\"},\"bgcolor\":\"#E5ECF6\",\"caxis\":{\"gridcolor\":\"white\",\"linecolor\":\"white\",\"ticks\":\"\"}},\"title\":{\"x\":0.05},\"xaxis\":{\"automargin\":true,\"gridcolor\":\"white\",\"linecolor\":\"white\",\"ticks\":\"\",\"title\":{\"standoff\":15},\"zerolinecolor\":\"white\",\"zerolinewidth\":2},\"yaxis\":{\"automargin\":true,\"gridcolor\":\"white\",\"linecolor\":\"white\",\"ticks\":\"\",\"title\":{\"standoff\":15},\"zerolinecolor\":\"white\",\"zerolinewidth\":2}}},\"xaxis\":{\"anchor\":\"y\",\"domain\":[0.0,1.0],\"title\":{\"text\":\"Age\"}},\"yaxis\":{\"anchor\":\"x\",\"domain\":[0.0,1.0],\"title\":{\"text\":\"count\"}},\"legend\":{\"tracegroupgap\":0},\"margin\":{\"t\":60},\"barmode\":\"relative\",\"title\":{\"text\":\"Distribui\\u00e7\\u00e3o de Idades\"},\"width\":600,\"height\":400},                        {\"responsive\": true}                    ).then(function(){\n",
              "                            \n",
              "var gd = document.getElementById('ac75d3ab-8242-4669-a782-490206ce38fc');\n",
              "var x = new MutationObserver(function (mutations, observer) {{\n",
              "        var display = window.getComputedStyle(gd).display;\n",
              "        if (!display || display === 'none') {{\n",
              "            console.log([gd, 'removed!']);\n",
              "            Plotly.purge(gd);\n",
              "            observer.disconnect();\n",
              "        }}\n",
              "}});\n",
              "\n",
              "// Listen for the removal of the full notebook cells\n",
              "var notebookContainer = gd.closest('#notebook-container');\n",
              "if (notebookContainer) {{\n",
              "    x.observe(notebookContainer, {childList: true});\n",
              "}}\n",
              "\n",
              "// Listen for the clearing of the current output cell\n",
              "var outputEl = gd.closest('.output');\n",
              "if (outputEl) {{\n",
              "    x.observe(outputEl, {childList: true});\n",
              "}}\n",
              "\n",
              "                        })                };                            </script>        </div>\n",
              "</body>\n",
              "</html>"
            ]
          },
          "metadata": {}
        }
      ]
    },
    {
      "cell_type": "markdown",
      "source": [
        "O gráfico mostra uma distribuição diversificada entre as idades, sendo a \n",
        "menor idade 18 anos com 4 contagens e a idade máxima 70 anos com 2 contagens."
      ],
      "metadata": {
        "id": "0X5uGveNV8U9"
      }
    },
    {
      "cell_type": "markdown",
      "source": [
        "## Gênero"
      ],
      "metadata": {
        "id": "ULqFpPOKTslQ"
      }
    },
    {
      "cell_type": "code",
      "source": [
        "# Agora veremos as distribuições de gênero\n",
        "hist = px.histogram( df, x = \"Genre\", nbins = 60)\n",
        "hist.update_layout (width = 600, height = 400, title_text = \"Distribuição de gênero\")\n",
        "hist.show()\n",
        "df[\"Genre\"].value_counts() # contagem por tipo"
      ],
      "metadata": {
        "colab": {
          "base_uri": "https://localhost:8080/",
          "height": 0
        },
        "id": "HBf2PgiDTvxh",
        "outputId": "a045913f-08b0-4dfd-9e88-2d1e3ca8f66c"
      },
      "execution_count": 7,
      "outputs": [
        {
          "output_type": "display_data",
          "data": {
            "text/html": [
              "<html>\n",
              "<head><meta charset=\"utf-8\" /></head>\n",
              "<body>\n",
              "    <div>            <script src=\"https://cdnjs.cloudflare.com/ajax/libs/mathjax/2.7.5/MathJax.js?config=TeX-AMS-MML_SVG\"></script><script type=\"text/javascript\">if (window.MathJax) {MathJax.Hub.Config({SVG: {font: \"STIX-Web\"}});}</script>                <script type=\"text/javascript\">window.PlotlyConfig = {MathJaxConfig: 'local'};</script>\n",
              "        <script src=\"https://cdn.plot.ly/plotly-2.8.3.min.js\"></script>                <div id=\"3a5c8c78-0e93-4dc4-a8b9-8ad9cc4fd47f\" class=\"plotly-graph-div\" style=\"height:400px; width:600px;\"></div>            <script type=\"text/javascript\">                                    window.PLOTLYENV=window.PLOTLYENV || {};                                    if (document.getElementById(\"3a5c8c78-0e93-4dc4-a8b9-8ad9cc4fd47f\")) {                    Plotly.newPlot(                        \"3a5c8c78-0e93-4dc4-a8b9-8ad9cc4fd47f\",                        [{\"alignmentgroup\":\"True\",\"bingroup\":\"x\",\"hovertemplate\":\"Genre=%{x}<br>count=%{y}<extra></extra>\",\"legendgroup\":\"\",\"marker\":{\"color\":\"#636efa\",\"pattern\":{\"shape\":\"\"}},\"name\":\"\",\"nbinsx\":60,\"offsetgroup\":\"\",\"orientation\":\"v\",\"showlegend\":false,\"x\":[\"Male\",\"Male\",\"Female\",\"Female\",\"Female\",\"Female\",\"Female\",\"Female\",\"Male\",\"Female\",\"Male\",\"Female\",\"Female\",\"Female\",\"Male\",\"Male\",\"Female\",\"Male\",\"Male\",\"Female\",\"Male\",\"Male\",\"Female\",\"Male\",\"Female\",\"Male\",\"Female\",\"Male\",\"Female\",\"Female\",\"Male\",\"Female\",\"Male\",\"Male\",\"Female\",\"Female\",\"Female\",\"Female\",\"Female\",\"Female\",\"Female\",\"Male\",\"Male\",\"Female\",\"Female\",\"Female\",\"Female\",\"Female\",\"Female\",\"Female\",\"Female\",\"Male\",\"Female\",\"Male\",\"Female\",\"Male\",\"Female\",\"Male\",\"Female\",\"Male\",\"Male\",\"Male\",\"Female\",\"Female\",\"Male\",\"Male\",\"Female\",\"Female\",\"Male\",\"Female\",\"Male\",\"Female\",\"Female\",\"Female\",\"Male\",\"Male\",\"Female\",\"Male\",\"Female\",\"Female\",\"Male\",\"Male\",\"Male\",\"Female\",\"Female\",\"Male\",\"Female\",\"Female\",\"Female\",\"Female\",\"Female\",\"Male\",\"Male\",\"Female\",\"Female\",\"Male\",\"Female\",\"Female\",\"Male\",\"Male\",\"Female\",\"Female\",\"Male\",\"Male\",\"Male\",\"Female\",\"Female\",\"Male\",\"Male\",\"Male\",\"Male\",\"Female\",\"Female\",\"Male\",\"Female\",\"Female\",\"Female\",\"Female\",\"Female\",\"Female\",\"Male\",\"Female\",\"Female\",\"Male\",\"Female\",\"Female\",\"Male\",\"Male\",\"Male\",\"Male\",\"Male\",\"Male\",\"Female\",\"Female\",\"Male\",\"Female\",\"Female\",\"Male\",\"Male\",\"Female\",\"Female\",\"Male\",\"Female\",\"Female\",\"Male\",\"Male\",\"Male\",\"Female\",\"Female\",\"Male\",\"Male\",\"Male\",\"Female\",\"Female\",\"Female\",\"Female\",\"Male\",\"Female\",\"Male\",\"Female\",\"Female\",\"Female\",\"Male\",\"Female\",\"Male\",\"Female\",\"Male\",\"Female\",\"Female\",\"Male\",\"Male\",\"Male\",\"Male\",\"Male\",\"Female\",\"Female\",\"Male\",\"Male\",\"Male\",\"Male\",\"Female\",\"Female\",\"Male\",\"Female\",\"Female\",\"Male\",\"Female\",\"Male\",\"Female\",\"Female\",\"Female\",\"Female\",\"Male\",\"Female\",\"Female\",\"Female\",\"Female\",\"Male\",\"Male\",\"Male\"],\"xaxis\":\"x\",\"yaxis\":\"y\",\"type\":\"histogram\"}],                        {\"template\":{\"data\":{\"bar\":[{\"error_x\":{\"color\":\"#2a3f5f\"},\"error_y\":{\"color\":\"#2a3f5f\"},\"marker\":{\"line\":{\"color\":\"#E5ECF6\",\"width\":0.5},\"pattern\":{\"fillmode\":\"overlay\",\"size\":10,\"solidity\":0.2}},\"type\":\"bar\"}],\"barpolar\":[{\"marker\":{\"line\":{\"color\":\"#E5ECF6\",\"width\":0.5},\"pattern\":{\"fillmode\":\"overlay\",\"size\":10,\"solidity\":0.2}},\"type\":\"barpolar\"}],\"carpet\":[{\"aaxis\":{\"endlinecolor\":\"#2a3f5f\",\"gridcolor\":\"white\",\"linecolor\":\"white\",\"minorgridcolor\":\"white\",\"startlinecolor\":\"#2a3f5f\"},\"baxis\":{\"endlinecolor\":\"#2a3f5f\",\"gridcolor\":\"white\",\"linecolor\":\"white\",\"minorgridcolor\":\"white\",\"startlinecolor\":\"#2a3f5f\"},\"type\":\"carpet\"}],\"choropleth\":[{\"colorbar\":{\"outlinewidth\":0,\"ticks\":\"\"},\"type\":\"choropleth\"}],\"contour\":[{\"colorbar\":{\"outlinewidth\":0,\"ticks\":\"\"},\"colorscale\":[[0.0,\"#0d0887\"],[0.1111111111111111,\"#46039f\"],[0.2222222222222222,\"#7201a8\"],[0.3333333333333333,\"#9c179e\"],[0.4444444444444444,\"#bd3786\"],[0.5555555555555556,\"#d8576b\"],[0.6666666666666666,\"#ed7953\"],[0.7777777777777778,\"#fb9f3a\"],[0.8888888888888888,\"#fdca26\"],[1.0,\"#f0f921\"]],\"type\":\"contour\"}],\"contourcarpet\":[{\"colorbar\":{\"outlinewidth\":0,\"ticks\":\"\"},\"type\":\"contourcarpet\"}],\"heatmap\":[{\"colorbar\":{\"outlinewidth\":0,\"ticks\":\"\"},\"colorscale\":[[0.0,\"#0d0887\"],[0.1111111111111111,\"#46039f\"],[0.2222222222222222,\"#7201a8\"],[0.3333333333333333,\"#9c179e\"],[0.4444444444444444,\"#bd3786\"],[0.5555555555555556,\"#d8576b\"],[0.6666666666666666,\"#ed7953\"],[0.7777777777777778,\"#fb9f3a\"],[0.8888888888888888,\"#fdca26\"],[1.0,\"#f0f921\"]],\"type\":\"heatmap\"}],\"heatmapgl\":[{\"colorbar\":{\"outlinewidth\":0,\"ticks\":\"\"},\"colorscale\":[[0.0,\"#0d0887\"],[0.1111111111111111,\"#46039f\"],[0.2222222222222222,\"#7201a8\"],[0.3333333333333333,\"#9c179e\"],[0.4444444444444444,\"#bd3786\"],[0.5555555555555556,\"#d8576b\"],[0.6666666666666666,\"#ed7953\"],[0.7777777777777778,\"#fb9f3a\"],[0.8888888888888888,\"#fdca26\"],[1.0,\"#f0f921\"]],\"type\":\"heatmapgl\"}],\"histogram\":[{\"marker\":{\"pattern\":{\"fillmode\":\"overlay\",\"size\":10,\"solidity\":0.2}},\"type\":\"histogram\"}],\"histogram2d\":[{\"colorbar\":{\"outlinewidth\":0,\"ticks\":\"\"},\"colorscale\":[[0.0,\"#0d0887\"],[0.1111111111111111,\"#46039f\"],[0.2222222222222222,\"#7201a8\"],[0.3333333333333333,\"#9c179e\"],[0.4444444444444444,\"#bd3786\"],[0.5555555555555556,\"#d8576b\"],[0.6666666666666666,\"#ed7953\"],[0.7777777777777778,\"#fb9f3a\"],[0.8888888888888888,\"#fdca26\"],[1.0,\"#f0f921\"]],\"type\":\"histogram2d\"}],\"histogram2dcontour\":[{\"colorbar\":{\"outlinewidth\":0,\"ticks\":\"\"},\"colorscale\":[[0.0,\"#0d0887\"],[0.1111111111111111,\"#46039f\"],[0.2222222222222222,\"#7201a8\"],[0.3333333333333333,\"#9c179e\"],[0.4444444444444444,\"#bd3786\"],[0.5555555555555556,\"#d8576b\"],[0.6666666666666666,\"#ed7953\"],[0.7777777777777778,\"#fb9f3a\"],[0.8888888888888888,\"#fdca26\"],[1.0,\"#f0f921\"]],\"type\":\"histogram2dcontour\"}],\"mesh3d\":[{\"colorbar\":{\"outlinewidth\":0,\"ticks\":\"\"},\"type\":\"mesh3d\"}],\"parcoords\":[{\"line\":{\"colorbar\":{\"outlinewidth\":0,\"ticks\":\"\"}},\"type\":\"parcoords\"}],\"pie\":[{\"automargin\":true,\"type\":\"pie\"}],\"scatter\":[{\"marker\":{\"colorbar\":{\"outlinewidth\":0,\"ticks\":\"\"}},\"type\":\"scatter\"}],\"scatter3d\":[{\"line\":{\"colorbar\":{\"outlinewidth\":0,\"ticks\":\"\"}},\"marker\":{\"colorbar\":{\"outlinewidth\":0,\"ticks\":\"\"}},\"type\":\"scatter3d\"}],\"scattercarpet\":[{\"marker\":{\"colorbar\":{\"outlinewidth\":0,\"ticks\":\"\"}},\"type\":\"scattercarpet\"}],\"scattergeo\":[{\"marker\":{\"colorbar\":{\"outlinewidth\":0,\"ticks\":\"\"}},\"type\":\"scattergeo\"}],\"scattergl\":[{\"marker\":{\"colorbar\":{\"outlinewidth\":0,\"ticks\":\"\"}},\"type\":\"scattergl\"}],\"scattermapbox\":[{\"marker\":{\"colorbar\":{\"outlinewidth\":0,\"ticks\":\"\"}},\"type\":\"scattermapbox\"}],\"scatterpolar\":[{\"marker\":{\"colorbar\":{\"outlinewidth\":0,\"ticks\":\"\"}},\"type\":\"scatterpolar\"}],\"scatterpolargl\":[{\"marker\":{\"colorbar\":{\"outlinewidth\":0,\"ticks\":\"\"}},\"type\":\"scatterpolargl\"}],\"scatterternary\":[{\"marker\":{\"colorbar\":{\"outlinewidth\":0,\"ticks\":\"\"}},\"type\":\"scatterternary\"}],\"surface\":[{\"colorbar\":{\"outlinewidth\":0,\"ticks\":\"\"},\"colorscale\":[[0.0,\"#0d0887\"],[0.1111111111111111,\"#46039f\"],[0.2222222222222222,\"#7201a8\"],[0.3333333333333333,\"#9c179e\"],[0.4444444444444444,\"#bd3786\"],[0.5555555555555556,\"#d8576b\"],[0.6666666666666666,\"#ed7953\"],[0.7777777777777778,\"#fb9f3a\"],[0.8888888888888888,\"#fdca26\"],[1.0,\"#f0f921\"]],\"type\":\"surface\"}],\"table\":[{\"cells\":{\"fill\":{\"color\":\"#EBF0F8\"},\"line\":{\"color\":\"white\"}},\"header\":{\"fill\":{\"color\":\"#C8D4E3\"},\"line\":{\"color\":\"white\"}},\"type\":\"table\"}]},\"layout\":{\"annotationdefaults\":{\"arrowcolor\":\"#2a3f5f\",\"arrowhead\":0,\"arrowwidth\":1},\"autotypenumbers\":\"strict\",\"coloraxis\":{\"colorbar\":{\"outlinewidth\":0,\"ticks\":\"\"}},\"colorscale\":{\"diverging\":[[0,\"#8e0152\"],[0.1,\"#c51b7d\"],[0.2,\"#de77ae\"],[0.3,\"#f1b6da\"],[0.4,\"#fde0ef\"],[0.5,\"#f7f7f7\"],[0.6,\"#e6f5d0\"],[0.7,\"#b8e186\"],[0.8,\"#7fbc41\"],[0.9,\"#4d9221\"],[1,\"#276419\"]],\"sequential\":[[0.0,\"#0d0887\"],[0.1111111111111111,\"#46039f\"],[0.2222222222222222,\"#7201a8\"],[0.3333333333333333,\"#9c179e\"],[0.4444444444444444,\"#bd3786\"],[0.5555555555555556,\"#d8576b\"],[0.6666666666666666,\"#ed7953\"],[0.7777777777777778,\"#fb9f3a\"],[0.8888888888888888,\"#fdca26\"],[1.0,\"#f0f921\"]],\"sequentialminus\":[[0.0,\"#0d0887\"],[0.1111111111111111,\"#46039f\"],[0.2222222222222222,\"#7201a8\"],[0.3333333333333333,\"#9c179e\"],[0.4444444444444444,\"#bd3786\"],[0.5555555555555556,\"#d8576b\"],[0.6666666666666666,\"#ed7953\"],[0.7777777777777778,\"#fb9f3a\"],[0.8888888888888888,\"#fdca26\"],[1.0,\"#f0f921\"]]},\"colorway\":[\"#636efa\",\"#EF553B\",\"#00cc96\",\"#ab63fa\",\"#FFA15A\",\"#19d3f3\",\"#FF6692\",\"#B6E880\",\"#FF97FF\",\"#FECB52\"],\"font\":{\"color\":\"#2a3f5f\"},\"geo\":{\"bgcolor\":\"white\",\"lakecolor\":\"white\",\"landcolor\":\"#E5ECF6\",\"showlakes\":true,\"showland\":true,\"subunitcolor\":\"white\"},\"hoverlabel\":{\"align\":\"left\"},\"hovermode\":\"closest\",\"mapbox\":{\"style\":\"light\"},\"paper_bgcolor\":\"white\",\"plot_bgcolor\":\"#E5ECF6\",\"polar\":{\"angularaxis\":{\"gridcolor\":\"white\",\"linecolor\":\"white\",\"ticks\":\"\"},\"bgcolor\":\"#E5ECF6\",\"radialaxis\":{\"gridcolor\":\"white\",\"linecolor\":\"white\",\"ticks\":\"\"}},\"scene\":{\"xaxis\":{\"backgroundcolor\":\"#E5ECF6\",\"gridcolor\":\"white\",\"gridwidth\":2,\"linecolor\":\"white\",\"showbackground\":true,\"ticks\":\"\",\"zerolinecolor\":\"white\"},\"yaxis\":{\"backgroundcolor\":\"#E5ECF6\",\"gridcolor\":\"white\",\"gridwidth\":2,\"linecolor\":\"white\",\"showbackground\":true,\"ticks\":\"\",\"zerolinecolor\":\"white\"},\"zaxis\":{\"backgroundcolor\":\"#E5ECF6\",\"gridcolor\":\"white\",\"gridwidth\":2,\"linecolor\":\"white\",\"showbackground\":true,\"ticks\":\"\",\"zerolinecolor\":\"white\"}},\"shapedefaults\":{\"line\":{\"color\":\"#2a3f5f\"}},\"ternary\":{\"aaxis\":{\"gridcolor\":\"white\",\"linecolor\":\"white\",\"ticks\":\"\"},\"baxis\":{\"gridcolor\":\"white\",\"linecolor\":\"white\",\"ticks\":\"\"},\"bgcolor\":\"#E5ECF6\",\"caxis\":{\"gridcolor\":\"white\",\"linecolor\":\"white\",\"ticks\":\"\"}},\"title\":{\"x\":0.05},\"xaxis\":{\"automargin\":true,\"gridcolor\":\"white\",\"linecolor\":\"white\",\"ticks\":\"\",\"title\":{\"standoff\":15},\"zerolinecolor\":\"white\",\"zerolinewidth\":2},\"yaxis\":{\"automargin\":true,\"gridcolor\":\"white\",\"linecolor\":\"white\",\"ticks\":\"\",\"title\":{\"standoff\":15},\"zerolinecolor\":\"white\",\"zerolinewidth\":2}}},\"xaxis\":{\"anchor\":\"y\",\"domain\":[0.0,1.0],\"title\":{\"text\":\"Genre\"}},\"yaxis\":{\"anchor\":\"x\",\"domain\":[0.0,1.0],\"title\":{\"text\":\"count\"}},\"legend\":{\"tracegroupgap\":0},\"margin\":{\"t\":60},\"barmode\":\"relative\",\"title\":{\"text\":\"Distribui\\u00e7\\u00e3o de g\\u00eanero\"},\"width\":600,\"height\":400},                        {\"responsive\": true}                    ).then(function(){\n",
              "                            \n",
              "var gd = document.getElementById('3a5c8c78-0e93-4dc4-a8b9-8ad9cc4fd47f');\n",
              "var x = new MutationObserver(function (mutations, observer) {{\n",
              "        var display = window.getComputedStyle(gd).display;\n",
              "        if (!display || display === 'none') {{\n",
              "            console.log([gd, 'removed!']);\n",
              "            Plotly.purge(gd);\n",
              "            observer.disconnect();\n",
              "        }}\n",
              "}});\n",
              "\n",
              "// Listen for the removal of the full notebook cells\n",
              "var notebookContainer = gd.closest('#notebook-container');\n",
              "if (notebookContainer) {{\n",
              "    x.observe(notebookContainer, {childList: true});\n",
              "}}\n",
              "\n",
              "// Listen for the clearing of the current output cell\n",
              "var outputEl = gd.closest('.output');\n",
              "if (outputEl) {{\n",
              "    x.observe(outputEl, {childList: true});\n",
              "}}\n",
              "\n",
              "                        })                };                            </script>        </div>\n",
              "</body>\n",
              "</html>"
            ]
          },
          "metadata": {}
        },
        {
          "output_type": "execute_result",
          "data": {
            "text/plain": [
              "Female    112\n",
              "Male       88\n",
              "Name: Genre, dtype: int64"
            ]
          },
          "metadata": {},
          "execution_count": 7
        }
      ]
    },
    {
      "cell_type": "code",
      "source": [
        "# Visualizando a quantidade de linhas e colunas\n",
        "df.shape"
      ],
      "metadata": {
        "colab": {
          "base_uri": "https://localhost:8080/"
        },
        "id": "bCmRBIaBWYdg",
        "outputId": "46169611-c638-4882-dfb0-49e0668bad1a"
      },
      "execution_count": 8,
      "outputs": [
        {
          "output_type": "execute_result",
          "data": {
            "text/plain": [
              "(200, 5)"
            ]
          },
          "metadata": {},
          "execution_count": 8
        }
      ]
    },
    {
      "cell_type": "markdown",
      "source": [
        "# Exploração e tratamento dos dados"
      ],
      "metadata": {
        "id": "3-yjynv5oEhM"
      }
    },
    {
      "cell_type": "markdown",
      "source": [
        "## Alterando o nome das colunas"
      ],
      "metadata": {
        "id": "DALTWafqoMbw"
      }
    },
    {
      "cell_type": "code",
      "source": [
        "df.head()"
      ],
      "metadata": {
        "id": "9cpnRb_2W3-E",
        "colab": {
          "base_uri": "https://localhost:8080/",
          "height": 0
        },
        "outputId": "8a53d8fd-4ad2-4604-81f1-9327d482ffc4"
      },
      "execution_count": 9,
      "outputs": [
        {
          "output_type": "execute_result",
          "data": {
            "text/plain": [
              "   CustomerID   Genre  Age  Annual Income (k$)  Spending Score (1-100)\n",
              "0           1    Male   19                  15                      39\n",
              "1           2    Male   21                  15                      81\n",
              "2           3  Female   20                  16                       6\n",
              "3           4  Female   23                  16                      77\n",
              "4           5  Female   31                  17                      40"
            ],
            "text/html": [
              "\n",
              "  <div id=\"df-3d17a8f7-85e5-432d-b56e-5e78a28a471b\">\n",
              "    <div class=\"colab-df-container\">\n",
              "      <div>\n",
              "<style scoped>\n",
              "    .dataframe tbody tr th:only-of-type {\n",
              "        vertical-align: middle;\n",
              "    }\n",
              "\n",
              "    .dataframe tbody tr th {\n",
              "        vertical-align: top;\n",
              "    }\n",
              "\n",
              "    .dataframe thead th {\n",
              "        text-align: right;\n",
              "    }\n",
              "</style>\n",
              "<table border=\"1\" class=\"dataframe\">\n",
              "  <thead>\n",
              "    <tr style=\"text-align: right;\">\n",
              "      <th></th>\n",
              "      <th>CustomerID</th>\n",
              "      <th>Genre</th>\n",
              "      <th>Age</th>\n",
              "      <th>Annual Income (k$)</th>\n",
              "      <th>Spending Score (1-100)</th>\n",
              "    </tr>\n",
              "  </thead>\n",
              "  <tbody>\n",
              "    <tr>\n",
              "      <th>0</th>\n",
              "      <td>1</td>\n",
              "      <td>Male</td>\n",
              "      <td>19</td>\n",
              "      <td>15</td>\n",
              "      <td>39</td>\n",
              "    </tr>\n",
              "    <tr>\n",
              "      <th>1</th>\n",
              "      <td>2</td>\n",
              "      <td>Male</td>\n",
              "      <td>21</td>\n",
              "      <td>15</td>\n",
              "      <td>81</td>\n",
              "    </tr>\n",
              "    <tr>\n",
              "      <th>2</th>\n",
              "      <td>3</td>\n",
              "      <td>Female</td>\n",
              "      <td>20</td>\n",
              "      <td>16</td>\n",
              "      <td>6</td>\n",
              "    </tr>\n",
              "    <tr>\n",
              "      <th>3</th>\n",
              "      <td>4</td>\n",
              "      <td>Female</td>\n",
              "      <td>23</td>\n",
              "      <td>16</td>\n",
              "      <td>77</td>\n",
              "    </tr>\n",
              "    <tr>\n",
              "      <th>4</th>\n",
              "      <td>5</td>\n",
              "      <td>Female</td>\n",
              "      <td>31</td>\n",
              "      <td>17</td>\n",
              "      <td>40</td>\n",
              "    </tr>\n",
              "  </tbody>\n",
              "</table>\n",
              "</div>\n",
              "      <button class=\"colab-df-convert\" onclick=\"convertToInteractive('df-3d17a8f7-85e5-432d-b56e-5e78a28a471b')\"\n",
              "              title=\"Convert this dataframe to an interactive table.\"\n",
              "              style=\"display:none;\">\n",
              "        \n",
              "  <svg xmlns=\"http://www.w3.org/2000/svg\" height=\"24px\"viewBox=\"0 0 24 24\"\n",
              "       width=\"24px\">\n",
              "    <path d=\"M0 0h24v24H0V0z\" fill=\"none\"/>\n",
              "    <path d=\"M18.56 5.44l.94 2.06.94-2.06 2.06-.94-2.06-.94-.94-2.06-.94 2.06-2.06.94zm-11 1L8.5 8.5l.94-2.06 2.06-.94-2.06-.94L8.5 2.5l-.94 2.06-2.06.94zm10 10l.94 2.06.94-2.06 2.06-.94-2.06-.94-.94-2.06-.94 2.06-2.06.94z\"/><path d=\"M17.41 7.96l-1.37-1.37c-.4-.4-.92-.59-1.43-.59-.52 0-1.04.2-1.43.59L10.3 9.45l-7.72 7.72c-.78.78-.78 2.05 0 2.83L4 21.41c.39.39.9.59 1.41.59.51 0 1.02-.2 1.41-.59l7.78-7.78 2.81-2.81c.8-.78.8-2.07 0-2.86zM5.41 20L4 18.59l7.72-7.72 1.47 1.35L5.41 20z\"/>\n",
              "  </svg>\n",
              "      </button>\n",
              "      \n",
              "  <style>\n",
              "    .colab-df-container {\n",
              "      display:flex;\n",
              "      flex-wrap:wrap;\n",
              "      gap: 12px;\n",
              "    }\n",
              "\n",
              "    .colab-df-convert {\n",
              "      background-color: #E8F0FE;\n",
              "      border: none;\n",
              "      border-radius: 50%;\n",
              "      cursor: pointer;\n",
              "      display: none;\n",
              "      fill: #1967D2;\n",
              "      height: 32px;\n",
              "      padding: 0 0 0 0;\n",
              "      width: 32px;\n",
              "    }\n",
              "\n",
              "    .colab-df-convert:hover {\n",
              "      background-color: #E2EBFA;\n",
              "      box-shadow: 0px 1px 2px rgba(60, 64, 67, 0.3), 0px 1px 3px 1px rgba(60, 64, 67, 0.15);\n",
              "      fill: #174EA6;\n",
              "    }\n",
              "\n",
              "    [theme=dark] .colab-df-convert {\n",
              "      background-color: #3B4455;\n",
              "      fill: #D2E3FC;\n",
              "    }\n",
              "\n",
              "    [theme=dark] .colab-df-convert:hover {\n",
              "      background-color: #434B5C;\n",
              "      box-shadow: 0px 1px 3px 1px rgba(0, 0, 0, 0.15);\n",
              "      filter: drop-shadow(0px 1px 2px rgba(0, 0, 0, 0.3));\n",
              "      fill: #FFFFFF;\n",
              "    }\n",
              "  </style>\n",
              "\n",
              "      <script>\n",
              "        const buttonEl =\n",
              "          document.querySelector('#df-3d17a8f7-85e5-432d-b56e-5e78a28a471b button.colab-df-convert');\n",
              "        buttonEl.style.display =\n",
              "          google.colab.kernel.accessAllowed ? 'block' : 'none';\n",
              "\n",
              "        async function convertToInteractive(key) {\n",
              "          const element = document.querySelector('#df-3d17a8f7-85e5-432d-b56e-5e78a28a471b');\n",
              "          const dataTable =\n",
              "            await google.colab.kernel.invokeFunction('convertToInteractive',\n",
              "                                                     [key], {});\n",
              "          if (!dataTable) return;\n",
              "\n",
              "          const docLinkHtml = 'Like what you see? Visit the ' +\n",
              "            '<a target=\"_blank\" href=https://colab.research.google.com/notebooks/data_table.ipynb>data table notebook</a>'\n",
              "            + ' to learn more about interactive tables.';\n",
              "          element.innerHTML = '';\n",
              "          dataTable['output_type'] = 'display_data';\n",
              "          await google.colab.output.renderOutput(dataTable, element);\n",
              "          const docLink = document.createElement('div');\n",
              "          docLink.innerHTML = docLinkHtml;\n",
              "          element.appendChild(docLink);\n",
              "        }\n",
              "      </script>\n",
              "    </div>\n",
              "  </div>\n",
              "  "
            ]
          },
          "metadata": {},
          "execution_count": 9
        }
      ]
    },
    {
      "cell_type": "code",
      "source": [
        "# Alterando o nome da coluna Genre para Gênero\n",
        "df.rename(columns={\"Genre\":\"genero\"},inplace=True)"
      ],
      "metadata": {
        "id": "9gVaUKY8osy1"
      },
      "execution_count": 10,
      "outputs": []
    },
    {
      "cell_type": "code",
      "source": [
        "# Alterando o nome da coluna Age para Idade\n",
        "df.rename(columns={\"Age\":\"idade\"},inplace=True)"
      ],
      "metadata": {
        "id": "UKe63QirpPOL"
      },
      "execution_count": 11,
      "outputs": []
    },
    {
      "cell_type": "code",
      "source": [
        "# Alterando o nome da coluna Annual Income (k$) para Rendimento \n",
        "df.rename(columns={\"Annual Income (k$)\":\"rendimento\"},inplace=True)"
      ],
      "metadata": {
        "id": "mIcjxZLYpWyL"
      },
      "execution_count": 12,
      "outputs": []
    },
    {
      "cell_type": "code",
      "source": [
        "# Alterando o nome da coluna Spending Score (1-100) para Pontuação\n",
        "df.rename(columns={\"Spending Score (1-100)\":\"pontuacao\"},inplace=True)"
      ],
      "metadata": {
        "id": "bfMki5cgpqWO"
      },
      "execution_count": 13,
      "outputs": []
    },
    {
      "cell_type": "code",
      "source": [
        "df.head()"
      ],
      "metadata": {
        "colab": {
          "base_uri": "https://localhost:8080/",
          "height": 0
        },
        "id": "18281tXjp20j",
        "outputId": "696e797c-9124-4cdc-fc42-1429c90bd574"
      },
      "execution_count": 14,
      "outputs": [
        {
          "output_type": "execute_result",
          "data": {
            "text/plain": [
              "   CustomerID  genero  idade  rendimento  pontuacao\n",
              "0           1    Male     19          15         39\n",
              "1           2    Male     21          15         81\n",
              "2           3  Female     20          16          6\n",
              "3           4  Female     23          16         77\n",
              "4           5  Female     31          17         40"
            ],
            "text/html": [
              "\n",
              "  <div id=\"df-ac52d9ec-7638-4cf4-b900-482c36f736aa\">\n",
              "    <div class=\"colab-df-container\">\n",
              "      <div>\n",
              "<style scoped>\n",
              "    .dataframe tbody tr th:only-of-type {\n",
              "        vertical-align: middle;\n",
              "    }\n",
              "\n",
              "    .dataframe tbody tr th {\n",
              "        vertical-align: top;\n",
              "    }\n",
              "\n",
              "    .dataframe thead th {\n",
              "        text-align: right;\n",
              "    }\n",
              "</style>\n",
              "<table border=\"1\" class=\"dataframe\">\n",
              "  <thead>\n",
              "    <tr style=\"text-align: right;\">\n",
              "      <th></th>\n",
              "      <th>CustomerID</th>\n",
              "      <th>genero</th>\n",
              "      <th>idade</th>\n",
              "      <th>rendimento</th>\n",
              "      <th>pontuacao</th>\n",
              "    </tr>\n",
              "  </thead>\n",
              "  <tbody>\n",
              "    <tr>\n",
              "      <th>0</th>\n",
              "      <td>1</td>\n",
              "      <td>Male</td>\n",
              "      <td>19</td>\n",
              "      <td>15</td>\n",
              "      <td>39</td>\n",
              "    </tr>\n",
              "    <tr>\n",
              "      <th>1</th>\n",
              "      <td>2</td>\n",
              "      <td>Male</td>\n",
              "      <td>21</td>\n",
              "      <td>15</td>\n",
              "      <td>81</td>\n",
              "    </tr>\n",
              "    <tr>\n",
              "      <th>2</th>\n",
              "      <td>3</td>\n",
              "      <td>Female</td>\n",
              "      <td>20</td>\n",
              "      <td>16</td>\n",
              "      <td>6</td>\n",
              "    </tr>\n",
              "    <tr>\n",
              "      <th>3</th>\n",
              "      <td>4</td>\n",
              "      <td>Female</td>\n",
              "      <td>23</td>\n",
              "      <td>16</td>\n",
              "      <td>77</td>\n",
              "    </tr>\n",
              "    <tr>\n",
              "      <th>4</th>\n",
              "      <td>5</td>\n",
              "      <td>Female</td>\n",
              "      <td>31</td>\n",
              "      <td>17</td>\n",
              "      <td>40</td>\n",
              "    </tr>\n",
              "  </tbody>\n",
              "</table>\n",
              "</div>\n",
              "      <button class=\"colab-df-convert\" onclick=\"convertToInteractive('df-ac52d9ec-7638-4cf4-b900-482c36f736aa')\"\n",
              "              title=\"Convert this dataframe to an interactive table.\"\n",
              "              style=\"display:none;\">\n",
              "        \n",
              "  <svg xmlns=\"http://www.w3.org/2000/svg\" height=\"24px\"viewBox=\"0 0 24 24\"\n",
              "       width=\"24px\">\n",
              "    <path d=\"M0 0h24v24H0V0z\" fill=\"none\"/>\n",
              "    <path d=\"M18.56 5.44l.94 2.06.94-2.06 2.06-.94-2.06-.94-.94-2.06-.94 2.06-2.06.94zm-11 1L8.5 8.5l.94-2.06 2.06-.94-2.06-.94L8.5 2.5l-.94 2.06-2.06.94zm10 10l.94 2.06.94-2.06 2.06-.94-2.06-.94-.94-2.06-.94 2.06-2.06.94z\"/><path d=\"M17.41 7.96l-1.37-1.37c-.4-.4-.92-.59-1.43-.59-.52 0-1.04.2-1.43.59L10.3 9.45l-7.72 7.72c-.78.78-.78 2.05 0 2.83L4 21.41c.39.39.9.59 1.41.59.51 0 1.02-.2 1.41-.59l7.78-7.78 2.81-2.81c.8-.78.8-2.07 0-2.86zM5.41 20L4 18.59l7.72-7.72 1.47 1.35L5.41 20z\"/>\n",
              "  </svg>\n",
              "      </button>\n",
              "      \n",
              "  <style>\n",
              "    .colab-df-container {\n",
              "      display:flex;\n",
              "      flex-wrap:wrap;\n",
              "      gap: 12px;\n",
              "    }\n",
              "\n",
              "    .colab-df-convert {\n",
              "      background-color: #E8F0FE;\n",
              "      border: none;\n",
              "      border-radius: 50%;\n",
              "      cursor: pointer;\n",
              "      display: none;\n",
              "      fill: #1967D2;\n",
              "      height: 32px;\n",
              "      padding: 0 0 0 0;\n",
              "      width: 32px;\n",
              "    }\n",
              "\n",
              "    .colab-df-convert:hover {\n",
              "      background-color: #E2EBFA;\n",
              "      box-shadow: 0px 1px 2px rgba(60, 64, 67, 0.3), 0px 1px 3px 1px rgba(60, 64, 67, 0.15);\n",
              "      fill: #174EA6;\n",
              "    }\n",
              "\n",
              "    [theme=dark] .colab-df-convert {\n",
              "      background-color: #3B4455;\n",
              "      fill: #D2E3FC;\n",
              "    }\n",
              "\n",
              "    [theme=dark] .colab-df-convert:hover {\n",
              "      background-color: #434B5C;\n",
              "      box-shadow: 0px 1px 3px 1px rgba(0, 0, 0, 0.15);\n",
              "      filter: drop-shadow(0px 1px 2px rgba(0, 0, 0, 0.3));\n",
              "      fill: #FFFFFF;\n",
              "    }\n",
              "  </style>\n",
              "\n",
              "      <script>\n",
              "        const buttonEl =\n",
              "          document.querySelector('#df-ac52d9ec-7638-4cf4-b900-482c36f736aa button.colab-df-convert');\n",
              "        buttonEl.style.display =\n",
              "          google.colab.kernel.accessAllowed ? 'block' : 'none';\n",
              "\n",
              "        async function convertToInteractive(key) {\n",
              "          const element = document.querySelector('#df-ac52d9ec-7638-4cf4-b900-482c36f736aa');\n",
              "          const dataTable =\n",
              "            await google.colab.kernel.invokeFunction('convertToInteractive',\n",
              "                                                     [key], {});\n",
              "          if (!dataTable) return;\n",
              "\n",
              "          const docLinkHtml = 'Like what you see? Visit the ' +\n",
              "            '<a target=\"_blank\" href=https://colab.research.google.com/notebooks/data_table.ipynb>data table notebook</a>'\n",
              "            + ' to learn more about interactive tables.';\n",
              "          element.innerHTML = '';\n",
              "          dataTable['output_type'] = 'display_data';\n",
              "          await google.colab.output.renderOutput(dataTable, element);\n",
              "          const docLink = document.createElement('div');\n",
              "          docLink.innerHTML = docLinkHtml;\n",
              "          element.appendChild(docLink);\n",
              "        }\n",
              "      </script>\n",
              "    </div>\n",
              "  </div>\n",
              "  "
            ]
          },
          "metadata": {},
          "execution_count": 14
        }
      ]
    },
    {
      "cell_type": "code",
      "source": [
        "# Obs.: não alterei a coluna CustomerID porque ela será irrelevante e será excluída"
      ],
      "metadata": {
        "id": "rsASfU_4p_tD"
      },
      "execution_count": 15,
      "outputs": []
    },
    {
      "cell_type": "markdown",
      "source": [
        "## Valores Missing ( NAN )"
      ],
      "metadata": {
        "id": "Ls5HDGRhgrEs"
      }
    },
    {
      "cell_type": "code",
      "source": [
        "df.isnull().sum()"
      ],
      "metadata": {
        "colab": {
          "base_uri": "https://localhost:8080/"
        },
        "id": "YvS2NxM0g1Qe",
        "outputId": "f451329b-dbd2-47bb-f84a-503743936d9a"
      },
      "execution_count": 16,
      "outputs": [
        {
          "output_type": "execute_result",
          "data": {
            "text/plain": [
              "CustomerID    0\n",
              "genero        0\n",
              "idade         0\n",
              "rendimento    0\n",
              "pontuacao     0\n",
              "dtype: int64"
            ]
          },
          "metadata": {},
          "execution_count": 16
        }
      ]
    },
    {
      "cell_type": "markdown",
      "source": [
        "Verificamos que não existem valores nulos."
      ],
      "metadata": {
        "id": "eOwCcxo9g8_T"
      }
    },
    {
      "cell_type": "markdown",
      "source": [
        "## Análise dos tipos de atributos:\n",
        "* object = string\n",
        "* int64 = números inteiros\n",
        "* float64 = números reais\n",
        "* complex = números complexos\n",
        "\n",
        "\n",
        "Obs.: Lembrando que não é possivel desenvolver modelos de machine learning usando atributos do tipo OBJECT"
      ],
      "metadata": {
        "id": "youGMOjghI9D"
      }
    },
    {
      "cell_type": "code",
      "source": [
        "df.dtypes"
      ],
      "metadata": {
        "colab": {
          "base_uri": "https://localhost:8080/"
        },
        "id": "xpgDJMIAhFA1",
        "outputId": "74e4ec90-1b5f-4e4b-f62c-2699e465d612"
      },
      "execution_count": 17,
      "outputs": [
        {
          "output_type": "execute_result",
          "data": {
            "text/plain": [
              "CustomerID     int64\n",
              "genero        object\n",
              "idade          int64\n",
              "rendimento     int64\n",
              "pontuacao      int64\n",
              "dtype: object"
            ]
          },
          "metadata": {},
          "execution_count": 17
        }
      ]
    },
    {
      "cell_type": "markdown",
      "source": [
        "## Dados estatísticos"
      ],
      "metadata": {
        "id": "1n_Ng8bRh6sM"
      }
    },
    {
      "cell_type": "code",
      "source": [
        "df.describe()"
      ],
      "metadata": {
        "colab": {
          "base_uri": "https://localhost:8080/",
          "height": 0
        },
        "id": "X-zz_gSniAsm",
        "outputId": "1b698f9b-4ee8-430c-ae7f-90f43088757d"
      },
      "execution_count": 18,
      "outputs": [
        {
          "output_type": "execute_result",
          "data": {
            "text/plain": [
              "       CustomerID       idade  rendimento   pontuacao\n",
              "count  200.000000  200.000000  200.000000  200.000000\n",
              "mean   100.500000   38.850000   60.560000   50.200000\n",
              "std     57.879185   13.969007   26.264721   25.823522\n",
              "min      1.000000   18.000000   15.000000    1.000000\n",
              "25%     50.750000   28.750000   41.500000   34.750000\n",
              "50%    100.500000   36.000000   61.500000   50.000000\n",
              "75%    150.250000   49.000000   78.000000   73.000000\n",
              "max    200.000000   70.000000  137.000000   99.000000"
            ],
            "text/html": [
              "\n",
              "  <div id=\"df-3f09192e-1596-4e7b-92c3-40b31c0464e4\">\n",
              "    <div class=\"colab-df-container\">\n",
              "      <div>\n",
              "<style scoped>\n",
              "    .dataframe tbody tr th:only-of-type {\n",
              "        vertical-align: middle;\n",
              "    }\n",
              "\n",
              "    .dataframe tbody tr th {\n",
              "        vertical-align: top;\n",
              "    }\n",
              "\n",
              "    .dataframe thead th {\n",
              "        text-align: right;\n",
              "    }\n",
              "</style>\n",
              "<table border=\"1\" class=\"dataframe\">\n",
              "  <thead>\n",
              "    <tr style=\"text-align: right;\">\n",
              "      <th></th>\n",
              "      <th>CustomerID</th>\n",
              "      <th>idade</th>\n",
              "      <th>rendimento</th>\n",
              "      <th>pontuacao</th>\n",
              "    </tr>\n",
              "  </thead>\n",
              "  <tbody>\n",
              "    <tr>\n",
              "      <th>count</th>\n",
              "      <td>200.000000</td>\n",
              "      <td>200.000000</td>\n",
              "      <td>200.000000</td>\n",
              "      <td>200.000000</td>\n",
              "    </tr>\n",
              "    <tr>\n",
              "      <th>mean</th>\n",
              "      <td>100.500000</td>\n",
              "      <td>38.850000</td>\n",
              "      <td>60.560000</td>\n",
              "      <td>50.200000</td>\n",
              "    </tr>\n",
              "    <tr>\n",
              "      <th>std</th>\n",
              "      <td>57.879185</td>\n",
              "      <td>13.969007</td>\n",
              "      <td>26.264721</td>\n",
              "      <td>25.823522</td>\n",
              "    </tr>\n",
              "    <tr>\n",
              "      <th>min</th>\n",
              "      <td>1.000000</td>\n",
              "      <td>18.000000</td>\n",
              "      <td>15.000000</td>\n",
              "      <td>1.000000</td>\n",
              "    </tr>\n",
              "    <tr>\n",
              "      <th>25%</th>\n",
              "      <td>50.750000</td>\n",
              "      <td>28.750000</td>\n",
              "      <td>41.500000</td>\n",
              "      <td>34.750000</td>\n",
              "    </tr>\n",
              "    <tr>\n",
              "      <th>50%</th>\n",
              "      <td>100.500000</td>\n",
              "      <td>36.000000</td>\n",
              "      <td>61.500000</td>\n",
              "      <td>50.000000</td>\n",
              "    </tr>\n",
              "    <tr>\n",
              "      <th>75%</th>\n",
              "      <td>150.250000</td>\n",
              "      <td>49.000000</td>\n",
              "      <td>78.000000</td>\n",
              "      <td>73.000000</td>\n",
              "    </tr>\n",
              "    <tr>\n",
              "      <th>max</th>\n",
              "      <td>200.000000</td>\n",
              "      <td>70.000000</td>\n",
              "      <td>137.000000</td>\n",
              "      <td>99.000000</td>\n",
              "    </tr>\n",
              "  </tbody>\n",
              "</table>\n",
              "</div>\n",
              "      <button class=\"colab-df-convert\" onclick=\"convertToInteractive('df-3f09192e-1596-4e7b-92c3-40b31c0464e4')\"\n",
              "              title=\"Convert this dataframe to an interactive table.\"\n",
              "              style=\"display:none;\">\n",
              "        \n",
              "  <svg xmlns=\"http://www.w3.org/2000/svg\" height=\"24px\"viewBox=\"0 0 24 24\"\n",
              "       width=\"24px\">\n",
              "    <path d=\"M0 0h24v24H0V0z\" fill=\"none\"/>\n",
              "    <path d=\"M18.56 5.44l.94 2.06.94-2.06 2.06-.94-2.06-.94-.94-2.06-.94 2.06-2.06.94zm-11 1L8.5 8.5l.94-2.06 2.06-.94-2.06-.94L8.5 2.5l-.94 2.06-2.06.94zm10 10l.94 2.06.94-2.06 2.06-.94-2.06-.94-.94-2.06-.94 2.06-2.06.94z\"/><path d=\"M17.41 7.96l-1.37-1.37c-.4-.4-.92-.59-1.43-.59-.52 0-1.04.2-1.43.59L10.3 9.45l-7.72 7.72c-.78.78-.78 2.05 0 2.83L4 21.41c.39.39.9.59 1.41.59.51 0 1.02-.2 1.41-.59l7.78-7.78 2.81-2.81c.8-.78.8-2.07 0-2.86zM5.41 20L4 18.59l7.72-7.72 1.47 1.35L5.41 20z\"/>\n",
              "  </svg>\n",
              "      </button>\n",
              "      \n",
              "  <style>\n",
              "    .colab-df-container {\n",
              "      display:flex;\n",
              "      flex-wrap:wrap;\n",
              "      gap: 12px;\n",
              "    }\n",
              "\n",
              "    .colab-df-convert {\n",
              "      background-color: #E8F0FE;\n",
              "      border: none;\n",
              "      border-radius: 50%;\n",
              "      cursor: pointer;\n",
              "      display: none;\n",
              "      fill: #1967D2;\n",
              "      height: 32px;\n",
              "      padding: 0 0 0 0;\n",
              "      width: 32px;\n",
              "    }\n",
              "\n",
              "    .colab-df-convert:hover {\n",
              "      background-color: #E2EBFA;\n",
              "      box-shadow: 0px 1px 2px rgba(60, 64, 67, 0.3), 0px 1px 3px 1px rgba(60, 64, 67, 0.15);\n",
              "      fill: #174EA6;\n",
              "    }\n",
              "\n",
              "    [theme=dark] .colab-df-convert {\n",
              "      background-color: #3B4455;\n",
              "      fill: #D2E3FC;\n",
              "    }\n",
              "\n",
              "    [theme=dark] .colab-df-convert:hover {\n",
              "      background-color: #434B5C;\n",
              "      box-shadow: 0px 1px 3px 1px rgba(0, 0, 0, 0.15);\n",
              "      filter: drop-shadow(0px 1px 2px rgba(0, 0, 0, 0.3));\n",
              "      fill: #FFFFFF;\n",
              "    }\n",
              "  </style>\n",
              "\n",
              "      <script>\n",
              "        const buttonEl =\n",
              "          document.querySelector('#df-3f09192e-1596-4e7b-92c3-40b31c0464e4 button.colab-df-convert');\n",
              "        buttonEl.style.display =\n",
              "          google.colab.kernel.accessAllowed ? 'block' : 'none';\n",
              "\n",
              "        async function convertToInteractive(key) {\n",
              "          const element = document.querySelector('#df-3f09192e-1596-4e7b-92c3-40b31c0464e4');\n",
              "          const dataTable =\n",
              "            await google.colab.kernel.invokeFunction('convertToInteractive',\n",
              "                                                     [key], {});\n",
              "          if (!dataTable) return;\n",
              "\n",
              "          const docLinkHtml = 'Like what you see? Visit the ' +\n",
              "            '<a target=\"_blank\" href=https://colab.research.google.com/notebooks/data_table.ipynb>data table notebook</a>'\n",
              "            + ' to learn more about interactive tables.';\n",
              "          element.innerHTML = '';\n",
              "          dataTable['output_type'] = 'display_data';\n",
              "          await google.colab.output.renderOutput(dataTable, element);\n",
              "          const docLink = document.createElement('div');\n",
              "          docLink.innerHTML = docLinkHtml;\n",
              "          element.appendChild(docLink);\n",
              "        }\n",
              "      </script>\n",
              "    </div>\n",
              "  </div>\n",
              "  "
            ]
          },
          "metadata": {},
          "execution_count": 18
        }
      ]
    },
    {
      "cell_type": "markdown",
      "source": [
        "Podemos verificar que:\n",
        "* A amostra possui 200 elementos\n",
        "* A média de idade dos frequentadores do shopping fica em 38, e a mediana 36\n",
        "* A idade mínima é 18 e a máxima é 70\n",
        "* O rendimento máximo encontrado foi de $137000\n",
        "* A pontuação média fica em 50.2"
      ],
      "metadata": {
        "id": "0GYwBJiziNi2"
      }
    },
    {
      "cell_type": "markdown",
      "source": [
        "## Análise de Outliers ( Dados discrepantes )\n",
        "\n",
        "Para essa análise utilizamos o gráfico boxplot"
      ],
      "metadata": {
        "id": "GKv7InBtj5e6"
      }
    },
    {
      "cell_type": "code",
      "source": [
        "# Importando o Plotly para criar representações gráficas dos atributos\n",
        "import plotly.express as px"
      ],
      "metadata": {
        "id": "foy99mP4j_xr"
      },
      "execution_count": 19,
      "outputs": []
    },
    {
      "cell_type": "code",
      "source": [
        "boxplot = px.box( df, y = \"rendimento\")\n",
        "boxplot.show()"
      ],
      "metadata": {
        "colab": {
          "base_uri": "https://localhost:8080/",
          "height": 0
        },
        "id": "B1ZLedUYkG-z",
        "outputId": "89dd1b89-c29d-4754-f81b-eeff6e010a5a"
      },
      "execution_count": 20,
      "outputs": [
        {
          "output_type": "display_data",
          "data": {
            "text/html": [
              "<html>\n",
              "<head><meta charset=\"utf-8\" /></head>\n",
              "<body>\n",
              "    <div>            <script src=\"https://cdnjs.cloudflare.com/ajax/libs/mathjax/2.7.5/MathJax.js?config=TeX-AMS-MML_SVG\"></script><script type=\"text/javascript\">if (window.MathJax) {MathJax.Hub.Config({SVG: {font: \"STIX-Web\"}});}</script>                <script type=\"text/javascript\">window.PlotlyConfig = {MathJaxConfig: 'local'};</script>\n",
              "        <script src=\"https://cdn.plot.ly/plotly-2.8.3.min.js\"></script>                <div id=\"c5ee41e1-8d06-418e-a8af-8e24c8902979\" class=\"plotly-graph-div\" style=\"height:525px; width:100%;\"></div>            <script type=\"text/javascript\">                                    window.PLOTLYENV=window.PLOTLYENV || {};                                    if (document.getElementById(\"c5ee41e1-8d06-418e-a8af-8e24c8902979\")) {                    Plotly.newPlot(                        \"c5ee41e1-8d06-418e-a8af-8e24c8902979\",                        [{\"alignmentgroup\":\"True\",\"hovertemplate\":\"rendimento=%{y}<extra></extra>\",\"legendgroup\":\"\",\"marker\":{\"color\":\"#636efa\"},\"name\":\"\",\"notched\":false,\"offsetgroup\":\"\",\"orientation\":\"v\",\"showlegend\":false,\"x0\":\" \",\"xaxis\":\"x\",\"y\":[15,15,16,16,17,17,18,18,19,19,19,19,20,20,20,20,21,21,23,23,24,24,25,25,28,28,28,28,29,29,30,30,33,33,33,33,34,34,37,37,38,38,39,39,39,39,40,40,40,40,42,42,43,43,43,43,44,44,46,46,46,46,47,47,48,48,48,48,48,48,49,49,50,50,54,54,54,54,54,54,54,54,54,54,54,54,57,57,58,58,59,59,60,60,60,60,60,60,61,61,62,62,62,62,62,62,63,63,63,63,63,63,64,64,65,65,65,65,67,67,67,67,69,69,70,70,71,71,71,71,71,71,72,72,73,73,73,73,74,74,75,75,76,76,77,77,77,77,78,78,78,78,78,78,78,78,78,78,78,78,79,79,81,81,85,85,86,86,87,87,87,87,87,87,88,88,88,88,93,93,97,97,98,98,99,99,101,101,103,103,103,103,113,113,120,120,126,126,137,137],\"y0\":\" \",\"yaxis\":\"y\",\"type\":\"box\"}],                        {\"template\":{\"data\":{\"bar\":[{\"error_x\":{\"color\":\"#2a3f5f\"},\"error_y\":{\"color\":\"#2a3f5f\"},\"marker\":{\"line\":{\"color\":\"#E5ECF6\",\"width\":0.5},\"pattern\":{\"fillmode\":\"overlay\",\"size\":10,\"solidity\":0.2}},\"type\":\"bar\"}],\"barpolar\":[{\"marker\":{\"line\":{\"color\":\"#E5ECF6\",\"width\":0.5},\"pattern\":{\"fillmode\":\"overlay\",\"size\":10,\"solidity\":0.2}},\"type\":\"barpolar\"}],\"carpet\":[{\"aaxis\":{\"endlinecolor\":\"#2a3f5f\",\"gridcolor\":\"white\",\"linecolor\":\"white\",\"minorgridcolor\":\"white\",\"startlinecolor\":\"#2a3f5f\"},\"baxis\":{\"endlinecolor\":\"#2a3f5f\",\"gridcolor\":\"white\",\"linecolor\":\"white\",\"minorgridcolor\":\"white\",\"startlinecolor\":\"#2a3f5f\"},\"type\":\"carpet\"}],\"choropleth\":[{\"colorbar\":{\"outlinewidth\":0,\"ticks\":\"\"},\"type\":\"choropleth\"}],\"contour\":[{\"colorbar\":{\"outlinewidth\":0,\"ticks\":\"\"},\"colorscale\":[[0.0,\"#0d0887\"],[0.1111111111111111,\"#46039f\"],[0.2222222222222222,\"#7201a8\"],[0.3333333333333333,\"#9c179e\"],[0.4444444444444444,\"#bd3786\"],[0.5555555555555556,\"#d8576b\"],[0.6666666666666666,\"#ed7953\"],[0.7777777777777778,\"#fb9f3a\"],[0.8888888888888888,\"#fdca26\"],[1.0,\"#f0f921\"]],\"type\":\"contour\"}],\"contourcarpet\":[{\"colorbar\":{\"outlinewidth\":0,\"ticks\":\"\"},\"type\":\"contourcarpet\"}],\"heatmap\":[{\"colorbar\":{\"outlinewidth\":0,\"ticks\":\"\"},\"colorscale\":[[0.0,\"#0d0887\"],[0.1111111111111111,\"#46039f\"],[0.2222222222222222,\"#7201a8\"],[0.3333333333333333,\"#9c179e\"],[0.4444444444444444,\"#bd3786\"],[0.5555555555555556,\"#d8576b\"],[0.6666666666666666,\"#ed7953\"],[0.7777777777777778,\"#fb9f3a\"],[0.8888888888888888,\"#fdca26\"],[1.0,\"#f0f921\"]],\"type\":\"heatmap\"}],\"heatmapgl\":[{\"colorbar\":{\"outlinewidth\":0,\"ticks\":\"\"},\"colorscale\":[[0.0,\"#0d0887\"],[0.1111111111111111,\"#46039f\"],[0.2222222222222222,\"#7201a8\"],[0.3333333333333333,\"#9c179e\"],[0.4444444444444444,\"#bd3786\"],[0.5555555555555556,\"#d8576b\"],[0.6666666666666666,\"#ed7953\"],[0.7777777777777778,\"#fb9f3a\"],[0.8888888888888888,\"#fdca26\"],[1.0,\"#f0f921\"]],\"type\":\"heatmapgl\"}],\"histogram\":[{\"marker\":{\"pattern\":{\"fillmode\":\"overlay\",\"size\":10,\"solidity\":0.2}},\"type\":\"histogram\"}],\"histogram2d\":[{\"colorbar\":{\"outlinewidth\":0,\"ticks\":\"\"},\"colorscale\":[[0.0,\"#0d0887\"],[0.1111111111111111,\"#46039f\"],[0.2222222222222222,\"#7201a8\"],[0.3333333333333333,\"#9c179e\"],[0.4444444444444444,\"#bd3786\"],[0.5555555555555556,\"#d8576b\"],[0.6666666666666666,\"#ed7953\"],[0.7777777777777778,\"#fb9f3a\"],[0.8888888888888888,\"#fdca26\"],[1.0,\"#f0f921\"]],\"type\":\"histogram2d\"}],\"histogram2dcontour\":[{\"colorbar\":{\"outlinewidth\":0,\"ticks\":\"\"},\"colorscale\":[[0.0,\"#0d0887\"],[0.1111111111111111,\"#46039f\"],[0.2222222222222222,\"#7201a8\"],[0.3333333333333333,\"#9c179e\"],[0.4444444444444444,\"#bd3786\"],[0.5555555555555556,\"#d8576b\"],[0.6666666666666666,\"#ed7953\"],[0.7777777777777778,\"#fb9f3a\"],[0.8888888888888888,\"#fdca26\"],[1.0,\"#f0f921\"]],\"type\":\"histogram2dcontour\"}],\"mesh3d\":[{\"colorbar\":{\"outlinewidth\":0,\"ticks\":\"\"},\"type\":\"mesh3d\"}],\"parcoords\":[{\"line\":{\"colorbar\":{\"outlinewidth\":0,\"ticks\":\"\"}},\"type\":\"parcoords\"}],\"pie\":[{\"automargin\":true,\"type\":\"pie\"}],\"scatter\":[{\"marker\":{\"colorbar\":{\"outlinewidth\":0,\"ticks\":\"\"}},\"type\":\"scatter\"}],\"scatter3d\":[{\"line\":{\"colorbar\":{\"outlinewidth\":0,\"ticks\":\"\"}},\"marker\":{\"colorbar\":{\"outlinewidth\":0,\"ticks\":\"\"}},\"type\":\"scatter3d\"}],\"scattercarpet\":[{\"marker\":{\"colorbar\":{\"outlinewidth\":0,\"ticks\":\"\"}},\"type\":\"scattercarpet\"}],\"scattergeo\":[{\"marker\":{\"colorbar\":{\"outlinewidth\":0,\"ticks\":\"\"}},\"type\":\"scattergeo\"}],\"scattergl\":[{\"marker\":{\"colorbar\":{\"outlinewidth\":0,\"ticks\":\"\"}},\"type\":\"scattergl\"}],\"scattermapbox\":[{\"marker\":{\"colorbar\":{\"outlinewidth\":0,\"ticks\":\"\"}},\"type\":\"scattermapbox\"}],\"scatterpolar\":[{\"marker\":{\"colorbar\":{\"outlinewidth\":0,\"ticks\":\"\"}},\"type\":\"scatterpolar\"}],\"scatterpolargl\":[{\"marker\":{\"colorbar\":{\"outlinewidth\":0,\"ticks\":\"\"}},\"type\":\"scatterpolargl\"}],\"scatterternary\":[{\"marker\":{\"colorbar\":{\"outlinewidth\":0,\"ticks\":\"\"}},\"type\":\"scatterternary\"}],\"surface\":[{\"colorbar\":{\"outlinewidth\":0,\"ticks\":\"\"},\"colorscale\":[[0.0,\"#0d0887\"],[0.1111111111111111,\"#46039f\"],[0.2222222222222222,\"#7201a8\"],[0.3333333333333333,\"#9c179e\"],[0.4444444444444444,\"#bd3786\"],[0.5555555555555556,\"#d8576b\"],[0.6666666666666666,\"#ed7953\"],[0.7777777777777778,\"#fb9f3a\"],[0.8888888888888888,\"#fdca26\"],[1.0,\"#f0f921\"]],\"type\":\"surface\"}],\"table\":[{\"cells\":{\"fill\":{\"color\":\"#EBF0F8\"},\"line\":{\"color\":\"white\"}},\"header\":{\"fill\":{\"color\":\"#C8D4E3\"},\"line\":{\"color\":\"white\"}},\"type\":\"table\"}]},\"layout\":{\"annotationdefaults\":{\"arrowcolor\":\"#2a3f5f\",\"arrowhead\":0,\"arrowwidth\":1},\"autotypenumbers\":\"strict\",\"coloraxis\":{\"colorbar\":{\"outlinewidth\":0,\"ticks\":\"\"}},\"colorscale\":{\"diverging\":[[0,\"#8e0152\"],[0.1,\"#c51b7d\"],[0.2,\"#de77ae\"],[0.3,\"#f1b6da\"],[0.4,\"#fde0ef\"],[0.5,\"#f7f7f7\"],[0.6,\"#e6f5d0\"],[0.7,\"#b8e186\"],[0.8,\"#7fbc41\"],[0.9,\"#4d9221\"],[1,\"#276419\"]],\"sequential\":[[0.0,\"#0d0887\"],[0.1111111111111111,\"#46039f\"],[0.2222222222222222,\"#7201a8\"],[0.3333333333333333,\"#9c179e\"],[0.4444444444444444,\"#bd3786\"],[0.5555555555555556,\"#d8576b\"],[0.6666666666666666,\"#ed7953\"],[0.7777777777777778,\"#fb9f3a\"],[0.8888888888888888,\"#fdca26\"],[1.0,\"#f0f921\"]],\"sequentialminus\":[[0.0,\"#0d0887\"],[0.1111111111111111,\"#46039f\"],[0.2222222222222222,\"#7201a8\"],[0.3333333333333333,\"#9c179e\"],[0.4444444444444444,\"#bd3786\"],[0.5555555555555556,\"#d8576b\"],[0.6666666666666666,\"#ed7953\"],[0.7777777777777778,\"#fb9f3a\"],[0.8888888888888888,\"#fdca26\"],[1.0,\"#f0f921\"]]},\"colorway\":[\"#636efa\",\"#EF553B\",\"#00cc96\",\"#ab63fa\",\"#FFA15A\",\"#19d3f3\",\"#FF6692\",\"#B6E880\",\"#FF97FF\",\"#FECB52\"],\"font\":{\"color\":\"#2a3f5f\"},\"geo\":{\"bgcolor\":\"white\",\"lakecolor\":\"white\",\"landcolor\":\"#E5ECF6\",\"showlakes\":true,\"showland\":true,\"subunitcolor\":\"white\"},\"hoverlabel\":{\"align\":\"left\"},\"hovermode\":\"closest\",\"mapbox\":{\"style\":\"light\"},\"paper_bgcolor\":\"white\",\"plot_bgcolor\":\"#E5ECF6\",\"polar\":{\"angularaxis\":{\"gridcolor\":\"white\",\"linecolor\":\"white\",\"ticks\":\"\"},\"bgcolor\":\"#E5ECF6\",\"radialaxis\":{\"gridcolor\":\"white\",\"linecolor\":\"white\",\"ticks\":\"\"}},\"scene\":{\"xaxis\":{\"backgroundcolor\":\"#E5ECF6\",\"gridcolor\":\"white\",\"gridwidth\":2,\"linecolor\":\"white\",\"showbackground\":true,\"ticks\":\"\",\"zerolinecolor\":\"white\"},\"yaxis\":{\"backgroundcolor\":\"#E5ECF6\",\"gridcolor\":\"white\",\"gridwidth\":2,\"linecolor\":\"white\",\"showbackground\":true,\"ticks\":\"\",\"zerolinecolor\":\"white\"},\"zaxis\":{\"backgroundcolor\":\"#E5ECF6\",\"gridcolor\":\"white\",\"gridwidth\":2,\"linecolor\":\"white\",\"showbackground\":true,\"ticks\":\"\",\"zerolinecolor\":\"white\"}},\"shapedefaults\":{\"line\":{\"color\":\"#2a3f5f\"}},\"ternary\":{\"aaxis\":{\"gridcolor\":\"white\",\"linecolor\":\"white\",\"ticks\":\"\"},\"baxis\":{\"gridcolor\":\"white\",\"linecolor\":\"white\",\"ticks\":\"\"},\"bgcolor\":\"#E5ECF6\",\"caxis\":{\"gridcolor\":\"white\",\"linecolor\":\"white\",\"ticks\":\"\"}},\"title\":{\"x\":0.05},\"xaxis\":{\"automargin\":true,\"gridcolor\":\"white\",\"linecolor\":\"white\",\"ticks\":\"\",\"title\":{\"standoff\":15},\"zerolinecolor\":\"white\",\"zerolinewidth\":2},\"yaxis\":{\"automargin\":true,\"gridcolor\":\"white\",\"linecolor\":\"white\",\"ticks\":\"\",\"title\":{\"standoff\":15},\"zerolinecolor\":\"white\",\"zerolinewidth\":2}}},\"xaxis\":{\"anchor\":\"y\",\"domain\":[0.0,1.0]},\"yaxis\":{\"anchor\":\"x\",\"domain\":[0.0,1.0],\"title\":{\"text\":\"rendimento\"}},\"legend\":{\"tracegroupgap\":0},\"margin\":{\"t\":60},\"boxmode\":\"group\"},                        {\"responsive\": true}                    ).then(function(){\n",
              "                            \n",
              "var gd = document.getElementById('c5ee41e1-8d06-418e-a8af-8e24c8902979');\n",
              "var x = new MutationObserver(function (mutations, observer) {{\n",
              "        var display = window.getComputedStyle(gd).display;\n",
              "        if (!display || display === 'none') {{\n",
              "            console.log([gd, 'removed!']);\n",
              "            Plotly.purge(gd);\n",
              "            observer.disconnect();\n",
              "        }}\n",
              "}});\n",
              "\n",
              "// Listen for the removal of the full notebook cells\n",
              "var notebookContainer = gd.closest('#notebook-container');\n",
              "if (notebookContainer) {{\n",
              "    x.observe(notebookContainer, {childList: true});\n",
              "}}\n",
              "\n",
              "// Listen for the clearing of the current output cell\n",
              "var outputEl = gd.closest('.output');\n",
              "if (outputEl) {{\n",
              "    x.observe(outputEl, {childList: true});\n",
              "}}\n",
              "\n",
              "                        })                };                            </script>        </div>\n",
              "</body>\n",
              "</html>"
            ]
          },
          "metadata": {}
        }
      ]
    },
    {
      "cell_type": "markdown",
      "source": [
        "Obs.: Rendimentos possui um valor fora do padrão de 137 mil, acima do valor máximo de 129 mil. Por não ser um valor tão distante podemos manter no modelo."
      ],
      "metadata": {
        "id": "gyT7PpXjk7uN"
      }
    },
    {
      "cell_type": "code",
      "source": [
        "boxplot = px.box( df, y = \"idade\")\n",
        "boxplot.show()"
      ],
      "metadata": {
        "colab": {
          "base_uri": "https://localhost:8080/",
          "height": 0
        },
        "id": "IGRV7U9LkpZ7",
        "outputId": "cd7e32e1-de16-447e-8aed-5ae7e7410e23"
      },
      "execution_count": 21,
      "outputs": [
        {
          "output_type": "display_data",
          "data": {
            "text/html": [
              "<html>\n",
              "<head><meta charset=\"utf-8\" /></head>\n",
              "<body>\n",
              "    <div>            <script src=\"https://cdnjs.cloudflare.com/ajax/libs/mathjax/2.7.5/MathJax.js?config=TeX-AMS-MML_SVG\"></script><script type=\"text/javascript\">if (window.MathJax) {MathJax.Hub.Config({SVG: {font: \"STIX-Web\"}});}</script>                <script type=\"text/javascript\">window.PlotlyConfig = {MathJaxConfig: 'local'};</script>\n",
              "        <script src=\"https://cdn.plot.ly/plotly-2.8.3.min.js\"></script>                <div id=\"f66fe483-a302-4fec-903a-d3c59395764e\" class=\"plotly-graph-div\" style=\"height:525px; width:100%;\"></div>            <script type=\"text/javascript\">                                    window.PLOTLYENV=window.PLOTLYENV || {};                                    if (document.getElementById(\"f66fe483-a302-4fec-903a-d3c59395764e\")) {                    Plotly.newPlot(                        \"f66fe483-a302-4fec-903a-d3c59395764e\",                        [{\"alignmentgroup\":\"True\",\"hovertemplate\":\"idade=%{y}<extra></extra>\",\"legendgroup\":\"\",\"marker\":{\"color\":\"#636efa\"},\"name\":\"\",\"notched\":false,\"offsetgroup\":\"\",\"orientation\":\"v\",\"showlegend\":false,\"x0\":\" \",\"xaxis\":\"x\",\"y\":[19,21,20,23,31,22,35,23,64,30,67,35,58,24,37,22,35,20,52,35,35,25,46,31,54,29,45,35,40,23,60,21,53,18,49,21,42,30,36,20,65,24,48,31,49,24,50,27,29,31,49,33,31,59,50,47,51,69,27,53,70,19,67,54,63,18,43,68,19,32,70,47,60,60,59,26,45,40,23,49,57,38,67,46,21,48,55,22,34,50,68,18,48,40,32,24,47,27,48,20,23,49,67,26,49,21,66,54,68,66,65,19,38,19,18,19,63,49,51,50,27,38,40,39,23,31,43,40,59,38,47,39,25,31,20,29,44,32,19,35,57,32,28,32,25,28,48,32,34,34,43,39,44,38,47,27,37,30,34,30,56,29,19,31,50,36,42,33,36,32,40,28,36,36,52,30,58,27,59,35,37,32,46,29,41,30,54,28,41,36,34,32,33,38,47,35,45,32,32,30],\"y0\":\" \",\"yaxis\":\"y\",\"type\":\"box\"}],                        {\"template\":{\"data\":{\"bar\":[{\"error_x\":{\"color\":\"#2a3f5f\"},\"error_y\":{\"color\":\"#2a3f5f\"},\"marker\":{\"line\":{\"color\":\"#E5ECF6\",\"width\":0.5},\"pattern\":{\"fillmode\":\"overlay\",\"size\":10,\"solidity\":0.2}},\"type\":\"bar\"}],\"barpolar\":[{\"marker\":{\"line\":{\"color\":\"#E5ECF6\",\"width\":0.5},\"pattern\":{\"fillmode\":\"overlay\",\"size\":10,\"solidity\":0.2}},\"type\":\"barpolar\"}],\"carpet\":[{\"aaxis\":{\"endlinecolor\":\"#2a3f5f\",\"gridcolor\":\"white\",\"linecolor\":\"white\",\"minorgridcolor\":\"white\",\"startlinecolor\":\"#2a3f5f\"},\"baxis\":{\"endlinecolor\":\"#2a3f5f\",\"gridcolor\":\"white\",\"linecolor\":\"white\",\"minorgridcolor\":\"white\",\"startlinecolor\":\"#2a3f5f\"},\"type\":\"carpet\"}],\"choropleth\":[{\"colorbar\":{\"outlinewidth\":0,\"ticks\":\"\"},\"type\":\"choropleth\"}],\"contour\":[{\"colorbar\":{\"outlinewidth\":0,\"ticks\":\"\"},\"colorscale\":[[0.0,\"#0d0887\"],[0.1111111111111111,\"#46039f\"],[0.2222222222222222,\"#7201a8\"],[0.3333333333333333,\"#9c179e\"],[0.4444444444444444,\"#bd3786\"],[0.5555555555555556,\"#d8576b\"],[0.6666666666666666,\"#ed7953\"],[0.7777777777777778,\"#fb9f3a\"],[0.8888888888888888,\"#fdca26\"],[1.0,\"#f0f921\"]],\"type\":\"contour\"}],\"contourcarpet\":[{\"colorbar\":{\"outlinewidth\":0,\"ticks\":\"\"},\"type\":\"contourcarpet\"}],\"heatmap\":[{\"colorbar\":{\"outlinewidth\":0,\"ticks\":\"\"},\"colorscale\":[[0.0,\"#0d0887\"],[0.1111111111111111,\"#46039f\"],[0.2222222222222222,\"#7201a8\"],[0.3333333333333333,\"#9c179e\"],[0.4444444444444444,\"#bd3786\"],[0.5555555555555556,\"#d8576b\"],[0.6666666666666666,\"#ed7953\"],[0.7777777777777778,\"#fb9f3a\"],[0.8888888888888888,\"#fdca26\"],[1.0,\"#f0f921\"]],\"type\":\"heatmap\"}],\"heatmapgl\":[{\"colorbar\":{\"outlinewidth\":0,\"ticks\":\"\"},\"colorscale\":[[0.0,\"#0d0887\"],[0.1111111111111111,\"#46039f\"],[0.2222222222222222,\"#7201a8\"],[0.3333333333333333,\"#9c179e\"],[0.4444444444444444,\"#bd3786\"],[0.5555555555555556,\"#d8576b\"],[0.6666666666666666,\"#ed7953\"],[0.7777777777777778,\"#fb9f3a\"],[0.8888888888888888,\"#fdca26\"],[1.0,\"#f0f921\"]],\"type\":\"heatmapgl\"}],\"histogram\":[{\"marker\":{\"pattern\":{\"fillmode\":\"overlay\",\"size\":10,\"solidity\":0.2}},\"type\":\"histogram\"}],\"histogram2d\":[{\"colorbar\":{\"outlinewidth\":0,\"ticks\":\"\"},\"colorscale\":[[0.0,\"#0d0887\"],[0.1111111111111111,\"#46039f\"],[0.2222222222222222,\"#7201a8\"],[0.3333333333333333,\"#9c179e\"],[0.4444444444444444,\"#bd3786\"],[0.5555555555555556,\"#d8576b\"],[0.6666666666666666,\"#ed7953\"],[0.7777777777777778,\"#fb9f3a\"],[0.8888888888888888,\"#fdca26\"],[1.0,\"#f0f921\"]],\"type\":\"histogram2d\"}],\"histogram2dcontour\":[{\"colorbar\":{\"outlinewidth\":0,\"ticks\":\"\"},\"colorscale\":[[0.0,\"#0d0887\"],[0.1111111111111111,\"#46039f\"],[0.2222222222222222,\"#7201a8\"],[0.3333333333333333,\"#9c179e\"],[0.4444444444444444,\"#bd3786\"],[0.5555555555555556,\"#d8576b\"],[0.6666666666666666,\"#ed7953\"],[0.7777777777777778,\"#fb9f3a\"],[0.8888888888888888,\"#fdca26\"],[1.0,\"#f0f921\"]],\"type\":\"histogram2dcontour\"}],\"mesh3d\":[{\"colorbar\":{\"outlinewidth\":0,\"ticks\":\"\"},\"type\":\"mesh3d\"}],\"parcoords\":[{\"line\":{\"colorbar\":{\"outlinewidth\":0,\"ticks\":\"\"}},\"type\":\"parcoords\"}],\"pie\":[{\"automargin\":true,\"type\":\"pie\"}],\"scatter\":[{\"marker\":{\"colorbar\":{\"outlinewidth\":0,\"ticks\":\"\"}},\"type\":\"scatter\"}],\"scatter3d\":[{\"line\":{\"colorbar\":{\"outlinewidth\":0,\"ticks\":\"\"}},\"marker\":{\"colorbar\":{\"outlinewidth\":0,\"ticks\":\"\"}},\"type\":\"scatter3d\"}],\"scattercarpet\":[{\"marker\":{\"colorbar\":{\"outlinewidth\":0,\"ticks\":\"\"}},\"type\":\"scattercarpet\"}],\"scattergeo\":[{\"marker\":{\"colorbar\":{\"outlinewidth\":0,\"ticks\":\"\"}},\"type\":\"scattergeo\"}],\"scattergl\":[{\"marker\":{\"colorbar\":{\"outlinewidth\":0,\"ticks\":\"\"}},\"type\":\"scattergl\"}],\"scattermapbox\":[{\"marker\":{\"colorbar\":{\"outlinewidth\":0,\"ticks\":\"\"}},\"type\":\"scattermapbox\"}],\"scatterpolar\":[{\"marker\":{\"colorbar\":{\"outlinewidth\":0,\"ticks\":\"\"}},\"type\":\"scatterpolar\"}],\"scatterpolargl\":[{\"marker\":{\"colorbar\":{\"outlinewidth\":0,\"ticks\":\"\"}},\"type\":\"scatterpolargl\"}],\"scatterternary\":[{\"marker\":{\"colorbar\":{\"outlinewidth\":0,\"ticks\":\"\"}},\"type\":\"scatterternary\"}],\"surface\":[{\"colorbar\":{\"outlinewidth\":0,\"ticks\":\"\"},\"colorscale\":[[0.0,\"#0d0887\"],[0.1111111111111111,\"#46039f\"],[0.2222222222222222,\"#7201a8\"],[0.3333333333333333,\"#9c179e\"],[0.4444444444444444,\"#bd3786\"],[0.5555555555555556,\"#d8576b\"],[0.6666666666666666,\"#ed7953\"],[0.7777777777777778,\"#fb9f3a\"],[0.8888888888888888,\"#fdca26\"],[1.0,\"#f0f921\"]],\"type\":\"surface\"}],\"table\":[{\"cells\":{\"fill\":{\"color\":\"#EBF0F8\"},\"line\":{\"color\":\"white\"}},\"header\":{\"fill\":{\"color\":\"#C8D4E3\"},\"line\":{\"color\":\"white\"}},\"type\":\"table\"}]},\"layout\":{\"annotationdefaults\":{\"arrowcolor\":\"#2a3f5f\",\"arrowhead\":0,\"arrowwidth\":1},\"autotypenumbers\":\"strict\",\"coloraxis\":{\"colorbar\":{\"outlinewidth\":0,\"ticks\":\"\"}},\"colorscale\":{\"diverging\":[[0,\"#8e0152\"],[0.1,\"#c51b7d\"],[0.2,\"#de77ae\"],[0.3,\"#f1b6da\"],[0.4,\"#fde0ef\"],[0.5,\"#f7f7f7\"],[0.6,\"#e6f5d0\"],[0.7,\"#b8e186\"],[0.8,\"#7fbc41\"],[0.9,\"#4d9221\"],[1,\"#276419\"]],\"sequential\":[[0.0,\"#0d0887\"],[0.1111111111111111,\"#46039f\"],[0.2222222222222222,\"#7201a8\"],[0.3333333333333333,\"#9c179e\"],[0.4444444444444444,\"#bd3786\"],[0.5555555555555556,\"#d8576b\"],[0.6666666666666666,\"#ed7953\"],[0.7777777777777778,\"#fb9f3a\"],[0.8888888888888888,\"#fdca26\"],[1.0,\"#f0f921\"]],\"sequentialminus\":[[0.0,\"#0d0887\"],[0.1111111111111111,\"#46039f\"],[0.2222222222222222,\"#7201a8\"],[0.3333333333333333,\"#9c179e\"],[0.4444444444444444,\"#bd3786\"],[0.5555555555555556,\"#d8576b\"],[0.6666666666666666,\"#ed7953\"],[0.7777777777777778,\"#fb9f3a\"],[0.8888888888888888,\"#fdca26\"],[1.0,\"#f0f921\"]]},\"colorway\":[\"#636efa\",\"#EF553B\",\"#00cc96\",\"#ab63fa\",\"#FFA15A\",\"#19d3f3\",\"#FF6692\",\"#B6E880\",\"#FF97FF\",\"#FECB52\"],\"font\":{\"color\":\"#2a3f5f\"},\"geo\":{\"bgcolor\":\"white\",\"lakecolor\":\"white\",\"landcolor\":\"#E5ECF6\",\"showlakes\":true,\"showland\":true,\"subunitcolor\":\"white\"},\"hoverlabel\":{\"align\":\"left\"},\"hovermode\":\"closest\",\"mapbox\":{\"style\":\"light\"},\"paper_bgcolor\":\"white\",\"plot_bgcolor\":\"#E5ECF6\",\"polar\":{\"angularaxis\":{\"gridcolor\":\"white\",\"linecolor\":\"white\",\"ticks\":\"\"},\"bgcolor\":\"#E5ECF6\",\"radialaxis\":{\"gridcolor\":\"white\",\"linecolor\":\"white\",\"ticks\":\"\"}},\"scene\":{\"xaxis\":{\"backgroundcolor\":\"#E5ECF6\",\"gridcolor\":\"white\",\"gridwidth\":2,\"linecolor\":\"white\",\"showbackground\":true,\"ticks\":\"\",\"zerolinecolor\":\"white\"},\"yaxis\":{\"backgroundcolor\":\"#E5ECF6\",\"gridcolor\":\"white\",\"gridwidth\":2,\"linecolor\":\"white\",\"showbackground\":true,\"ticks\":\"\",\"zerolinecolor\":\"white\"},\"zaxis\":{\"backgroundcolor\":\"#E5ECF6\",\"gridcolor\":\"white\",\"gridwidth\":2,\"linecolor\":\"white\",\"showbackground\":true,\"ticks\":\"\",\"zerolinecolor\":\"white\"}},\"shapedefaults\":{\"line\":{\"color\":\"#2a3f5f\"}},\"ternary\":{\"aaxis\":{\"gridcolor\":\"white\",\"linecolor\":\"white\",\"ticks\":\"\"},\"baxis\":{\"gridcolor\":\"white\",\"linecolor\":\"white\",\"ticks\":\"\"},\"bgcolor\":\"#E5ECF6\",\"caxis\":{\"gridcolor\":\"white\",\"linecolor\":\"white\",\"ticks\":\"\"}},\"title\":{\"x\":0.05},\"xaxis\":{\"automargin\":true,\"gridcolor\":\"white\",\"linecolor\":\"white\",\"ticks\":\"\",\"title\":{\"standoff\":15},\"zerolinecolor\":\"white\",\"zerolinewidth\":2},\"yaxis\":{\"automargin\":true,\"gridcolor\":\"white\",\"linecolor\":\"white\",\"ticks\":\"\",\"title\":{\"standoff\":15},\"zerolinecolor\":\"white\",\"zerolinewidth\":2}}},\"xaxis\":{\"anchor\":\"y\",\"domain\":[0.0,1.0]},\"yaxis\":{\"anchor\":\"x\",\"domain\":[0.0,1.0],\"title\":{\"text\":\"idade\"}},\"legend\":{\"tracegroupgap\":0},\"margin\":{\"t\":60},\"boxmode\":\"group\"},                        {\"responsive\": true}                    ).then(function(){\n",
              "                            \n",
              "var gd = document.getElementById('f66fe483-a302-4fec-903a-d3c59395764e');\n",
              "var x = new MutationObserver(function (mutations, observer) {{\n",
              "        var display = window.getComputedStyle(gd).display;\n",
              "        if (!display || display === 'none') {{\n",
              "            console.log([gd, 'removed!']);\n",
              "            Plotly.purge(gd);\n",
              "            observer.disconnect();\n",
              "        }}\n",
              "}});\n",
              "\n",
              "// Listen for the removal of the full notebook cells\n",
              "var notebookContainer = gd.closest('#notebook-container');\n",
              "if (notebookContainer) {{\n",
              "    x.observe(notebookContainer, {childList: true});\n",
              "}}\n",
              "\n",
              "// Listen for the clearing of the current output cell\n",
              "var outputEl = gd.closest('.output');\n",
              "if (outputEl) {{\n",
              "    x.observe(outputEl, {childList: true});\n",
              "}}\n",
              "\n",
              "                        })                };                            </script>        </div>\n",
              "</body>\n",
              "</html>"
            ]
          },
          "metadata": {}
        }
      ]
    },
    {
      "cell_type": "code",
      "source": [
        "boxplot = px.box( df, y = \"pontuacao\")\n",
        "boxplot.show()"
      ],
      "metadata": {
        "colab": {
          "base_uri": "https://localhost:8080/",
          "height": 0
        },
        "id": "csfo5waaksZb",
        "outputId": "f8391b94-d896-4d3b-debc-36381f9c6fba"
      },
      "execution_count": 22,
      "outputs": [
        {
          "output_type": "display_data",
          "data": {
            "text/html": [
              "<html>\n",
              "<head><meta charset=\"utf-8\" /></head>\n",
              "<body>\n",
              "    <div>            <script src=\"https://cdnjs.cloudflare.com/ajax/libs/mathjax/2.7.5/MathJax.js?config=TeX-AMS-MML_SVG\"></script><script type=\"text/javascript\">if (window.MathJax) {MathJax.Hub.Config({SVG: {font: \"STIX-Web\"}});}</script>                <script type=\"text/javascript\">window.PlotlyConfig = {MathJaxConfig: 'local'};</script>\n",
              "        <script src=\"https://cdn.plot.ly/plotly-2.8.3.min.js\"></script>                <div id=\"2c8a3824-55d3-4f2c-991a-7ea823074a1d\" class=\"plotly-graph-div\" style=\"height:525px; width:100%;\"></div>            <script type=\"text/javascript\">                                    window.PLOTLYENV=window.PLOTLYENV || {};                                    if (document.getElementById(\"2c8a3824-55d3-4f2c-991a-7ea823074a1d\")) {                    Plotly.newPlot(                        \"2c8a3824-55d3-4f2c-991a-7ea823074a1d\",                        [{\"alignmentgroup\":\"True\",\"hovertemplate\":\"pontuacao=%{y}<extra></extra>\",\"legendgroup\":\"\",\"marker\":{\"color\":\"#636efa\"},\"name\":\"\",\"notched\":false,\"offsetgroup\":\"\",\"orientation\":\"v\",\"showlegend\":false,\"x0\":\" \",\"xaxis\":\"x\",\"y\":[39,81,6,77,40,76,6,94,3,72,14,99,15,77,13,79,35,66,29,98,35,73,5,73,14,82,32,61,31,87,4,73,4,92,14,81,17,73,26,75,35,92,36,61,28,65,55,47,42,42,52,60,54,60,45,41,50,46,51,46,56,55,52,59,51,59,50,48,59,47,55,42,49,56,47,54,53,48,52,42,51,55,41,44,57,46,58,55,60,46,55,41,49,40,42,52,47,50,42,49,41,48,59,55,56,42,50,46,43,48,52,54,42,46,48,50,43,59,43,57,56,40,58,91,29,77,35,95,11,75,9,75,34,71,5,88,7,73,10,72,5,93,40,87,12,97,36,74,22,90,17,88,20,76,16,89,1,78,1,73,35,83,5,93,26,75,20,95,27,63,13,75,10,92,13,86,15,69,14,90,32,86,15,88,39,97,24,68,17,85,23,69,8,91,16,79,28,74,18,83],\"y0\":\" \",\"yaxis\":\"y\",\"type\":\"box\"}],                        {\"template\":{\"data\":{\"bar\":[{\"error_x\":{\"color\":\"#2a3f5f\"},\"error_y\":{\"color\":\"#2a3f5f\"},\"marker\":{\"line\":{\"color\":\"#E5ECF6\",\"width\":0.5},\"pattern\":{\"fillmode\":\"overlay\",\"size\":10,\"solidity\":0.2}},\"type\":\"bar\"}],\"barpolar\":[{\"marker\":{\"line\":{\"color\":\"#E5ECF6\",\"width\":0.5},\"pattern\":{\"fillmode\":\"overlay\",\"size\":10,\"solidity\":0.2}},\"type\":\"barpolar\"}],\"carpet\":[{\"aaxis\":{\"endlinecolor\":\"#2a3f5f\",\"gridcolor\":\"white\",\"linecolor\":\"white\",\"minorgridcolor\":\"white\",\"startlinecolor\":\"#2a3f5f\"},\"baxis\":{\"endlinecolor\":\"#2a3f5f\",\"gridcolor\":\"white\",\"linecolor\":\"white\",\"minorgridcolor\":\"white\",\"startlinecolor\":\"#2a3f5f\"},\"type\":\"carpet\"}],\"choropleth\":[{\"colorbar\":{\"outlinewidth\":0,\"ticks\":\"\"},\"type\":\"choropleth\"}],\"contour\":[{\"colorbar\":{\"outlinewidth\":0,\"ticks\":\"\"},\"colorscale\":[[0.0,\"#0d0887\"],[0.1111111111111111,\"#46039f\"],[0.2222222222222222,\"#7201a8\"],[0.3333333333333333,\"#9c179e\"],[0.4444444444444444,\"#bd3786\"],[0.5555555555555556,\"#d8576b\"],[0.6666666666666666,\"#ed7953\"],[0.7777777777777778,\"#fb9f3a\"],[0.8888888888888888,\"#fdca26\"],[1.0,\"#f0f921\"]],\"type\":\"contour\"}],\"contourcarpet\":[{\"colorbar\":{\"outlinewidth\":0,\"ticks\":\"\"},\"type\":\"contourcarpet\"}],\"heatmap\":[{\"colorbar\":{\"outlinewidth\":0,\"ticks\":\"\"},\"colorscale\":[[0.0,\"#0d0887\"],[0.1111111111111111,\"#46039f\"],[0.2222222222222222,\"#7201a8\"],[0.3333333333333333,\"#9c179e\"],[0.4444444444444444,\"#bd3786\"],[0.5555555555555556,\"#d8576b\"],[0.6666666666666666,\"#ed7953\"],[0.7777777777777778,\"#fb9f3a\"],[0.8888888888888888,\"#fdca26\"],[1.0,\"#f0f921\"]],\"type\":\"heatmap\"}],\"heatmapgl\":[{\"colorbar\":{\"outlinewidth\":0,\"ticks\":\"\"},\"colorscale\":[[0.0,\"#0d0887\"],[0.1111111111111111,\"#46039f\"],[0.2222222222222222,\"#7201a8\"],[0.3333333333333333,\"#9c179e\"],[0.4444444444444444,\"#bd3786\"],[0.5555555555555556,\"#d8576b\"],[0.6666666666666666,\"#ed7953\"],[0.7777777777777778,\"#fb9f3a\"],[0.8888888888888888,\"#fdca26\"],[1.0,\"#f0f921\"]],\"type\":\"heatmapgl\"}],\"histogram\":[{\"marker\":{\"pattern\":{\"fillmode\":\"overlay\",\"size\":10,\"solidity\":0.2}},\"type\":\"histogram\"}],\"histogram2d\":[{\"colorbar\":{\"outlinewidth\":0,\"ticks\":\"\"},\"colorscale\":[[0.0,\"#0d0887\"],[0.1111111111111111,\"#46039f\"],[0.2222222222222222,\"#7201a8\"],[0.3333333333333333,\"#9c179e\"],[0.4444444444444444,\"#bd3786\"],[0.5555555555555556,\"#d8576b\"],[0.6666666666666666,\"#ed7953\"],[0.7777777777777778,\"#fb9f3a\"],[0.8888888888888888,\"#fdca26\"],[1.0,\"#f0f921\"]],\"type\":\"histogram2d\"}],\"histogram2dcontour\":[{\"colorbar\":{\"outlinewidth\":0,\"ticks\":\"\"},\"colorscale\":[[0.0,\"#0d0887\"],[0.1111111111111111,\"#46039f\"],[0.2222222222222222,\"#7201a8\"],[0.3333333333333333,\"#9c179e\"],[0.4444444444444444,\"#bd3786\"],[0.5555555555555556,\"#d8576b\"],[0.6666666666666666,\"#ed7953\"],[0.7777777777777778,\"#fb9f3a\"],[0.8888888888888888,\"#fdca26\"],[1.0,\"#f0f921\"]],\"type\":\"histogram2dcontour\"}],\"mesh3d\":[{\"colorbar\":{\"outlinewidth\":0,\"ticks\":\"\"},\"type\":\"mesh3d\"}],\"parcoords\":[{\"line\":{\"colorbar\":{\"outlinewidth\":0,\"ticks\":\"\"}},\"type\":\"parcoords\"}],\"pie\":[{\"automargin\":true,\"type\":\"pie\"}],\"scatter\":[{\"marker\":{\"colorbar\":{\"outlinewidth\":0,\"ticks\":\"\"}},\"type\":\"scatter\"}],\"scatter3d\":[{\"line\":{\"colorbar\":{\"outlinewidth\":0,\"ticks\":\"\"}},\"marker\":{\"colorbar\":{\"outlinewidth\":0,\"ticks\":\"\"}},\"type\":\"scatter3d\"}],\"scattercarpet\":[{\"marker\":{\"colorbar\":{\"outlinewidth\":0,\"ticks\":\"\"}},\"type\":\"scattercarpet\"}],\"scattergeo\":[{\"marker\":{\"colorbar\":{\"outlinewidth\":0,\"ticks\":\"\"}},\"type\":\"scattergeo\"}],\"scattergl\":[{\"marker\":{\"colorbar\":{\"outlinewidth\":0,\"ticks\":\"\"}},\"type\":\"scattergl\"}],\"scattermapbox\":[{\"marker\":{\"colorbar\":{\"outlinewidth\":0,\"ticks\":\"\"}},\"type\":\"scattermapbox\"}],\"scatterpolar\":[{\"marker\":{\"colorbar\":{\"outlinewidth\":0,\"ticks\":\"\"}},\"type\":\"scatterpolar\"}],\"scatterpolargl\":[{\"marker\":{\"colorbar\":{\"outlinewidth\":0,\"ticks\":\"\"}},\"type\":\"scatterpolargl\"}],\"scatterternary\":[{\"marker\":{\"colorbar\":{\"outlinewidth\":0,\"ticks\":\"\"}},\"type\":\"scatterternary\"}],\"surface\":[{\"colorbar\":{\"outlinewidth\":0,\"ticks\":\"\"},\"colorscale\":[[0.0,\"#0d0887\"],[0.1111111111111111,\"#46039f\"],[0.2222222222222222,\"#7201a8\"],[0.3333333333333333,\"#9c179e\"],[0.4444444444444444,\"#bd3786\"],[0.5555555555555556,\"#d8576b\"],[0.6666666666666666,\"#ed7953\"],[0.7777777777777778,\"#fb9f3a\"],[0.8888888888888888,\"#fdca26\"],[1.0,\"#f0f921\"]],\"type\":\"surface\"}],\"table\":[{\"cells\":{\"fill\":{\"color\":\"#EBF0F8\"},\"line\":{\"color\":\"white\"}},\"header\":{\"fill\":{\"color\":\"#C8D4E3\"},\"line\":{\"color\":\"white\"}},\"type\":\"table\"}]},\"layout\":{\"annotationdefaults\":{\"arrowcolor\":\"#2a3f5f\",\"arrowhead\":0,\"arrowwidth\":1},\"autotypenumbers\":\"strict\",\"coloraxis\":{\"colorbar\":{\"outlinewidth\":0,\"ticks\":\"\"}},\"colorscale\":{\"diverging\":[[0,\"#8e0152\"],[0.1,\"#c51b7d\"],[0.2,\"#de77ae\"],[0.3,\"#f1b6da\"],[0.4,\"#fde0ef\"],[0.5,\"#f7f7f7\"],[0.6,\"#e6f5d0\"],[0.7,\"#b8e186\"],[0.8,\"#7fbc41\"],[0.9,\"#4d9221\"],[1,\"#276419\"]],\"sequential\":[[0.0,\"#0d0887\"],[0.1111111111111111,\"#46039f\"],[0.2222222222222222,\"#7201a8\"],[0.3333333333333333,\"#9c179e\"],[0.4444444444444444,\"#bd3786\"],[0.5555555555555556,\"#d8576b\"],[0.6666666666666666,\"#ed7953\"],[0.7777777777777778,\"#fb9f3a\"],[0.8888888888888888,\"#fdca26\"],[1.0,\"#f0f921\"]],\"sequentialminus\":[[0.0,\"#0d0887\"],[0.1111111111111111,\"#46039f\"],[0.2222222222222222,\"#7201a8\"],[0.3333333333333333,\"#9c179e\"],[0.4444444444444444,\"#bd3786\"],[0.5555555555555556,\"#d8576b\"],[0.6666666666666666,\"#ed7953\"],[0.7777777777777778,\"#fb9f3a\"],[0.8888888888888888,\"#fdca26\"],[1.0,\"#f0f921\"]]},\"colorway\":[\"#636efa\",\"#EF553B\",\"#00cc96\",\"#ab63fa\",\"#FFA15A\",\"#19d3f3\",\"#FF6692\",\"#B6E880\",\"#FF97FF\",\"#FECB52\"],\"font\":{\"color\":\"#2a3f5f\"},\"geo\":{\"bgcolor\":\"white\",\"lakecolor\":\"white\",\"landcolor\":\"#E5ECF6\",\"showlakes\":true,\"showland\":true,\"subunitcolor\":\"white\"},\"hoverlabel\":{\"align\":\"left\"},\"hovermode\":\"closest\",\"mapbox\":{\"style\":\"light\"},\"paper_bgcolor\":\"white\",\"plot_bgcolor\":\"#E5ECF6\",\"polar\":{\"angularaxis\":{\"gridcolor\":\"white\",\"linecolor\":\"white\",\"ticks\":\"\"},\"bgcolor\":\"#E5ECF6\",\"radialaxis\":{\"gridcolor\":\"white\",\"linecolor\":\"white\",\"ticks\":\"\"}},\"scene\":{\"xaxis\":{\"backgroundcolor\":\"#E5ECF6\",\"gridcolor\":\"white\",\"gridwidth\":2,\"linecolor\":\"white\",\"showbackground\":true,\"ticks\":\"\",\"zerolinecolor\":\"white\"},\"yaxis\":{\"backgroundcolor\":\"#E5ECF6\",\"gridcolor\":\"white\",\"gridwidth\":2,\"linecolor\":\"white\",\"showbackground\":true,\"ticks\":\"\",\"zerolinecolor\":\"white\"},\"zaxis\":{\"backgroundcolor\":\"#E5ECF6\",\"gridcolor\":\"white\",\"gridwidth\":2,\"linecolor\":\"white\",\"showbackground\":true,\"ticks\":\"\",\"zerolinecolor\":\"white\"}},\"shapedefaults\":{\"line\":{\"color\":\"#2a3f5f\"}},\"ternary\":{\"aaxis\":{\"gridcolor\":\"white\",\"linecolor\":\"white\",\"ticks\":\"\"},\"baxis\":{\"gridcolor\":\"white\",\"linecolor\":\"white\",\"ticks\":\"\"},\"bgcolor\":\"#E5ECF6\",\"caxis\":{\"gridcolor\":\"white\",\"linecolor\":\"white\",\"ticks\":\"\"}},\"title\":{\"x\":0.05},\"xaxis\":{\"automargin\":true,\"gridcolor\":\"white\",\"linecolor\":\"white\",\"ticks\":\"\",\"title\":{\"standoff\":15},\"zerolinecolor\":\"white\",\"zerolinewidth\":2},\"yaxis\":{\"automargin\":true,\"gridcolor\":\"white\",\"linecolor\":\"white\",\"ticks\":\"\",\"title\":{\"standoff\":15},\"zerolinecolor\":\"white\",\"zerolinewidth\":2}}},\"xaxis\":{\"anchor\":\"y\",\"domain\":[0.0,1.0]},\"yaxis\":{\"anchor\":\"x\",\"domain\":[0.0,1.0],\"title\":{\"text\":\"pontuacao\"}},\"legend\":{\"tracegroupgap\":0},\"margin\":{\"t\":60},\"boxmode\":\"group\"},                        {\"responsive\": true}                    ).then(function(){\n",
              "                            \n",
              "var gd = document.getElementById('2c8a3824-55d3-4f2c-991a-7ea823074a1d');\n",
              "var x = new MutationObserver(function (mutations, observer) {{\n",
              "        var display = window.getComputedStyle(gd).display;\n",
              "        if (!display || display === 'none') {{\n",
              "            console.log([gd, 'removed!']);\n",
              "            Plotly.purge(gd);\n",
              "            observer.disconnect();\n",
              "        }}\n",
              "}});\n",
              "\n",
              "// Listen for the removal of the full notebook cells\n",
              "var notebookContainer = gd.closest('#notebook-container');\n",
              "if (notebookContainer) {{\n",
              "    x.observe(notebookContainer, {childList: true});\n",
              "}}\n",
              "\n",
              "// Listen for the clearing of the current output cell\n",
              "var outputEl = gd.closest('.output');\n",
              "if (outputEl) {{\n",
              "    x.observe(outputEl, {childList: true});\n",
              "}}\n",
              "\n",
              "                        })                };                            </script>        </div>\n",
              "</body>\n",
              "</html>"
            ]
          },
          "metadata": {}
        }
      ]
    },
    {
      "cell_type": "markdown",
      "source": [
        "Nenhum dado discrepante encontrado nos outros atributos."
      ],
      "metadata": {
        "id": "Ad8yIfs2uG0a"
      }
    },
    {
      "cell_type": "markdown",
      "source": [
        "# Pré-processamento\n",
        "\n",
        "O pré-processamento é uma etapa fundamental que pode melhorar a performance dos algoritmos de análise, através da redução de dimensionalidade e eliminação de ruidos que interfiram no funcionamento dos algoritmos. "
      ],
      "metadata": {
        "id": "Es-rZ7cDub9y"
      }
    },
    {
      "cell_type": "code",
      "source": [
        "df.head()"
      ],
      "metadata": {
        "colab": {
          "base_uri": "https://localhost:8080/",
          "height": 0
        },
        "id": "nURaWjFp9qyp",
        "outputId": "5c7fc7ca-b80c-4082-de7b-431b381e23aa"
      },
      "execution_count": 23,
      "outputs": [
        {
          "output_type": "execute_result",
          "data": {
            "text/plain": [
              "   CustomerID  genero  idade  rendimento  pontuacao\n",
              "0           1    Male     19          15         39\n",
              "1           2    Male     21          15         81\n",
              "2           3  Female     20          16          6\n",
              "3           4  Female     23          16         77\n",
              "4           5  Female     31          17         40"
            ],
            "text/html": [
              "\n",
              "  <div id=\"df-be6099d7-00da-4587-aa82-32e7eeb23a37\">\n",
              "    <div class=\"colab-df-container\">\n",
              "      <div>\n",
              "<style scoped>\n",
              "    .dataframe tbody tr th:only-of-type {\n",
              "        vertical-align: middle;\n",
              "    }\n",
              "\n",
              "    .dataframe tbody tr th {\n",
              "        vertical-align: top;\n",
              "    }\n",
              "\n",
              "    .dataframe thead th {\n",
              "        text-align: right;\n",
              "    }\n",
              "</style>\n",
              "<table border=\"1\" class=\"dataframe\">\n",
              "  <thead>\n",
              "    <tr style=\"text-align: right;\">\n",
              "      <th></th>\n",
              "      <th>CustomerID</th>\n",
              "      <th>genero</th>\n",
              "      <th>idade</th>\n",
              "      <th>rendimento</th>\n",
              "      <th>pontuacao</th>\n",
              "    </tr>\n",
              "  </thead>\n",
              "  <tbody>\n",
              "    <tr>\n",
              "      <th>0</th>\n",
              "      <td>1</td>\n",
              "      <td>Male</td>\n",
              "      <td>19</td>\n",
              "      <td>15</td>\n",
              "      <td>39</td>\n",
              "    </tr>\n",
              "    <tr>\n",
              "      <th>1</th>\n",
              "      <td>2</td>\n",
              "      <td>Male</td>\n",
              "      <td>21</td>\n",
              "      <td>15</td>\n",
              "      <td>81</td>\n",
              "    </tr>\n",
              "    <tr>\n",
              "      <th>2</th>\n",
              "      <td>3</td>\n",
              "      <td>Female</td>\n",
              "      <td>20</td>\n",
              "      <td>16</td>\n",
              "      <td>6</td>\n",
              "    </tr>\n",
              "    <tr>\n",
              "      <th>3</th>\n",
              "      <td>4</td>\n",
              "      <td>Female</td>\n",
              "      <td>23</td>\n",
              "      <td>16</td>\n",
              "      <td>77</td>\n",
              "    </tr>\n",
              "    <tr>\n",
              "      <th>4</th>\n",
              "      <td>5</td>\n",
              "      <td>Female</td>\n",
              "      <td>31</td>\n",
              "      <td>17</td>\n",
              "      <td>40</td>\n",
              "    </tr>\n",
              "  </tbody>\n",
              "</table>\n",
              "</div>\n",
              "      <button class=\"colab-df-convert\" onclick=\"convertToInteractive('df-be6099d7-00da-4587-aa82-32e7eeb23a37')\"\n",
              "              title=\"Convert this dataframe to an interactive table.\"\n",
              "              style=\"display:none;\">\n",
              "        \n",
              "  <svg xmlns=\"http://www.w3.org/2000/svg\" height=\"24px\"viewBox=\"0 0 24 24\"\n",
              "       width=\"24px\">\n",
              "    <path d=\"M0 0h24v24H0V0z\" fill=\"none\"/>\n",
              "    <path d=\"M18.56 5.44l.94 2.06.94-2.06 2.06-.94-2.06-.94-.94-2.06-.94 2.06-2.06.94zm-11 1L8.5 8.5l.94-2.06 2.06-.94-2.06-.94L8.5 2.5l-.94 2.06-2.06.94zm10 10l.94 2.06.94-2.06 2.06-.94-2.06-.94-.94-2.06-.94 2.06-2.06.94z\"/><path d=\"M17.41 7.96l-1.37-1.37c-.4-.4-.92-.59-1.43-.59-.52 0-1.04.2-1.43.59L10.3 9.45l-7.72 7.72c-.78.78-.78 2.05 0 2.83L4 21.41c.39.39.9.59 1.41.59.51 0 1.02-.2 1.41-.59l7.78-7.78 2.81-2.81c.8-.78.8-2.07 0-2.86zM5.41 20L4 18.59l7.72-7.72 1.47 1.35L5.41 20z\"/>\n",
              "  </svg>\n",
              "      </button>\n",
              "      \n",
              "  <style>\n",
              "    .colab-df-container {\n",
              "      display:flex;\n",
              "      flex-wrap:wrap;\n",
              "      gap: 12px;\n",
              "    }\n",
              "\n",
              "    .colab-df-convert {\n",
              "      background-color: #E8F0FE;\n",
              "      border: none;\n",
              "      border-radius: 50%;\n",
              "      cursor: pointer;\n",
              "      display: none;\n",
              "      fill: #1967D2;\n",
              "      height: 32px;\n",
              "      padding: 0 0 0 0;\n",
              "      width: 32px;\n",
              "    }\n",
              "\n",
              "    .colab-df-convert:hover {\n",
              "      background-color: #E2EBFA;\n",
              "      box-shadow: 0px 1px 2px rgba(60, 64, 67, 0.3), 0px 1px 3px 1px rgba(60, 64, 67, 0.15);\n",
              "      fill: #174EA6;\n",
              "    }\n",
              "\n",
              "    [theme=dark] .colab-df-convert {\n",
              "      background-color: #3B4455;\n",
              "      fill: #D2E3FC;\n",
              "    }\n",
              "\n",
              "    [theme=dark] .colab-df-convert:hover {\n",
              "      background-color: #434B5C;\n",
              "      box-shadow: 0px 1px 3px 1px rgba(0, 0, 0, 0.15);\n",
              "      filter: drop-shadow(0px 1px 2px rgba(0, 0, 0, 0.3));\n",
              "      fill: #FFFFFF;\n",
              "    }\n",
              "  </style>\n",
              "\n",
              "      <script>\n",
              "        const buttonEl =\n",
              "          document.querySelector('#df-be6099d7-00da-4587-aa82-32e7eeb23a37 button.colab-df-convert');\n",
              "        buttonEl.style.display =\n",
              "          google.colab.kernel.accessAllowed ? 'block' : 'none';\n",
              "\n",
              "        async function convertToInteractive(key) {\n",
              "          const element = document.querySelector('#df-be6099d7-00da-4587-aa82-32e7eeb23a37');\n",
              "          const dataTable =\n",
              "            await google.colab.kernel.invokeFunction('convertToInteractive',\n",
              "                                                     [key], {});\n",
              "          if (!dataTable) return;\n",
              "\n",
              "          const docLinkHtml = 'Like what you see? Visit the ' +\n",
              "            '<a target=\"_blank\" href=https://colab.research.google.com/notebooks/data_table.ipynb>data table notebook</a>'\n",
              "            + ' to learn more about interactive tables.';\n",
              "          element.innerHTML = '';\n",
              "          dataTable['output_type'] = 'display_data';\n",
              "          await google.colab.output.renderOutput(dataTable, element);\n",
              "          const docLink = document.createElement('div');\n",
              "          docLink.innerHTML = docLinkHtml;\n",
              "          element.appendChild(docLink);\n",
              "        }\n",
              "      </script>\n",
              "    </div>\n",
              "  </div>\n",
              "  "
            ]
          },
          "metadata": {},
          "execution_count": 23
        }
      ]
    },
    {
      "cell_type": "markdown",
      "source": [
        "## Excluindo o atributo CustomerID\n",
        "\n",
        "O atributo CustomerID não possui relevância para o modelo pois ele apenas emumera os elementos. Deste modo ele deve ser excluído."
      ],
      "metadata": {
        "id": "AuRtL2fQ9zaP"
      }
    },
    {
      "cell_type": "code",
      "source": [
        "# Criando um novo dataframe para receber os dados, excluindo o atributo CustomerID."
      ],
      "metadata": {
        "id": "cjtglbyaACu3"
      },
      "execution_count": 24,
      "outputs": []
    },
    {
      "cell_type": "code",
      "source": [
        "df2 = df.drop(labels=\"CustomerID\",axis=1) # lembrando que axis significa eixo e 1 equivale a coluna.\n",
        "df2.head()"
      ],
      "metadata": {
        "colab": {
          "base_uri": "https://localhost:8080/",
          "height": 0
        },
        "id": "IByoaTNmDSYP",
        "outputId": "e7ff405a-2309-45da-ae67-24752d62e148"
      },
      "execution_count": 25,
      "outputs": [
        {
          "output_type": "execute_result",
          "data": {
            "text/plain": [
              "   genero  idade  rendimento  pontuacao\n",
              "0    Male     19          15         39\n",
              "1    Male     21          15         81\n",
              "2  Female     20          16          6\n",
              "3  Female     23          16         77\n",
              "4  Female     31          17         40"
            ],
            "text/html": [
              "\n",
              "  <div id=\"df-b23387ad-ac21-41ff-a7f7-a226e8188159\">\n",
              "    <div class=\"colab-df-container\">\n",
              "      <div>\n",
              "<style scoped>\n",
              "    .dataframe tbody tr th:only-of-type {\n",
              "        vertical-align: middle;\n",
              "    }\n",
              "\n",
              "    .dataframe tbody tr th {\n",
              "        vertical-align: top;\n",
              "    }\n",
              "\n",
              "    .dataframe thead th {\n",
              "        text-align: right;\n",
              "    }\n",
              "</style>\n",
              "<table border=\"1\" class=\"dataframe\">\n",
              "  <thead>\n",
              "    <tr style=\"text-align: right;\">\n",
              "      <th></th>\n",
              "      <th>genero</th>\n",
              "      <th>idade</th>\n",
              "      <th>rendimento</th>\n",
              "      <th>pontuacao</th>\n",
              "    </tr>\n",
              "  </thead>\n",
              "  <tbody>\n",
              "    <tr>\n",
              "      <th>0</th>\n",
              "      <td>Male</td>\n",
              "      <td>19</td>\n",
              "      <td>15</td>\n",
              "      <td>39</td>\n",
              "    </tr>\n",
              "    <tr>\n",
              "      <th>1</th>\n",
              "      <td>Male</td>\n",
              "      <td>21</td>\n",
              "      <td>15</td>\n",
              "      <td>81</td>\n",
              "    </tr>\n",
              "    <tr>\n",
              "      <th>2</th>\n",
              "      <td>Female</td>\n",
              "      <td>20</td>\n",
              "      <td>16</td>\n",
              "      <td>6</td>\n",
              "    </tr>\n",
              "    <tr>\n",
              "      <th>3</th>\n",
              "      <td>Female</td>\n",
              "      <td>23</td>\n",
              "      <td>16</td>\n",
              "      <td>77</td>\n",
              "    </tr>\n",
              "    <tr>\n",
              "      <th>4</th>\n",
              "      <td>Female</td>\n",
              "      <td>31</td>\n",
              "      <td>17</td>\n",
              "      <td>40</td>\n",
              "    </tr>\n",
              "  </tbody>\n",
              "</table>\n",
              "</div>\n",
              "      <button class=\"colab-df-convert\" onclick=\"convertToInteractive('df-b23387ad-ac21-41ff-a7f7-a226e8188159')\"\n",
              "              title=\"Convert this dataframe to an interactive table.\"\n",
              "              style=\"display:none;\">\n",
              "        \n",
              "  <svg xmlns=\"http://www.w3.org/2000/svg\" height=\"24px\"viewBox=\"0 0 24 24\"\n",
              "       width=\"24px\">\n",
              "    <path d=\"M0 0h24v24H0V0z\" fill=\"none\"/>\n",
              "    <path d=\"M18.56 5.44l.94 2.06.94-2.06 2.06-.94-2.06-.94-.94-2.06-.94 2.06-2.06.94zm-11 1L8.5 8.5l.94-2.06 2.06-.94-2.06-.94L8.5 2.5l-.94 2.06-2.06.94zm10 10l.94 2.06.94-2.06 2.06-.94-2.06-.94-.94-2.06-.94 2.06-2.06.94z\"/><path d=\"M17.41 7.96l-1.37-1.37c-.4-.4-.92-.59-1.43-.59-.52 0-1.04.2-1.43.59L10.3 9.45l-7.72 7.72c-.78.78-.78 2.05 0 2.83L4 21.41c.39.39.9.59 1.41.59.51 0 1.02-.2 1.41-.59l7.78-7.78 2.81-2.81c.8-.78.8-2.07 0-2.86zM5.41 20L4 18.59l7.72-7.72 1.47 1.35L5.41 20z\"/>\n",
              "  </svg>\n",
              "      </button>\n",
              "      \n",
              "  <style>\n",
              "    .colab-df-container {\n",
              "      display:flex;\n",
              "      flex-wrap:wrap;\n",
              "      gap: 12px;\n",
              "    }\n",
              "\n",
              "    .colab-df-convert {\n",
              "      background-color: #E8F0FE;\n",
              "      border: none;\n",
              "      border-radius: 50%;\n",
              "      cursor: pointer;\n",
              "      display: none;\n",
              "      fill: #1967D2;\n",
              "      height: 32px;\n",
              "      padding: 0 0 0 0;\n",
              "      width: 32px;\n",
              "    }\n",
              "\n",
              "    .colab-df-convert:hover {\n",
              "      background-color: #E2EBFA;\n",
              "      box-shadow: 0px 1px 2px rgba(60, 64, 67, 0.3), 0px 1px 3px 1px rgba(60, 64, 67, 0.15);\n",
              "      fill: #174EA6;\n",
              "    }\n",
              "\n",
              "    [theme=dark] .colab-df-convert {\n",
              "      background-color: #3B4455;\n",
              "      fill: #D2E3FC;\n",
              "    }\n",
              "\n",
              "    [theme=dark] .colab-df-convert:hover {\n",
              "      background-color: #434B5C;\n",
              "      box-shadow: 0px 1px 3px 1px rgba(0, 0, 0, 0.15);\n",
              "      filter: drop-shadow(0px 1px 2px rgba(0, 0, 0, 0.3));\n",
              "      fill: #FFFFFF;\n",
              "    }\n",
              "  </style>\n",
              "\n",
              "      <script>\n",
              "        const buttonEl =\n",
              "          document.querySelector('#df-b23387ad-ac21-41ff-a7f7-a226e8188159 button.colab-df-convert');\n",
              "        buttonEl.style.display =\n",
              "          google.colab.kernel.accessAllowed ? 'block' : 'none';\n",
              "\n",
              "        async function convertToInteractive(key) {\n",
              "          const element = document.querySelector('#df-b23387ad-ac21-41ff-a7f7-a226e8188159');\n",
              "          const dataTable =\n",
              "            await google.colab.kernel.invokeFunction('convertToInteractive',\n",
              "                                                     [key], {});\n",
              "          if (!dataTable) return;\n",
              "\n",
              "          const docLinkHtml = 'Like what you see? Visit the ' +\n",
              "            '<a target=\"_blank\" href=https://colab.research.google.com/notebooks/data_table.ipynb>data table notebook</a>'\n",
              "            + ' to learn more about interactive tables.';\n",
              "          element.innerHTML = '';\n",
              "          dataTable['output_type'] = 'display_data';\n",
              "          await google.colab.output.renderOutput(dataTable, element);\n",
              "          const docLink = document.createElement('div');\n",
              "          docLink.innerHTML = docLinkHtml;\n",
              "          element.appendChild(docLink);\n",
              "        }\n",
              "      </script>\n",
              "    </div>\n",
              "  </div>\n",
              "  "
            ]
          },
          "metadata": {},
          "execution_count": 25
        }
      ]
    },
    {
      "cell_type": "markdown",
      "source": [
        "## Transformando dados categóricos em dados numéricos"
      ],
      "metadata": {
        "id": "fN5i4wUkGQje"
      }
    },
    {
      "cell_type": "code",
      "source": [
        "df2[\"genero\"].replace({\"Female\":0,\"Male\":1},inplace=True) # Inplace = True altera os dados de forma permanente no dataframe atual\n",
        "df2.head()"
      ],
      "metadata": {
        "colab": {
          "base_uri": "https://localhost:8080/",
          "height": 0
        },
        "id": "enzaFelZDtin",
        "outputId": "f5abc41f-4a72-4461-8c8a-051428160547"
      },
      "execution_count": 26,
      "outputs": [
        {
          "output_type": "execute_result",
          "data": {
            "text/plain": [
              "   genero  idade  rendimento  pontuacao\n",
              "0       1     19          15         39\n",
              "1       1     21          15         81\n",
              "2       0     20          16          6\n",
              "3       0     23          16         77\n",
              "4       0     31          17         40"
            ],
            "text/html": [
              "\n",
              "  <div id=\"df-61efdf35-91bc-47fe-9470-4d50101b146c\">\n",
              "    <div class=\"colab-df-container\">\n",
              "      <div>\n",
              "<style scoped>\n",
              "    .dataframe tbody tr th:only-of-type {\n",
              "        vertical-align: middle;\n",
              "    }\n",
              "\n",
              "    .dataframe tbody tr th {\n",
              "        vertical-align: top;\n",
              "    }\n",
              "\n",
              "    .dataframe thead th {\n",
              "        text-align: right;\n",
              "    }\n",
              "</style>\n",
              "<table border=\"1\" class=\"dataframe\">\n",
              "  <thead>\n",
              "    <tr style=\"text-align: right;\">\n",
              "      <th></th>\n",
              "      <th>genero</th>\n",
              "      <th>idade</th>\n",
              "      <th>rendimento</th>\n",
              "      <th>pontuacao</th>\n",
              "    </tr>\n",
              "  </thead>\n",
              "  <tbody>\n",
              "    <tr>\n",
              "      <th>0</th>\n",
              "      <td>1</td>\n",
              "      <td>19</td>\n",
              "      <td>15</td>\n",
              "      <td>39</td>\n",
              "    </tr>\n",
              "    <tr>\n",
              "      <th>1</th>\n",
              "      <td>1</td>\n",
              "      <td>21</td>\n",
              "      <td>15</td>\n",
              "      <td>81</td>\n",
              "    </tr>\n",
              "    <tr>\n",
              "      <th>2</th>\n",
              "      <td>0</td>\n",
              "      <td>20</td>\n",
              "      <td>16</td>\n",
              "      <td>6</td>\n",
              "    </tr>\n",
              "    <tr>\n",
              "      <th>3</th>\n",
              "      <td>0</td>\n",
              "      <td>23</td>\n",
              "      <td>16</td>\n",
              "      <td>77</td>\n",
              "    </tr>\n",
              "    <tr>\n",
              "      <th>4</th>\n",
              "      <td>0</td>\n",
              "      <td>31</td>\n",
              "      <td>17</td>\n",
              "      <td>40</td>\n",
              "    </tr>\n",
              "  </tbody>\n",
              "</table>\n",
              "</div>\n",
              "      <button class=\"colab-df-convert\" onclick=\"convertToInteractive('df-61efdf35-91bc-47fe-9470-4d50101b146c')\"\n",
              "              title=\"Convert this dataframe to an interactive table.\"\n",
              "              style=\"display:none;\">\n",
              "        \n",
              "  <svg xmlns=\"http://www.w3.org/2000/svg\" height=\"24px\"viewBox=\"0 0 24 24\"\n",
              "       width=\"24px\">\n",
              "    <path d=\"M0 0h24v24H0V0z\" fill=\"none\"/>\n",
              "    <path d=\"M18.56 5.44l.94 2.06.94-2.06 2.06-.94-2.06-.94-.94-2.06-.94 2.06-2.06.94zm-11 1L8.5 8.5l.94-2.06 2.06-.94-2.06-.94L8.5 2.5l-.94 2.06-2.06.94zm10 10l.94 2.06.94-2.06 2.06-.94-2.06-.94-.94-2.06-.94 2.06-2.06.94z\"/><path d=\"M17.41 7.96l-1.37-1.37c-.4-.4-.92-.59-1.43-.59-.52 0-1.04.2-1.43.59L10.3 9.45l-7.72 7.72c-.78.78-.78 2.05 0 2.83L4 21.41c.39.39.9.59 1.41.59.51 0 1.02-.2 1.41-.59l7.78-7.78 2.81-2.81c.8-.78.8-2.07 0-2.86zM5.41 20L4 18.59l7.72-7.72 1.47 1.35L5.41 20z\"/>\n",
              "  </svg>\n",
              "      </button>\n",
              "      \n",
              "  <style>\n",
              "    .colab-df-container {\n",
              "      display:flex;\n",
              "      flex-wrap:wrap;\n",
              "      gap: 12px;\n",
              "    }\n",
              "\n",
              "    .colab-df-convert {\n",
              "      background-color: #E8F0FE;\n",
              "      border: none;\n",
              "      border-radius: 50%;\n",
              "      cursor: pointer;\n",
              "      display: none;\n",
              "      fill: #1967D2;\n",
              "      height: 32px;\n",
              "      padding: 0 0 0 0;\n",
              "      width: 32px;\n",
              "    }\n",
              "\n",
              "    .colab-df-convert:hover {\n",
              "      background-color: #E2EBFA;\n",
              "      box-shadow: 0px 1px 2px rgba(60, 64, 67, 0.3), 0px 1px 3px 1px rgba(60, 64, 67, 0.15);\n",
              "      fill: #174EA6;\n",
              "    }\n",
              "\n",
              "    [theme=dark] .colab-df-convert {\n",
              "      background-color: #3B4455;\n",
              "      fill: #D2E3FC;\n",
              "    }\n",
              "\n",
              "    [theme=dark] .colab-df-convert:hover {\n",
              "      background-color: #434B5C;\n",
              "      box-shadow: 0px 1px 3px 1px rgba(0, 0, 0, 0.15);\n",
              "      filter: drop-shadow(0px 1px 2px rgba(0, 0, 0, 0.3));\n",
              "      fill: #FFFFFF;\n",
              "    }\n",
              "  </style>\n",
              "\n",
              "      <script>\n",
              "        const buttonEl =\n",
              "          document.querySelector('#df-61efdf35-91bc-47fe-9470-4d50101b146c button.colab-df-convert');\n",
              "        buttonEl.style.display =\n",
              "          google.colab.kernel.accessAllowed ? 'block' : 'none';\n",
              "\n",
              "        async function convertToInteractive(key) {\n",
              "          const element = document.querySelector('#df-61efdf35-91bc-47fe-9470-4d50101b146c');\n",
              "          const dataTable =\n",
              "            await google.colab.kernel.invokeFunction('convertToInteractive',\n",
              "                                                     [key], {});\n",
              "          if (!dataTable) return;\n",
              "\n",
              "          const docLinkHtml = 'Like what you see? Visit the ' +\n",
              "            '<a target=\"_blank\" href=https://colab.research.google.com/notebooks/data_table.ipynb>data table notebook</a>'\n",
              "            + ' to learn more about interactive tables.';\n",
              "          element.innerHTML = '';\n",
              "          dataTable['output_type'] = 'display_data';\n",
              "          await google.colab.output.renderOutput(dataTable, element);\n",
              "          const docLink = document.createElement('div');\n",
              "          docLink.innerHTML = docLinkHtml;\n",
              "          element.appendChild(docLink);\n",
              "        }\n",
              "      </script>\n",
              "    </div>\n",
              "  </div>\n",
              "  "
            ]
          },
          "metadata": {},
          "execution_count": 26
        }
      ]
    },
    {
      "cell_type": "markdown",
      "source": [
        "## Escalonamento\n",
        "\n",
        "O objetivo do escalonamento é mudar os valores das colunas numéricas no conjunto de dados para usar uma escala comum, sem distorcer as diferenças nos intervalos de valores nem perder informações. O escalonamento ( normalização ) também é necessário para alguns algoritmos para modelar os dados corretamente.\n",
        "O escalonamento considera média próxima de zero e desvio padrão próximo de 1."
      ],
      "metadata": {
        "id": "r80Ib1PWHoqV"
      }
    },
    {
      "cell_type": "code",
      "source": [
        "from sklearn.preprocessing import StandardScaler"
      ],
      "metadata": {
        "id": "qui_IkwfG9Fc"
      },
      "execution_count": 27,
      "outputs": []
    },
    {
      "cell_type": "code",
      "source": [
        "escala = StandardScaler()\n",
        "df2_esc = escala.fit_transform(df2) # Criando um novo dataframe com os dados escalonados"
      ],
      "metadata": {
        "id": "rmiEzW0YIQGf"
      },
      "execution_count": 28,
      "outputs": []
    },
    {
      "cell_type": "code",
      "source": [
        "df2_esc"
      ],
      "metadata": {
        "id": "hmnEoRQNIdf3",
        "colab": {
          "base_uri": "https://localhost:8080/"
        },
        "outputId": "3d4895a6-9a33-40bb-bc13-99ed5785c123"
      },
      "execution_count": 29,
      "outputs": [
        {
          "output_type": "execute_result",
          "data": {
            "text/plain": [
              "array([[ 1.12815215, -1.42456879, -1.73899919, -0.43480148],\n",
              "       [ 1.12815215, -1.28103541, -1.73899919,  1.19570407],\n",
              "       [-0.88640526, -1.3528021 , -1.70082976, -1.71591298],\n",
              "       [-0.88640526, -1.13750203, -1.70082976,  1.04041783],\n",
              "       [-0.88640526, -0.56336851, -1.66266033, -0.39597992],\n",
              "       [-0.88640526, -1.20926872, -1.66266033,  1.00159627],\n",
              "       [-0.88640526, -0.27630176, -1.62449091, -1.71591298],\n",
              "       [-0.88640526, -1.13750203, -1.62449091,  1.70038436],\n",
              "       [ 1.12815215,  1.80493225, -1.58632148, -1.83237767],\n",
              "       [-0.88640526, -0.6351352 , -1.58632148,  0.84631002],\n",
              "       [ 1.12815215,  2.02023231, -1.58632148, -1.4053405 ],\n",
              "       [-0.88640526, -0.27630176, -1.58632148,  1.89449216],\n",
              "       [-0.88640526,  1.37433211, -1.54815205, -1.36651894],\n",
              "       [-0.88640526, -1.06573534, -1.54815205,  1.04041783],\n",
              "       [ 1.12815215, -0.13276838, -1.54815205, -1.44416206],\n",
              "       [ 1.12815215, -1.20926872, -1.54815205,  1.11806095],\n",
              "       [-0.88640526, -0.27630176, -1.50998262, -0.59008772],\n",
              "       [ 1.12815215, -1.3528021 , -1.50998262,  0.61338066],\n",
              "       [ 1.12815215,  0.94373197, -1.43364376, -0.82301709],\n",
              "       [-0.88640526, -0.27630176, -1.43364376,  1.8556706 ],\n",
              "       [ 1.12815215, -0.27630176, -1.39547433, -0.59008772],\n",
              "       [ 1.12815215, -0.99396865, -1.39547433,  0.88513158],\n",
              "       [-0.88640526,  0.51313183, -1.3573049 , -1.75473454],\n",
              "       [ 1.12815215, -0.56336851, -1.3573049 ,  0.88513158],\n",
              "       [-0.88640526,  1.08726535, -1.24279661, -1.4053405 ],\n",
              "       [ 1.12815215, -0.70690189, -1.24279661,  1.23452563],\n",
              "       [-0.88640526,  0.44136514, -1.24279661, -0.7065524 ],\n",
              "       [ 1.12815215, -0.27630176, -1.24279661,  0.41927286],\n",
              "       [-0.88640526,  0.08253169, -1.20462718, -0.74537397],\n",
              "       [-0.88640526, -1.13750203, -1.20462718,  1.42863343],\n",
              "       [ 1.12815215,  1.51786549, -1.16645776, -1.7935561 ],\n",
              "       [-0.88640526, -1.28103541, -1.16645776,  0.88513158],\n",
              "       [ 1.12815215,  1.01549866, -1.05194947, -1.7935561 ],\n",
              "       [ 1.12815215, -1.49633548, -1.05194947,  1.62274124],\n",
              "       [-0.88640526,  0.7284319 , -1.05194947, -1.4053405 ],\n",
              "       [-0.88640526, -1.28103541, -1.05194947,  1.19570407],\n",
              "       [-0.88640526,  0.22606507, -1.01378004, -1.28887582],\n",
              "       [-0.88640526, -0.6351352 , -1.01378004,  0.88513158],\n",
              "       [-0.88640526, -0.20453507, -0.89927175, -0.93948177],\n",
              "       [-0.88640526, -1.3528021 , -0.89927175,  0.96277471],\n",
              "       [-0.88640526,  1.87669894, -0.86110232, -0.59008772],\n",
              "       [ 1.12815215, -1.06573534, -0.86110232,  1.62274124],\n",
              "       [ 1.12815215,  0.65666521, -0.82293289, -0.55126616],\n",
              "       [-0.88640526, -0.56336851, -0.82293289,  0.41927286],\n",
              "       [-0.88640526,  0.7284319 , -0.82293289, -0.86183865],\n",
              "       [-0.88640526, -1.06573534, -0.82293289,  0.5745591 ],\n",
              "       [-0.88640526,  0.80019859, -0.78476346,  0.18634349],\n",
              "       [-0.88640526, -0.85043527, -0.78476346, -0.12422899],\n",
              "       [-0.88640526, -0.70690189, -0.78476346, -0.3183368 ],\n",
              "       [-0.88640526, -0.56336851, -0.78476346, -0.3183368 ],\n",
              "       [-0.88640526,  0.7284319 , -0.70842461,  0.06987881],\n",
              "       [ 1.12815215, -0.41983513, -0.70842461,  0.38045129],\n",
              "       [-0.88640526, -0.56336851, -0.67025518,  0.14752193],\n",
              "       [ 1.12815215,  1.4460988 , -0.67025518,  0.38045129],\n",
              "       [-0.88640526,  0.80019859, -0.67025518, -0.20187212],\n",
              "       [ 1.12815215,  0.58489852, -0.67025518, -0.35715836],\n",
              "       [-0.88640526,  0.87196528, -0.63208575, -0.00776431],\n",
              "       [ 1.12815215,  2.16376569, -0.63208575, -0.16305055],\n",
              "       [-0.88640526, -0.85043527, -0.55574689,  0.03105725],\n",
              "       [ 1.12815215,  1.01549866, -0.55574689, -0.16305055],\n",
              "       [ 1.12815215,  2.23553238, -0.55574689,  0.22516505],\n",
              "       [ 1.12815215, -1.42456879, -0.55574689,  0.18634349],\n",
              "       [-0.88640526,  2.02023231, -0.51757746,  0.06987881],\n",
              "       [-0.88640526,  1.08726535, -0.51757746,  0.34162973],\n",
              "       [ 1.12815215,  1.73316556, -0.47940803,  0.03105725],\n",
              "       [ 1.12815215, -1.49633548, -0.47940803,  0.34162973],\n",
              "       [-0.88640526,  0.29783176, -0.47940803, -0.00776431],\n",
              "       [-0.88640526,  2.091999  , -0.47940803, -0.08540743],\n",
              "       [ 1.12815215, -1.42456879, -0.47940803,  0.34162973],\n",
              "       [-0.88640526, -0.49160182, -0.47940803, -0.12422899],\n",
              "       [ 1.12815215,  2.23553238, -0.4412386 ,  0.18634349],\n",
              "       [-0.88640526,  0.58489852, -0.4412386 , -0.3183368 ],\n",
              "       [-0.88640526,  1.51786549, -0.40306917, -0.04658587],\n",
              "       [-0.88640526,  1.51786549, -0.40306917,  0.22516505],\n",
              "       [ 1.12815215,  1.4460988 , -0.25039146, -0.12422899],\n",
              "       [ 1.12815215, -0.92220196, -0.25039146,  0.14752193],\n",
              "       [-0.88640526,  0.44136514, -0.25039146,  0.10870037],\n",
              "       [ 1.12815215,  0.08253169, -0.25039146, -0.08540743],\n",
              "       [-0.88640526, -1.13750203, -0.25039146,  0.06987881],\n",
              "       [-0.88640526,  0.7284319 , -0.25039146, -0.3183368 ],\n",
              "       [ 1.12815215,  1.30256542, -0.25039146,  0.03105725],\n",
              "       [ 1.12815215, -0.06100169, -0.25039146,  0.18634349],\n",
              "       [ 1.12815215,  2.02023231, -0.25039146, -0.35715836],\n",
              "       [-0.88640526,  0.51313183, -0.25039146, -0.24069368],\n",
              "       [-0.88640526, -1.28103541, -0.25039146,  0.26398661],\n",
              "       [ 1.12815215,  0.65666521, -0.25039146, -0.16305055],\n",
              "       [-0.88640526,  1.15903204, -0.13588317,  0.30280817],\n",
              "       [-0.88640526, -1.20926872, -0.13588317,  0.18634349],\n",
              "       [-0.88640526, -0.34806844, -0.09771374,  0.38045129],\n",
              "       [-0.88640526,  0.80019859, -0.09771374, -0.16305055],\n",
              "       [-0.88640526,  2.091999  , -0.05954431,  0.18634349],\n",
              "       [ 1.12815215, -1.49633548, -0.05954431, -0.35715836],\n",
              "       [ 1.12815215,  0.65666521, -0.02137488, -0.04658587],\n",
              "       [-0.88640526,  0.08253169, -0.02137488, -0.39597992],\n",
              "       [-0.88640526, -0.49160182, -0.02137488, -0.3183368 ],\n",
              "       [ 1.12815215, -1.06573534, -0.02137488,  0.06987881],\n",
              "       [-0.88640526,  0.58489852, -0.02137488, -0.12422899],\n",
              "       [-0.88640526, -0.85043527, -0.02137488, -0.00776431],\n",
              "       [ 1.12815215,  0.65666521,  0.01679455, -0.3183368 ],\n",
              "       [ 1.12815215, -1.3528021 ,  0.01679455, -0.04658587],\n",
              "       [-0.88640526, -1.13750203,  0.05496398, -0.35715836],\n",
              "       [-0.88640526,  0.7284319 ,  0.05496398, -0.08540743],\n",
              "       [ 1.12815215,  2.02023231,  0.05496398,  0.34162973],\n",
              "       [ 1.12815215, -0.92220196,  0.05496398,  0.18634349],\n",
              "       [ 1.12815215,  0.7284319 ,  0.05496398,  0.22516505],\n",
              "       [-0.88640526, -1.28103541,  0.05496398, -0.3183368 ],\n",
              "       [-0.88640526,  1.94846562,  0.09313341, -0.00776431],\n",
              "       [ 1.12815215,  1.08726535,  0.09313341, -0.16305055],\n",
              "       [ 1.12815215,  2.091999  ,  0.09313341, -0.27951524],\n",
              "       [ 1.12815215,  1.94846562,  0.09313341, -0.08540743],\n",
              "       [ 1.12815215,  1.87669894,  0.09313341,  0.06987881],\n",
              "       [-0.88640526, -1.42456879,  0.09313341,  0.14752193],\n",
              "       [-0.88640526, -0.06100169,  0.13130284, -0.3183368 ],\n",
              "       [ 1.12815215, -1.42456879,  0.13130284, -0.16305055],\n",
              "       [-0.88640526, -1.49633548,  0.16947227, -0.08540743],\n",
              "       [-0.88640526, -1.42456879,  0.16947227, -0.00776431],\n",
              "       [-0.88640526,  1.73316556,  0.16947227, -0.27951524],\n",
              "       [-0.88640526,  0.7284319 ,  0.16947227,  0.34162973],\n",
              "       [-0.88640526,  0.87196528,  0.24581112, -0.27951524],\n",
              "       [-0.88640526,  0.80019859,  0.24581112,  0.26398661],\n",
              "       [ 1.12815215, -0.85043527,  0.24581112,  0.22516505],\n",
              "       [-0.88640526, -0.06100169,  0.24581112, -0.39597992],\n",
              "       [-0.88640526,  0.08253169,  0.32214998,  0.30280817],\n",
              "       [ 1.12815215,  0.010765  ,  0.32214998,  1.58391968],\n",
              "       [-0.88640526, -1.13750203,  0.36031941, -0.82301709],\n",
              "       [-0.88640526, -0.56336851,  0.36031941,  1.04041783],\n",
              "       [ 1.12815215,  0.29783176,  0.39848884, -0.59008772],\n",
              "       [ 1.12815215,  0.08253169,  0.39848884,  1.73920592],\n",
              "       [ 1.12815215,  1.4460988 ,  0.39848884, -1.52180518],\n",
              "       [ 1.12815215, -0.06100169,  0.39848884,  0.96277471],\n",
              "       [ 1.12815215,  0.58489852,  0.39848884, -1.5994483 ],\n",
              "       [ 1.12815215,  0.010765  ,  0.39848884,  0.96277471],\n",
              "       [-0.88640526, -0.99396865,  0.43665827, -0.62890928],\n",
              "       [-0.88640526, -0.56336851,  0.43665827,  0.80748846],\n",
              "       [ 1.12815215, -1.3528021 ,  0.4748277 , -1.75473454],\n",
              "       [-0.88640526, -0.70690189,  0.4748277 ,  1.46745499],\n",
              "       [-0.88640526,  0.36959845,  0.4748277 , -1.67709142],\n",
              "       [ 1.12815215, -0.49160182,  0.4748277 ,  0.88513158],\n",
              "       [ 1.12815215, -1.42456879,  0.51299713, -1.56062674],\n",
              "       [-0.88640526, -0.27630176,  0.51299713,  0.84631002],\n",
              "       [-0.88640526,  1.30256542,  0.55116656, -1.75473454],\n",
              "       [ 1.12815215, -0.49160182,  0.55116656,  1.6615628 ],\n",
              "       [-0.88640526, -0.77866858,  0.58933599, -0.39597992],\n",
              "       [-0.88640526, -0.49160182,  0.58933599,  1.42863343],\n",
              "       [ 1.12815215, -0.99396865,  0.62750542, -1.48298362],\n",
              "       [ 1.12815215, -0.77866858,  0.62750542,  1.81684904],\n",
              "       [ 1.12815215,  0.65666521,  0.62750542, -0.55126616],\n",
              "       [-0.88640526, -0.49160182,  0.62750542,  0.92395314],\n",
              "       [-0.88640526, -0.34806844,  0.66567484, -1.09476801],\n",
              "       [ 1.12815215, -0.34806844,  0.66567484,  1.54509812],\n",
              "       [ 1.12815215,  0.29783176,  0.66567484, -1.28887582],\n",
              "       [ 1.12815215,  0.010765  ,  0.66567484,  1.46745499],\n",
              "       [-0.88640526,  0.36959845,  0.66567484, -1.17241113],\n",
              "       [-0.88640526, -0.06100169,  0.66567484,  1.00159627],\n",
              "       [-0.88640526,  0.58489852,  0.66567484, -1.32769738],\n",
              "       [-0.88640526, -0.85043527,  0.66567484,  1.50627656],\n",
              "       [ 1.12815215, -0.13276838,  0.66567484, -1.91002079],\n",
              "       [-0.88640526, -0.6351352 ,  0.66567484,  1.07923939],\n",
              "       [ 1.12815215, -0.34806844,  0.66567484, -1.91002079],\n",
              "       [-0.88640526, -0.6351352 ,  0.66567484,  0.88513158],\n",
              "       [-0.88640526,  1.23079873,  0.70384427, -0.59008772],\n",
              "       [-0.88640526, -0.70690189,  0.70384427,  1.27334719],\n",
              "       [ 1.12815215, -1.42456879,  0.78018313, -1.75473454],\n",
              "       [-0.88640526, -0.56336851,  0.78018313,  1.6615628 ],\n",
              "       [ 1.12815215,  0.80019859,  0.93286085, -0.93948177],\n",
              "       [-0.88640526, -0.20453507,  0.93286085,  0.96277471],\n",
              "       [ 1.12815215,  0.22606507,  0.97103028, -1.17241113],\n",
              "       [-0.88640526, -0.41983513,  0.97103028,  1.73920592],\n",
              "       [-0.88640526, -0.20453507,  1.00919971, -0.90066021],\n",
              "       [ 1.12815215, -0.49160182,  1.00919971,  0.49691598],\n",
              "       [ 1.12815215,  0.08253169,  1.00919971, -1.44416206],\n",
              "       [ 1.12815215, -0.77866858,  1.00919971,  0.96277471],\n",
              "       [ 1.12815215, -0.20453507,  1.00919971, -1.56062674],\n",
              "       [ 1.12815215, -0.20453507,  1.00919971,  1.62274124],\n",
              "       [-0.88640526,  0.94373197,  1.04736914, -1.44416206],\n",
              "       [-0.88640526, -0.6351352 ,  1.04736914,  1.38981187],\n",
              "       [ 1.12815215,  1.37433211,  1.04736914, -1.36651894],\n",
              "       [ 1.12815215, -0.85043527,  1.04736914,  0.72984534],\n",
              "       [ 1.12815215,  1.4460988 ,  1.23821628, -1.4053405 ],\n",
              "       [ 1.12815215, -0.27630176,  1.23821628,  1.54509812],\n",
              "       [-0.88640526, -0.13276838,  1.390894  , -0.7065524 ],\n",
              "       [-0.88640526, -0.49160182,  1.390894  ,  1.38981187],\n",
              "       [ 1.12815215,  0.51313183,  1.42906343, -1.36651894],\n",
              "       [-0.88640526, -0.70690189,  1.42906343,  1.46745499],\n",
              "       [-0.88640526,  0.15429838,  1.46723286, -0.43480148],\n",
              "       [ 1.12815215, -0.6351352 ,  1.46723286,  1.81684904],\n",
              "       [-0.88640526,  1.08726535,  1.54357172, -1.01712489],\n",
              "       [ 1.12815215, -0.77866858,  1.54357172,  0.69102378],\n",
              "       [-0.88640526,  0.15429838,  1.61991057, -1.28887582],\n",
              "       [-0.88640526, -0.20453507,  1.61991057,  1.35099031],\n",
              "       [-0.88640526, -0.34806844,  1.61991057, -1.05594645],\n",
              "       [-0.88640526, -0.49160182,  1.61991057,  0.72984534],\n",
              "       [ 1.12815215, -0.41983513,  2.00160487, -1.63826986],\n",
              "       [-0.88640526, -0.06100169,  2.00160487,  1.58391968],\n",
              "       [-0.88640526,  0.58489852,  2.26879087, -1.32769738],\n",
              "       [-0.88640526, -0.27630176,  2.26879087,  1.11806095],\n",
              "       [-0.88640526,  0.44136514,  2.49780745, -0.86183865],\n",
              "       [ 1.12815215, -0.49160182,  2.49780745,  0.92395314],\n",
              "       [ 1.12815215, -0.49160182,  2.91767117, -1.25005425],\n",
              "       [ 1.12815215, -0.6351352 ,  2.91767117,  1.27334719]])"
            ]
          },
          "metadata": {},
          "execution_count": 29
        }
      ]
    },
    {
      "cell_type": "markdown",
      "source": [
        "# K-means com dois atributos\n",
        "\n",
        "Inicialmente usaremos apenas dois atributos para o modelo, que neste caso será os atributos rendimento e pontuacao"
      ],
      "metadata": {
        "id": "K6rq-bUwwnuO"
      }
    },
    {
      "cell_type": "code",
      "source": [
        "# Criando um novo dataframe para receber apenas os atributos rendimento e pontuacao usando os indices\n",
        "dados = df2.iloc[:,[2,3]].values\n",
        "dados"
      ],
      "metadata": {
        "id": "p6pi8X5EwzJt",
        "colab": {
          "base_uri": "https://localhost:8080/"
        },
        "outputId": "8494a83a-8926-4675-e0c6-5054fb38017e"
      },
      "execution_count": 30,
      "outputs": [
        {
          "output_type": "execute_result",
          "data": {
            "text/plain": [
              "array([[ 15,  39],\n",
              "       [ 15,  81],\n",
              "       [ 16,   6],\n",
              "       [ 16,  77],\n",
              "       [ 17,  40],\n",
              "       [ 17,  76],\n",
              "       [ 18,   6],\n",
              "       [ 18,  94],\n",
              "       [ 19,   3],\n",
              "       [ 19,  72],\n",
              "       [ 19,  14],\n",
              "       [ 19,  99],\n",
              "       [ 20,  15],\n",
              "       [ 20,  77],\n",
              "       [ 20,  13],\n",
              "       [ 20,  79],\n",
              "       [ 21,  35],\n",
              "       [ 21,  66],\n",
              "       [ 23,  29],\n",
              "       [ 23,  98],\n",
              "       [ 24,  35],\n",
              "       [ 24,  73],\n",
              "       [ 25,   5],\n",
              "       [ 25,  73],\n",
              "       [ 28,  14],\n",
              "       [ 28,  82],\n",
              "       [ 28,  32],\n",
              "       [ 28,  61],\n",
              "       [ 29,  31],\n",
              "       [ 29,  87],\n",
              "       [ 30,   4],\n",
              "       [ 30,  73],\n",
              "       [ 33,   4],\n",
              "       [ 33,  92],\n",
              "       [ 33,  14],\n",
              "       [ 33,  81],\n",
              "       [ 34,  17],\n",
              "       [ 34,  73],\n",
              "       [ 37,  26],\n",
              "       [ 37,  75],\n",
              "       [ 38,  35],\n",
              "       [ 38,  92],\n",
              "       [ 39,  36],\n",
              "       [ 39,  61],\n",
              "       [ 39,  28],\n",
              "       [ 39,  65],\n",
              "       [ 40,  55],\n",
              "       [ 40,  47],\n",
              "       [ 40,  42],\n",
              "       [ 40,  42],\n",
              "       [ 42,  52],\n",
              "       [ 42,  60],\n",
              "       [ 43,  54],\n",
              "       [ 43,  60],\n",
              "       [ 43,  45],\n",
              "       [ 43,  41],\n",
              "       [ 44,  50],\n",
              "       [ 44,  46],\n",
              "       [ 46,  51],\n",
              "       [ 46,  46],\n",
              "       [ 46,  56],\n",
              "       [ 46,  55],\n",
              "       [ 47,  52],\n",
              "       [ 47,  59],\n",
              "       [ 48,  51],\n",
              "       [ 48,  59],\n",
              "       [ 48,  50],\n",
              "       [ 48,  48],\n",
              "       [ 48,  59],\n",
              "       [ 48,  47],\n",
              "       [ 49,  55],\n",
              "       [ 49,  42],\n",
              "       [ 50,  49],\n",
              "       [ 50,  56],\n",
              "       [ 54,  47],\n",
              "       [ 54,  54],\n",
              "       [ 54,  53],\n",
              "       [ 54,  48],\n",
              "       [ 54,  52],\n",
              "       [ 54,  42],\n",
              "       [ 54,  51],\n",
              "       [ 54,  55],\n",
              "       [ 54,  41],\n",
              "       [ 54,  44],\n",
              "       [ 54,  57],\n",
              "       [ 54,  46],\n",
              "       [ 57,  58],\n",
              "       [ 57,  55],\n",
              "       [ 58,  60],\n",
              "       [ 58,  46],\n",
              "       [ 59,  55],\n",
              "       [ 59,  41],\n",
              "       [ 60,  49],\n",
              "       [ 60,  40],\n",
              "       [ 60,  42],\n",
              "       [ 60,  52],\n",
              "       [ 60,  47],\n",
              "       [ 60,  50],\n",
              "       [ 61,  42],\n",
              "       [ 61,  49],\n",
              "       [ 62,  41],\n",
              "       [ 62,  48],\n",
              "       [ 62,  59],\n",
              "       [ 62,  55],\n",
              "       [ 62,  56],\n",
              "       [ 62,  42],\n",
              "       [ 63,  50],\n",
              "       [ 63,  46],\n",
              "       [ 63,  43],\n",
              "       [ 63,  48],\n",
              "       [ 63,  52],\n",
              "       [ 63,  54],\n",
              "       [ 64,  42],\n",
              "       [ 64,  46],\n",
              "       [ 65,  48],\n",
              "       [ 65,  50],\n",
              "       [ 65,  43],\n",
              "       [ 65,  59],\n",
              "       [ 67,  43],\n",
              "       [ 67,  57],\n",
              "       [ 67,  56],\n",
              "       [ 67,  40],\n",
              "       [ 69,  58],\n",
              "       [ 69,  91],\n",
              "       [ 70,  29],\n",
              "       [ 70,  77],\n",
              "       [ 71,  35],\n",
              "       [ 71,  95],\n",
              "       [ 71,  11],\n",
              "       [ 71,  75],\n",
              "       [ 71,   9],\n",
              "       [ 71,  75],\n",
              "       [ 72,  34],\n",
              "       [ 72,  71],\n",
              "       [ 73,   5],\n",
              "       [ 73,  88],\n",
              "       [ 73,   7],\n",
              "       [ 73,  73],\n",
              "       [ 74,  10],\n",
              "       [ 74,  72],\n",
              "       [ 75,   5],\n",
              "       [ 75,  93],\n",
              "       [ 76,  40],\n",
              "       [ 76,  87],\n",
              "       [ 77,  12],\n",
              "       [ 77,  97],\n",
              "       [ 77,  36],\n",
              "       [ 77,  74],\n",
              "       [ 78,  22],\n",
              "       [ 78,  90],\n",
              "       [ 78,  17],\n",
              "       [ 78,  88],\n",
              "       [ 78,  20],\n",
              "       [ 78,  76],\n",
              "       [ 78,  16],\n",
              "       [ 78,  89],\n",
              "       [ 78,   1],\n",
              "       [ 78,  78],\n",
              "       [ 78,   1],\n",
              "       [ 78,  73],\n",
              "       [ 79,  35],\n",
              "       [ 79,  83],\n",
              "       [ 81,   5],\n",
              "       [ 81,  93],\n",
              "       [ 85,  26],\n",
              "       [ 85,  75],\n",
              "       [ 86,  20],\n",
              "       [ 86,  95],\n",
              "       [ 87,  27],\n",
              "       [ 87,  63],\n",
              "       [ 87,  13],\n",
              "       [ 87,  75],\n",
              "       [ 87,  10],\n",
              "       [ 87,  92],\n",
              "       [ 88,  13],\n",
              "       [ 88,  86],\n",
              "       [ 88,  15],\n",
              "       [ 88,  69],\n",
              "       [ 93,  14],\n",
              "       [ 93,  90],\n",
              "       [ 97,  32],\n",
              "       [ 97,  86],\n",
              "       [ 98,  15],\n",
              "       [ 98,  88],\n",
              "       [ 99,  39],\n",
              "       [ 99,  97],\n",
              "       [101,  24],\n",
              "       [101,  68],\n",
              "       [103,  17],\n",
              "       [103,  85],\n",
              "       [103,  23],\n",
              "       [103,  69],\n",
              "       [113,   8],\n",
              "       [113,  91],\n",
              "       [120,  16],\n",
              "       [120,  79],\n",
              "       [126,  28],\n",
              "       [126,  74],\n",
              "       [137,  18],\n",
              "       [137,  83]])"
            ]
          },
          "metadata": {},
          "execution_count": 30
        }
      ]
    },
    {
      "cell_type": "markdown",
      "source": [
        "Método Elbow - identifica o número de clusters adequado para o modelo\n",
        "\n",
        "\n",
        "\n"
      ],
      "metadata": {
        "id": "xldarycozP_V"
      }
    },
    {
      "cell_type": "code",
      "source": [
        "from sklearn.cluster import KMeans\n",
        "wcss = []\n",
        "for i in range (1, 11):\n",
        "    kmeans = KMeans(n_clusters = i, init = 'k-means++', random_state= 5, max_iter=300)\n",
        "    kmeans.fit(dados)\n",
        "    # inertia - Método para gerar o wcss\n",
        "    wcss.append(kmeans.inertia_)"
      ],
      "metadata": {
        "id": "ug1cadkTzcn-"
      },
      "execution_count": 31,
      "outputs": []
    },
    {
      "cell_type": "code",
      "source": [
        "import matplotlib.pyplot as plt\n",
        "import seaborn as sns"
      ],
      "metadata": {
        "id": "o61F5vG21eBC"
      },
      "execution_count": 32,
      "outputs": []
    },
    {
      "cell_type": "code",
      "source": [
        "plt.figure(figsize=(10,5))\n",
        "sns.lineplot(range(1,11), wcss, marker=\"o\", color=\"red\")\n",
        "plt.title(\"Método Elbow\")\n",
        "plt.xlabel(\"Número de clusters\")\n",
        "plt.ylabel(\"WCSS\")"
      ],
      "metadata": {
        "colab": {
          "base_uri": "https://localhost:8080/",
          "height": 0
        },
        "id": "hwg_3mg22CbZ",
        "outputId": "c26785fd-8bc8-449d-9187-96c183592c4f"
      },
      "execution_count": 33,
      "outputs": [
        {
          "output_type": "execute_result",
          "data": {
            "text/plain": [
              "Text(0, 0.5, 'WCSS')"
            ]
          },
          "metadata": {},
          "execution_count": 33
        },
        {
          "output_type": "display_data",
          "data": {
            "text/plain": [
              "<Figure size 720x360 with 1 Axes>"
            ],
            "image/png": "[encoded data removed]"
          },
          "metadata": {
            "needs_background": "light"
          }
        }
      ]
    },
    {
      "cell_type": "code",
      "source": [
        "# Através do gráfico é possivel identificar o ponto de inflexão, que neste caso seria o 4\n",
        "# O ponto de inflexão representa a quantidade ideal de clusters"
      ],
      "metadata": {
        "id": "tcru88UR3X8j"
      },
      "execution_count": 34,
      "outputs": []
    },
    {
      "cell_type": "markdown",
      "source": [
        "## Agrupamento"
      ],
      "metadata": {
        "id": "ZV0D8wxd3SC5"
      }
    },
    {
      "cell_type": "code",
      "source": [
        "kmeans = KMeans(n_clusters = 4, init = \"k-means++\", random_state = 5, max_iter = 300)"
      ],
      "metadata": {
        "id": "qiAGemYr3Vsa"
      },
      "execution_count": 35,
      "outputs": []
    },
    {
      "cell_type": "code",
      "source": [
        "kmeans1 = kmeans.fit(dados)"
      ],
      "metadata": {
        "id": "7qhY9y784CVa"
      },
      "execution_count": 36,
      "outputs": []
    },
    {
      "cell_type": "code",
      "source": [
        "# Coordenadas dos centróides\n",
        "centroides = kmeans1.cluster_centers_\n",
        "centroides"
      ],
      "metadata": {
        "id": "iviIvlbC4Qjq",
        "colab": {
          "base_uri": "https://localhost:8080/"
        },
        "outputId": "4d6b2562-20e4-4918-d80c-623898291c81"
      },
      "execution_count": 37,
      "outputs": [
        {
          "output_type": "execute_result",
          "data": {
            "text/plain": [
              "array([[48.26      , 56.48      ],\n",
              "       [86.53846154, 82.12820513],\n",
              "       [26.30434783, 20.91304348],\n",
              "       [87.        , 18.63157895]])"
            ]
          },
          "metadata": {},
          "execution_count": 37
        }
      ]
    },
    {
      "cell_type": "code",
      "source": [
        "# Classificação dos dados\n",
        "classificacao = kmeans1.labels_\n",
        "classificacao"
      ],
      "metadata": {
        "id": "EsEg01pD4crz",
        "colab": {
          "base_uri": "https://localhost:8080/"
        },
        "outputId": "226ea90c-f5c9-495a-963d-25f7e6881058"
      },
      "execution_count": 38,
      "outputs": [
        {
          "output_type": "execute_result",
          "data": {
            "text/plain": [
              "array([2, 0, 2, 0, 2, 0, 2, 0, 2, 0, 2, 0, 2, 0, 2, 0, 2, 0, 2, 0, 2, 0,\n",
              "       2, 0, 2, 0, 2, 0, 2, 0, 2, 0, 2, 0, 2, 0, 2, 0, 2, 0, 2, 0, 2, 0,\n",
              "       2, 0, 0, 0, 0, 0, 0, 0, 0, 0, 0, 0, 0, 0, 0, 0, 0, 0, 0, 0, 0, 0,\n",
              "       0, 0, 0, 0, 0, 0, 0, 0, 0, 0, 0, 0, 0, 0, 0, 0, 0, 0, 0, 0, 0, 0,\n",
              "       0, 0, 0, 0, 0, 0, 0, 0, 0, 0, 0, 0, 0, 0, 0, 0, 0, 0, 0, 0, 0, 0,\n",
              "       0, 0, 0, 0, 0, 0, 0, 0, 0, 0, 0, 0, 0, 1, 3, 1, 3, 1, 3, 1, 3, 1,\n",
              "       3, 1, 3, 1, 3, 1, 3, 1, 3, 1, 3, 1, 3, 1, 3, 1, 3, 1, 3, 1, 3, 1,\n",
              "       3, 1, 3, 1, 3, 1, 3, 1, 3, 1, 3, 1, 3, 1, 3, 1, 3, 1, 3, 1, 3, 1,\n",
              "       3, 1, 3, 1, 3, 1, 3, 1, 3, 1, 3, 1, 3, 1, 3, 1, 3, 1, 3, 1, 3, 1,\n",
              "       3, 1], dtype=int32)"
            ]
          },
          "metadata": {},
          "execution_count": 38
        }
      ]
    },
    {
      "cell_type": "code",
      "source": [
        "# Usando como exemplo o grupo da 3º linha\n",
        "dados[3,:]"
      ],
      "metadata": {
        "colab": {
          "base_uri": "https://localhost:8080/"
        },
        "id": "f-i1IrEU5Dzx",
        "outputId": "9b614265-b0a2-416f-d7ad-532c25a4a91b"
      },
      "execution_count": 39,
      "outputs": [
        {
          "output_type": "execute_result",
          "data": {
            "text/plain": [
              "array([16, 77])"
            ]
          },
          "metadata": {},
          "execution_count": 39
        }
      ]
    },
    {
      "cell_type": "code",
      "source": [
        "# Visualizando a classificação do 3º elemento \n",
        "classificacao[3]"
      ],
      "metadata": {
        "colab": {
          "base_uri": "https://localhost:8080/"
        },
        "id": "VEu9NNzB5SSS",
        "outputId": "24e7f2fd-a62e-4b85-9d8f-0d396a868f09"
      },
      "execution_count": 40,
      "outputs": [
        {
          "output_type": "execute_result",
          "data": {
            "text/plain": [
              "0"
            ]
          },
          "metadata": {},
          "execution_count": 40
        }
      ]
    },
    {
      "cell_type": "markdown",
      "source": [
        "Visualizando graficamente com PLOTLY os agrupamentos por grupo"
      ],
      "metadata": {
        "id": "HgWH1sPi6A2J"
      }
    },
    {
      "cell_type": "code",
      "source": [
        "import plotly.express as px\n",
        "import plotly.graph_objects as go"
      ],
      "metadata": {
        "id": "lzzD-8wY6GQZ"
      },
      "execution_count": 41,
      "outputs": []
    },
    {
      "cell_type": "code",
      "source": [
        "graf1 = px.scatter( x = dados[:,0], y = dados[:,1], color = classificacao)\n",
        "graf2 = px.scatter( x = centroides[:,0], y = centroides[:,1], size = [15,15,15,15])\n",
        "graf3 = go.Figure( data = graf1.data + graf2.data)\n",
        "graf3.update_layout( width=800, height = 500, title_text=\"Agrupamento K-means\")\n",
        "graf3.update_xaxes(title=\"Rendimento anual (K$)\")\n",
        "graf3.update_yaxes(title=\"Pontuação\")\n",
        "graf3.show()"
      ],
      "metadata": {
        "id": "syPD7G6X6Uz1",
        "colab": {
          "base_uri": "https://localhost:8080/",
          "height": 0
        },
        "outputId": "53c16a65-b675-4d03-8f20-e01a2e361d8b"
      },
      "execution_count": 42,
      "outputs": [
        {
          "output_type": "display_data",
          "data": {
            "text/html": [
              "<html>\n",
              "<head><meta charset=\"utf-8\" /></head>\n",
              "<body>\n",
              "    <div>            <script src=\"https://cdnjs.cloudflare.com/ajax/libs/mathjax/2.7.5/MathJax.js?config=TeX-AMS-MML_SVG\"></script><script type=\"text/javascript\">if (window.MathJax) {MathJax.Hub.Config({SVG: {font: \"STIX-Web\"}});}</script>                <script type=\"text/javascript\">window.PlotlyConfig = {MathJaxConfig: 'local'};</script>\n",
              "        <script src=\"https://cdn.plot.ly/plotly-2.8.3.min.js\"></script>                <div id=\"14941186-d89f-473e-8703-1d9be7cc5fb9\" class=\"plotly-graph-div\" style=\"height:500px; width:800px;\"></div>            <script type=\"text/javascript\">                                    window.PLOTLYENV=window.PLOTLYENV || {};                                    if (document.getElementById(\"14941186-d89f-473e-8703-1d9be7cc5fb9\")) {                    Plotly.newPlot(                        \"14941186-d89f-473e-8703-1d9be7cc5fb9\",                        [{\"hovertemplate\":\"x=%{x}<br>y=%{y}<br>color=%{marker.color}<extra></extra>\",\"legendgroup\":\"\",\"marker\":{\"color\":[2,0,2,0,2,0,2,0,2,0,2,0,2,0,2,0,2,0,2,0,2,0,2,0,2,0,2,0,2,0,2,0,2,0,2,0,2,0,2,0,2,0,2,0,2,0,0,0,0,0,0,0,0,0,0,0,0,0,0,0,0,0,0,0,0,0,0,0,0,0,0,0,0,0,0,0,0,0,0,0,0,0,0,0,0,0,0,0,0,0,0,0,0,0,0,0,0,0,0,0,0,0,0,0,0,0,0,0,0,0,0,0,0,0,0,0,0,0,0,0,0,0,0,1,3,1,3,1,3,1,3,1,3,1,3,1,3,1,3,1,3,1,3,1,3,1,3,1,3,1,3,1,3,1,3,1,3,1,3,1,3,1,3,1,3,1,3,1,3,1,3,1,3,1,3,1,3,1,3,1,3,1,3,1,3,1,3,1,3,1,3,1,3,1,3,1,3,1,3,1],\"coloraxis\":\"coloraxis\",\"symbol\":\"circle\"},\"mode\":\"markers\",\"name\":\"\",\"orientation\":\"v\",\"showlegend\":false,\"x\":[15,15,16,16,17,17,18,18,19,19,19,19,20,20,20,20,21,21,23,23,24,24,25,25,28,28,28,28,29,29,30,30,33,33,33,33,34,34,37,37,38,38,39,39,39,39,40,40,40,40,42,42,43,43,43,43,44,44,46,46,46,46,47,47,48,48,48,48,48,48,49,49,50,50,54,54,54,54,54,54,54,54,54,54,54,54,57,57,58,58,59,59,60,60,60,60,60,60,61,61,62,62,62,62,62,62,63,63,63,63,63,63,64,64,65,65,65,65,67,67,67,67,69,69,70,70,71,71,71,71,71,71,72,72,73,73,73,73,74,74,75,75,76,76,77,77,77,77,78,78,78,78,78,78,78,78,78,78,78,78,79,79,81,81,85,85,86,86,87,87,87,87,87,87,88,88,88,88,93,93,97,97,98,98,99,99,101,101,103,103,103,103,113,113,120,120,126,126,137,137],\"xaxis\":\"x\",\"y\":[39,81,6,77,40,76,6,94,3,72,14,99,15,77,13,79,35,66,29,98,35,73,5,73,14,82,32,61,31,87,4,73,4,92,14,81,17,73,26,75,35,92,36,61,28,65,55,47,42,42,52,60,54,60,45,41,50,46,51,46,56,55,52,59,51,59,50,48,59,47,55,42,49,56,47,54,53,48,52,42,51,55,41,44,57,46,58,55,60,46,55,41,49,40,42,52,47,50,42,49,41,48,59,55,56,42,50,46,43,48,52,54,42,46,48,50,43,59,43,57,56,40,58,91,29,77,35,95,11,75,9,75,34,71,5,88,7,73,10,72,5,93,40,87,12,97,36,74,22,90,17,88,20,76,16,89,1,78,1,73,35,83,5,93,26,75,20,95,27,63,13,75,10,92,13,86,15,69,14,90,32,86,15,88,39,97,24,68,17,85,23,69,8,91,16,79,28,74,18,83],\"yaxis\":\"y\",\"type\":\"scatter\"},{\"hovertemplate\":\"x=%{x}<br>y=%{y}<br>size=%{marker.size}<extra></extra>\",\"legendgroup\":\"\",\"marker\":{\"color\":\"#636efa\",\"size\":[15,15,15,15],\"sizemode\":\"area\",\"sizeref\":0.0375,\"symbol\":\"circle\"},\"mode\":\"markers\",\"name\":\"\",\"orientation\":\"v\",\"showlegend\":false,\"x\":[48.26000000000005,86.53846153846155,26.304347826086982,87.00000000000001],\"xaxis\":\"x\",\"y\":[56.47999999999997,82.12820512820511,20.913043478260867,18.631578947368403],\"yaxis\":\"y\",\"type\":\"scatter\"}],                        {\"template\":{\"data\":{\"bar\":[{\"error_x\":{\"color\":\"#2a3f5f\"},\"error_y\":{\"color\":\"#2a3f5f\"},\"marker\":{\"line\":{\"color\":\"#E5ECF6\",\"width\":0.5},\"pattern\":{\"fillmode\":\"overlay\",\"size\":10,\"solidity\":0.2}},\"type\":\"bar\"}],\"barpolar\":[{\"marker\":{\"line\":{\"color\":\"#E5ECF6\",\"width\":0.5},\"pattern\":{\"fillmode\":\"overlay\",\"size\":10,\"solidity\":0.2}},\"type\":\"barpolar\"}],\"carpet\":[{\"aaxis\":{\"endlinecolor\":\"#2a3f5f\",\"gridcolor\":\"white\",\"linecolor\":\"white\",\"minorgridcolor\":\"white\",\"startlinecolor\":\"#2a3f5f\"},\"baxis\":{\"endlinecolor\":\"#2a3f5f\",\"gridcolor\":\"white\",\"linecolor\":\"white\",\"minorgridcolor\":\"white\",\"startlinecolor\":\"#2a3f5f\"},\"type\":\"carpet\"}],\"choropleth\":[{\"colorbar\":{\"outlinewidth\":0,\"ticks\":\"\"},\"type\":\"choropleth\"}],\"contour\":[{\"colorbar\":{\"outlinewidth\":0,\"ticks\":\"\"},\"colorscale\":[[0.0,\"#0d0887\"],[0.1111111111111111,\"#46039f\"],[0.2222222222222222,\"#7201a8\"],[0.3333333333333333,\"#9c179e\"],[0.4444444444444444,\"#bd3786\"],[0.5555555555555556,\"#d8576b\"],[0.6666666666666666,\"#ed7953\"],[0.7777777777777778,\"#fb9f3a\"],[0.8888888888888888,\"#fdca26\"],[1.0,\"#f0f921\"]],\"type\":\"contour\"}],\"contourcarpet\":[{\"colorbar\":{\"outlinewidth\":0,\"ticks\":\"\"},\"type\":\"contourcarpet\"}],\"heatmap\":[{\"colorbar\":{\"outlinewidth\":0,\"ticks\":\"\"},\"colorscale\":[[0.0,\"#0d0887\"],[0.1111111111111111,\"#46039f\"],[0.2222222222222222,\"#7201a8\"],[0.3333333333333333,\"#9c179e\"],[0.4444444444444444,\"#bd3786\"],[0.5555555555555556,\"#d8576b\"],[0.6666666666666666,\"#ed7953\"],[0.7777777777777778,\"#fb9f3a\"],[0.8888888888888888,\"#fdca26\"],[1.0,\"#f0f921\"]],\"type\":\"heatmap\"}],\"heatmapgl\":[{\"colorbar\":{\"outlinewidth\":0,\"ticks\":\"\"},\"colorscale\":[[0.0,\"#0d0887\"],[0.1111111111111111,\"#46039f\"],[0.2222222222222222,\"#7201a8\"],[0.3333333333333333,\"#9c179e\"],[0.4444444444444444,\"#bd3786\"],[0.5555555555555556,\"#d8576b\"],[0.6666666666666666,\"#ed7953\"],[0.7777777777777778,\"#fb9f3a\"],[0.8888888888888888,\"#fdca26\"],[1.0,\"#f0f921\"]],\"type\":\"heatmapgl\"}],\"histogram\":[{\"marker\":{\"pattern\":{\"fillmode\":\"overlay\",\"size\":10,\"solidity\":0.2}},\"type\":\"histogram\"}],\"histogram2d\":[{\"colorbar\":{\"outlinewidth\":0,\"ticks\":\"\"},\"colorscale\":[[0.0,\"#0d0887\"],[0.1111111111111111,\"#46039f\"],[0.2222222222222222,\"#7201a8\"],[0.3333333333333333,\"#9c179e\"],[0.4444444444444444,\"#bd3786\"],[0.5555555555555556,\"#d8576b\"],[0.6666666666666666,\"#ed7953\"],[0.7777777777777778,\"#fb9f3a\"],[0.8888888888888888,\"#fdca26\"],[1.0,\"#f0f921\"]],\"type\":\"histogram2d\"}],\"histogram2dcontour\":[{\"colorbar\":{\"outlinewidth\":0,\"ticks\":\"\"},\"colorscale\":[[0.0,\"#0d0887\"],[0.1111111111111111,\"#46039f\"],[0.2222222222222222,\"#7201a8\"],[0.3333333333333333,\"#9c179e\"],[0.4444444444444444,\"#bd3786\"],[0.5555555555555556,\"#d8576b\"],[0.6666666666666666,\"#ed7953\"],[0.7777777777777778,\"#fb9f3a\"],[0.8888888888888888,\"#fdca26\"],[1.0,\"#f0f921\"]],\"type\":\"histogram2dcontour\"}],\"mesh3d\":[{\"colorbar\":{\"outlinewidth\":0,\"ticks\":\"\"},\"type\":\"mesh3d\"}],\"parcoords\":[{\"line\":{\"colorbar\":{\"outlinewidth\":0,\"ticks\":\"\"}},\"type\":\"parcoords\"}],\"pie\":[{\"automargin\":true,\"type\":\"pie\"}],\"scatter\":[{\"marker\":{\"colorbar\":{\"outlinewidth\":0,\"ticks\":\"\"}},\"type\":\"scatter\"}],\"scatter3d\":[{\"line\":{\"colorbar\":{\"outlinewidth\":0,\"ticks\":\"\"}},\"marker\":{\"colorbar\":{\"outlinewidth\":0,\"ticks\":\"\"}},\"type\":\"scatter3d\"}],\"scattercarpet\":[{\"marker\":{\"colorbar\":{\"outlinewidth\":0,\"ticks\":\"\"}},\"type\":\"scattercarpet\"}],\"scattergeo\":[{\"marker\":{\"colorbar\":{\"outlinewidth\":0,\"ticks\":\"\"}},\"type\":\"scattergeo\"}],\"scattergl\":[{\"marker\":{\"colorbar\":{\"outlinewidth\":0,\"ticks\":\"\"}},\"type\":\"scattergl\"}],\"scattermapbox\":[{\"marker\":{\"colorbar\":{\"outlinewidth\":0,\"ticks\":\"\"}},\"type\":\"scattermapbox\"}],\"scatterpolar\":[{\"marker\":{\"colorbar\":{\"outlinewidth\":0,\"ticks\":\"\"}},\"type\":\"scatterpolar\"}],\"scatterpolargl\":[{\"marker\":{\"colorbar\":{\"outlinewidth\":0,\"ticks\":\"\"}},\"type\":\"scatterpolargl\"}],\"scatterternary\":[{\"marker\":{\"colorbar\":{\"outlinewidth\":0,\"ticks\":\"\"}},\"type\":\"scatterternary\"}],\"surface\":[{\"colorbar\":{\"outlinewidth\":0,\"ticks\":\"\"},\"colorscale\":[[0.0,\"#0d0887\"],[0.1111111111111111,\"#46039f\"],[0.2222222222222222,\"#7201a8\"],[0.3333333333333333,\"#9c179e\"],[0.4444444444444444,\"#bd3786\"],[0.5555555555555556,\"#d8576b\"],[0.6666666666666666,\"#ed7953\"],[0.7777777777777778,\"#fb9f3a\"],[0.8888888888888888,\"#fdca26\"],[1.0,\"#f0f921\"]],\"type\":\"surface\"}],\"table\":[{\"cells\":{\"fill\":{\"color\":\"#EBF0F8\"},\"line\":{\"color\":\"white\"}},\"header\":{\"fill\":{\"color\":\"#C8D4E3\"},\"line\":{\"color\":\"white\"}},\"type\":\"table\"}]},\"layout\":{\"annotationdefaults\":{\"arrowcolor\":\"#2a3f5f\",\"arrowhead\":0,\"arrowwidth\":1},\"autotypenumbers\":\"strict\",\"coloraxis\":{\"colorbar\":{\"outlinewidth\":0,\"ticks\":\"\"}},\"colorscale\":{\"diverging\":[[0,\"#8e0152\"],[0.1,\"#c51b7d\"],[0.2,\"#de77ae\"],[0.3,\"#f1b6da\"],[0.4,\"#fde0ef\"],[0.5,\"#f7f7f7\"],[0.6,\"#e6f5d0\"],[0.7,\"#b8e186\"],[0.8,\"#7fbc41\"],[0.9,\"#4d9221\"],[1,\"#276419\"]],\"sequential\":[[0.0,\"#0d0887\"],[0.1111111111111111,\"#46039f\"],[0.2222222222222222,\"#7201a8\"],[0.3333333333333333,\"#9c179e\"],[0.4444444444444444,\"#bd3786\"],[0.5555555555555556,\"#d8576b\"],[0.6666666666666666,\"#ed7953\"],[0.7777777777777778,\"#fb9f3a\"],[0.8888888888888888,\"#fdca26\"],[1.0,\"#f0f921\"]],\"sequentialminus\":[[0.0,\"#0d0887\"],[0.1111111111111111,\"#46039f\"],[0.2222222222222222,\"#7201a8\"],[0.3333333333333333,\"#9c179e\"],[0.4444444444444444,\"#bd3786\"],[0.5555555555555556,\"#d8576b\"],[0.6666666666666666,\"#ed7953\"],[0.7777777777777778,\"#fb9f3a\"],[0.8888888888888888,\"#fdca26\"],[1.0,\"#f0f921\"]]},\"colorway\":[\"#636efa\",\"#EF553B\",\"#00cc96\",\"#ab63fa\",\"#FFA15A\",\"#19d3f3\",\"#FF6692\",\"#B6E880\",\"#FF97FF\",\"#FECB52\"],\"font\":{\"color\":\"#2a3f5f\"},\"geo\":{\"bgcolor\":\"white\",\"lakecolor\":\"white\",\"landcolor\":\"#E5ECF6\",\"showlakes\":true,\"showland\":true,\"subunitcolor\":\"white\"},\"hoverlabel\":{\"align\":\"left\"},\"hovermode\":\"closest\",\"mapbox\":{\"style\":\"light\"},\"paper_bgcolor\":\"white\",\"plot_bgcolor\":\"#E5ECF6\",\"polar\":{\"angularaxis\":{\"gridcolor\":\"white\",\"linecolor\":\"white\",\"ticks\":\"\"},\"bgcolor\":\"#E5ECF6\",\"radialaxis\":{\"gridcolor\":\"white\",\"linecolor\":\"white\",\"ticks\":\"\"}},\"scene\":{\"xaxis\":{\"backgroundcolor\":\"#E5ECF6\",\"gridcolor\":\"white\",\"gridwidth\":2,\"linecolor\":\"white\",\"showbackground\":true,\"ticks\":\"\",\"zerolinecolor\":\"white\"},\"yaxis\":{\"backgroundcolor\":\"#E5ECF6\",\"gridcolor\":\"white\",\"gridwidth\":2,\"linecolor\":\"white\",\"showbackground\":true,\"ticks\":\"\",\"zerolinecolor\":\"white\"},\"zaxis\":{\"backgroundcolor\":\"#E5ECF6\",\"gridcolor\":\"white\",\"gridwidth\":2,\"linecolor\":\"white\",\"showbackground\":true,\"ticks\":\"\",\"zerolinecolor\":\"white\"}},\"shapedefaults\":{\"line\":{\"color\":\"#2a3f5f\"}},\"ternary\":{\"aaxis\":{\"gridcolor\":\"white\",\"linecolor\":\"white\",\"ticks\":\"\"},\"baxis\":{\"gridcolor\":\"white\",\"linecolor\":\"white\",\"ticks\":\"\"},\"bgcolor\":\"#E5ECF6\",\"caxis\":{\"gridcolor\":\"white\",\"linecolor\":\"white\",\"ticks\":\"\"}},\"title\":{\"x\":0.05},\"xaxis\":{\"automargin\":true,\"gridcolor\":\"white\",\"linecolor\":\"white\",\"ticks\":\"\",\"title\":{\"standoff\":15},\"zerolinecolor\":\"white\",\"zerolinewidth\":2},\"yaxis\":{\"automargin\":true,\"gridcolor\":\"white\",\"linecolor\":\"white\",\"ticks\":\"\",\"title\":{\"standoff\":15},\"zerolinecolor\":\"white\",\"zerolinewidth\":2}}},\"title\":{\"text\":\"Agrupamento K-means\"},\"width\":800,\"height\":500,\"xaxis\":{\"title\":{\"text\":\"Rendimento anual (K$)\"}},\"yaxis\":{\"title\":{\"text\":\"Pontua\\u00e7\\u00e3o\"}}},                        {\"responsive\": true}                    ).then(function(){\n",
              "                            \n",
              "var gd = document.getElementById('14941186-d89f-473e-8703-1d9be7cc5fb9');\n",
              "var x = new MutationObserver(function (mutations, observer) {{\n",
              "        var display = window.getComputedStyle(gd).display;\n",
              "        if (!display || display === 'none') {{\n",
              "            console.log([gd, 'removed!']);\n",
              "            Plotly.purge(gd);\n",
              "            observer.disconnect();\n",
              "        }}\n",
              "}});\n",
              "\n",
              "// Listen for the removal of the full notebook cells\n",
              "var notebookContainer = gd.closest('#notebook-container');\n",
              "if (notebookContainer) {{\n",
              "    x.observe(notebookContainer, {childList: true});\n",
              "}}\n",
              "\n",
              "// Listen for the clearing of the current output cell\n",
              "var outputEl = gd.closest('.output');\n",
              "if (outputEl) {{\n",
              "    x.observe(outputEl, {childList: true});\n",
              "}}\n",
              "\n",
              "                        })                };                            </script>        </div>\n",
              "</body>\n",
              "</html>"
            ]
          },
          "metadata": {}
        }
      ]
    },
    {
      "cell_type": "markdown",
      "source": [
        "Visualizando o agrupamento por uma lista"
      ],
      "metadata": {
        "id": "lXr8oL4x9F1v"
      }
    },
    {
      "cell_type": "code",
      "source": [
        "agrupamento = pd.DataFrame(classificacao, columns = [\"Grupo\"])\n",
        "agrupamento"
      ],
      "metadata": {
        "id": "lq3sn-yh9LRo",
        "colab": {
          "base_uri": "https://localhost:8080/",
          "height": 0
        },
        "outputId": "7ccbe5e4-db54-47f4-aa48-a80c003a32d8"
      },
      "execution_count": 43,
      "outputs": [
        {
          "output_type": "execute_result",
          "data": {
            "text/plain": [
              "     Grupo\n",
              "0        2\n",
              "1        0\n",
              "2        2\n",
              "3        0\n",
              "4        2\n",
              "..     ...\n",
              "195      1\n",
              "196      3\n",
              "197      1\n",
              "198      3\n",
              "199      1\n",
              "\n",
              "[200 rows x 1 columns]"
            ],
            "text/html": [
              "\n",
              "  <div id=\"df-283bd509-a8e6-4bf4-8de6-85b3d58a465e\">\n",
              "    <div class=\"colab-df-container\">\n",
              "      <div>\n",
              "<style scoped>\n",
              "    .dataframe tbody tr th:only-of-type {\n",
              "        vertical-align: middle;\n",
              "    }\n",
              "\n",
              "    .dataframe tbody tr th {\n",
              "        vertical-align: top;\n",
              "    }\n",
              "\n",
              "    .dataframe thead th {\n",
              "        text-align: right;\n",
              "    }\n",
              "</style>\n",
              "<table border=\"1\" class=\"dataframe\">\n",
              "  <thead>\n",
              "    <tr style=\"text-align: right;\">\n",
              "      <th></th>\n",
              "      <th>Grupo</th>\n",
              "    </tr>\n",
              "  </thead>\n",
              "  <tbody>\n",
              "    <tr>\n",
              "      <th>0</th>\n",
              "      <td>2</td>\n",
              "    </tr>\n",
              "    <tr>\n",
              "      <th>1</th>\n",
              "      <td>0</td>\n",
              "    </tr>\n",
              "    <tr>\n",
              "      <th>2</th>\n",
              "      <td>2</td>\n",
              "    </tr>\n",
              "    <tr>\n",
              "      <th>3</th>\n",
              "      <td>0</td>\n",
              "    </tr>\n",
              "    <tr>\n",
              "      <th>4</th>\n",
              "      <td>2</td>\n",
              "    </tr>\n",
              "    <tr>\n",
              "      <th>...</th>\n",
              "      <td>...</td>\n",
              "    </tr>\n",
              "    <tr>\n",
              "      <th>195</th>\n",
              "      <td>1</td>\n",
              "    </tr>\n",
              "    <tr>\n",
              "      <th>196</th>\n",
              "      <td>3</td>\n",
              "    </tr>\n",
              "    <tr>\n",
              "      <th>197</th>\n",
              "      <td>1</td>\n",
              "    </tr>\n",
              "    <tr>\n",
              "      <th>198</th>\n",
              "      <td>3</td>\n",
              "    </tr>\n",
              "    <tr>\n",
              "      <th>199</th>\n",
              "      <td>1</td>\n",
              "    </tr>\n",
              "  </tbody>\n",
              "</table>\n",
              "<p>200 rows × 1 columns</p>\n",
              "</div>\n",
              "      <button class=\"colab-df-convert\" onclick=\"convertToInteractive('df-283bd509-a8e6-4bf4-8de6-85b3d58a465e')\"\n",
              "              title=\"Convert this dataframe to an interactive table.\"\n",
              "              style=\"display:none;\">\n",
              "        \n",
              "  <svg xmlns=\"http://www.w3.org/2000/svg\" height=\"24px\"viewBox=\"0 0 24 24\"\n",
              "       width=\"24px\">\n",
              "    <path d=\"M0 0h24v24H0V0z\" fill=\"none\"/>\n",
              "    <path d=\"M18.56 5.44l.94 2.06.94-2.06 2.06-.94-2.06-.94-.94-2.06-.94 2.06-2.06.94zm-11 1L8.5 8.5l.94-2.06 2.06-.94-2.06-.94L8.5 2.5l-.94 2.06-2.06.94zm10 10l.94 2.06.94-2.06 2.06-.94-2.06-.94-.94-2.06-.94 2.06-2.06.94z\"/><path d=\"M17.41 7.96l-1.37-1.37c-.4-.4-.92-.59-1.43-.59-.52 0-1.04.2-1.43.59L10.3 9.45l-7.72 7.72c-.78.78-.78 2.05 0 2.83L4 21.41c.39.39.9.59 1.41.59.51 0 1.02-.2 1.41-.59l7.78-7.78 2.81-2.81c.8-.78.8-2.07 0-2.86zM5.41 20L4 18.59l7.72-7.72 1.47 1.35L5.41 20z\"/>\n",
              "  </svg>\n",
              "      </button>\n",
              "      \n",
              "  <style>\n",
              "    .colab-df-container {\n",
              "      display:flex;\n",
              "      flex-wrap:wrap;\n",
              "      gap: 12px;\n",
              "    }\n",
              "\n",
              "    .colab-df-convert {\n",
              "      background-color: #E8F0FE;\n",
              "      border: none;\n",
              "      border-radius: 50%;\n",
              "      cursor: pointer;\n",
              "      display: none;\n",
              "      fill: #1967D2;\n",
              "      height: 32px;\n",
              "      padding: 0 0 0 0;\n",
              "      width: 32px;\n",
              "    }\n",
              "\n",
              "    .colab-df-convert:hover {\n",
              "      background-color: #E2EBFA;\n",
              "      box-shadow: 0px 1px 2px rgba(60, 64, 67, 0.3), 0px 1px 3px 1px rgba(60, 64, 67, 0.15);\n",
              "      fill: #174EA6;\n",
              "    }\n",
              "\n",
              "    [theme=dark] .colab-df-convert {\n",
              "      background-color: #3B4455;\n",
              "      fill: #D2E3FC;\n",
              "    }\n",
              "\n",
              "    [theme=dark] .colab-df-convert:hover {\n",
              "      background-color: #434B5C;\n",
              "      box-shadow: 0px 1px 3px 1px rgba(0, 0, 0, 0.15);\n",
              "      filter: drop-shadow(0px 1px 2px rgba(0, 0, 0, 0.3));\n",
              "      fill: #FFFFFF;\n",
              "    }\n",
              "  </style>\n",
              "\n",
              "      <script>\n",
              "        const buttonEl =\n",
              "          document.querySelector('#df-283bd509-a8e6-4bf4-8de6-85b3d58a465e button.colab-df-convert');\n",
              "        buttonEl.style.display =\n",
              "          google.colab.kernel.accessAllowed ? 'block' : 'none';\n",
              "\n",
              "        async function convertToInteractive(key) {\n",
              "          const element = document.querySelector('#df-283bd509-a8e6-4bf4-8de6-85b3d58a465e');\n",
              "          const dataTable =\n",
              "            await google.colab.kernel.invokeFunction('convertToInteractive',\n",
              "                                                     [key], {});\n",
              "          if (!dataTable) return;\n",
              "\n",
              "          const docLinkHtml = 'Like what you see? Visit the ' +\n",
              "            '<a target=\"_blank\" href=https://colab.research.google.com/notebooks/data_table.ipynb>data table notebook</a>'\n",
              "            + ' to learn more about interactive tables.';\n",
              "          element.innerHTML = '';\n",
              "          dataTable['output_type'] = 'display_data';\n",
              "          await google.colab.output.renderOutput(dataTable, element);\n",
              "          const docLink = document.createElement('div');\n",
              "          docLink.innerHTML = docLinkHtml;\n",
              "          element.appendChild(docLink);\n",
              "        }\n",
              "      </script>\n",
              "    </div>\n",
              "  </div>\n",
              "  "
            ]
          },
          "metadata": {},
          "execution_count": 43
        }
      ]
    },
    {
      "cell_type": "code",
      "source": [
        "# Juntando o atributo Grupo ao dataframe original. Será criado um novo dataframe para manter a integridade dos dados\n",
        "df3 = pd.concat([df,agrupamento],axis=1)\n",
        "df3"
      ],
      "metadata": {
        "id": "AUumtnSU-PIA",
        "colab": {
          "base_uri": "https://localhost:8080/",
          "height": 0
        },
        "outputId": "4015d54e-9725-4835-bc6c-ca0610acd5e9"
      },
      "execution_count": 44,
      "outputs": [
        {
          "output_type": "execute_result",
          "data": {
            "text/plain": [
              "     CustomerID  genero  idade  rendimento  pontuacao  Grupo\n",
              "0             1    Male     19          15         39      2\n",
              "1             2    Male     21          15         81      0\n",
              "2             3  Female     20          16          6      2\n",
              "3             4  Female     23          16         77      0\n",
              "4             5  Female     31          17         40      2\n",
              "..          ...     ...    ...         ...        ...    ...\n",
              "195         196  Female     35         120         79      1\n",
              "196         197  Female     45         126         28      3\n",
              "197         198    Male     32         126         74      1\n",
              "198         199    Male     32         137         18      3\n",
              "199         200    Male     30         137         83      1\n",
              "\n",
              "[200 rows x 6 columns]"
            ],
            "text/html": [
              "\n",
              "  <div id=\"df-8fc6815f-7e10-473b-8ac7-4ff20f7fe058\">\n",
              "    <div class=\"colab-df-container\">\n",
              "      <div>\n",
              "<style scoped>\n",
              "    .dataframe tbody tr th:only-of-type {\n",
              "        vertical-align: middle;\n",
              "    }\n",
              "\n",
              "    .dataframe tbody tr th {\n",
              "        vertical-align: top;\n",
              "    }\n",
              "\n",
              "    .dataframe thead th {\n",
              "        text-align: right;\n",
              "    }\n",
              "</style>\n",
              "<table border=\"1\" class=\"dataframe\">\n",
              "  <thead>\n",
              "    <tr style=\"text-align: right;\">\n",
              "      <th></th>\n",
              "      <th>CustomerID</th>\n",
              "      <th>genero</th>\n",
              "      <th>idade</th>\n",
              "      <th>rendimento</th>\n",
              "      <th>pontuacao</th>\n",
              "      <th>Grupo</th>\n",
              "    </tr>\n",
              "  </thead>\n",
              "  <tbody>\n",
              "    <tr>\n",
              "      <th>0</th>\n",
              "      <td>1</td>\n",
              "      <td>Male</td>\n",
              "      <td>19</td>\n",
              "      <td>15</td>\n",
              "      <td>39</td>\n",
              "      <td>2</td>\n",
              "    </tr>\n",
              "    <tr>\n",
              "      <th>1</th>\n",
              "      <td>2</td>\n",
              "      <td>Male</td>\n",
              "      <td>21</td>\n",
              "      <td>15</td>\n",
              "      <td>81</td>\n",
              "      <td>0</td>\n",
              "    </tr>\n",
              "    <tr>\n",
              "      <th>2</th>\n",
              "      <td>3</td>\n",
              "      <td>Female</td>\n",
              "      <td>20</td>\n",
              "      <td>16</td>\n",
              "      <td>6</td>\n",
              "      <td>2</td>\n",
              "    </tr>\n",
              "    <tr>\n",
              "      <th>3</th>\n",
              "      <td>4</td>\n",
              "      <td>Female</td>\n",
              "      <td>23</td>\n",
              "      <td>16</td>\n",
              "      <td>77</td>\n",
              "      <td>0</td>\n",
              "    </tr>\n",
              "    <tr>\n",
              "      <th>4</th>\n",
              "      <td>5</td>\n",
              "      <td>Female</td>\n",
              "      <td>31</td>\n",
              "      <td>17</td>\n",
              "      <td>40</td>\n",
              "      <td>2</td>\n",
              "    </tr>\n",
              "    <tr>\n",
              "      <th>...</th>\n",
              "      <td>...</td>\n",
              "      <td>...</td>\n",
              "      <td>...</td>\n",
              "      <td>...</td>\n",
              "      <td>...</td>\n",
              "      <td>...</td>\n",
              "    </tr>\n",
              "    <tr>\n",
              "      <th>195</th>\n",
              "      <td>196</td>\n",
              "      <td>Female</td>\n",
              "      <td>35</td>\n",
              "      <td>120</td>\n",
              "      <td>79</td>\n",
              "      <td>1</td>\n",
              "    </tr>\n",
              "    <tr>\n",
              "      <th>196</th>\n",
              "      <td>197</td>\n",
              "      <td>Female</td>\n",
              "      <td>45</td>\n",
              "      <td>126</td>\n",
              "      <td>28</td>\n",
              "      <td>3</td>\n",
              "    </tr>\n",
              "    <tr>\n",
              "      <th>197</th>\n",
              "      <td>198</td>\n",
              "      <td>Male</td>\n",
              "      <td>32</td>\n",
              "      <td>126</td>\n",
              "      <td>74</td>\n",
              "      <td>1</td>\n",
              "    </tr>\n",
              "    <tr>\n",
              "      <th>198</th>\n",
              "      <td>199</td>\n",
              "      <td>Male</td>\n",
              "      <td>32</td>\n",
              "      <td>137</td>\n",
              "      <td>18</td>\n",
              "      <td>3</td>\n",
              "    </tr>\n",
              "    <tr>\n",
              "      <th>199</th>\n",
              "      <td>200</td>\n",
              "      <td>Male</td>\n",
              "      <td>30</td>\n",
              "      <td>137</td>\n",
              "      <td>83</td>\n",
              "      <td>1</td>\n",
              "    </tr>\n",
              "  </tbody>\n",
              "</table>\n",
              "<p>200 rows × 6 columns</p>\n",
              "</div>\n",
              "      <button class=\"colab-df-convert\" onclick=\"convertToInteractive('df-8fc6815f-7e10-473b-8ac7-4ff20f7fe058')\"\n",
              "              title=\"Convert this dataframe to an interactive table.\"\n",
              "              style=\"display:none;\">\n",
              "        \n",
              "  <svg xmlns=\"http://www.w3.org/2000/svg\" height=\"24px\"viewBox=\"0 0 24 24\"\n",
              "       width=\"24px\">\n",
              "    <path d=\"M0 0h24v24H0V0z\" fill=\"none\"/>\n",
              "    <path d=\"M18.56 5.44l.94 2.06.94-2.06 2.06-.94-2.06-.94-.94-2.06-.94 2.06-2.06.94zm-11 1L8.5 8.5l.94-2.06 2.06-.94-2.06-.94L8.5 2.5l-.94 2.06-2.06.94zm10 10l.94 2.06.94-2.06 2.06-.94-2.06-.94-.94-2.06-.94 2.06-2.06.94z\"/><path d=\"M17.41 7.96l-1.37-1.37c-.4-.4-.92-.59-1.43-.59-.52 0-1.04.2-1.43.59L10.3 9.45l-7.72 7.72c-.78.78-.78 2.05 0 2.83L4 21.41c.39.39.9.59 1.41.59.51 0 1.02-.2 1.41-.59l7.78-7.78 2.81-2.81c.8-.78.8-2.07 0-2.86zM5.41 20L4 18.59l7.72-7.72 1.47 1.35L5.41 20z\"/>\n",
              "  </svg>\n",
              "      </button>\n",
              "      \n",
              "  <style>\n",
              "    .colab-df-container {\n",
              "      display:flex;\n",
              "      flex-wrap:wrap;\n",
              "      gap: 12px;\n",
              "    }\n",
              "\n",
              "    .colab-df-convert {\n",
              "      background-color: #E8F0FE;\n",
              "      border: none;\n",
              "      border-radius: 50%;\n",
              "      cursor: pointer;\n",
              "      display: none;\n",
              "      fill: #1967D2;\n",
              "      height: 32px;\n",
              "      padding: 0 0 0 0;\n",
              "      width: 32px;\n",
              "    }\n",
              "\n",
              "    .colab-df-convert:hover {\n",
              "      background-color: #E2EBFA;\n",
              "      box-shadow: 0px 1px 2px rgba(60, 64, 67, 0.3), 0px 1px 3px 1px rgba(60, 64, 67, 0.15);\n",
              "      fill: #174EA6;\n",
              "    }\n",
              "\n",
              "    [theme=dark] .colab-df-convert {\n",
              "      background-color: #3B4455;\n",
              "      fill: #D2E3FC;\n",
              "    }\n",
              "\n",
              "    [theme=dark] .colab-df-convert:hover {\n",
              "      background-color: #434B5C;\n",
              "      box-shadow: 0px 1px 3px 1px rgba(0, 0, 0, 0.15);\n",
              "      filter: drop-shadow(0px 1px 2px rgba(0, 0, 0, 0.3));\n",
              "      fill: #FFFFFF;\n",
              "    }\n",
              "  </style>\n",
              "\n",
              "      <script>\n",
              "        const buttonEl =\n",
              "          document.querySelector('#df-8fc6815f-7e10-473b-8ac7-4ff20f7fe058 button.colab-df-convert');\n",
              "        buttonEl.style.display =\n",
              "          google.colab.kernel.accessAllowed ? 'block' : 'none';\n",
              "\n",
              "        async function convertToInteractive(key) {\n",
              "          const element = document.querySelector('#df-8fc6815f-7e10-473b-8ac7-4ff20f7fe058');\n",
              "          const dataTable =\n",
              "            await google.colab.kernel.invokeFunction('convertToInteractive',\n",
              "                                                     [key], {});\n",
              "          if (!dataTable) return;\n",
              "\n",
              "          const docLinkHtml = 'Like what you see? Visit the ' +\n",
              "            '<a target=\"_blank\" href=https://colab.research.google.com/notebooks/data_table.ipynb>data table notebook</a>'\n",
              "            + ' to learn more about interactive tables.';\n",
              "          element.innerHTML = '';\n",
              "          dataTable['output_type'] = 'display_data';\n",
              "          await google.colab.output.renderOutput(dataTable, element);\n",
              "          const docLink = document.createElement('div');\n",
              "          docLink.innerHTML = docLinkHtml;\n",
              "          element.appendChild(docLink);\n",
              "        }\n",
              "      </script>\n",
              "    </div>\n",
              "  </div>\n",
              "  "
            ]
          },
          "metadata": {},
          "execution_count": 44
        }
      ]
    },
    {
      "cell_type": "markdown",
      "source": [
        "Visualizando os dados"
      ],
      "metadata": {
        "id": "cM3daP6r_OWo"
      }
    },
    {
      "cell_type": "code",
      "source": [
        "# Buscando os dados da linha 150\n",
        "df3.loc[150,:]"
      ],
      "metadata": {
        "id": "iDkQhDkz_Rjc",
        "colab": {
          "base_uri": "https://localhost:8080/"
        },
        "outputId": "73416e87-6f1e-42a5-ed5a-5db4e8cb3919"
      },
      "execution_count": 45,
      "outputs": [
        {
          "output_type": "execute_result",
          "data": {
            "text/plain": [
              "CustomerID     151\n",
              "genero        Male\n",
              "idade           43\n",
              "rendimento      78\n",
              "pontuacao       17\n",
              "Grupo            3\n",
              "Name: 150, dtype: object"
            ]
          },
          "metadata": {},
          "execution_count": 45
        }
      ]
    },
    {
      "cell_type": "code",
      "source": [
        "# Buscando os dados usando o CustomerID\n",
        "df3.loc[df3.CustomerID == 92]"
      ],
      "metadata": {
        "id": "i6FBitxl_xHP",
        "colab": {
          "base_uri": "https://localhost:8080/",
          "height": 0
        },
        "outputId": "2f186b13-8e0e-4ad5-bb95-b805c44ea850"
      },
      "execution_count": 46,
      "outputs": [
        {
          "output_type": "execute_result",
          "data": {
            "text/plain": [
              "    CustomerID genero  idade  rendimento  pontuacao  Grupo\n",
              "91          92   Male     18          59         41      0"
            ],
            "text/html": [
              "\n",
              "  <div id=\"df-252f7c93-d861-4f3b-9329-791c11dbaee7\">\n",
              "    <div class=\"colab-df-container\">\n",
              "      <div>\n",
              "<style scoped>\n",
              "    .dataframe tbody tr th:only-of-type {\n",
              "        vertical-align: middle;\n",
              "    }\n",
              "\n",
              "    .dataframe tbody tr th {\n",
              "        vertical-align: top;\n",
              "    }\n",
              "\n",
              "    .dataframe thead th {\n",
              "        text-align: right;\n",
              "    }\n",
              "</style>\n",
              "<table border=\"1\" class=\"dataframe\">\n",
              "  <thead>\n",
              "    <tr style=\"text-align: right;\">\n",
              "      <th></th>\n",
              "      <th>CustomerID</th>\n",
              "      <th>genero</th>\n",
              "      <th>idade</th>\n",
              "      <th>rendimento</th>\n",
              "      <th>pontuacao</th>\n",
              "      <th>Grupo</th>\n",
              "    </tr>\n",
              "  </thead>\n",
              "  <tbody>\n",
              "    <tr>\n",
              "      <th>91</th>\n",
              "      <td>92</td>\n",
              "      <td>Male</td>\n",
              "      <td>18</td>\n",
              "      <td>59</td>\n",
              "      <td>41</td>\n",
              "      <td>0</td>\n",
              "    </tr>\n",
              "  </tbody>\n",
              "</table>\n",
              "</div>\n",
              "      <button class=\"colab-df-convert\" onclick=\"convertToInteractive('df-252f7c93-d861-4f3b-9329-791c11dbaee7')\"\n",
              "              title=\"Convert this dataframe to an interactive table.\"\n",
              "              style=\"display:none;\">\n",
              "        \n",
              "  <svg xmlns=\"http://www.w3.org/2000/svg\" height=\"24px\"viewBox=\"0 0 24 24\"\n",
              "       width=\"24px\">\n",
              "    <path d=\"M0 0h24v24H0V0z\" fill=\"none\"/>\n",
              "    <path d=\"M18.56 5.44l.94 2.06.94-2.06 2.06-.94-2.06-.94-.94-2.06-.94 2.06-2.06.94zm-11 1L8.5 8.5l.94-2.06 2.06-.94-2.06-.94L8.5 2.5l-.94 2.06-2.06.94zm10 10l.94 2.06.94-2.06 2.06-.94-2.06-.94-.94-2.06-.94 2.06-2.06.94z\"/><path d=\"M17.41 7.96l-1.37-1.37c-.4-.4-.92-.59-1.43-.59-.52 0-1.04.2-1.43.59L10.3 9.45l-7.72 7.72c-.78.78-.78 2.05 0 2.83L4 21.41c.39.39.9.59 1.41.59.51 0 1.02-.2 1.41-.59l7.78-7.78 2.81-2.81c.8-.78.8-2.07 0-2.86zM5.41 20L4 18.59l7.72-7.72 1.47 1.35L5.41 20z\"/>\n",
              "  </svg>\n",
              "      </button>\n",
              "      \n",
              "  <style>\n",
              "    .colab-df-container {\n",
              "      display:flex;\n",
              "      flex-wrap:wrap;\n",
              "      gap: 12px;\n",
              "    }\n",
              "\n",
              "    .colab-df-convert {\n",
              "      background-color: #E8F0FE;\n",
              "      border: none;\n",
              "      border-radius: 50%;\n",
              "      cursor: pointer;\n",
              "      display: none;\n",
              "      fill: #1967D2;\n",
              "      height: 32px;\n",
              "      padding: 0 0 0 0;\n",
              "      width: 32px;\n",
              "    }\n",
              "\n",
              "    .colab-df-convert:hover {\n",
              "      background-color: #E2EBFA;\n",
              "      box-shadow: 0px 1px 2px rgba(60, 64, 67, 0.3), 0px 1px 3px 1px rgba(60, 64, 67, 0.15);\n",
              "      fill: #174EA6;\n",
              "    }\n",
              "\n",
              "    [theme=dark] .colab-df-convert {\n",
              "      background-color: #3B4455;\n",
              "      fill: #D2E3FC;\n",
              "    }\n",
              "\n",
              "    [theme=dark] .colab-df-convert:hover {\n",
              "      background-color: #434B5C;\n",
              "      box-shadow: 0px 1px 3px 1px rgba(0, 0, 0, 0.15);\n",
              "      filter: drop-shadow(0px 1px 2px rgba(0, 0, 0, 0.3));\n",
              "      fill: #FFFFFF;\n",
              "    }\n",
              "  </style>\n",
              "\n",
              "      <script>\n",
              "        const buttonEl =\n",
              "          document.querySelector('#df-252f7c93-d861-4f3b-9329-791c11dbaee7 button.colab-df-convert');\n",
              "        buttonEl.style.display =\n",
              "          google.colab.kernel.accessAllowed ? 'block' : 'none';\n",
              "\n",
              "        async function convertToInteractive(key) {\n",
              "          const element = document.querySelector('#df-252f7c93-d861-4f3b-9329-791c11dbaee7');\n",
              "          const dataTable =\n",
              "            await google.colab.kernel.invokeFunction('convertToInteractive',\n",
              "                                                     [key], {});\n",
              "          if (!dataTable) return;\n",
              "\n",
              "          const docLinkHtml = 'Like what you see? Visit the ' +\n",
              "            '<a target=\"_blank\" href=https://colab.research.google.com/notebooks/data_table.ipynb>data table notebook</a>'\n",
              "            + ' to learn more about interactive tables.';\n",
              "          element.innerHTML = '';\n",
              "          dataTable['output_type'] = 'display_data';\n",
              "          await google.colab.output.renderOutput(dataTable, element);\n",
              "          const docLink = document.createElement('div');\n",
              "          docLink.innerHTML = docLinkHtml;\n",
              "          element.appendChild(docLink);\n",
              "        }\n",
              "      </script>\n",
              "    </div>\n",
              "  </div>\n",
              "  "
            ]
          },
          "metadata": {},
          "execution_count": 46
        }
      ]
    },
    {
      "cell_type": "code",
      "source": [
        "# Criando um dataframe apenas com o grupo 0\n",
        "grupo0 = df3.loc[df3.Grupo==0]\n",
        "grupo0 "
      ],
      "metadata": {
        "id": "FK4AbU-pAEiM",
        "colab": {
          "base_uri": "https://localhost:8080/",
          "height": 0
        },
        "outputId": "cade2b32-b3b8-405e-b815-4a4daae1342f"
      },
      "execution_count": 47,
      "outputs": [
        {
          "output_type": "execute_result",
          "data": {
            "text/plain": [
              "     CustomerID  genero  idade  rendimento  pontuacao  Grupo\n",
              "1             2    Male     21          15         81      0\n",
              "3             4  Female     23          16         77      0\n",
              "5             6  Female     22          17         76      0\n",
              "7             8  Female     23          18         94      0\n",
              "9            10  Female     30          19         72      0\n",
              "..          ...     ...    ...         ...        ...    ...\n",
              "118         119  Female     51          67         43      0\n",
              "119         120  Female     50          67         57      0\n",
              "120         121    Male     27          67         56      0\n",
              "121         122  Female     38          67         40      0\n",
              "122         123  Female     40          69         58      0\n",
              "\n",
              "[100 rows x 6 columns]"
            ],
            "text/html": [
              "\n",
              "  <div id=\"df-4783f551-b25f-427c-b384-d4a5914775fb\">\n",
              "    <div class=\"colab-df-container\">\n",
              "      <div>\n",
              "<style scoped>\n",
              "    .dataframe tbody tr th:only-of-type {\n",
              "        vertical-align: middle;\n",
              "    }\n",
              "\n",
              "    .dataframe tbody tr th {\n",
              "        vertical-align: top;\n",
              "    }\n",
              "\n",
              "    .dataframe thead th {\n",
              "        text-align: right;\n",
              "    }\n",
              "</style>\n",
              "<table border=\"1\" class=\"dataframe\">\n",
              "  <thead>\n",
              "    <tr style=\"text-align: right;\">\n",
              "      <th></th>\n",
              "      <th>CustomerID</th>\n",
              "      <th>genero</th>\n",
              "      <th>idade</th>\n",
              "      <th>rendimento</th>\n",
              "      <th>pontuacao</th>\n",
              "      <th>Grupo</th>\n",
              "    </tr>\n",
              "  </thead>\n",
              "  <tbody>\n",
              "    <tr>\n",
              "      <th>1</th>\n",
              "      <td>2</td>\n",
              "      <td>Male</td>\n",
              "      <td>21</td>\n",
              "      <td>15</td>\n",
              "      <td>81</td>\n",
              "      <td>0</td>\n",
              "    </tr>\n",
              "    <tr>\n",
              "      <th>3</th>\n",
              "      <td>4</td>\n",
              "      <td>Female</td>\n",
              "      <td>23</td>\n",
              "      <td>16</td>\n",
              "      <td>77</td>\n",
              "      <td>0</td>\n",
              "    </tr>\n",
              "    <tr>\n",
              "      <th>5</th>\n",
              "      <td>6</td>\n",
              "      <td>Female</td>\n",
              "      <td>22</td>\n",
              "      <td>17</td>\n",
              "      <td>76</td>\n",
              "      <td>0</td>\n",
              "    </tr>\n",
              "    <tr>\n",
              "      <th>7</th>\n",
              "      <td>8</td>\n",
              "      <td>Female</td>\n",
              "      <td>23</td>\n",
              "      <td>18</td>\n",
              "      <td>94</td>\n",
              "      <td>0</td>\n",
              "    </tr>\n",
              "    <tr>\n",
              "      <th>9</th>\n",
              "      <td>10</td>\n",
              "      <td>Female</td>\n",
              "      <td>30</td>\n",
              "      <td>19</td>\n",
              "      <td>72</td>\n",
              "      <td>0</td>\n",
              "    </tr>\n",
              "    <tr>\n",
              "      <th>...</th>\n",
              "      <td>...</td>\n",
              "      <td>...</td>\n",
              "      <td>...</td>\n",
              "      <td>...</td>\n",
              "      <td>...</td>\n",
              "      <td>...</td>\n",
              "    </tr>\n",
              "    <tr>\n",
              "      <th>118</th>\n",
              "      <td>119</td>\n",
              "      <td>Female</td>\n",
              "      <td>51</td>\n",
              "      <td>67</td>\n",
              "      <td>43</td>\n",
              "      <td>0</td>\n",
              "    </tr>\n",
              "    <tr>\n",
              "      <th>119</th>\n",
              "      <td>120</td>\n",
              "      <td>Female</td>\n",
              "      <td>50</td>\n",
              "      <td>67</td>\n",
              "      <td>57</td>\n",
              "      <td>0</td>\n",
              "    </tr>\n",
              "    <tr>\n",
              "      <th>120</th>\n",
              "      <td>121</td>\n",
              "      <td>Male</td>\n",
              "      <td>27</td>\n",
              "      <td>67</td>\n",
              "      <td>56</td>\n",
              "      <td>0</td>\n",
              "    </tr>\n",
              "    <tr>\n",
              "      <th>121</th>\n",
              "      <td>122</td>\n",
              "      <td>Female</td>\n",
              "      <td>38</td>\n",
              "      <td>67</td>\n",
              "      <td>40</td>\n",
              "      <td>0</td>\n",
              "    </tr>\n",
              "    <tr>\n",
              "      <th>122</th>\n",
              "      <td>123</td>\n",
              "      <td>Female</td>\n",
              "      <td>40</td>\n",
              "      <td>69</td>\n",
              "      <td>58</td>\n",
              "      <td>0</td>\n",
              "    </tr>\n",
              "  </tbody>\n",
              "</table>\n",
              "<p>100 rows × 6 columns</p>\n",
              "</div>\n",
              "      <button class=\"colab-df-convert\" onclick=\"convertToInteractive('df-4783f551-b25f-427c-b384-d4a5914775fb')\"\n",
              "              title=\"Convert this dataframe to an interactive table.\"\n",
              "              style=\"display:none;\">\n",
              "        \n",
              "  <svg xmlns=\"http://www.w3.org/2000/svg\" height=\"24px\"viewBox=\"0 0 24 24\"\n",
              "       width=\"24px\">\n",
              "    <path d=\"M0 0h24v24H0V0z\" fill=\"none\"/>\n",
              "    <path d=\"M18.56 5.44l.94 2.06.94-2.06 2.06-.94-2.06-.94-.94-2.06-.94 2.06-2.06.94zm-11 1L8.5 8.5l.94-2.06 2.06-.94-2.06-.94L8.5 2.5l-.94 2.06-2.06.94zm10 10l.94 2.06.94-2.06 2.06-.94-2.06-.94-.94-2.06-.94 2.06-2.06.94z\"/><path d=\"M17.41 7.96l-1.37-1.37c-.4-.4-.92-.59-1.43-.59-.52 0-1.04.2-1.43.59L10.3 9.45l-7.72 7.72c-.78.78-.78 2.05 0 2.83L4 21.41c.39.39.9.59 1.41.59.51 0 1.02-.2 1.41-.59l7.78-7.78 2.81-2.81c.8-.78.8-2.07 0-2.86zM5.41 20L4 18.59l7.72-7.72 1.47 1.35L5.41 20z\"/>\n",
              "  </svg>\n",
              "      </button>\n",
              "      \n",
              "  <style>\n",
              "    .colab-df-container {\n",
              "      display:flex;\n",
              "      flex-wrap:wrap;\n",
              "      gap: 12px;\n",
              "    }\n",
              "\n",
              "    .colab-df-convert {\n",
              "      background-color: #E8F0FE;\n",
              "      border: none;\n",
              "      border-radius: 50%;\n",
              "      cursor: pointer;\n",
              "      display: none;\n",
              "      fill: #1967D2;\n",
              "      height: 32px;\n",
              "      padding: 0 0 0 0;\n",
              "      width: 32px;\n",
              "    }\n",
              "\n",
              "    .colab-df-convert:hover {\n",
              "      background-color: #E2EBFA;\n",
              "      box-shadow: 0px 1px 2px rgba(60, 64, 67, 0.3), 0px 1px 3px 1px rgba(60, 64, 67, 0.15);\n",
              "      fill: #174EA6;\n",
              "    }\n",
              "\n",
              "    [theme=dark] .colab-df-convert {\n",
              "      background-color: #3B4455;\n",
              "      fill: #D2E3FC;\n",
              "    }\n",
              "\n",
              "    [theme=dark] .colab-df-convert:hover {\n",
              "      background-color: #434B5C;\n",
              "      box-shadow: 0px 1px 3px 1px rgba(0, 0, 0, 0.15);\n",
              "      filter: drop-shadow(0px 1px 2px rgba(0, 0, 0, 0.3));\n",
              "      fill: #FFFFFF;\n",
              "    }\n",
              "  </style>\n",
              "\n",
              "      <script>\n",
              "        const buttonEl =\n",
              "          document.querySelector('#df-4783f551-b25f-427c-b384-d4a5914775fb button.colab-df-convert');\n",
              "        buttonEl.style.display =\n",
              "          google.colab.kernel.accessAllowed ? 'block' : 'none';\n",
              "\n",
              "        async function convertToInteractive(key) {\n",
              "          const element = document.querySelector('#df-4783f551-b25f-427c-b384-d4a5914775fb');\n",
              "          const dataTable =\n",
              "            await google.colab.kernel.invokeFunction('convertToInteractive',\n",
              "                                                     [key], {});\n",
              "          if (!dataTable) return;\n",
              "\n",
              "          const docLinkHtml = 'Like what you see? Visit the ' +\n",
              "            '<a target=\"_blank\" href=https://colab.research.google.com/notebooks/data_table.ipynb>data table notebook</a>'\n",
              "            + ' to learn more about interactive tables.';\n",
              "          element.innerHTML = '';\n",
              "          dataTable['output_type'] = 'display_data';\n",
              "          await google.colab.output.renderOutput(dataTable, element);\n",
              "          const docLink = document.createElement('div');\n",
              "          docLink.innerHTML = docLinkHtml;\n",
              "          element.appendChild(docLink);\n",
              "        }\n",
              "      </script>\n",
              "    </div>\n",
              "  </div>\n",
              "  "
            ]
          },
          "metadata": {},
          "execution_count": 47
        }
      ]
    },
    {
      "cell_type": "code",
      "source": [
        "# Visualizando a quantidade de linhas e colunas\n",
        "grupo0.shape"
      ],
      "metadata": {
        "id": "x_RH6ZZZAmRr",
        "colab": {
          "base_uri": "https://localhost:8080/"
        },
        "outputId": "a3cb57f1-3767-483b-d618-32a8212a80be"
      },
      "execution_count": 48,
      "outputs": [
        {
          "output_type": "execute_result",
          "data": {
            "text/plain": [
              "(100, 6)"
            ]
          },
          "metadata": {},
          "execution_count": 48
        }
      ]
    },
    {
      "cell_type": "code",
      "source": [
        "# Criando um dataframe apenas com o grupo 1\n",
        "grupo1 = df3.loc[df3.Grupo==1]\n",
        "grupo1 "
      ],
      "metadata": {
        "id": "PsllWbKwAxFX",
        "colab": {
          "base_uri": "https://localhost:8080/",
          "height": 0
        },
        "outputId": "6e8ce9ff-727e-4574-95ab-f75c42c40428"
      },
      "execution_count": 49,
      "outputs": [
        {
          "output_type": "execute_result",
          "data": {
            "text/plain": [
              "     CustomerID  genero  idade  rendimento  pontuacao  Grupo\n",
              "123         124    Male     39          69         91      1\n",
              "125         126  Female     31          70         77      1\n",
              "127         128    Male     40          71         95      1\n",
              "129         130    Male     38          71         75      1\n",
              "131         132    Male     39          71         75      1\n",
              "133         134  Female     31          72         71      1\n",
              "135         136  Female     29          73         88      1\n",
              "137         138    Male     32          73         73      1\n",
              "139         140  Female     35          74         72      1\n",
              "141         142    Male     32          75         93      1\n",
              "143         144  Female     32          76         87      1\n",
              "145         146    Male     28          77         97      1\n",
              "147         148  Female     32          77         74      1\n",
              "149         150    Male     34          78         90      1\n",
              "151         152    Male     39          78         88      1\n",
              "153         154  Female     38          78         76      1\n",
              "155         156  Female     27          78         89      1\n",
              "157         158  Female     30          78         78      1\n",
              "159         160  Female     30          78         73      1\n",
              "161         162  Female     29          79         83      1\n",
              "163         164  Female     31          81         93      1\n",
              "165         166  Female     36          85         75      1\n",
              "167         168  Female     33          86         95      1\n",
              "169         170    Male     32          87         63      1\n",
              "171         172    Male     28          87         75      1\n",
              "173         174    Male     36          87         92      1\n",
              "175         176  Female     30          88         86      1\n",
              "177         178    Male     27          88         69      1\n",
              "179         180    Male     35          93         90      1\n",
              "181         182  Female     32          97         86      1\n",
              "183         184  Female     29          98         88      1\n",
              "185         186    Male     30          99         97      1\n",
              "187         188    Male     28         101         68      1\n",
              "189         190  Female     36         103         85      1\n",
              "191         192  Female     32         103         69      1\n",
              "193         194  Female     38         113         91      1\n",
              "195         196  Female     35         120         79      1\n",
              "197         198    Male     32         126         74      1\n",
              "199         200    Male     30         137         83      1"
            ],
            "text/html": [
              "\n",
              "  <div id=\"df-2e4747a2-5415-4db9-b775-a63193bf554f\">\n",
              "    <div class=\"colab-df-container\">\n",
              "      <div>\n",
              "<style scoped>\n",
              "    .dataframe tbody tr th:only-of-type {\n",
              "        vertical-align: middle;\n",
              "    }\n",
              "\n",
              "    .dataframe tbody tr th {\n",
              "        vertical-align: top;\n",
              "    }\n",
              "\n",
              "    .dataframe thead th {\n",
              "        text-align: right;\n",
              "    }\n",
              "</style>\n",
              "<table border=\"1\" class=\"dataframe\">\n",
              "  <thead>\n",
              "    <tr style=\"text-align: right;\">\n",
              "      <th></th>\n",
              "      <th>CustomerID</th>\n",
              "      <th>genero</th>\n",
              "      <th>idade</th>\n",
              "      <th>rendimento</th>\n",
              "      <th>pontuacao</th>\n",
              "      <th>Grupo</th>\n",
              "    </tr>\n",
              "  </thead>\n",
              "  <tbody>\n",
              "    <tr>\n",
              "      <th>123</th>\n",
              "      <td>124</td>\n",
              "      <td>Male</td>\n",
              "      <td>39</td>\n",
              "      <td>69</td>\n",
              "      <td>91</td>\n",
              "      <td>1</td>\n",
              "    </tr>\n",
              "    <tr>\n",
              "      <th>125</th>\n",
              "      <td>126</td>\n",
              "      <td>Female</td>\n",
              "      <td>31</td>\n",
              "      <td>70</td>\n",
              "      <td>77</td>\n",
              "      <td>1</td>\n",
              "    </tr>\n",
              "    <tr>\n",
              "      <th>127</th>\n",
              "      <td>128</td>\n",
              "      <td>Male</td>\n",
              "      <td>40</td>\n",
              "      <td>71</td>\n",
              "      <td>95</td>\n",
              "      <td>1</td>\n",
              "    </tr>\n",
              "    <tr>\n",
              "      <th>129</th>\n",
              "      <td>130</td>\n",
              "      <td>Male</td>\n",
              "      <td>38</td>\n",
              "      <td>71</td>\n",
              "      <td>75</td>\n",
              "      <td>1</td>\n",
              "    </tr>\n",
              "    <tr>\n",
              "      <th>131</th>\n",
              "      <td>132</td>\n",
              "      <td>Male</td>\n",
              "      <td>39</td>\n",
              "      <td>71</td>\n",
              "      <td>75</td>\n",
              "      <td>1</td>\n",
              "    </tr>\n",
              "    <tr>\n",
              "      <th>133</th>\n",
              "      <td>134</td>\n",
              "      <td>Female</td>\n",
              "      <td>31</td>\n",
              "      <td>72</td>\n",
              "      <td>71</td>\n",
              "      <td>1</td>\n",
              "    </tr>\n",
              "    <tr>\n",
              "      <th>135</th>\n",
              "      <td>136</td>\n",
              "      <td>Female</td>\n",
              "      <td>29</td>\n",
              "      <td>73</td>\n",
              "      <td>88</td>\n",
              "      <td>1</td>\n",
              "    </tr>\n",
              "    <tr>\n",
              "      <th>137</th>\n",
              "      <td>138</td>\n",
              "      <td>Male</td>\n",
              "      <td>32</td>\n",
              "      <td>73</td>\n",
              "      <td>73</td>\n",
              "      <td>1</td>\n",
              "    </tr>\n",
              "    <tr>\n",
              "      <th>139</th>\n",
              "      <td>140</td>\n",
              "      <td>Female</td>\n",
              "      <td>35</td>\n",
              "      <td>74</td>\n",
              "      <td>72</td>\n",
              "      <td>1</td>\n",
              "    </tr>\n",
              "    <tr>\n",
              "      <th>141</th>\n",
              "      <td>142</td>\n",
              "      <td>Male</td>\n",
              "      <td>32</td>\n",
              "      <td>75</td>\n",
              "      <td>93</td>\n",
              "      <td>1</td>\n",
              "    </tr>\n",
              "    <tr>\n",
              "      <th>143</th>\n",
              "      <td>144</td>\n",
              "      <td>Female</td>\n",
              "      <td>32</td>\n",
              "      <td>76</td>\n",
              "      <td>87</td>\n",
              "      <td>1</td>\n",
              "    </tr>\n",
              "    <tr>\n",
              "      <th>145</th>\n",
              "      <td>146</td>\n",
              "      <td>Male</td>\n",
              "      <td>28</td>\n",
              "      <td>77</td>\n",
              "      <td>97</td>\n",
              "      <td>1</td>\n",
              "    </tr>\n",
              "    <tr>\n",
              "      <th>147</th>\n",
              "      <td>148</td>\n",
              "      <td>Female</td>\n",
              "      <td>32</td>\n",
              "      <td>77</td>\n",
              "      <td>74</td>\n",
              "      <td>1</td>\n",
              "    </tr>\n",
              "    <tr>\n",
              "      <th>149</th>\n",
              "      <td>150</td>\n",
              "      <td>Male</td>\n",
              "      <td>34</td>\n",
              "      <td>78</td>\n",
              "      <td>90</td>\n",
              "      <td>1</td>\n",
              "    </tr>\n",
              "    <tr>\n",
              "      <th>151</th>\n",
              "      <td>152</td>\n",
              "      <td>Male</td>\n",
              "      <td>39</td>\n",
              "      <td>78</td>\n",
              "      <td>88</td>\n",
              "      <td>1</td>\n",
              "    </tr>\n",
              "    <tr>\n",
              "      <th>153</th>\n",
              "      <td>154</td>\n",
              "      <td>Female</td>\n",
              "      <td>38</td>\n",
              "      <td>78</td>\n",
              "      <td>76</td>\n",
              "      <td>1</td>\n",
              "    </tr>\n",
              "    <tr>\n",
              "      <th>155</th>\n",
              "      <td>156</td>\n",
              "      <td>Female</td>\n",
              "      <td>27</td>\n",
              "      <td>78</td>\n",
              "      <td>89</td>\n",
              "      <td>1</td>\n",
              "    </tr>\n",
              "    <tr>\n",
              "      <th>157</th>\n",
              "      <td>158</td>\n",
              "      <td>Female</td>\n",
              "      <td>30</td>\n",
              "      <td>78</td>\n",
              "      <td>78</td>\n",
              "      <td>1</td>\n",
              "    </tr>\n",
              "    <tr>\n",
              "      <th>159</th>\n",
              "      <td>160</td>\n",
              "      <td>Female</td>\n",
              "      <td>30</td>\n",
              "      <td>78</td>\n",
              "      <td>73</td>\n",
              "      <td>1</td>\n",
              "    </tr>\n",
              "    <tr>\n",
              "      <th>161</th>\n",
              "      <td>162</td>\n",
              "      <td>Female</td>\n",
              "      <td>29</td>\n",
              "      <td>79</td>\n",
              "      <td>83</td>\n",
              "      <td>1</td>\n",
              "    </tr>\n",
              "    <tr>\n",
              "      <th>163</th>\n",
              "      <td>164</td>\n",
              "      <td>Female</td>\n",
              "      <td>31</td>\n",
              "      <td>81</td>\n",
              "      <td>93</td>\n",
              "      <td>1</td>\n",
              "    </tr>\n",
              "    <tr>\n",
              "      <th>165</th>\n",
              "      <td>166</td>\n",
              "      <td>Female</td>\n",
              "      <td>36</td>\n",
              "      <td>85</td>\n",
              "      <td>75</td>\n",
              "      <td>1</td>\n",
              "    </tr>\n",
              "    <tr>\n",
              "      <th>167</th>\n",
              "      <td>168</td>\n",
              "      <td>Female</td>\n",
              "      <td>33</td>\n",
              "      <td>86</td>\n",
              "      <td>95</td>\n",
              "      <td>1</td>\n",
              "    </tr>\n",
              "    <tr>\n",
              "      <th>169</th>\n",
              "      <td>170</td>\n",
              "      <td>Male</td>\n",
              "      <td>32</td>\n",
              "      <td>87</td>\n",
              "      <td>63</td>\n",
              "      <td>1</td>\n",
              "    </tr>\n",
              "    <tr>\n",
              "      <th>171</th>\n",
              "      <td>172</td>\n",
              "      <td>Male</td>\n",
              "      <td>28</td>\n",
              "      <td>87</td>\n",
              "      <td>75</td>\n",
              "      <td>1</td>\n",
              "    </tr>\n",
              "    <tr>\n",
              "      <th>173</th>\n",
              "      <td>174</td>\n",
              "      <td>Male</td>\n",
              "      <td>36</td>\n",
              "      <td>87</td>\n",
              "      <td>92</td>\n",
              "      <td>1</td>\n",
              "    </tr>\n",
              "    <tr>\n",
              "      <th>175</th>\n",
              "      <td>176</td>\n",
              "      <td>Female</td>\n",
              "      <td>30</td>\n",
              "      <td>88</td>\n",
              "      <td>86</td>\n",
              "      <td>1</td>\n",
              "    </tr>\n",
              "    <tr>\n",
              "      <th>177</th>\n",
              "      <td>178</td>\n",
              "      <td>Male</td>\n",
              "      <td>27</td>\n",
              "      <td>88</td>\n",
              "      <td>69</td>\n",
              "      <td>1</td>\n",
              "    </tr>\n",
              "    <tr>\n",
              "      <th>179</th>\n",
              "      <td>180</td>\n",
              "      <td>Male</td>\n",
              "      <td>35</td>\n",
              "      <td>93</td>\n",
              "      <td>90</td>\n",
              "      <td>1</td>\n",
              "    </tr>\n",
              "    <tr>\n",
              "      <th>181</th>\n",
              "      <td>182</td>\n",
              "      <td>Female</td>\n",
              "      <td>32</td>\n",
              "      <td>97</td>\n",
              "      <td>86</td>\n",
              "      <td>1</td>\n",
              "    </tr>\n",
              "    <tr>\n",
              "      <th>183</th>\n",
              "      <td>184</td>\n",
              "      <td>Female</td>\n",
              "      <td>29</td>\n",
              "      <td>98</td>\n",
              "      <td>88</td>\n",
              "      <td>1</td>\n",
              "    </tr>\n",
              "    <tr>\n",
              "      <th>185</th>\n",
              "      <td>186</td>\n",
              "      <td>Male</td>\n",
              "      <td>30</td>\n",
              "      <td>99</td>\n",
              "      <td>97</td>\n",
              "      <td>1</td>\n",
              "    </tr>\n",
              "    <tr>\n",
              "      <th>187</th>\n",
              "      <td>188</td>\n",
              "      <td>Male</td>\n",
              "      <td>28</td>\n",
              "      <td>101</td>\n",
              "      <td>68</td>\n",
              "      <td>1</td>\n",
              "    </tr>\n",
              "    <tr>\n",
              "      <th>189</th>\n",
              "      <td>190</td>\n",
              "      <td>Female</td>\n",
              "      <td>36</td>\n",
              "      <td>103</td>\n",
              "      <td>85</td>\n",
              "      <td>1</td>\n",
              "    </tr>\n",
              "    <tr>\n",
              "      <th>191</th>\n",
              "      <td>192</td>\n",
              "      <td>Female</td>\n",
              "      <td>32</td>\n",
              "      <td>103</td>\n",
              "      <td>69</td>\n",
              "      <td>1</td>\n",
              "    </tr>\n",
              "    <tr>\n",
              "      <th>193</th>\n",
              "      <td>194</td>\n",
              "      <td>Female</td>\n",
              "      <td>38</td>\n",
              "      <td>113</td>\n",
              "      <td>91</td>\n",
              "      <td>1</td>\n",
              "    </tr>\n",
              "    <tr>\n",
              "      <th>195</th>\n",
              "      <td>196</td>\n",
              "      <td>Female</td>\n",
              "      <td>35</td>\n",
              "      <td>120</td>\n",
              "      <td>79</td>\n",
              "      <td>1</td>\n",
              "    </tr>\n",
              "    <tr>\n",
              "      <th>197</th>\n",
              "      <td>198</td>\n",
              "      <td>Male</td>\n",
              "      <td>32</td>\n",
              "      <td>126</td>\n",
              "      <td>74</td>\n",
              "      <td>1</td>\n",
              "    </tr>\n",
              "    <tr>\n",
              "      <th>199</th>\n",
              "      <td>200</td>\n",
              "      <td>Male</td>\n",
              "      <td>30</td>\n",
              "      <td>137</td>\n",
              "      <td>83</td>\n",
              "      <td>1</td>\n",
              "    </tr>\n",
              "  </tbody>\n",
              "</table>\n",
              "</div>\n",
              "      <button class=\"colab-df-convert\" onclick=\"convertToInteractive('df-2e4747a2-5415-4db9-b775-a63193bf554f')\"\n",
              "              title=\"Convert this dataframe to an interactive table.\"\n",
              "              style=\"display:none;\">\n",
              "        \n",
              "  <svg xmlns=\"http://www.w3.org/2000/svg\" height=\"24px\"viewBox=\"0 0 24 24\"\n",
              "       width=\"24px\">\n",
              "    <path d=\"M0 0h24v24H0V0z\" fill=\"none\"/>\n",
              "    <path d=\"M18.56 5.44l.94 2.06.94-2.06 2.06-.94-2.06-.94-.94-2.06-.94 2.06-2.06.94zm-11 1L8.5 8.5l.94-2.06 2.06-.94-2.06-.94L8.5 2.5l-.94 2.06-2.06.94zm10 10l.94 2.06.94-2.06 2.06-.94-2.06-.94-.94-2.06-.94 2.06-2.06.94z\"/><path d=\"M17.41 7.96l-1.37-1.37c-.4-.4-.92-.59-1.43-.59-.52 0-1.04.2-1.43.59L10.3 9.45l-7.72 7.72c-.78.78-.78 2.05 0 2.83L4 21.41c.39.39.9.59 1.41.59.51 0 1.02-.2 1.41-.59l7.78-7.78 2.81-2.81c.8-.78.8-2.07 0-2.86zM5.41 20L4 18.59l7.72-7.72 1.47 1.35L5.41 20z\"/>\n",
              "  </svg>\n",
              "      </button>\n",
              "      \n",
              "  <style>\n",
              "    .colab-df-container {\n",
              "      display:flex;\n",
              "      flex-wrap:wrap;\n",
              "      gap: 12px;\n",
              "    }\n",
              "\n",
              "    .colab-df-convert {\n",
              "      background-color: #E8F0FE;\n",
              "      border: none;\n",
              "      border-radius: 50%;\n",
              "      cursor: pointer;\n",
              "      display: none;\n",
              "      fill: #1967D2;\n",
              "      height: 32px;\n",
              "      padding: 0 0 0 0;\n",
              "      width: 32px;\n",
              "    }\n",
              "\n",
              "    .colab-df-convert:hover {\n",
              "      background-color: #E2EBFA;\n",
              "      box-shadow: 0px 1px 2px rgba(60, 64, 67, 0.3), 0px 1px 3px 1px rgba(60, 64, 67, 0.15);\n",
              "      fill: #174EA6;\n",
              "    }\n",
              "\n",
              "    [theme=dark] .colab-df-convert {\n",
              "      background-color: #3B4455;\n",
              "      fill: #D2E3FC;\n",
              "    }\n",
              "\n",
              "    [theme=dark] .colab-df-convert:hover {\n",
              "      background-color: #434B5C;\n",
              "      box-shadow: 0px 1px 3px 1px rgba(0, 0, 0, 0.15);\n",
              "      filter: drop-shadow(0px 1px 2px rgba(0, 0, 0, 0.3));\n",
              "      fill: #FFFFFF;\n",
              "    }\n",
              "  </style>\n",
              "\n",
              "      <script>\n",
              "        const buttonEl =\n",
              "          document.querySelector('#df-2e4747a2-5415-4db9-b775-a63193bf554f button.colab-df-convert');\n",
              "        buttonEl.style.display =\n",
              "          google.colab.kernel.accessAllowed ? 'block' : 'none';\n",
              "\n",
              "        async function convertToInteractive(key) {\n",
              "          const element = document.querySelector('#df-2e4747a2-5415-4db9-b775-a63193bf554f');\n",
              "          const dataTable =\n",
              "            await google.colab.kernel.invokeFunction('convertToInteractive',\n",
              "                                                     [key], {});\n",
              "          if (!dataTable) return;\n",
              "\n",
              "          const docLinkHtml = 'Like what you see? Visit the ' +\n",
              "            '<a target=\"_blank\" href=https://colab.research.google.com/notebooks/data_table.ipynb>data table notebook</a>'\n",
              "            + ' to learn more about interactive tables.';\n",
              "          element.innerHTML = '';\n",
              "          dataTable['output_type'] = 'display_data';\n",
              "          await google.colab.output.renderOutput(dataTable, element);\n",
              "          const docLink = document.createElement('div');\n",
              "          docLink.innerHTML = docLinkHtml;\n",
              "          element.appendChild(docLink);\n",
              "        }\n",
              "      </script>\n",
              "    </div>\n",
              "  </div>\n",
              "  "
            ]
          },
          "metadata": {},
          "execution_count": 49
        }
      ]
    },
    {
      "cell_type": "code",
      "source": [
        "grupo1.shape"
      ],
      "metadata": {
        "colab": {
          "base_uri": "https://localhost:8080/"
        },
        "id": "nILZj4LuA5Ft",
        "outputId": "52837a47-2b38-4e76-c9fe-f561fb427b20"
      },
      "execution_count": 50,
      "outputs": [
        {
          "output_type": "execute_result",
          "data": {
            "text/plain": [
              "(39, 6)"
            ]
          },
          "metadata": {},
          "execution_count": 50
        }
      ]
    },
    {
      "cell_type": "markdown",
      "source": [
        "# K-means com todos os atributos\n",
        "\n",
        "Agora trabalharemos com todos os atributos do dataframe para criar o modelo. O dataframe utilizado será o df2_esc com os dados escalonados ( normalizados )"
      ],
      "metadata": {
        "id": "kunjfeei9iI9"
      }
    },
    {
      "cell_type": "code",
      "source": [
        "df2_esc"
      ],
      "metadata": {
        "id": "025G5GcZ-ETb",
        "colab": {
          "base_uri": "https://localhost:8080/"
        },
        "outputId": "8203f03d-f4ea-4419-f8d5-ec5ebb781837"
      },
      "execution_count": 51,
      "outputs": [
        {
          "output_type": "execute_result",
          "data": {
            "text/plain": [
              "array([[ 1.12815215, -1.42456879, -1.73899919, -0.43480148],\n",
              "       [ 1.12815215, -1.28103541, -1.73899919,  1.19570407],\n",
              "       [-0.88640526, -1.3528021 , -1.70082976, -1.71591298],\n",
              "       [-0.88640526, -1.13750203, -1.70082976,  1.04041783],\n",
              "       [-0.88640526, -0.56336851, -1.66266033, -0.39597992],\n",
              "       [-0.88640526, -1.20926872, -1.66266033,  1.00159627],\n",
              "       [-0.88640526, -0.27630176, -1.62449091, -1.71591298],\n",
              "       [-0.88640526, -1.13750203, -1.62449091,  1.70038436],\n",
              "       [ 1.12815215,  1.80493225, -1.58632148, -1.83237767],\n",
              "       [-0.88640526, -0.6351352 , -1.58632148,  0.84631002],\n",
              "       [ 1.12815215,  2.02023231, -1.58632148, -1.4053405 ],\n",
              "       [-0.88640526, -0.27630176, -1.58632148,  1.89449216],\n",
              "       [-0.88640526,  1.37433211, -1.54815205, -1.36651894],\n",
              "       [-0.88640526, -1.06573534, -1.54815205,  1.04041783],\n",
              "       [ 1.12815215, -0.13276838, -1.54815205, -1.44416206],\n",
              "       [ 1.12815215, -1.20926872, -1.54815205,  1.11806095],\n",
              "       [-0.88640526, -0.27630176, -1.50998262, -0.59008772],\n",
              "       [ 1.12815215, -1.3528021 , -1.50998262,  0.61338066],\n",
              "       [ 1.12815215,  0.94373197, -1.43364376, -0.82301709],\n",
              "       [-0.88640526, -0.27630176, -1.43364376,  1.8556706 ],\n",
              "       [ 1.12815215, -0.27630176, -1.39547433, -0.59008772],\n",
              "       [ 1.12815215, -0.99396865, -1.39547433,  0.88513158],\n",
              "       [-0.88640526,  0.51313183, -1.3573049 , -1.75473454],\n",
              "       [ 1.12815215, -0.56336851, -1.3573049 ,  0.88513158],\n",
              "       [-0.88640526,  1.08726535, -1.24279661, -1.4053405 ],\n",
              "       [ 1.12815215, -0.70690189, -1.24279661,  1.23452563],\n",
              "       [-0.88640526,  0.44136514, -1.24279661, -0.7065524 ],\n",
              "       [ 1.12815215, -0.27630176, -1.24279661,  0.41927286],\n",
              "       [-0.88640526,  0.08253169, -1.20462718, -0.74537397],\n",
              "       [-0.88640526, -1.13750203, -1.20462718,  1.42863343],\n",
              "       [ 1.12815215,  1.51786549, -1.16645776, -1.7935561 ],\n",
              "       [-0.88640526, -1.28103541, -1.16645776,  0.88513158],\n",
              "       [ 1.12815215,  1.01549866, -1.05194947, -1.7935561 ],\n",
              "       [ 1.12815215, -1.49633548, -1.05194947,  1.62274124],\n",
              "       [-0.88640526,  0.7284319 , -1.05194947, -1.4053405 ],\n",
              "       [-0.88640526, -1.28103541, -1.05194947,  1.19570407],\n",
              "       [-0.88640526,  0.22606507, -1.01378004, -1.28887582],\n",
              "       [-0.88640526, -0.6351352 , -1.01378004,  0.88513158],\n",
              "       [-0.88640526, -0.20453507, -0.89927175, -0.93948177],\n",
              "       [-0.88640526, -1.3528021 , -0.89927175,  0.96277471],\n",
              "       [-0.88640526,  1.87669894, -0.86110232, -0.59008772],\n",
              "       [ 1.12815215, -1.06573534, -0.86110232,  1.62274124],\n",
              "       [ 1.12815215,  0.65666521, -0.82293289, -0.55126616],\n",
              "       [-0.88640526, -0.56336851, -0.82293289,  0.41927286],\n",
              "       [-0.88640526,  0.7284319 , -0.82293289, -0.86183865],\n",
              "       [-0.88640526, -1.06573534, -0.82293289,  0.5745591 ],\n",
              "       [-0.88640526,  0.80019859, -0.78476346,  0.18634349],\n",
              "       [-0.88640526, -0.85043527, -0.78476346, -0.12422899],\n",
              "       [-0.88640526, -0.70690189, -0.78476346, -0.3183368 ],\n",
              "       [-0.88640526, -0.56336851, -0.78476346, -0.3183368 ],\n",
              "       [-0.88640526,  0.7284319 , -0.70842461,  0.06987881],\n",
              "       [ 1.12815215, -0.41983513, -0.70842461,  0.38045129],\n",
              "       [-0.88640526, -0.56336851, -0.67025518,  0.14752193],\n",
              "       [ 1.12815215,  1.4460988 , -0.67025518,  0.38045129],\n",
              "       [-0.88640526,  0.80019859, -0.67025518, -0.20187212],\n",
              "       [ 1.12815215,  0.58489852, -0.67025518, -0.35715836],\n",
              "       [-0.88640526,  0.87196528, -0.63208575, -0.00776431],\n",
              "       [ 1.12815215,  2.16376569, -0.63208575, -0.16305055],\n",
              "       [-0.88640526, -0.85043527, -0.55574689,  0.03105725],\n",
              "       [ 1.12815215,  1.01549866, -0.55574689, -0.16305055],\n",
              "       [ 1.12815215,  2.23553238, -0.55574689,  0.22516505],\n",
              "       [ 1.12815215, -1.42456879, -0.55574689,  0.18634349],\n",
              "       [-0.88640526,  2.02023231, -0.51757746,  0.06987881],\n",
              "       [-0.88640526,  1.08726535, -0.51757746,  0.34162973],\n",
              "       [ 1.12815215,  1.73316556, -0.47940803,  0.03105725],\n",
              "       [ 1.12815215, -1.49633548, -0.47940803,  0.34162973],\n",
              "       [-0.88640526,  0.29783176, -0.47940803, -0.00776431],\n",
              "       [-0.88640526,  2.091999  , -0.47940803, -0.08540743],\n",
              "       [ 1.12815215, -1.42456879, -0.47940803,  0.34162973],\n",
              "       [-0.88640526, -0.49160182, -0.47940803, -0.12422899],\n",
              "       [ 1.12815215,  2.23553238, -0.4412386 ,  0.18634349],\n",
              "       [-0.88640526,  0.58489852, -0.4412386 , -0.3183368 ],\n",
              "       [-0.88640526,  1.51786549, -0.40306917, -0.04658587],\n",
              "       [-0.88640526,  1.51786549, -0.40306917,  0.22516505],\n",
              "       [ 1.12815215,  1.4460988 , -0.25039146, -0.12422899],\n",
              "       [ 1.12815215, -0.92220196, -0.25039146,  0.14752193],\n",
              "       [-0.88640526,  0.44136514, -0.25039146,  0.10870037],\n",
              "       [ 1.12815215,  0.08253169, -0.25039146, -0.08540743],\n",
              "       [-0.88640526, -1.13750203, -0.25039146,  0.06987881],\n",
              "       [-0.88640526,  0.7284319 , -0.25039146, -0.3183368 ],\n",
              "       [ 1.12815215,  1.30256542, -0.25039146,  0.03105725],\n",
              "       [ 1.12815215, -0.06100169, -0.25039146,  0.18634349],\n",
              "       [ 1.12815215,  2.02023231, -0.25039146, -0.35715836],\n",
              "       [-0.88640526,  0.51313183, -0.25039146, -0.24069368],\n",
              "       [-0.88640526, -1.28103541, -0.25039146,  0.26398661],\n",
              "       [ 1.12815215,  0.65666521, -0.25039146, -0.16305055],\n",
              "       [-0.88640526,  1.15903204, -0.13588317,  0.30280817],\n",
              "       [-0.88640526, -1.20926872, -0.13588317,  0.18634349],\n",
              "       [-0.88640526, -0.34806844, -0.09771374,  0.38045129],\n",
              "       [-0.88640526,  0.80019859, -0.09771374, -0.16305055],\n",
              "       [-0.88640526,  2.091999  , -0.05954431,  0.18634349],\n",
              "       [ 1.12815215, -1.49633548, -0.05954431, -0.35715836],\n",
              "       [ 1.12815215,  0.65666521, -0.02137488, -0.04658587],\n",
              "       [-0.88640526,  0.08253169, -0.02137488, -0.39597992],\n",
              "       [-0.88640526, -0.49160182, -0.02137488, -0.3183368 ],\n",
              "       [ 1.12815215, -1.06573534, -0.02137488,  0.06987881],\n",
              "       [-0.88640526,  0.58489852, -0.02137488, -0.12422899],\n",
              "       [-0.88640526, -0.85043527, -0.02137488, -0.00776431],\n",
              "       [ 1.12815215,  0.65666521,  0.01679455, -0.3183368 ],\n",
              "       [ 1.12815215, -1.3528021 ,  0.01679455, -0.04658587],\n",
              "       [-0.88640526, -1.13750203,  0.05496398, -0.35715836],\n",
              "       [-0.88640526,  0.7284319 ,  0.05496398, -0.08540743],\n",
              "       [ 1.12815215,  2.02023231,  0.05496398,  0.34162973],\n",
              "       [ 1.12815215, -0.92220196,  0.05496398,  0.18634349],\n",
              "       [ 1.12815215,  0.7284319 ,  0.05496398,  0.22516505],\n",
              "       [-0.88640526, -1.28103541,  0.05496398, -0.3183368 ],\n",
              "       [-0.88640526,  1.94846562,  0.09313341, -0.00776431],\n",
              "       [ 1.12815215,  1.08726535,  0.09313341, -0.16305055],\n",
              "       [ 1.12815215,  2.091999  ,  0.09313341, -0.27951524],\n",
              "       [ 1.12815215,  1.94846562,  0.09313341, -0.08540743],\n",
              "       [ 1.12815215,  1.87669894,  0.09313341,  0.06987881],\n",
              "       [-0.88640526, -1.42456879,  0.09313341,  0.14752193],\n",
              "       [-0.88640526, -0.06100169,  0.13130284, -0.3183368 ],\n",
              "       [ 1.12815215, -1.42456879,  0.13130284, -0.16305055],\n",
              "       [-0.88640526, -1.49633548,  0.16947227, -0.08540743],\n",
              "       [-0.88640526, -1.42456879,  0.16947227, -0.00776431],\n",
              "       [-0.88640526,  1.73316556,  0.16947227, -0.27951524],\n",
              "       [-0.88640526,  0.7284319 ,  0.16947227,  0.34162973],\n",
              "       [-0.88640526,  0.87196528,  0.24581112, -0.27951524],\n",
              "       [-0.88640526,  0.80019859,  0.24581112,  0.26398661],\n",
              "       [ 1.12815215, -0.85043527,  0.24581112,  0.22516505],\n",
              "       [-0.88640526, -0.06100169,  0.24581112, -0.39597992],\n",
              "       [-0.88640526,  0.08253169,  0.32214998,  0.30280817],\n",
              "       [ 1.12815215,  0.010765  ,  0.32214998,  1.58391968],\n",
              "       [-0.88640526, -1.13750203,  0.36031941, -0.82301709],\n",
              "       [-0.88640526, -0.56336851,  0.36031941,  1.04041783],\n",
              "       [ 1.12815215,  0.29783176,  0.39848884, -0.59008772],\n",
              "       [ 1.12815215,  0.08253169,  0.39848884,  1.73920592],\n",
              "       [ 1.12815215,  1.4460988 ,  0.39848884, -1.52180518],\n",
              "       [ 1.12815215, -0.06100169,  0.39848884,  0.96277471],\n",
              "       [ 1.12815215,  0.58489852,  0.39848884, -1.5994483 ],\n",
              "       [ 1.12815215,  0.010765  ,  0.39848884,  0.96277471],\n",
              "       [-0.88640526, -0.99396865,  0.43665827, -0.62890928],\n",
              "       [-0.88640526, -0.56336851,  0.43665827,  0.80748846],\n",
              "       [ 1.12815215, -1.3528021 ,  0.4748277 , -1.75473454],\n",
              "       [-0.88640526, -0.70690189,  0.4748277 ,  1.46745499],\n",
              "       [-0.88640526,  0.36959845,  0.4748277 , -1.67709142],\n",
              "       [ 1.12815215, -0.49160182,  0.4748277 ,  0.88513158],\n",
              "       [ 1.12815215, -1.42456879,  0.51299713, -1.56062674],\n",
              "       [-0.88640526, -0.27630176,  0.51299713,  0.84631002],\n",
              "       [-0.88640526,  1.30256542,  0.55116656, -1.75473454],\n",
              "       [ 1.12815215, -0.49160182,  0.55116656,  1.6615628 ],\n",
              "       [-0.88640526, -0.77866858,  0.58933599, -0.39597992],\n",
              "       [-0.88640526, -0.49160182,  0.58933599,  1.42863343],\n",
              "       [ 1.12815215, -0.99396865,  0.62750542, -1.48298362],\n",
              "       [ 1.12815215, -0.77866858,  0.62750542,  1.81684904],\n",
              "       [ 1.12815215,  0.65666521,  0.62750542, -0.55126616],\n",
              "       [-0.88640526, -0.49160182,  0.62750542,  0.92395314],\n",
              "       [-0.88640526, -0.34806844,  0.66567484, -1.09476801],\n",
              "       [ 1.12815215, -0.34806844,  0.66567484,  1.54509812],\n",
              "       [ 1.12815215,  0.29783176,  0.66567484, -1.28887582],\n",
              "       [ 1.12815215,  0.010765  ,  0.66567484,  1.46745499],\n",
              "       [-0.88640526,  0.36959845,  0.66567484, -1.17241113],\n",
              "       [-0.88640526, -0.06100169,  0.66567484,  1.00159627],\n",
              "       [-0.88640526,  0.58489852,  0.66567484, -1.32769738],\n",
              "       [-0.88640526, -0.85043527,  0.66567484,  1.50627656],\n",
              "       [ 1.12815215, -0.13276838,  0.66567484, -1.91002079],\n",
              "       [-0.88640526, -0.6351352 ,  0.66567484,  1.07923939],\n",
              "       [ 1.12815215, -0.34806844,  0.66567484, -1.91002079],\n",
              "       [-0.88640526, -0.6351352 ,  0.66567484,  0.88513158],\n",
              "       [-0.88640526,  1.23079873,  0.70384427, -0.59008772],\n",
              "       [-0.88640526, -0.70690189,  0.70384427,  1.27334719],\n",
              "       [ 1.12815215, -1.42456879,  0.78018313, -1.75473454],\n",
              "       [-0.88640526, -0.56336851,  0.78018313,  1.6615628 ],\n",
              "       [ 1.12815215,  0.80019859,  0.93286085, -0.93948177],\n",
              "       [-0.88640526, -0.20453507,  0.93286085,  0.96277471],\n",
              "       [ 1.12815215,  0.22606507,  0.97103028, -1.17241113],\n",
              "       [-0.88640526, -0.41983513,  0.97103028,  1.73920592],\n",
              "       [-0.88640526, -0.20453507,  1.00919971, -0.90066021],\n",
              "       [ 1.12815215, -0.49160182,  1.00919971,  0.49691598],\n",
              "       [ 1.12815215,  0.08253169,  1.00919971, -1.44416206],\n",
              "       [ 1.12815215, -0.77866858,  1.00919971,  0.96277471],\n",
              "       [ 1.12815215, -0.20453507,  1.00919971, -1.56062674],\n",
              "       [ 1.12815215, -0.20453507,  1.00919971,  1.62274124],\n",
              "       [-0.88640526,  0.94373197,  1.04736914, -1.44416206],\n",
              "       [-0.88640526, -0.6351352 ,  1.04736914,  1.38981187],\n",
              "       [ 1.12815215,  1.37433211,  1.04736914, -1.36651894],\n",
              "       [ 1.12815215, -0.85043527,  1.04736914,  0.72984534],\n",
              "       [ 1.12815215,  1.4460988 ,  1.23821628, -1.4053405 ],\n",
              "       [ 1.12815215, -0.27630176,  1.23821628,  1.54509812],\n",
              "       [-0.88640526, -0.13276838,  1.390894  , -0.7065524 ],\n",
              "       [-0.88640526, -0.49160182,  1.390894  ,  1.38981187],\n",
              "       [ 1.12815215,  0.51313183,  1.42906343, -1.36651894],\n",
              "       [-0.88640526, -0.70690189,  1.42906343,  1.46745499],\n",
              "       [-0.88640526,  0.15429838,  1.46723286, -0.43480148],\n",
              "       [ 1.12815215, -0.6351352 ,  1.46723286,  1.81684904],\n",
              "       [-0.88640526,  1.08726535,  1.54357172, -1.01712489],\n",
              "       [ 1.12815215, -0.77866858,  1.54357172,  0.69102378],\n",
              "       [-0.88640526,  0.15429838,  1.61991057, -1.28887582],\n",
              "       [-0.88640526, -0.20453507,  1.61991057,  1.35099031],\n",
              "       [-0.88640526, -0.34806844,  1.61991057, -1.05594645],\n",
              "       [-0.88640526, -0.49160182,  1.61991057,  0.72984534],\n",
              "       [ 1.12815215, -0.41983513,  2.00160487, -1.63826986],\n",
              "       [-0.88640526, -0.06100169,  2.00160487,  1.58391968],\n",
              "       [-0.88640526,  0.58489852,  2.26879087, -1.32769738],\n",
              "       [-0.88640526, -0.27630176,  2.26879087,  1.11806095],\n",
              "       [-0.88640526,  0.44136514,  2.49780745, -0.86183865],\n",
              "       [ 1.12815215, -0.49160182,  2.49780745,  0.92395314],\n",
              "       [ 1.12815215, -0.49160182,  2.91767117, -1.25005425],\n",
              "       [ 1.12815215, -0.6351352 ,  2.91767117,  1.27334719]])"
            ]
          },
          "metadata": {},
          "execution_count": 51
        }
      ]
    },
    {
      "cell_type": "code",
      "source": [
        "# Verificando o quantidade de linhas e colunas. Observe que agora trabalharemos com 4 atributos.\n",
        "df2_esc.shape"
      ],
      "metadata": {
        "colab": {
          "base_uri": "https://localhost:8080/"
        },
        "id": "6ddrVZGG-Pe3",
        "outputId": "455ca652-a8f3-44e8-cb24-a833d80a5f5d"
      },
      "execution_count": 52,
      "outputs": [
        {
          "output_type": "execute_result",
          "data": {
            "text/plain": [
              "(200, 4)"
            ]
          },
          "metadata": {},
          "execution_count": 52
        }
      ]
    },
    {
      "cell_type": "markdown",
      "source": [
        "Método Elbow - identifica o número de clusters adequado para o modelo"
      ],
      "metadata": {
        "id": "0QFBac4d-q8q"
      }
    },
    {
      "cell_type": "code",
      "source": [
        "from sklearn.cluster import KMeans\n",
        "wcss = []\n",
        "for i in range (1, 11):\n",
        "    kmeans = KMeans(n_clusters = i, init = 'k-means++', random_state= 5, max_iter=300)\n",
        "    kmeans.fit(df2_esc)\n",
        "    # inertia - Método para gerar o wcss\n",
        "    wcss.append(kmeans.inertia_)"
      ],
      "metadata": {
        "id": "Fx7b876x-r5V"
      },
      "execution_count": 53,
      "outputs": []
    },
    {
      "cell_type": "code",
      "source": [
        "import matplotlib.pyplot as plt\n",
        "import seaborn as sns"
      ],
      "metadata": {
        "id": "aiaXDC8K-5dk"
      },
      "execution_count": 54,
      "outputs": []
    },
    {
      "cell_type": "code",
      "source": [
        "plt.figure(figsize=(10,5))\n",
        "sns.lineplot(range(1,11), wcss, marker=\"o\", color=\"red\")\n",
        "plt.title(\"Método Elbow\")\n",
        "plt.xlabel(\"Número de clusters\")\n",
        "plt.ylabel(\"WCSS\")"
      ],
      "metadata": {
        "colab": {
          "base_uri": "https://localhost:8080/",
          "height": 0
        },
        "id": "7Ez2igs0_C8a",
        "outputId": "58f46db5-7909-4271-ea0e-5f20a8a1e5a0"
      },
      "execution_count": 55,
      "outputs": [
        {
          "output_type": "execute_result",
          "data": {
            "text/plain": [
              "Text(0, 0.5, 'WCSS')"
            ]
          },
          "metadata": {},
          "execution_count": 55
        },
        {
          "output_type": "display_data",
          "data": {
            "text/plain": [
              "<Figure size 720x360 with 1 Axes>"
            ],
            "image/png": "[encoded data removed]"
          },
          "metadata": {
            "needs_background": "light"
          }
        }
      ]
    },
    {
      "cell_type": "markdown",
      "source": [
        "Neste gráfico podemos ver que o ponto de inflexão fica entre 5 e 6. Lembrando que o ponto de inflexão define a melhor quantidade de clusters"
      ],
      "metadata": {
        "id": "GbC2akox_Y4S"
      }
    },
    {
      "cell_type": "markdown",
      "source": [
        "## Agrupamento"
      ],
      "metadata": {
        "id": "FskC-wjP_sx8"
      }
    },
    {
      "cell_type": "code",
      "source": [
        "kmeans = KMeans(n_clusters = 6, init = \"k-means++\", random_state = 5, max_iter = 300)"
      ],
      "metadata": {
        "id": "ywCPGwTa_v_B"
      },
      "execution_count": 56,
      "outputs": []
    },
    {
      "cell_type": "code",
      "source": [
        "kmeans2 = kmeans.fit(df2_esc)"
      ],
      "metadata": {
        "id": "ydqlp_EC_8wh"
      },
      "execution_count": 57,
      "outputs": []
    },
    {
      "cell_type": "code",
      "source": [
        "# Coordenadas dos centróides\n",
        "centroides = kmeans2.cluster_centers_\n",
        "centroides"
      ],
      "metadata": {
        "colab": {
          "base_uri": "https://localhost:8080/"
        },
        "id": "hTLsF1m5ACGp",
        "outputId": "c37d05a2-4608-4788-b0b7-01a93528fce0"
      },
      "execution_count": 58,
      "outputs": [
        {
          "output_type": "execute_result",
          "data": {
            "text/plain": [
              "array([[ 1.12815215,  1.22385356, -0.4498575 , -0.44231533],\n",
              "       [-0.71852548, -0.46169904,  1.09030974,  1.17305816],\n",
              "       [-0.88640526,  0.86299444, -0.43455895, -0.40762639],\n",
              "       [-0.88640526, -0.92608124, -0.70017176,  0.28182355],\n",
              "       [ 0.25517727,  0.0729628 ,  1.14279271, -1.32381522],\n",
              "       [ 1.12815215, -0.77111419, -0.08465578,  0.8197479 ]])"
            ]
          },
          "metadata": {},
          "execution_count": 58
        }
      ]
    },
    {
      "cell_type": "code",
      "source": [
        "# Inversão do escalonamento\n",
        "escala.inverse_transform(kmeans2.cluster_centers_)"
      ],
      "metadata": {
        "colab": {
          "base_uri": "https://localhost:8080/"
        },
        "id": "ksJew6PCAJSh",
        "outputId": "055014b9-e3e6-4c63-97df-2b190fca491d"
      },
      "execution_count": 59,
      "outputs": [
        {
          "output_type": "execute_result",
          "data": {
            "text/plain": [
              "array([[1.00000000e+00, 5.59032258e+01, 4.87741935e+01, 3.88064516e+01],\n",
              "       [8.33333333e-02, 3.24166667e+01, 8.91250000e+01, 8.04166667e+01],\n",
              "       [5.55111512e-17, 5.08750000e+01, 4.91750000e+01, 3.97000000e+01],\n",
              "       [1.66533454e-16, 2.59459459e+01, 4.22162162e+01, 5.74594595e+01],\n",
              "       [5.66666667e-01, 3.98666667e+01, 9.05000000e+01, 1.61000000e+01],\n",
              "       [1.00000000e+00, 2.81052632e+01, 5.83421053e+01, 7.13157895e+01]])"
            ]
          },
          "metadata": {},
          "execution_count": 59
        }
      ]
    },
    {
      "cell_type": "code",
      "source": [
        "# Classificação dos dados\n",
        "classificacao2 = kmeans2.labels_\n",
        "classificacao2"
      ],
      "metadata": {
        "colab": {
          "base_uri": "https://localhost:8080/"
        },
        "id": "JOYLpfUKAFyL",
        "outputId": "012ea978-2b43-4f1a-8a37-3c6da10eed6a"
      },
      "execution_count": 60,
      "outputs": [
        {
          "output_type": "execute_result",
          "data": {
            "text/plain": [
              "array([5, 5, 3, 3, 3, 3, 2, 3, 0, 3, 0, 3, 2, 3, 0, 5, 3, 5, 0, 3, 0, 5,\n",
              "       2, 5, 2, 5, 2, 5, 2, 3, 0, 3, 0, 5, 2, 3, 2, 3, 2, 3, 2, 5, 0, 3,\n",
              "       2, 3, 2, 3, 3, 3, 2, 5, 3, 0, 2, 0, 2, 0, 3, 0, 0, 5, 2, 2, 0, 5,\n",
              "       2, 2, 5, 3, 0, 2, 2, 2, 0, 5, 2, 0, 3, 2, 0, 5, 0, 2, 3, 0, 2, 3,\n",
              "       3, 2, 2, 5, 0, 2, 3, 5, 2, 3, 0, 5, 3, 2, 0, 5, 0, 3, 2, 0, 0, 0,\n",
              "       0, 3, 2, 5, 3, 3, 2, 2, 2, 2, 5, 2, 1, 5, 3, 1, 0, 5, 0, 5, 4, 5,\n",
              "       3, 1, 4, 1, 4, 5, 4, 1, 2, 5, 3, 1, 4, 5, 0, 1, 4, 5, 4, 5, 4, 1,\n",
              "       4, 1, 4, 1, 4, 1, 2, 1, 4, 1, 4, 1, 4, 1, 4, 5, 4, 5, 4, 5, 4, 1,\n",
              "       4, 5, 4, 5, 4, 1, 4, 1, 4, 5, 4, 5, 4, 1, 4, 1, 4, 1, 4, 1, 4, 1,\n",
              "       4, 1], dtype=int32)"
            ]
          },
          "metadata": {},
          "execution_count": 60
        }
      ]
    },
    {
      "cell_type": "code",
      "source": [
        "# Visualizando a classificação do 4º elemento \n",
        "classificacao2[4]"
      ],
      "metadata": {
        "colab": {
          "base_uri": "https://localhost:8080/"
        },
        "id": "Ruem56N9AO86",
        "outputId": "c8982ecb-c080-442c-d551-351697044f0e"
      },
      "execution_count": 61,
      "outputs": [
        {
          "output_type": "execute_result",
          "data": {
            "text/plain": [
              "3"
            ]
          },
          "metadata": {},
          "execution_count": 61
        }
      ]
    },
    {
      "cell_type": "markdown",
      "source": [
        "Visualizando o agrupamento por uma lista"
      ],
      "metadata": {
        "id": "vhIKAHKEDj_C"
      }
    },
    {
      "cell_type": "code",
      "source": [
        "agrupamento2 = pd.DataFrame(classificacao2, columns = [\"Grupo\"])\n",
        "agrupamento2"
      ],
      "metadata": {
        "colab": {
          "base_uri": "https://localhost:8080/",
          "height": 0
        },
        "id": "6KfmDWEMDk_a",
        "outputId": "d22f70f2-46bf-40a8-bf27-742250a11a26"
      },
      "execution_count": 62,
      "outputs": [
        {
          "output_type": "execute_result",
          "data": {
            "text/plain": [
              "     Grupo\n",
              "0        5\n",
              "1        5\n",
              "2        3\n",
              "3        3\n",
              "4        3\n",
              "..     ...\n",
              "195      1\n",
              "196      4\n",
              "197      1\n",
              "198      4\n",
              "199      1\n",
              "\n",
              "[200 rows x 1 columns]"
            ],
            "text/html": [
              "\n",
              "  <div id=\"df-9a6ec4ae-0d2b-4c19-8cd3-257b806fac88\">\n",
              "    <div class=\"colab-df-container\">\n",
              "      <div>\n",
              "<style scoped>\n",
              "    .dataframe tbody tr th:only-of-type {\n",
              "        vertical-align: middle;\n",
              "    }\n",
              "\n",
              "    .dataframe tbody tr th {\n",
              "        vertical-align: top;\n",
              "    }\n",
              "\n",
              "    .dataframe thead th {\n",
              "        text-align: right;\n",
              "    }\n",
              "</style>\n",
              "<table border=\"1\" class=\"dataframe\">\n",
              "  <thead>\n",
              "    <tr style=\"text-align: right;\">\n",
              "      <th></th>\n",
              "      <th>Grupo</th>\n",
              "    </tr>\n",
              "  </thead>\n",
              "  <tbody>\n",
              "    <tr>\n",
              "      <th>0</th>\n",
              "      <td>5</td>\n",
              "    </tr>\n",
              "    <tr>\n",
              "      <th>1</th>\n",
              "      <td>5</td>\n",
              "    </tr>\n",
              "    <tr>\n",
              "      <th>2</th>\n",
              "      <td>3</td>\n",
              "    </tr>\n",
              "    <tr>\n",
              "      <th>3</th>\n",
              "      <td>3</td>\n",
              "    </tr>\n",
              "    <tr>\n",
              "      <th>4</th>\n",
              "      <td>3</td>\n",
              "    </tr>\n",
              "    <tr>\n",
              "      <th>...</th>\n",
              "      <td>...</td>\n",
              "    </tr>\n",
              "    <tr>\n",
              "      <th>195</th>\n",
              "      <td>1</td>\n",
              "    </tr>\n",
              "    <tr>\n",
              "      <th>196</th>\n",
              "      <td>4</td>\n",
              "    </tr>\n",
              "    <tr>\n",
              "      <th>197</th>\n",
              "      <td>1</td>\n",
              "    </tr>\n",
              "    <tr>\n",
              "      <th>198</th>\n",
              "      <td>4</td>\n",
              "    </tr>\n",
              "    <tr>\n",
              "      <th>199</th>\n",
              "      <td>1</td>\n",
              "    </tr>\n",
              "  </tbody>\n",
              "</table>\n",
              "<p>200 rows × 1 columns</p>\n",
              "</div>\n",
              "      <button class=\"colab-df-convert\" onclick=\"convertToInteractive('df-9a6ec4ae-0d2b-4c19-8cd3-257b806fac88')\"\n",
              "              title=\"Convert this dataframe to an interactive table.\"\n",
              "              style=\"display:none;\">\n",
              "        \n",
              "  <svg xmlns=\"http://www.w3.org/2000/svg\" height=\"24px\"viewBox=\"0 0 24 24\"\n",
              "       width=\"24px\">\n",
              "    <path d=\"M0 0h24v24H0V0z\" fill=\"none\"/>\n",
              "    <path d=\"M18.56 5.44l.94 2.06.94-2.06 2.06-.94-2.06-.94-.94-2.06-.94 2.06-2.06.94zm-11 1L8.5 8.5l.94-2.06 2.06-.94-2.06-.94L8.5 2.5l-.94 2.06-2.06.94zm10 10l.94 2.06.94-2.06 2.06-.94-2.06-.94-.94-2.06-.94 2.06-2.06.94z\"/><path d=\"M17.41 7.96l-1.37-1.37c-.4-.4-.92-.59-1.43-.59-.52 0-1.04.2-1.43.59L10.3 9.45l-7.72 7.72c-.78.78-.78 2.05 0 2.83L4 21.41c.39.39.9.59 1.41.59.51 0 1.02-.2 1.41-.59l7.78-7.78 2.81-2.81c.8-.78.8-2.07 0-2.86zM5.41 20L4 18.59l7.72-7.72 1.47 1.35L5.41 20z\"/>\n",
              "  </svg>\n",
              "      </button>\n",
              "      \n",
              "  <style>\n",
              "    .colab-df-container {\n",
              "      display:flex;\n",
              "      flex-wrap:wrap;\n",
              "      gap: 12px;\n",
              "    }\n",
              "\n",
              "    .colab-df-convert {\n",
              "      background-color: #E8F0FE;\n",
              "      border: none;\n",
              "      border-radius: 50%;\n",
              "      cursor: pointer;\n",
              "      display: none;\n",
              "      fill: #1967D2;\n",
              "      height: 32px;\n",
              "      padding: 0 0 0 0;\n",
              "      width: 32px;\n",
              "    }\n",
              "\n",
              "    .colab-df-convert:hover {\n",
              "      background-color: #E2EBFA;\n",
              "      box-shadow: 0px 1px 2px rgba(60, 64, 67, 0.3), 0px 1px 3px 1px rgba(60, 64, 67, 0.15);\n",
              "      fill: #174EA6;\n",
              "    }\n",
              "\n",
              "    [theme=dark] .colab-df-convert {\n",
              "      background-color: #3B4455;\n",
              "      fill: #D2E3FC;\n",
              "    }\n",
              "\n",
              "    [theme=dark] .colab-df-convert:hover {\n",
              "      background-color: #434B5C;\n",
              "      box-shadow: 0px 1px 3px 1px rgba(0, 0, 0, 0.15);\n",
              "      filter: drop-shadow(0px 1px 2px rgba(0, 0, 0, 0.3));\n",
              "      fill: #FFFFFF;\n",
              "    }\n",
              "  </style>\n",
              "\n",
              "      <script>\n",
              "        const buttonEl =\n",
              "          document.querySelector('#df-9a6ec4ae-0d2b-4c19-8cd3-257b806fac88 button.colab-df-convert');\n",
              "        buttonEl.style.display =\n",
              "          google.colab.kernel.accessAllowed ? 'block' : 'none';\n",
              "\n",
              "        async function convertToInteractive(key) {\n",
              "          const element = document.querySelector('#df-9a6ec4ae-0d2b-4c19-8cd3-257b806fac88');\n",
              "          const dataTable =\n",
              "            await google.colab.kernel.invokeFunction('convertToInteractive',\n",
              "                                                     [key], {});\n",
              "          if (!dataTable) return;\n",
              "\n",
              "          const docLinkHtml = 'Like what you see? Visit the ' +\n",
              "            '<a target=\"_blank\" href=https://colab.research.google.com/notebooks/data_table.ipynb>data table notebook</a>'\n",
              "            + ' to learn more about interactive tables.';\n",
              "          element.innerHTML = '';\n",
              "          dataTable['output_type'] = 'display_data';\n",
              "          await google.colab.output.renderOutput(dataTable, element);\n",
              "          const docLink = document.createElement('div');\n",
              "          docLink.innerHTML = docLinkHtml;\n",
              "          element.appendChild(docLink);\n",
              "        }\n",
              "      </script>\n",
              "    </div>\n",
              "  </div>\n",
              "  "
            ]
          },
          "metadata": {},
          "execution_count": 62
        }
      ]
    },
    {
      "cell_type": "code",
      "source": [
        "# Juntando o atributo Grupo ao dataframe original. Será criado um novo dataframe para manter a integridade dos dados\n",
        "df4 = pd.concat([df,agrupamento2],axis=1)\n",
        "df4"
      ],
      "metadata": {
        "colab": {
          "base_uri": "https://localhost:8080/",
          "height": 0
        },
        "id": "Q_oS2LYSDt6H",
        "outputId": "0449e1ca-0b85-4fef-ff07-c947cf09b7c6"
      },
      "execution_count": 63,
      "outputs": [
        {
          "output_type": "execute_result",
          "data": {
            "text/plain": [
              "     CustomerID  genero  idade  rendimento  pontuacao  Grupo\n",
              "0             1    Male     19          15         39      5\n",
              "1             2    Male     21          15         81      5\n",
              "2             3  Female     20          16          6      3\n",
              "3             4  Female     23          16         77      3\n",
              "4             5  Female     31          17         40      3\n",
              "..          ...     ...    ...         ...        ...    ...\n",
              "195         196  Female     35         120         79      1\n",
              "196         197  Female     45         126         28      4\n",
              "197         198    Male     32         126         74      1\n",
              "198         199    Male     32         137         18      4\n",
              "199         200    Male     30         137         83      1\n",
              "\n",
              "[200 rows x 6 columns]"
            ],
            "text/html": [
              "\n",
              "  <div id=\"df-a19da7ea-ed18-455c-9c03-6f5f03473d6a\">\n",
              "    <div class=\"colab-df-container\">\n",
              "      <div>\n",
              "<style scoped>\n",
              "    .dataframe tbody tr th:only-of-type {\n",
              "        vertical-align: middle;\n",
              "    }\n",
              "\n",
              "    .dataframe tbody tr th {\n",
              "        vertical-align: top;\n",
              "    }\n",
              "\n",
              "    .dataframe thead th {\n",
              "        text-align: right;\n",
              "    }\n",
              "</style>\n",
              "<table border=\"1\" class=\"dataframe\">\n",
              "  <thead>\n",
              "    <tr style=\"text-align: right;\">\n",
              "      <th></th>\n",
              "      <th>CustomerID</th>\n",
              "      <th>genero</th>\n",
              "      <th>idade</th>\n",
              "      <th>rendimento</th>\n",
              "      <th>pontuacao</th>\n",
              "      <th>Grupo</th>\n",
              "    </tr>\n",
              "  </thead>\n",
              "  <tbody>\n",
              "    <tr>\n",
              "      <th>0</th>\n",
              "      <td>1</td>\n",
              "      <td>Male</td>\n",
              "      <td>19</td>\n",
              "      <td>15</td>\n",
              "      <td>39</td>\n",
              "      <td>5</td>\n",
              "    </tr>\n",
              "    <tr>\n",
              "      <th>1</th>\n",
              "      <td>2</td>\n",
              "      <td>Male</td>\n",
              "      <td>21</td>\n",
              "      <td>15</td>\n",
              "      <td>81</td>\n",
              "      <td>5</td>\n",
              "    </tr>\n",
              "    <tr>\n",
              "      <th>2</th>\n",
              "      <td>3</td>\n",
              "      <td>Female</td>\n",
              "      <td>20</td>\n",
              "      <td>16</td>\n",
              "      <td>6</td>\n",
              "      <td>3</td>\n",
              "    </tr>\n",
              "    <tr>\n",
              "      <th>3</th>\n",
              "      <td>4</td>\n",
              "      <td>Female</td>\n",
              "      <td>23</td>\n",
              "      <td>16</td>\n",
              "      <td>77</td>\n",
              "      <td>3</td>\n",
              "    </tr>\n",
              "    <tr>\n",
              "      <th>4</th>\n",
              "      <td>5</td>\n",
              "      <td>Female</td>\n",
              "      <td>31</td>\n",
              "      <td>17</td>\n",
              "      <td>40</td>\n",
              "      <td>3</td>\n",
              "    </tr>\n",
              "    <tr>\n",
              "      <th>...</th>\n",
              "      <td>...</td>\n",
              "      <td>...</td>\n",
              "      <td>...</td>\n",
              "      <td>...</td>\n",
              "      <td>...</td>\n",
              "      <td>...</td>\n",
              "    </tr>\n",
              "    <tr>\n",
              "      <th>195</th>\n",
              "      <td>196</td>\n",
              "      <td>Female</td>\n",
              "      <td>35</td>\n",
              "      <td>120</td>\n",
              "      <td>79</td>\n",
              "      <td>1</td>\n",
              "    </tr>\n",
              "    <tr>\n",
              "      <th>196</th>\n",
              "      <td>197</td>\n",
              "      <td>Female</td>\n",
              "      <td>45</td>\n",
              "      <td>126</td>\n",
              "      <td>28</td>\n",
              "      <td>4</td>\n",
              "    </tr>\n",
              "    <tr>\n",
              "      <th>197</th>\n",
              "      <td>198</td>\n",
              "      <td>Male</td>\n",
              "      <td>32</td>\n",
              "      <td>126</td>\n",
              "      <td>74</td>\n",
              "      <td>1</td>\n",
              "    </tr>\n",
              "    <tr>\n",
              "      <th>198</th>\n",
              "      <td>199</td>\n",
              "      <td>Male</td>\n",
              "      <td>32</td>\n",
              "      <td>137</td>\n",
              "      <td>18</td>\n",
              "      <td>4</td>\n",
              "    </tr>\n",
              "    <tr>\n",
              "      <th>199</th>\n",
              "      <td>200</td>\n",
              "      <td>Male</td>\n",
              "      <td>30</td>\n",
              "      <td>137</td>\n",
              "      <td>83</td>\n",
              "      <td>1</td>\n",
              "    </tr>\n",
              "  </tbody>\n",
              "</table>\n",
              "<p>200 rows × 6 columns</p>\n",
              "</div>\n",
              "      <button class=\"colab-df-convert\" onclick=\"convertToInteractive('df-a19da7ea-ed18-455c-9c03-6f5f03473d6a')\"\n",
              "              title=\"Convert this dataframe to an interactive table.\"\n",
              "              style=\"display:none;\">\n",
              "        \n",
              "  <svg xmlns=\"http://www.w3.org/2000/svg\" height=\"24px\"viewBox=\"0 0 24 24\"\n",
              "       width=\"24px\">\n",
              "    <path d=\"M0 0h24v24H0V0z\" fill=\"none\"/>\n",
              "    <path d=\"M18.56 5.44l.94 2.06.94-2.06 2.06-.94-2.06-.94-.94-2.06-.94 2.06-2.06.94zm-11 1L8.5 8.5l.94-2.06 2.06-.94-2.06-.94L8.5 2.5l-.94 2.06-2.06.94zm10 10l.94 2.06.94-2.06 2.06-.94-2.06-.94-.94-2.06-.94 2.06-2.06.94z\"/><path d=\"M17.41 7.96l-1.37-1.37c-.4-.4-.92-.59-1.43-.59-.52 0-1.04.2-1.43.59L10.3 9.45l-7.72 7.72c-.78.78-.78 2.05 0 2.83L4 21.41c.39.39.9.59 1.41.59.51 0 1.02-.2 1.41-.59l7.78-7.78 2.81-2.81c.8-.78.8-2.07 0-2.86zM5.41 20L4 18.59l7.72-7.72 1.47 1.35L5.41 20z\"/>\n",
              "  </svg>\n",
              "      </button>\n",
              "      \n",
              "  <style>\n",
              "    .colab-df-container {\n",
              "      display:flex;\n",
              "      flex-wrap:wrap;\n",
              "      gap: 12px;\n",
              "    }\n",
              "\n",
              "    .colab-df-convert {\n",
              "      background-color: #E8F0FE;\n",
              "      border: none;\n",
              "      border-radius: 50%;\n",
              "      cursor: pointer;\n",
              "      display: none;\n",
              "      fill: #1967D2;\n",
              "      height: 32px;\n",
              "      padding: 0 0 0 0;\n",
              "      width: 32px;\n",
              "    }\n",
              "\n",
              "    .colab-df-convert:hover {\n",
              "      background-color: #E2EBFA;\n",
              "      box-shadow: 0px 1px 2px rgba(60, 64, 67, 0.3), 0px 1px 3px 1px rgba(60, 64, 67, 0.15);\n",
              "      fill: #174EA6;\n",
              "    }\n",
              "\n",
              "    [theme=dark] .colab-df-convert {\n",
              "      background-color: #3B4455;\n",
              "      fill: #D2E3FC;\n",
              "    }\n",
              "\n",
              "    [theme=dark] .colab-df-convert:hover {\n",
              "      background-color: #434B5C;\n",
              "      box-shadow: 0px 1px 3px 1px rgba(0, 0, 0, 0.15);\n",
              "      filter: drop-shadow(0px 1px 2px rgba(0, 0, 0, 0.3));\n",
              "      fill: #FFFFFF;\n",
              "    }\n",
              "  </style>\n",
              "\n",
              "      <script>\n",
              "        const buttonEl =\n",
              "          document.querySelector('#df-a19da7ea-ed18-455c-9c03-6f5f03473d6a button.colab-df-convert');\n",
              "        buttonEl.style.display =\n",
              "          google.colab.kernel.accessAllowed ? 'block' : 'none';\n",
              "\n",
              "        async function convertToInteractive(key) {\n",
              "          const element = document.querySelector('#df-a19da7ea-ed18-455c-9c03-6f5f03473d6a');\n",
              "          const dataTable =\n",
              "            await google.colab.kernel.invokeFunction('convertToInteractive',\n",
              "                                                     [key], {});\n",
              "          if (!dataTable) return;\n",
              "\n",
              "          const docLinkHtml = 'Like what you see? Visit the ' +\n",
              "            '<a target=\"_blank\" href=https://colab.research.google.com/notebooks/data_table.ipynb>data table notebook</a>'\n",
              "            + ' to learn more about interactive tables.';\n",
              "          element.innerHTML = '';\n",
              "          dataTable['output_type'] = 'display_data';\n",
              "          await google.colab.output.renderOutput(dataTable, element);\n",
              "          const docLink = document.createElement('div');\n",
              "          docLink.innerHTML = docLinkHtml;\n",
              "          element.appendChild(docLink);\n",
              "        }\n",
              "      </script>\n",
              "    </div>\n",
              "  </div>\n",
              "  "
            ]
          },
          "metadata": {},
          "execution_count": 63
        }
      ]
    },
    {
      "cell_type": "code",
      "source": [
        "# Acessando os dados através do índice\n",
        "df4.iloc[125,:]"
      ],
      "metadata": {
        "colab": {
          "base_uri": "https://localhost:8080/"
        },
        "id": "vXlMHozhER6r",
        "outputId": "41ee7e8a-004f-465d-9782-ef2d5fdb7df4"
      },
      "execution_count": 64,
      "outputs": [
        {
          "output_type": "execute_result",
          "data": {
            "text/plain": [
              "CustomerID       126\n",
              "genero        Female\n",
              "idade             31\n",
              "rendimento        70\n",
              "pontuacao         77\n",
              "Grupo              1\n",
              "Name: 125, dtype: object"
            ]
          },
          "metadata": {},
          "execution_count": 64
        }
      ]
    },
    {
      "cell_type": "markdown",
      "source": [
        "# K-means com PCA ( Principal Component Analysis ) ou Análise dos Componentes Principais"
      ],
      "metadata": {
        "id": "fpdmvNd6rPBt"
      }
    },
    {
      "cell_type": "code",
      "source": [
        "# Verificando o dataframe df2_esc\n",
        "df2_esc"
      ],
      "metadata": {
        "id": "qBj9MbsTr2nF",
        "colab": {
          "base_uri": "https://localhost:8080/"
        },
        "outputId": "6e795d70-493f-41f2-ad00-9eb102258cd8"
      },
      "execution_count": 65,
      "outputs": [
        {
          "output_type": "execute_result",
          "data": {
            "text/plain": [
              "array([[ 1.12815215, -1.42456879, -1.73899919, -0.43480148],\n",
              "       [ 1.12815215, -1.28103541, -1.73899919,  1.19570407],\n",
              "       [-0.88640526, -1.3528021 , -1.70082976, -1.71591298],\n",
              "       [-0.88640526, -1.13750203, -1.70082976,  1.04041783],\n",
              "       [-0.88640526, -0.56336851, -1.66266033, -0.39597992],\n",
              "       [-0.88640526, -1.20926872, -1.66266033,  1.00159627],\n",
              "       [-0.88640526, -0.27630176, -1.62449091, -1.71591298],\n",
              "       [-0.88640526, -1.13750203, -1.62449091,  1.70038436],\n",
              "       [ 1.12815215,  1.80493225, -1.58632148, -1.83237767],\n",
              "       [-0.88640526, -0.6351352 , -1.58632148,  0.84631002],\n",
              "       [ 1.12815215,  2.02023231, -1.58632148, -1.4053405 ],\n",
              "       [-0.88640526, -0.27630176, -1.58632148,  1.89449216],\n",
              "       [-0.88640526,  1.37433211, -1.54815205, -1.36651894],\n",
              "       [-0.88640526, -1.06573534, -1.54815205,  1.04041783],\n",
              "       [ 1.12815215, -0.13276838, -1.54815205, -1.44416206],\n",
              "       [ 1.12815215, -1.20926872, -1.54815205,  1.11806095],\n",
              "       [-0.88640526, -0.27630176, -1.50998262, -0.59008772],\n",
              "       [ 1.12815215, -1.3528021 , -1.50998262,  0.61338066],\n",
              "       [ 1.12815215,  0.94373197, -1.43364376, -0.82301709],\n",
              "       [-0.88640526, -0.27630176, -1.43364376,  1.8556706 ],\n",
              "       [ 1.12815215, -0.27630176, -1.39547433, -0.59008772],\n",
              "       [ 1.12815215, -0.99396865, -1.39547433,  0.88513158],\n",
              "       [-0.88640526,  0.51313183, -1.3573049 , -1.75473454],\n",
              "       [ 1.12815215, -0.56336851, -1.3573049 ,  0.88513158],\n",
              "       [-0.88640526,  1.08726535, -1.24279661, -1.4053405 ],\n",
              "       [ 1.12815215, -0.70690189, -1.24279661,  1.23452563],\n",
              "       [-0.88640526,  0.44136514, -1.24279661, -0.7065524 ],\n",
              "       [ 1.12815215, -0.27630176, -1.24279661,  0.41927286],\n",
              "       [-0.88640526,  0.08253169, -1.20462718, -0.74537397],\n",
              "       [-0.88640526, -1.13750203, -1.20462718,  1.42863343],\n",
              "       [ 1.12815215,  1.51786549, -1.16645776, -1.7935561 ],\n",
              "       [-0.88640526, -1.28103541, -1.16645776,  0.88513158],\n",
              "       [ 1.12815215,  1.01549866, -1.05194947, -1.7935561 ],\n",
              "       [ 1.12815215, -1.49633548, -1.05194947,  1.62274124],\n",
              "       [-0.88640526,  0.7284319 , -1.05194947, -1.4053405 ],\n",
              "       [-0.88640526, -1.28103541, -1.05194947,  1.19570407],\n",
              "       [-0.88640526,  0.22606507, -1.01378004, -1.28887582],\n",
              "       [-0.88640526, -0.6351352 , -1.01378004,  0.88513158],\n",
              "       [-0.88640526, -0.20453507, -0.89927175, -0.93948177],\n",
              "       [-0.88640526, -1.3528021 , -0.89927175,  0.96277471],\n",
              "       [-0.88640526,  1.87669894, -0.86110232, -0.59008772],\n",
              "       [ 1.12815215, -1.06573534, -0.86110232,  1.62274124],\n",
              "       [ 1.12815215,  0.65666521, -0.82293289, -0.55126616],\n",
              "       [-0.88640526, -0.56336851, -0.82293289,  0.41927286],\n",
              "       [-0.88640526,  0.7284319 , -0.82293289, -0.86183865],\n",
              "       [-0.88640526, -1.06573534, -0.82293289,  0.5745591 ],\n",
              "       [-0.88640526,  0.80019859, -0.78476346,  0.18634349],\n",
              "       [-0.88640526, -0.85043527, -0.78476346, -0.12422899],\n",
              "       [-0.88640526, -0.70690189, -0.78476346, -0.3183368 ],\n",
              "       [-0.88640526, -0.56336851, -0.78476346, -0.3183368 ],\n",
              "       [-0.88640526,  0.7284319 , -0.70842461,  0.06987881],\n",
              "       [ 1.12815215, -0.41983513, -0.70842461,  0.38045129],\n",
              "       [-0.88640526, -0.56336851, -0.67025518,  0.14752193],\n",
              "       [ 1.12815215,  1.4460988 , -0.67025518,  0.38045129],\n",
              "       [-0.88640526,  0.80019859, -0.67025518, -0.20187212],\n",
              "       [ 1.12815215,  0.58489852, -0.67025518, -0.35715836],\n",
              "       [-0.88640526,  0.87196528, -0.63208575, -0.00776431],\n",
              "       [ 1.12815215,  2.16376569, -0.63208575, -0.16305055],\n",
              "       [-0.88640526, -0.85043527, -0.55574689,  0.03105725],\n",
              "       [ 1.12815215,  1.01549866, -0.55574689, -0.16305055],\n",
              "       [ 1.12815215,  2.23553238, -0.55574689,  0.22516505],\n",
              "       [ 1.12815215, -1.42456879, -0.55574689,  0.18634349],\n",
              "       [-0.88640526,  2.02023231, -0.51757746,  0.06987881],\n",
              "       [-0.88640526,  1.08726535, -0.51757746,  0.34162973],\n",
              "       [ 1.12815215,  1.73316556, -0.47940803,  0.03105725],\n",
              "       [ 1.12815215, -1.49633548, -0.47940803,  0.34162973],\n",
              "       [-0.88640526,  0.29783176, -0.47940803, -0.00776431],\n",
              "       [-0.88640526,  2.091999  , -0.47940803, -0.08540743],\n",
              "       [ 1.12815215, -1.42456879, -0.47940803,  0.34162973],\n",
              "       [-0.88640526, -0.49160182, -0.47940803, -0.12422899],\n",
              "       [ 1.12815215,  2.23553238, -0.4412386 ,  0.18634349],\n",
              "       [-0.88640526,  0.58489852, -0.4412386 , -0.3183368 ],\n",
              "       [-0.88640526,  1.51786549, -0.40306917, -0.04658587],\n",
              "       [-0.88640526,  1.51786549, -0.40306917,  0.22516505],\n",
              "       [ 1.12815215,  1.4460988 , -0.25039146, -0.12422899],\n",
              "       [ 1.12815215, -0.92220196, -0.25039146,  0.14752193],\n",
              "       [-0.88640526,  0.44136514, -0.25039146,  0.10870037],\n",
              "       [ 1.12815215,  0.08253169, -0.25039146, -0.08540743],\n",
              "       [-0.88640526, -1.13750203, -0.25039146,  0.06987881],\n",
              "       [-0.88640526,  0.7284319 , -0.25039146, -0.3183368 ],\n",
              "       [ 1.12815215,  1.30256542, -0.25039146,  0.03105725],\n",
              "       [ 1.12815215, -0.06100169, -0.25039146,  0.18634349],\n",
              "       [ 1.12815215,  2.02023231, -0.25039146, -0.35715836],\n",
              "       [-0.88640526,  0.51313183, -0.25039146, -0.24069368],\n",
              "       [-0.88640526, -1.28103541, -0.25039146,  0.26398661],\n",
              "       [ 1.12815215,  0.65666521, -0.25039146, -0.16305055],\n",
              "       [-0.88640526,  1.15903204, -0.13588317,  0.30280817],\n",
              "       [-0.88640526, -1.20926872, -0.13588317,  0.18634349],\n",
              "       [-0.88640526, -0.34806844, -0.09771374,  0.38045129],\n",
              "       [-0.88640526,  0.80019859, -0.09771374, -0.16305055],\n",
              "       [-0.88640526,  2.091999  , -0.05954431,  0.18634349],\n",
              "       [ 1.12815215, -1.49633548, -0.05954431, -0.35715836],\n",
              "       [ 1.12815215,  0.65666521, -0.02137488, -0.04658587],\n",
              "       [-0.88640526,  0.08253169, -0.02137488, -0.39597992],\n",
              "       [-0.88640526, -0.49160182, -0.02137488, -0.3183368 ],\n",
              "       [ 1.12815215, -1.06573534, -0.02137488,  0.06987881],\n",
              "       [-0.88640526,  0.58489852, -0.02137488, -0.12422899],\n",
              "       [-0.88640526, -0.85043527, -0.02137488, -0.00776431],\n",
              "       [ 1.12815215,  0.65666521,  0.01679455, -0.3183368 ],\n",
              "       [ 1.12815215, -1.3528021 ,  0.01679455, -0.04658587],\n",
              "       [-0.88640526, -1.13750203,  0.05496398, -0.35715836],\n",
              "       [-0.88640526,  0.7284319 ,  0.05496398, -0.08540743],\n",
              "       [ 1.12815215,  2.02023231,  0.05496398,  0.34162973],\n",
              "       [ 1.12815215, -0.92220196,  0.05496398,  0.18634349],\n",
              "       [ 1.12815215,  0.7284319 ,  0.05496398,  0.22516505],\n",
              "       [-0.88640526, -1.28103541,  0.05496398, -0.3183368 ],\n",
              "       [-0.88640526,  1.94846562,  0.09313341, -0.00776431],\n",
              "       [ 1.12815215,  1.08726535,  0.09313341, -0.16305055],\n",
              "       [ 1.12815215,  2.091999  ,  0.09313341, -0.27951524],\n",
              "       [ 1.12815215,  1.94846562,  0.09313341, -0.08540743],\n",
              "       [ 1.12815215,  1.87669894,  0.09313341,  0.06987881],\n",
              "       [-0.88640526, -1.42456879,  0.09313341,  0.14752193],\n",
              "       [-0.88640526, -0.06100169,  0.13130284, -0.3183368 ],\n",
              "       [ 1.12815215, -1.42456879,  0.13130284, -0.16305055],\n",
              "       [-0.88640526, -1.49633548,  0.16947227, -0.08540743],\n",
              "       [-0.88640526, -1.42456879,  0.16947227, -0.00776431],\n",
              "       [-0.88640526,  1.73316556,  0.16947227, -0.27951524],\n",
              "       [-0.88640526,  0.7284319 ,  0.16947227,  0.34162973],\n",
              "       [-0.88640526,  0.87196528,  0.24581112, -0.27951524],\n",
              "       [-0.88640526,  0.80019859,  0.24581112,  0.26398661],\n",
              "       [ 1.12815215, -0.85043527,  0.24581112,  0.22516505],\n",
              "       [-0.88640526, -0.06100169,  0.24581112, -0.39597992],\n",
              "       [-0.88640526,  0.08253169,  0.32214998,  0.30280817],\n",
              "       [ 1.12815215,  0.010765  ,  0.32214998,  1.58391968],\n",
              "       [-0.88640526, -1.13750203,  0.36031941, -0.82301709],\n",
              "       [-0.88640526, -0.56336851,  0.36031941,  1.04041783],\n",
              "       [ 1.12815215,  0.29783176,  0.39848884, -0.59008772],\n",
              "       [ 1.12815215,  0.08253169,  0.39848884,  1.73920592],\n",
              "       [ 1.12815215,  1.4460988 ,  0.39848884, -1.52180518],\n",
              "       [ 1.12815215, -0.06100169,  0.39848884,  0.96277471],\n",
              "       [ 1.12815215,  0.58489852,  0.39848884, -1.5994483 ],\n",
              "       [ 1.12815215,  0.010765  ,  0.39848884,  0.96277471],\n",
              "       [-0.88640526, -0.99396865,  0.43665827, -0.62890928],\n",
              "       [-0.88640526, -0.56336851,  0.43665827,  0.80748846],\n",
              "       [ 1.12815215, -1.3528021 ,  0.4748277 , -1.75473454],\n",
              "       [-0.88640526, -0.70690189,  0.4748277 ,  1.46745499],\n",
              "       [-0.88640526,  0.36959845,  0.4748277 , -1.67709142],\n",
              "       [ 1.12815215, -0.49160182,  0.4748277 ,  0.88513158],\n",
              "       [ 1.12815215, -1.42456879,  0.51299713, -1.56062674],\n",
              "       [-0.88640526, -0.27630176,  0.51299713,  0.84631002],\n",
              "       [-0.88640526,  1.30256542,  0.55116656, -1.75473454],\n",
              "       [ 1.12815215, -0.49160182,  0.55116656,  1.6615628 ],\n",
              "       [-0.88640526, -0.77866858,  0.58933599, -0.39597992],\n",
              "       [-0.88640526, -0.49160182,  0.58933599,  1.42863343],\n",
              "       [ 1.12815215, -0.99396865,  0.62750542, -1.48298362],\n",
              "       [ 1.12815215, -0.77866858,  0.62750542,  1.81684904],\n",
              "       [ 1.12815215,  0.65666521,  0.62750542, -0.55126616],\n",
              "       [-0.88640526, -0.49160182,  0.62750542,  0.92395314],\n",
              "       [-0.88640526, -0.34806844,  0.66567484, -1.09476801],\n",
              "       [ 1.12815215, -0.34806844,  0.66567484,  1.54509812],\n",
              "       [ 1.12815215,  0.29783176,  0.66567484, -1.28887582],\n",
              "       [ 1.12815215,  0.010765  ,  0.66567484,  1.46745499],\n",
              "       [-0.88640526,  0.36959845,  0.66567484, -1.17241113],\n",
              "       [-0.88640526, -0.06100169,  0.66567484,  1.00159627],\n",
              "       [-0.88640526,  0.58489852,  0.66567484, -1.32769738],\n",
              "       [-0.88640526, -0.85043527,  0.66567484,  1.50627656],\n",
              "       [ 1.12815215, -0.13276838,  0.66567484, -1.91002079],\n",
              "       [-0.88640526, -0.6351352 ,  0.66567484,  1.07923939],\n",
              "       [ 1.12815215, -0.34806844,  0.66567484, -1.91002079],\n",
              "       [-0.88640526, -0.6351352 ,  0.66567484,  0.88513158],\n",
              "       [-0.88640526,  1.23079873,  0.70384427, -0.59008772],\n",
              "       [-0.88640526, -0.70690189,  0.70384427,  1.27334719],\n",
              "       [ 1.12815215, -1.42456879,  0.78018313, -1.75473454],\n",
              "       [-0.88640526, -0.56336851,  0.78018313,  1.6615628 ],\n",
              "       [ 1.12815215,  0.80019859,  0.93286085, -0.93948177],\n",
              "       [-0.88640526, -0.20453507,  0.93286085,  0.96277471],\n",
              "       [ 1.12815215,  0.22606507,  0.97103028, -1.17241113],\n",
              "       [-0.88640526, -0.41983513,  0.97103028,  1.73920592],\n",
              "       [-0.88640526, -0.20453507,  1.00919971, -0.90066021],\n",
              "       [ 1.12815215, -0.49160182,  1.00919971,  0.49691598],\n",
              "       [ 1.12815215,  0.08253169,  1.00919971, -1.44416206],\n",
              "       [ 1.12815215, -0.77866858,  1.00919971,  0.96277471],\n",
              "       [ 1.12815215, -0.20453507,  1.00919971, -1.56062674],\n",
              "       [ 1.12815215, -0.20453507,  1.00919971,  1.62274124],\n",
              "       [-0.88640526,  0.94373197,  1.04736914, -1.44416206],\n",
              "       [-0.88640526, -0.6351352 ,  1.04736914,  1.38981187],\n",
              "       [ 1.12815215,  1.37433211,  1.04736914, -1.36651894],\n",
              "       [ 1.12815215, -0.85043527,  1.04736914,  0.72984534],\n",
              "       [ 1.12815215,  1.4460988 ,  1.23821628, -1.4053405 ],\n",
              "       [ 1.12815215, -0.27630176,  1.23821628,  1.54509812],\n",
              "       [-0.88640526, -0.13276838,  1.390894  , -0.7065524 ],\n",
              "       [-0.88640526, -0.49160182,  1.390894  ,  1.38981187],\n",
              "       [ 1.12815215,  0.51313183,  1.42906343, -1.36651894],\n",
              "       [-0.88640526, -0.70690189,  1.42906343,  1.46745499],\n",
              "       [-0.88640526,  0.15429838,  1.46723286, -0.43480148],\n",
              "       [ 1.12815215, -0.6351352 ,  1.46723286,  1.81684904],\n",
              "       [-0.88640526,  1.08726535,  1.54357172, -1.01712489],\n",
              "       [ 1.12815215, -0.77866858,  1.54357172,  0.69102378],\n",
              "       [-0.88640526,  0.15429838,  1.61991057, -1.28887582],\n",
              "       [-0.88640526, -0.20453507,  1.61991057,  1.35099031],\n",
              "       [-0.88640526, -0.34806844,  1.61991057, -1.05594645],\n",
              "       [-0.88640526, -0.49160182,  1.61991057,  0.72984534],\n",
              "       [ 1.12815215, -0.41983513,  2.00160487, -1.63826986],\n",
              "       [-0.88640526, -0.06100169,  2.00160487,  1.58391968],\n",
              "       [-0.88640526,  0.58489852,  2.26879087, -1.32769738],\n",
              "       [-0.88640526, -0.27630176,  2.26879087,  1.11806095],\n",
              "       [-0.88640526,  0.44136514,  2.49780745, -0.86183865],\n",
              "       [ 1.12815215, -0.49160182,  2.49780745,  0.92395314],\n",
              "       [ 1.12815215, -0.49160182,  2.91767117, -1.25005425],\n",
              "       [ 1.12815215, -0.6351352 ,  2.91767117,  1.27334719]])"
            ]
          },
          "metadata": {},
          "execution_count": 65
        }
      ]
    },
    {
      "cell_type": "code",
      "source": [
        "df2_esc.shape"
      ],
      "metadata": {
        "colab": {
          "base_uri": "https://localhost:8080/"
        },
        "id": "689M5zhsshnl",
        "outputId": "e15f52ea-7339-4f9d-c688-12b8a4c1416a"
      },
      "execution_count": 66,
      "outputs": [
        {
          "output_type": "execute_result",
          "data": {
            "text/plain": [
              "(200, 4)"
            ]
          },
          "metadata": {},
          "execution_count": 66
        }
      ]
    },
    {
      "cell_type": "markdown",
      "source": [
        "## Componentes principais\n",
        "\n",
        "O que o PCA faz?\n",
        "\n",
        "PCA, ou Principal Component Analysis é uma técnica para reduzir a dimensão de um conjunto de dados preservando, de certa forma, suas propriedades. \n",
        "\n",
        "O uso da técnica PCA na redução da dimensão de dados é justificado pela fácil representação de dados multidimensionais, utilizando a informação contida na matriz de covariância dos dados, princípios da álgebra linear e estatística básica."
      ],
      "metadata": {
        "id": "rHsUHONbsmR2"
      }
    },
    {
      "cell_type": "code",
      "source": [
        "# Importando a biblioteca necessária: PCA\n",
        "from sklearn.decomposition import PCA"
      ],
      "metadata": {
        "id": "5_fBUG5WsrbO"
      },
      "execution_count": 67,
      "outputs": []
    },
    {
      "cell_type": "code",
      "source": [
        "# Reduzindo para 2 a quantidade de atributos necessários utilizando o PCA\n",
        "pca = PCA(n_components=2)"
      ],
      "metadata": {
        "id": "6xZPf642tAo8"
      },
      "execution_count": 68,
      "outputs": []
    },
    {
      "cell_type": "code",
      "source": [
        "df2_pca = pca.fit_transform(df2_esc)"
      ],
      "metadata": {
        "id": "YL4BfjdNuRte"
      },
      "execution_count": 69,
      "outputs": []
    },
    {
      "cell_type": "code",
      "source": [
        "df2_pca"
      ],
      "metadata": {
        "id": "qQgTgadoud6W",
        "colab": {
          "base_uri": "https://localhost:8080/"
        },
        "outputId": "3fb3ff5d-ca93-49d2-e74b-f1dec8dd7d84"
      },
      "execution_count": 70,
      "outputs": [
        {
          "output_type": "execute_result",
          "data": {
            "text/plain": [
              "array([[-4.06382715e-01, -5.20713635e-01],\n",
              "       [-1.42767287e+00, -3.67310199e-01],\n",
              "       [ 5.07605706e-02, -1.89406774e+00],\n",
              "       [-1.69451310e+00, -1.63190805e+00],\n",
              "       [-3.13108383e-01, -1.81048272e+00],\n",
              "       [-1.71744627e+00, -1.59926418e+00],\n",
              "       [ 7.90821124e-01, -1.94727112e+00],\n",
              "       [-2.14832159e+00, -1.50537369e+00],\n",
              "       [ 2.77428623e+00, -8.82987672e-01],\n",
              "       [-1.21629477e+00, -1.61640464e+00],\n",
              "       [ 2.62905084e+00, -8.61237043e-01],\n",
              "       [-1.68947038e+00, -1.54542784e+00],\n",
              "       [ 1.68582253e+00, -2.02394479e+00],\n",
              "       [-1.64607339e+00, -1.52251259e+00],\n",
              "       [ 1.17443628e+00, -6.12790961e-01],\n",
              "       [-1.32613070e+00, -2.36719149e-01],\n",
              "       [ 1.67728253e-02, -1.74344572e+00],\n",
              "       [-1.07842454e+00, -2.44715641e-01],\n",
              "       [ 1.48758780e+00, -5.72676028e-01],\n",
              "       [-1.66373169e+00, -1.43259774e+00],\n",
              "       [ 4.88090311e-01, -3.92921145e-01],\n",
              "       [-1.01895051e+00, -1.66247511e-01],\n",
              "       [ 1.35891492e+00, -1.82866936e+00],\n",
              "       [-7.22972722e-01, -1.81687017e-01],\n",
              "       [ 1.51315931e+00, -1.76451196e+00],\n",
              "       [-1.06241157e+00, -4.31150614e-02],\n",
              "       [ 5.88832908e-01, -1.62541614e+00],\n",
              "       [-2.06188227e-01, -1.71906970e-01],\n",
              "       [ 3.68426440e-01, -1.56300645e+00],\n",
              "       [-1.96420414e+00, -1.21211990e+00],\n",
              "       [ 2.54759194e+00, -5.27913522e-01],\n",
              "       [-1.68983067e+00, -1.22412321e+00],\n",
              "       [ 2.20131721e+00, -3.88195647e-01],\n",
              "       [-1.87329695e+00,  2.24855270e-01],\n",
              "       [ 1.26515693e+00, -1.58125854e+00],\n",
              "       [-1.90386557e+00, -1.10444099e+00],\n",
              "       [ 8.39344590e-01, -1.48793867e+00],\n",
              "       [-1.24644437e+00, -1.17425940e+00],\n",
              "       [ 3.02432444e-01, -1.31960089e+00],\n",
              "       [-1.79415868e+00, -1.00420352e+00],\n",
              "       [ 1.49387594e+00, -1.47013252e+00],\n",
              "       [-1.57824777e+00,  3.26252676e-01],\n",
              "       [ 1.09972892e+00, -4.75148304e-02],\n",
              "       [-8.78229151e-01, -1.08373653e+00],\n",
              "       [ 8.90421740e-01, -1.34990772e+00],\n",
              "       [-1.33047664e+00, -1.01561907e+00],\n",
              "       [ 2.19540681e-01, -1.21995587e+00],\n",
              "       [-7.02592333e-01, -1.08085693e+00],\n",
              "       [-4.70519161e-01, -1.11577393e+00],\n",
              "       [-3.71782513e-01, -1.13065684e+00],\n",
              "       [ 2.49709965e-01, -1.16611641e+00],\n",
              "       [-2.81507713e-01,  2.47898317e-01],\n",
              "       [-6.92486630e-01, -9.94947343e-01],\n",
              "       [ 1.00183656e+00,  8.36296961e-02],\n",
              "       [ 4.85517270e-01, -1.17239636e+00],\n",
              "       [ 9.16095461e-01,  9.67976267e-02],\n",
              "       [ 4.01316916e-01, -1.13059450e+00],\n",
              "       [ 1.86862991e+00, -1.76710825e-02],\n",
              "       [-8.10654470e-01, -8.89574289e-01],\n",
              "       [ 1.07827242e+00,  1.59810666e-01],\n",
              "       [ 1.65086088e+00,  7.33740960e-02],\n",
              "       [-8.40256337e-01,  4.48881521e-01],\n",
              "       [ 1.13717903e+00, -1.15401647e+00],\n",
              "       [ 3.08719686e-01, -1.02922982e+00],\n",
              "       [ 1.43815483e+00,  1.63848653e-01],\n",
              "       [-9.96758186e-01,  5.30768704e-01],\n",
              "       [ 5.44171232e-03, -9.54225943e-01],\n",
              "       [ 1.29298442e+00, -1.14827597e+00],\n",
              "       [-9.47389862e-01,  5.23327249e-01],\n",
              "       [-4.57607937e-01, -8.84390383e-01],\n",
              "       [ 1.67683173e+00,  1.56994962e-01],\n",
              "       [ 4.16021294e-01, -9.86837080e-01],\n",
              "       [ 8.70906219e-01, -1.02631905e+00],\n",
              "       [ 6.84235085e-01, -9.98271327e-01],\n",
              "       [ 1.34595784e+00,  3.52842574e-01],\n",
              "       [-4.69867989e-01,  6.26458338e-01],\n",
              "       [ 2.27835275e-02, -7.81833032e-01],\n",
              "       [ 3.81292376e-01,  4.98237051e-01],\n",
              "       [-1.03665230e+00, -6.22127824e-01],\n",
              "       [ 5.13597177e-01, -8.55673851e-01],\n",
              "       [ 1.14055197e+00,  3.83752756e-01],\n",
              "       [ 9.58845944e-02,  5.41167687e-01],\n",
              "       [ 1.90090826e+00,  2.69270021e-01],\n",
              "       [ 3.12157595e-01, -8.25335848e-01],\n",
              "       [-1.26872547e+00, -5.87210823e-01],\n",
              "       [ 8.29573578e-01,  4.30691769e-01],\n",
              "       [ 3.82433784e-01, -7.48585816e-01],\n",
              "       [-1.16671899e+00, -5.15038230e-01],\n",
              "       [-7.07867782e-01, -5.55092382e-01],\n",
              "       [ 4.55367669e-01, -7.30251123e-01],\n",
              "       [ 1.10375960e+00, -7.98926738e-01],\n",
              "       [-5.19300383e-01,  7.79947493e-01],\n",
              "       [ 7.48178745e-01,  6.17967591e-01],\n",
              "       [ 1.21223952e-01, -6.21459016e-01],\n",
              "       [-3.27057250e-01, -5.53913735e-01],\n",
              "       [-5.16662945e-01,  8.08582982e-01],\n",
              "       [ 2.80131086e-01, -6.45501482e-01],\n",
              "       [-7.87237308e-01, -4.84651914e-01],\n",
              "       [ 9.34617726e-01,  6.19129095e-01],\n",
              "       [-6.34366480e-01,  8.55537580e-01],\n",
              "       [-7.45169167e-01, -4.32528995e-01],\n",
              "       [ 3.51736123e-01, -5.97959120e-01],\n",
              "       [ 1.41903955e+00,  5.75066566e-01],\n",
              "       [-4.98392518e-01,  8.64138980e-01],\n",
              "       [ 6.10411629e-01,  6.96992316e-01],\n",
              "       [-8.70573120e-01, -4.13639266e-01],\n",
              "       [ 1.13743087e+00, -6.87241003e-01],\n",
              "       [ 1.12369414e+00,  6.48926087e-01],\n",
              "       [ 1.89485259e+00,  5.32725254e-01],\n",
              "       [ 1.66277942e+00,  5.67642254e-01],\n",
              "       [ 1.50674188e+00,  5.91110981e-01],\n",
              "       [-1.28954958e+00, -3.21465312e-01],\n",
              "       [-3.17759179e-02, -4.81725557e-01],\n",
              "       [-6.04429349e-01,  9.38586267e-01],\n",
              "       [-1.17937838e+00, -2.79646307e-01],\n",
              "       [-1.18334467e+00, -2.79074127e-01],\n",
              "       [ 1.17553272e+00, -6.34545905e-01],\n",
              "       [ 5.76993109e-02, -4.66256439e-01],\n",
              "       [ 5.82648530e-01, -4.86829980e-01],\n",
              "       [ 1.59937938e-01, -4.23293075e-01],\n",
              "       [-4.76852264e-01,  1.00675048e+00],\n",
              "       [ 2.08622326e-02, -4.02111508e-01],\n",
              "       [-3.60876912e-01, -2.86453243e-01],\n",
              "       [-8.18252351e-01,  1.11611009e+00],\n",
              "       [-4.27018733e-01, -2.46936984e-01],\n",
              "       [-1.31210277e+00, -1.14141375e-01],\n",
              "       [ 8.72125709e-01,  9.20380930e-01],\n",
              "       [-8.76017553e-01,  1.18311437e+00],\n",
              "       [ 2.30203421e+00,  7.05154010e-01],\n",
              "       [-4.41408104e-01,  1.11786092e+00],\n",
              "       [ 1.76294893e+00,  7.86437844e-01],\n",
              "       [-3.92039780e-01,  1.11041946e+00],\n",
              "       [-4.62082916e-01, -1.83367350e-01],\n",
              "       [-1.15256325e+00, -7.97638257e-02],\n",
              "       [ 5.36209096e-01,  1.02974833e+00],\n",
              "       [-1.70487623e+00,  3.24442165e-02],\n",
              "       [ 1.19570032e+00, -4.03729862e-01],\n",
              "       [-6.84747745e-01,  1.21291448e+00],\n",
              "       [ 3.53272095e-01,  1.08643311e+00],\n",
              "       [-9.82221565e-01, -4.71043747e-02],\n",
              "       [ 1.89035883e+00, -4.50063966e-01],\n",
              "       [-1.21855815e+00,  1.35146929e+00],\n",
              "       [-4.74910385e-01, -6.48138980e-02],\n",
              "       [-1.53080042e+00,  9.37407158e-02],\n",
              "       [ 5.95450970e-01,  1.13742569e+00],\n",
              "       [-1.52316497e+00,  1.45568084e+00],\n",
              "       [ 1.09090711e+00,  1.06243584e+00],\n",
              "       [-1.18435761e+00,  7.08613124e-02],\n",
              "       [ 3.00846740e-01, -1.23166897e-01],\n",
              "       [-1.04051604e+00,  1.41219361e+00],\n",
              "       [ 1.35051212e+00,  1.05272281e+00],\n",
              "       [-7.40339814e-01,  1.36697269e+00],\n",
              "       [ 8.47864590e-01, -2.05595090e-01],\n",
              "       [-9.41714425e-01,  6.34354417e-02],\n",
              "       [ 1.10263878e+00, -2.43946728e-01],\n",
              "       [-1.83144095e+00,  1.97380086e-01],\n",
              "       [ 1.48097906e+00,  1.03326246e+00],\n",
              "       [-1.38999563e+00,  1.30980723e-01],\n",
              "       [ 1.33287409e+00,  1.05558682e+00],\n",
              "       [-1.25665910e+00,  1.10946634e-01],\n",
              "       [ 1.04004275e+00, -2.05581064e-01],\n",
              "       [-1.57293263e+00,  1.87665496e-01],\n",
              "       [ 4.84983547e-01,  1.27086361e+00],\n",
              "       [-1.74133333e+00,  2.71269219e-01],\n",
              "       [ 1.45445958e+00,  1.24115857e+00],\n",
              "       [-1.01540884e+00,  2.78776132e-01],\n",
              "       [ 1.21928466e+00,  1.30585854e+00],\n",
              "       [-1.69709206e+00,  4.10446083e-01],\n",
              "       [ 2.64157486e-01,  1.44867334e-01],\n",
              "       [-4.21324839e-01,  1.58177549e+00],\n",
              "       [ 1.30698699e+00,  1.32190295e+00],\n",
              "       [-9.38805793e-01,  1.65962313e+00],\n",
              "       [ 1.18951561e+00,  1.33964832e+00],\n",
              "       [-9.97203383e-01,  1.66820738e+00],\n",
              "       [ 1.42716078e+00, -1.08217936e-03],\n",
              "       [-1.60565560e+00,  4.55127547e-01],\n",
              "       [ 2.14205006e+00,  1.22517962e+00],\n",
              "       [-8.28402441e-01,  1.67223290e+00],\n",
              "       [ 2.21692493e+00,  1.35977748e+00],\n",
              "       [-9.94630016e-01,  1.84289057e+00],\n",
              "       [ 1.77867756e-01,  4.49552248e-01],\n",
              "       [-1.50900833e+00,  7.03127688e-01],\n",
              "       [ 1.54730865e+00,  1.60656936e+00],\n",
              "       [-1.71068006e+00,  7.62674919e-01],\n",
              "       [ 1.88205612e-01,  5.06252606e-01],\n",
              "       [-1.42953569e+00,  2.08340094e+00],\n",
              "       [ 1.22953909e+00,  4.07829870e-01],\n",
              "       [-7.55384802e-01,  2.04050460e+00],\n",
              "       [ 7.73957706e-01,  5.34939526e-01],\n",
              "       [-1.28626064e+00,  8.44610416e-01],\n",
              "       [ 2.68375609e-01,  6.11070624e-01],\n",
              "       [-1.05705706e+00,  8.10267154e-01],\n",
              "       [ 1.08870927e+00,  2.11339899e+00],\n",
              "       [-1.34984935e+00,  1.14586069e+00],\n",
              "       [ 1.09288835e+00,  9.82840852e-01],\n",
              "       [-1.17957174e+00,  1.32456784e+00],\n",
              "       [ 6.72751128e-01,  1.22106095e+00],\n",
              "       [-7.23719161e-01,  2.76501038e+00],\n",
              "       [ 7.67096226e-01,  2.86193009e+00],\n",
              "       [-1.06501524e+00,  3.13725616e+00]])"
            ]
          },
          "metadata": {},
          "execution_count": 70
        }
      ]
    },
    {
      "cell_type": "code",
      "source": [
        "# Razão  das variáveis explicativa\n",
        "pca.explained_variance_ratio_"
      ],
      "metadata": {
        "colab": {
          "base_uri": "https://localhost:8080/"
        },
        "id": "8bZOaXvNu3-c",
        "outputId": "2d67c092-f3f4-4b48-ca54-5f516a7f226a"
      },
      "execution_count": 71,
      "outputs": [
        {
          "output_type": "execute_result",
          "data": {
            "text/plain": [
              "array([0.33690046, 0.26230645])"
            ]
          },
          "metadata": {},
          "execution_count": 71
        }
      ]
    },
    {
      "cell_type": "code",
      "source": [
        "# Soma das variáveis explicativa\n",
        "pca.explained_variance_ratio_.sum()"
      ],
      "metadata": {
        "colab": {
          "base_uri": "https://localhost:8080/"
        },
        "id": "UhDCTr21vDu1",
        "outputId": "6dffffd8-cefd-4391-b03b-bbb4503dfb94"
      },
      "execution_count": 72,
      "outputs": [
        {
          "output_type": "execute_result",
          "data": {
            "text/plain": [
              "0.5992069019819846"
            ]
          },
          "metadata": {},
          "execution_count": 72
        }
      ]
    },
    {
      "cell_type": "markdown",
      "source": [
        "A soma das variáveis criadas pelo processo de PCA equivale a 59% da relação com as 4 variáveis iniciais. O ideal é que esse valor seja o mais próximo possível de 100%, o que representaria menor perda de relação com os dados originais.\n",
        "\n",
        "59% é um valor muito baixo e representa 41% de perda de representação dos dados originais, mas para fins didáticos seguirei com o processo de K-means com o PCA até o final."
      ],
      "metadata": {
        "id": "apKBxM-MvXuC"
      }
    },
    {
      "cell_type": "markdown",
      "source": [
        "## Método Elbow para identificar a quantidade adequada de clusters através do wcss"
      ],
      "metadata": {
        "id": "uzuGlbrNxDMs"
      }
    },
    {
      "cell_type": "code",
      "source": [
        "from sklearn.cluster import KMeans\n",
        "wcss = []\n",
        "for i in range (1, 11):\n",
        "    kmeans = KMeans(n_clusters = i, init = 'k-means++', random_state= 5, max_iter=300)\n",
        "    kmeans.fit(df2_pca)\n",
        "    # inertia - Método para gerar o wcss\n",
        "    wcss.append(kmeans.inertia_)"
      ],
      "metadata": {
        "id": "6XR9T1T7xZ4G"
      },
      "execution_count": 73,
      "outputs": []
    },
    {
      "cell_type": "code",
      "source": [
        "import matplotlib.pyplot as plt\n",
        "import seaborn as sns"
      ],
      "metadata": {
        "id": "YjQOPmKVxiAj"
      },
      "execution_count": 74,
      "outputs": []
    },
    {
      "cell_type": "code",
      "source": [
        "plt.figure(figsize=(10,5))\n",
        "sns.lineplot(range(1,11), wcss, marker=\"o\", color=\"red\")\n",
        "plt.title(\"Método Elbow\")\n",
        "plt.xlabel(\"Número de clusters\")\n",
        "plt.ylabel(\"WCSS\")"
      ],
      "metadata": {
        "colab": {
          "base_uri": "https://localhost:8080/",
          "height": 0
        },
        "id": "FohW9sE1xvwU",
        "outputId": "a07ecb82-c102-4ee0-f877-2e04e98195fb"
      },
      "execution_count": 75,
      "outputs": [
        {
          "output_type": "execute_result",
          "data": {
            "text/plain": [
              "Text(0, 0.5, 'WCSS')"
            ]
          },
          "metadata": {},
          "execution_count": 75
        },
        {
          "output_type": "display_data",
          "data": {
            "text/plain": [
              "<Figure size 720x360 with 1 Axes>"
            ],
            "image/png": "[encoded data removed]"
          },
          "metadata": {
            "needs_background": "light"
          }
        }
      ]
    },
    {
      "cell_type": "code",
      "source": [
        "# Através do gráfico é possivel identificar o ponto de inflexão, que neste caso seria o 4\n",
        "# O ponto de inflexão representa a quantidade ideal de clusters"
      ],
      "metadata": {
        "id": "tvWwOcQrxyGx"
      },
      "execution_count": 76,
      "outputs": []
    },
    {
      "cell_type": "markdown",
      "source": [
        "## Agrupamento"
      ],
      "metadata": {
        "id": "sKfMRaasx1L4"
      }
    },
    {
      "cell_type": "code",
      "source": [
        "kmeans = KMeans(n_clusters = 4, init = \"k-means++\", random_state = 5, max_iter = 300)"
      ],
      "metadata": {
        "id": "WARqvfH4x0BL"
      },
      "execution_count": 77,
      "outputs": []
    },
    {
      "cell_type": "code",
      "source": [
        "kmeans3 = kmeans.fit(df2_pca)"
      ],
      "metadata": {
        "id": "kcOD10HSx8VS"
      },
      "execution_count": 78,
      "outputs": []
    },
    {
      "cell_type": "code",
      "source": [
        "# Coordenadas dos centróides\n",
        "centroides = kmeans3.cluster_centers_\n",
        "centroides"
      ],
      "metadata": {
        "colab": {
          "base_uri": "https://localhost:8080/"
        },
        "id": "XrvJj_qHx9wN",
        "outputId": "e830586b-9183-4d49-d07c-ad57f8383c0b"
      },
      "execution_count": 79,
      "outputs": [
        {
          "output_type": "execute_result",
          "data": {
            "text/plain": [
              "array([[-1.15208536, -0.48631961],\n",
              "       [ 0.80089898, -0.95285608],\n",
              "       [ 1.12773395,  0.75231371],\n",
              "       [-0.89664028,  1.25740369]])"
            ]
          },
          "metadata": {},
          "execution_count": 79
        }
      ]
    },
    {
      "cell_type": "code",
      "source": [
        "# Classificação dos dados\n",
        "classificacao3 = kmeans3.labels_\n",
        "classificacao3"
      ],
      "metadata": {
        "colab": {
          "base_uri": "https://localhost:8080/"
        },
        "id": "as8CprdyyA6f",
        "outputId": "98ef14f8-9821-4875-c629-1049234fe9de"
      },
      "execution_count": 80,
      "outputs": [
        {
          "output_type": "execute_result",
          "data": {
            "text/plain": [
              "array([0, 0, 1, 0, 1, 0, 1, 0, 1, 0, 1, 0, 1, 0, 1, 0, 1, 0, 1, 0, 1, 0,\n",
              "       1, 0, 1, 0, 1, 0, 1, 0, 1, 0, 1, 0, 1, 0, 1, 0, 1, 0, 1, 0, 2, 0,\n",
              "       1, 0, 1, 0, 0, 0, 1, 0, 0, 2, 1, 2, 1, 2, 0, 2, 2, 3, 1, 1, 2, 3,\n",
              "       1, 1, 3, 0, 2, 1, 1, 1, 2, 3, 1, 2, 0, 1, 2, 2, 2, 1, 0, 2, 1, 0,\n",
              "       0, 1, 1, 3, 2, 1, 0, 3, 1, 0, 2, 3, 0, 1, 2, 3, 2, 0, 1, 2, 2, 2,\n",
              "       2, 0, 1, 3, 0, 0, 1, 1, 1, 1, 3, 1, 0, 3, 0, 0, 2, 3, 2, 3, 2, 3,\n",
              "       0, 0, 2, 0, 1, 3, 2, 0, 1, 3, 0, 0, 2, 3, 2, 0, 1, 3, 2, 3, 1, 0,\n",
              "       1, 0, 2, 0, 2, 0, 1, 0, 2, 0, 2, 0, 2, 0, 2, 3, 2, 3, 2, 3, 2, 0,\n",
              "       2, 3, 2, 3, 2, 3, 2, 3, 2, 3, 2, 3, 2, 3, 2, 3, 2, 3, 2, 3, 2, 3,\n",
              "       2, 3], dtype=int32)"
            ]
          },
          "metadata": {},
          "execution_count": 80
        }
      ]
    },
    {
      "cell_type": "markdown",
      "source": [
        "## Visualizando graficamente com PLOTLY os agrupamentos por grupo"
      ],
      "metadata": {
        "id": "voX8PRvMyFGL"
      }
    },
    {
      "cell_type": "code",
      "source": [
        "import plotly.express as px\n",
        "import plotly.graph_objects as go"
      ],
      "metadata": {
        "id": "zroPvhW2yH4i"
      },
      "execution_count": 81,
      "outputs": []
    },
    {
      "cell_type": "code",
      "source": [
        "graf1 = px.scatter( x = df2_pca[:,0], y = df2_pca[:,1], color = classificacao3)\n",
        "graf2 = px.scatter( x = centroides[:,0], y = centroides[:,1], size = [15,15,15,15])\n",
        "graf3 = go.Figure( data = graf1.data + graf2.data)\n",
        "graf3.update_layout( width=800, height = 500, title_text=\"Agrupamento K-means\")\n",
        "graf3.update_xaxes(title=\"Rendimento anual (K$)\")\n",
        "graf3.update_yaxes(title=\"Pontuação\")\n",
        "graf3.show()"
      ],
      "metadata": {
        "colab": {
          "base_uri": "https://localhost:8080/",
          "height": 0
        },
        "id": "acUVJtvOyLCE",
        "outputId": "70c1099e-d2ba-4f2e-9d52-10980564e236"
      },
      "execution_count": 82,
      "outputs": [
        {
          "output_type": "display_data",
          "data": {
            "text/html": [
              "<html>\n",
              "<head><meta charset=\"utf-8\" /></head>\n",
              "<body>\n",
              "    <div>            <script src=\"https://cdnjs.cloudflare.com/ajax/libs/mathjax/2.7.5/MathJax.js?config=TeX-AMS-MML_SVG\"></script><script type=\"text/javascript\">if (window.MathJax) {MathJax.Hub.Config({SVG: {font: \"STIX-Web\"}});}</script>                <script type=\"text/javascript\">window.PlotlyConfig = {MathJaxConfig: 'local'};</script>\n",
              "        <script src=\"https://cdn.plot.ly/plotly-2.8.3.min.js\"></script>                <div id=\"2ffab101-774c-4ef0-ae69-aa641fbf1f31\" class=\"plotly-graph-div\" style=\"height:500px; width:800px;\"></div>            <script type=\"text/javascript\">                                    window.PLOTLYENV=window.PLOTLYENV || {};                                    if (document.getElementById(\"2ffab101-774c-4ef0-ae69-aa641fbf1f31\")) {                    Plotly.newPlot(                        \"2ffab101-774c-4ef0-ae69-aa641fbf1f31\",                        [{\"hovertemplate\":\"x=%{x}<br>y=%{y}<br>color=%{marker.color}<extra></extra>\",\"legendgroup\":\"\",\"marker\":{\"color\":[0,0,1,0,1,0,1,0,1,0,1,0,1,0,1,0,1,0,1,0,1,0,1,0,1,0,1,0,1,0,1,0,1,0,1,0,1,0,1,0,1,0,2,0,1,0,1,0,0,0,1,0,0,2,1,2,1,2,0,2,2,3,1,1,2,3,1,1,3,0,2,1,1,1,2,3,1,2,0,1,2,2,2,1,0,2,1,0,0,1,1,3,2,1,0,3,1,0,2,3,0,1,2,3,2,0,1,2,2,2,2,0,1,3,0,0,1,1,1,1,3,1,0,3,0,0,2,3,2,3,2,3,0,0,2,0,1,3,2,0,1,3,0,0,2,3,2,0,1,3,2,3,1,0,1,0,2,0,2,0,1,0,2,0,2,0,2,0,2,3,2,3,2,3,2,0,2,3,2,3,2,3,2,3,2,3,2,3,2,3,2,3,2,3,2,3,2,3,2,3],\"coloraxis\":\"coloraxis\",\"symbol\":\"circle\"},\"mode\":\"markers\",\"name\":\"\",\"orientation\":\"v\",\"showlegend\":false,\"x\":[-0.4063827151579539,-1.4276728699542152,0.05076057064985002,-1.694513100169418,-0.3131083826452846,-1.717446272386949,0.7908211244257646,-2.1483215883542,2.7742862260886674,-1.2162947672439097,2.629050844956019,-1.689470377641948,1.685822526686192,-1.646073388391044,1.1744362769650314,-1.326130701573071,0.016772825250205205,-1.0784245398454668,1.487587800437728,-1.6637316850276518,0.48809031054841423,-1.018950512841659,1.35891492179377,-0.7229727219419837,1.5131593111179211,-1.0624115725397136,0.5888329082822423,-0.20618822719626823,0.36842644009595854,-1.9642041381454174,2.547591941703815,-1.689830671589703,2.201317214598138,-1.8732969500021546,1.2651569258897126,-1.9038655693749462,0.8393445904066115,-1.2464443678738237,0.30243244384012896,-1.7941586766122868,1.4938759431071387,-1.5782477713162935,1.099728921816946,-0.8782291512115799,0.8904217399754469,-1.3304766384693378,0.21954068055520304,-0.7025923326402417,-0.4705191605153139,-0.3717825125309376,0.24970996494043868,-0.2815077131008843,-0.6924866296286218,1.0018365576425536,0.48551726967594544,0.9160954614703921,0.4013169164741282,1.8686299121045258,-0.8106544702734044,1.0782724221226085,1.6508608817087034,-0.8402563370647809,1.137179031532557,0.3087196858373392,1.4381548317970312,-0.9967581864763178,0.005441712322809042,1.2929844217837325,-0.9473898624841294,-0.4576079371069295,1.6768317273764533,0.4160212938629904,0.8709062189112103,0.6842350851144381,1.3459578368199983,-0.46986798871898217,0.0227835275021329,0.38129237614031347,-1.0366522954978958,0.5135971765800988,1.1405519695231807,0.0958845943591651,1.9009082577261656,0.3121575949473138,-1.2687254676228237,0.8295735777340393,0.3824337841231019,-1.166718993134776,-0.7078677824225231,0.4553676690460315,1.103759604398971,-0.5193003831583215,0.7481787449289868,0.12122395198590478,-0.3270572496078209,-0.5166629453678594,0.28013108613444954,-0.787237308193644,0.9346177256723055,-0.6343664799057346,-0.745169166816311,0.3517361231838084,1.4190395463925514,-0.49839251797472106,0.6104116290174958,-0.8705731196287977,1.1374308683413323,1.1236941442060857,1.89485259458105,1.6627794224561225,1.5067418791514935,-1.2895495786039513,-0.03177591786850641,-0.6044293485739525,-1.1793783797343846,-1.183344665398417,1.1755327240546332,0.05769931091423421,0.5826485300414681,0.15993793845573587,-0.4768522640779112,0.020862232627353535,-0.360876912401163,-0.8182523512624218,-0.42701873330661577,-1.3121027731184056,0.8721257089736012,-0.876017552689582,2.3020342087232586,-0.4414081041117519,1.762948930473222,-0.39203978011956386,-0.462082915569698,-1.1525632502566512,0.5362090958896765,-1.7048762333723564,1.1957003175874013,-0.6847477445155672,0.35327209470348325,-0.9822215652229159,1.8903588330351604,-1.2185581471846807,-0.47491038477561015,-1.5308004157280417,0.5954509698400304,-1.5231649685727817,1.09090710578571,-1.1843576060160614,0.30084673997659733,-1.0405160438763343,1.350512124505412,-0.7403398142591732,0.8478645895546993,-0.941714424772607,1.1026387808437048,-1.8314409514521104,1.4809790578020479,-1.3899956263663327,1.3328740858254835,-1.2566591022257811,1.0400427519858484,-1.5729326275525262,0.48498354746985955,-1.7413333339561599,1.4544595776235612,-1.015408839303048,1.219284661601264,-1.697092060895272,0.2641574863393399,-0.42132483898281414,1.3069869943602062,-0.9388057928888904,1.189515612875785,-0.997203383029261,1.4271607847544405,-1.605655595525751,2.1420500635099184,-0.8284024409658702,2.2169249270629487,-0.99463001568595,0.17786775565644064,-1.5090083250224569,1.5473086450691251,-1.7106800597086955,0.18820561172151373,-1.4295356877643843,1.2295390899347067,-0.7553848018404683,0.7739577057261265,-1.2862606425463154,0.2683756088121477,-1.057057061265303,1.0887092711656483,-1.3498493540651368,1.0928883525986548,-1.1795717394785525,0.6727511283562331,-0.7237191611767173,0.7670962256094708,-1.065015236202076],\"xaxis\":\"x\",\"y\":[-0.5207136347541887,-0.3673101985064729,-1.8940677431734187,-1.6319080463761149,-1.8104827229475533,-1.5992641803386483,-1.9472711231346211,-1.5053736875274362,-0.88298767174758,-1.6164046413069522,-0.8612370431432437,-1.5454278393385181,-2.0239447888163213,-1.5225125897317864,-0.6127909605390449,-0.23671914937157346,-1.7434457225503468,-0.24471564122901998,-0.5726760275517866,-1.4325977447537255,-0.39292114499292013,-0.16624751103390276,-1.828669357439307,-0.181687017398983,-1.7645119588687985,-0.04311506139167001,-1.6254161367177842,-0.17190696972129163,-1.563006447705596,-1.2121199030829253,-0.5279135219026179,-1.2241232127435877,-0.38819564740584867,0.22485527030598657,-1.5812585396653853,-1.1044409860268523,-1.4879386679529718,-1.174259402048703,-1.3196008889709374,-1.00420352471446,-1.4701325172117226,0.326252676328915,-0.04751483040251683,-1.0837365309459663,-1.3499077218383466,-1.0156190695273388,-1.219955868798189,-1.0808569291192682,-1.11577392962271,-1.1306568411100706,-1.1661164102701524,0.24789831732088355,-0.9949473431804704,0.08362969608219466,-1.1723963625393439,0.0967976267452531,-1.1305945011699412,-0.017671082502633453,-0.8895742893243904,0.15981066559025772,0.07337409597985196,0.44888152110433754,-1.1540164731713893,-1.029229823881031,0.1638486533635385,0.5307687042548868,-0.9542259428324893,-1.1482759720309321,0.5233272485112065,-0.884390383061653,0.15699496246764225,-0.9868370801359377,-1.0263190520842682,-0.9982713274617552,0.3528425737074088,0.6264583378713758,-0.7818330323281885,0.49823705064055307,-0.6221278237704353,-0.8556738511382878,0.3837527564076342,0.5411676867504268,0.2692700209386686,-0.8253358483008142,-0.5872108232669937,0.4306917690846773,-0.7485858164579056,-0.5150382303260997,-0.5550923821371821,-0.730251123281095,-0.7989267383413949,0.7799474928640203,0.6179675910763388,-0.621459016469583,-0.5539137349137074,0.8085829823343175,-0.645501482052833,-0.48465191376957606,0.6191290945508281,0.8555375799963929,-0.4325289948297953,-0.5979591195429735,0.5750665661725765,0.8641389804506094,0.6969923161491758,-0.4136392655392183,-0.6872410034821063,0.6489260874956144,0.5327252536744401,0.5676422541778816,0.5911109811344266,-0.32146531231626163,-0.48172555698778124,0.9385862666214316,-0.2796463071978737,-0.2790741273351218,-0.6345459046795736,-0.46625643941658945,-0.48682997956140406,-0.4232930745726977,1.0067504829951561,-0.4021115083032069,-0.2864532431386728,1.1161100933775603,-0.24693698369237152,-0.11414137508744021,0.9203809296167391,1.1831143650407487,0.7051540104406648,1.1178609204637866,0.7864378437583976,1.1104194647201062,-0.18336734996964724,-0.0797638257127327,1.0297483338189093,0.03244421652630466,-0.40372986168940894,1.2129144755134416,1.0864331066756725,-0.0471043746902338,-0.45006396576968244,1.3514692877717687,-0.0648138979933829,0.09374071578305374,1.1374256921110288,1.455680838153359,1.0624358372835663,0.07086131243824621,-0.12316689671935167,1.4121936071657661,1.0527228058378642,1.3669726928409314,-0.20559508976258814,0.06343544167959811,-0.24394672820649396,0.19738008630189274,1.0332624554484882,0.1309807232354738,1.0555868226795297,0.1109466342193931,-0.20558106354150898,0.18766549609223704,1.270863614338607,0.27126921883104194,1.2411585725400613,0.278776132042758,1.3058585397672104,0.4104460834351245,0.1448673336823879,1.5817754908393107,1.3219029547290604,1.659623127452626,1.3396483242941337,1.668207384157857,-0.0010821793645226642,0.4551275466312245,1.2251796150462468,1.672232904474012,1.3597774819843615,1.8428905728771183,0.44955224792481,0.7031276880168835,1.606569364940434,0.7626749189513592,0.5062526057666057,2.083400944800047,0.4078298702445222,2.0405045961881436,0.5349395264838593,0.844610415820959,0.6110706235089192,0.8102671539442224,2.1133989864408,1.1458606921229166,0.9828408518675974,1.3245678423943796,1.2210609455755657,2.765010382457773,2.8619300945446935,3.137256163241103],\"yaxis\":\"y\",\"type\":\"scatter\"},{\"hovertemplate\":\"x=%{x}<br>y=%{y}<br>size=%{marker.size}<extra></extra>\",\"legendgroup\":\"\",\"marker\":{\"color\":\"#636efa\",\"size\":[15,15,15,15],\"sizemode\":\"area\",\"sizeref\":0.0375,\"symbol\":\"circle\"},\"mode\":\"markers\",\"name\":\"\",\"orientation\":\"v\",\"showlegend\":false,\"x\":[-1.1520853621169802,0.8008989815302912,1.1277339499513233,-0.896640275324043],\"xaxis\":\"x\",\"y\":[-0.4863196123246441,-0.9528560790603154,0.7523137059072639,1.2574036946997036],\"yaxis\":\"y\",\"type\":\"scatter\"}],                        {\"template\":{\"data\":{\"bar\":[{\"error_x\":{\"color\":\"#2a3f5f\"},\"error_y\":{\"color\":\"#2a3f5f\"},\"marker\":{\"line\":{\"color\":\"#E5ECF6\",\"width\":0.5},\"pattern\":{\"fillmode\":\"overlay\",\"size\":10,\"solidity\":0.2}},\"type\":\"bar\"}],\"barpolar\":[{\"marker\":{\"line\":{\"color\":\"#E5ECF6\",\"width\":0.5},\"pattern\":{\"fillmode\":\"overlay\",\"size\":10,\"solidity\":0.2}},\"type\":\"barpolar\"}],\"carpet\":[{\"aaxis\":{\"endlinecolor\":\"#2a3f5f\",\"gridcolor\":\"white\",\"linecolor\":\"white\",\"minorgridcolor\":\"white\",\"startlinecolor\":\"#2a3f5f\"},\"baxis\":{\"endlinecolor\":\"#2a3f5f\",\"gridcolor\":\"white\",\"linecolor\":\"white\",\"minorgridcolor\":\"white\",\"startlinecolor\":\"#2a3f5f\"},\"type\":\"carpet\"}],\"choropleth\":[{\"colorbar\":{\"outlinewidth\":0,\"ticks\":\"\"},\"type\":\"choropleth\"}],\"contour\":[{\"colorbar\":{\"outlinewidth\":0,\"ticks\":\"\"},\"colorscale\":[[0.0,\"#0d0887\"],[0.1111111111111111,\"#46039f\"],[0.2222222222222222,\"#7201a8\"],[0.3333333333333333,\"#9c179e\"],[0.4444444444444444,\"#bd3786\"],[0.5555555555555556,\"#d8576b\"],[0.6666666666666666,\"#ed7953\"],[0.7777777777777778,\"#fb9f3a\"],[0.8888888888888888,\"#fdca26\"],[1.0,\"#f0f921\"]],\"type\":\"contour\"}],\"contourcarpet\":[{\"colorbar\":{\"outlinewidth\":0,\"ticks\":\"\"},\"type\":\"contourcarpet\"}],\"heatmap\":[{\"colorbar\":{\"outlinewidth\":0,\"ticks\":\"\"},\"colorscale\":[[0.0,\"#0d0887\"],[0.1111111111111111,\"#46039f\"],[0.2222222222222222,\"#7201a8\"],[0.3333333333333333,\"#9c179e\"],[0.4444444444444444,\"#bd3786\"],[0.5555555555555556,\"#d8576b\"],[0.6666666666666666,\"#ed7953\"],[0.7777777777777778,\"#fb9f3a\"],[0.8888888888888888,\"#fdca26\"],[1.0,\"#f0f921\"]],\"type\":\"heatmap\"}],\"heatmapgl\":[{\"colorbar\":{\"outlinewidth\":0,\"ticks\":\"\"},\"colorscale\":[[0.0,\"#0d0887\"],[0.1111111111111111,\"#46039f\"],[0.2222222222222222,\"#7201a8\"],[0.3333333333333333,\"#9c179e\"],[0.4444444444444444,\"#bd3786\"],[0.5555555555555556,\"#d8576b\"],[0.6666666666666666,\"#ed7953\"],[0.7777777777777778,\"#fb9f3a\"],[0.8888888888888888,\"#fdca26\"],[1.0,\"#f0f921\"]],\"type\":\"heatmapgl\"}],\"histogram\":[{\"marker\":{\"pattern\":{\"fillmode\":\"overlay\",\"size\":10,\"solidity\":0.2}},\"type\":\"histogram\"}],\"histogram2d\":[{\"colorbar\":{\"outlinewidth\":0,\"ticks\":\"\"},\"colorscale\":[[0.0,\"#0d0887\"],[0.1111111111111111,\"#46039f\"],[0.2222222222222222,\"#7201a8\"],[0.3333333333333333,\"#9c179e\"],[0.4444444444444444,\"#bd3786\"],[0.5555555555555556,\"#d8576b\"],[0.6666666666666666,\"#ed7953\"],[0.7777777777777778,\"#fb9f3a\"],[0.8888888888888888,\"#fdca26\"],[1.0,\"#f0f921\"]],\"type\":\"histogram2d\"}],\"histogram2dcontour\":[{\"colorbar\":{\"outlinewidth\":0,\"ticks\":\"\"},\"colorscale\":[[0.0,\"#0d0887\"],[0.1111111111111111,\"#46039f\"],[0.2222222222222222,\"#7201a8\"],[0.3333333333333333,\"#9c179e\"],[0.4444444444444444,\"#bd3786\"],[0.5555555555555556,\"#d8576b\"],[0.6666666666666666,\"#ed7953\"],[0.7777777777777778,\"#fb9f3a\"],[0.8888888888888888,\"#fdca26\"],[1.0,\"#f0f921\"]],\"type\":\"histogram2dcontour\"}],\"mesh3d\":[{\"colorbar\":{\"outlinewidth\":0,\"ticks\":\"\"},\"type\":\"mesh3d\"}],\"parcoords\":[{\"line\":{\"colorbar\":{\"outlinewidth\":0,\"ticks\":\"\"}},\"type\":\"parcoords\"}],\"pie\":[{\"automargin\":true,\"type\":\"pie\"}],\"scatter\":[{\"marker\":{\"colorbar\":{\"outlinewidth\":0,\"ticks\":\"\"}},\"type\":\"scatter\"}],\"scatter3d\":[{\"line\":{\"colorbar\":{\"outlinewidth\":0,\"ticks\":\"\"}},\"marker\":{\"colorbar\":{\"outlinewidth\":0,\"ticks\":\"\"}},\"type\":\"scatter3d\"}],\"scattercarpet\":[{\"marker\":{\"colorbar\":{\"outlinewidth\":0,\"ticks\":\"\"}},\"type\":\"scattercarpet\"}],\"scattergeo\":[{\"marker\":{\"colorbar\":{\"outlinewidth\":0,\"ticks\":\"\"}},\"type\":\"scattergeo\"}],\"scattergl\":[{\"marker\":{\"colorbar\":{\"outlinewidth\":0,\"ticks\":\"\"}},\"type\":\"scattergl\"}],\"scattermapbox\":[{\"marker\":{\"colorbar\":{\"outlinewidth\":0,\"ticks\":\"\"}},\"type\":\"scattermapbox\"}],\"scatterpolar\":[{\"marker\":{\"colorbar\":{\"outlinewidth\":0,\"ticks\":\"\"}},\"type\":\"scatterpolar\"}],\"scatterpolargl\":[{\"marker\":{\"colorbar\":{\"outlinewidth\":0,\"ticks\":\"\"}},\"type\":\"scatterpolargl\"}],\"scatterternary\":[{\"marker\":{\"colorbar\":{\"outlinewidth\":0,\"ticks\":\"\"}},\"type\":\"scatterternary\"}],\"surface\":[{\"colorbar\":{\"outlinewidth\":0,\"ticks\":\"\"},\"colorscale\":[[0.0,\"#0d0887\"],[0.1111111111111111,\"#46039f\"],[0.2222222222222222,\"#7201a8\"],[0.3333333333333333,\"#9c179e\"],[0.4444444444444444,\"#bd3786\"],[0.5555555555555556,\"#d8576b\"],[0.6666666666666666,\"#ed7953\"],[0.7777777777777778,\"#fb9f3a\"],[0.8888888888888888,\"#fdca26\"],[1.0,\"#f0f921\"]],\"type\":\"surface\"}],\"table\":[{\"cells\":{\"fill\":{\"color\":\"#EBF0F8\"},\"line\":{\"color\":\"white\"}},\"header\":{\"fill\":{\"color\":\"#C8D4E3\"},\"line\":{\"color\":\"white\"}},\"type\":\"table\"}]},\"layout\":{\"annotationdefaults\":{\"arrowcolor\":\"#2a3f5f\",\"arrowhead\":0,\"arrowwidth\":1},\"autotypenumbers\":\"strict\",\"coloraxis\":{\"colorbar\":{\"outlinewidth\":0,\"ticks\":\"\"}},\"colorscale\":{\"diverging\":[[0,\"#8e0152\"],[0.1,\"#c51b7d\"],[0.2,\"#de77ae\"],[0.3,\"#f1b6da\"],[0.4,\"#fde0ef\"],[0.5,\"#f7f7f7\"],[0.6,\"#e6f5d0\"],[0.7,\"#b8e186\"],[0.8,\"#7fbc41\"],[0.9,\"#4d9221\"],[1,\"#276419\"]],\"sequential\":[[0.0,\"#0d0887\"],[0.1111111111111111,\"#46039f\"],[0.2222222222222222,\"#7201a8\"],[0.3333333333333333,\"#9c179e\"],[0.4444444444444444,\"#bd3786\"],[0.5555555555555556,\"#d8576b\"],[0.6666666666666666,\"#ed7953\"],[0.7777777777777778,\"#fb9f3a\"],[0.8888888888888888,\"#fdca26\"],[1.0,\"#f0f921\"]],\"sequentialminus\":[[0.0,\"#0d0887\"],[0.1111111111111111,\"#46039f\"],[0.2222222222222222,\"#7201a8\"],[0.3333333333333333,\"#9c179e\"],[0.4444444444444444,\"#bd3786\"],[0.5555555555555556,\"#d8576b\"],[0.6666666666666666,\"#ed7953\"],[0.7777777777777778,\"#fb9f3a\"],[0.8888888888888888,\"#fdca26\"],[1.0,\"#f0f921\"]]},\"colorway\":[\"#636efa\",\"#EF553B\",\"#00cc96\",\"#ab63fa\",\"#FFA15A\",\"#19d3f3\",\"#FF6692\",\"#B6E880\",\"#FF97FF\",\"#FECB52\"],\"font\":{\"color\":\"#2a3f5f\"},\"geo\":{\"bgcolor\":\"white\",\"lakecolor\":\"white\",\"landcolor\":\"#E5ECF6\",\"showlakes\":true,\"showland\":true,\"subunitcolor\":\"white\"},\"hoverlabel\":{\"align\":\"left\"},\"hovermode\":\"closest\",\"mapbox\":{\"style\":\"light\"},\"paper_bgcolor\":\"white\",\"plot_bgcolor\":\"#E5ECF6\",\"polar\":{\"angularaxis\":{\"gridcolor\":\"white\",\"linecolor\":\"white\",\"ticks\":\"\"},\"bgcolor\":\"#E5ECF6\",\"radialaxis\":{\"gridcolor\":\"white\",\"linecolor\":\"white\",\"ticks\":\"\"}},\"scene\":{\"xaxis\":{\"backgroundcolor\":\"#E5ECF6\",\"gridcolor\":\"white\",\"gridwidth\":2,\"linecolor\":\"white\",\"showbackground\":true,\"ticks\":\"\",\"zerolinecolor\":\"white\"},\"yaxis\":{\"backgroundcolor\":\"#E5ECF6\",\"gridcolor\":\"white\",\"gridwidth\":2,\"linecolor\":\"white\",\"showbackground\":true,\"ticks\":\"\",\"zerolinecolor\":\"white\"},\"zaxis\":{\"backgroundcolor\":\"#E5ECF6\",\"gridcolor\":\"white\",\"gridwidth\":2,\"linecolor\":\"white\",\"showbackground\":true,\"ticks\":\"\",\"zerolinecolor\":\"white\"}},\"shapedefaults\":{\"line\":{\"color\":\"#2a3f5f\"}},\"ternary\":{\"aaxis\":{\"gridcolor\":\"white\",\"linecolor\":\"white\",\"ticks\":\"\"},\"baxis\":{\"gridcolor\":\"white\",\"linecolor\":\"white\",\"ticks\":\"\"},\"bgcolor\":\"#E5ECF6\",\"caxis\":{\"gridcolor\":\"white\",\"linecolor\":\"white\",\"ticks\":\"\"}},\"title\":{\"x\":0.05},\"xaxis\":{\"automargin\":true,\"gridcolor\":\"white\",\"linecolor\":\"white\",\"ticks\":\"\",\"title\":{\"standoff\":15},\"zerolinecolor\":\"white\",\"zerolinewidth\":2},\"yaxis\":{\"automargin\":true,\"gridcolor\":\"white\",\"linecolor\":\"white\",\"ticks\":\"\",\"title\":{\"standoff\":15},\"zerolinecolor\":\"white\",\"zerolinewidth\":2}}},\"title\":{\"text\":\"Agrupamento K-means\"},\"width\":800,\"height\":500,\"xaxis\":{\"title\":{\"text\":\"Rendimento anual (K$)\"}},\"yaxis\":{\"title\":{\"text\":\"Pontua\\u00e7\\u00e3o\"}}},                        {\"responsive\": true}                    ).then(function(){\n",
              "                            \n",
              "var gd = document.getElementById('2ffab101-774c-4ef0-ae69-aa641fbf1f31');\n",
              "var x = new MutationObserver(function (mutations, observer) {{\n",
              "        var display = window.getComputedStyle(gd).display;\n",
              "        if (!display || display === 'none') {{\n",
              "            console.log([gd, 'removed!']);\n",
              "            Plotly.purge(gd);\n",
              "            observer.disconnect();\n",
              "        }}\n",
              "}});\n",
              "\n",
              "// Listen for the removal of the full notebook cells\n",
              "var notebookContainer = gd.closest('#notebook-container');\n",
              "if (notebookContainer) {{\n",
              "    x.observe(notebookContainer, {childList: true});\n",
              "}}\n",
              "\n",
              "// Listen for the clearing of the current output cell\n",
              "var outputEl = gd.closest('.output');\n",
              "if (outputEl) {{\n",
              "    x.observe(outputEl, {childList: true});\n",
              "}}\n",
              "\n",
              "                        })                };                            </script>        </div>\n",
              "</body>\n",
              "</html>"
            ]
          },
          "metadata": {}
        }
      ]
    },
    {
      "cell_type": "markdown",
      "source": [
        "## Visualizando o agrupamento por uma lista"
      ],
      "metadata": {
        "id": "3mJwF3YTyQ3p"
      }
    },
    {
      "cell_type": "code",
      "source": [
        "agrupamento3 = pd.DataFrame(classificacao3, columns = [\"Grupo\"])\n",
        "agrupamento3"
      ],
      "metadata": {
        "colab": {
          "base_uri": "https://localhost:8080/",
          "height": 0
        },
        "id": "duoZMp4vyS_3",
        "outputId": "a8f35044-d684-4e33-dba6-b64bc3e60612"
      },
      "execution_count": 83,
      "outputs": [
        {
          "output_type": "execute_result",
          "data": {
            "text/plain": [
              "     Grupo\n",
              "0        0\n",
              "1        0\n",
              "2        1\n",
              "3        0\n",
              "4        1\n",
              "..     ...\n",
              "195      3\n",
              "196      2\n",
              "197      3\n",
              "198      2\n",
              "199      3\n",
              "\n",
              "[200 rows x 1 columns]"
            ],
            "text/html": [
              "\n",
              "  <div id=\"df-ec5005b4-7b95-4ebf-94be-ff633e9d5873\">\n",
              "    <div class=\"colab-df-container\">\n",
              "      <div>\n",
              "<style scoped>\n",
              "    .dataframe tbody tr th:only-of-type {\n",
              "        vertical-align: middle;\n",
              "    }\n",
              "\n",
              "    .dataframe tbody tr th {\n",
              "        vertical-align: top;\n",
              "    }\n",
              "\n",
              "    .dataframe thead th {\n",
              "        text-align: right;\n",
              "    }\n",
              "</style>\n",
              "<table border=\"1\" class=\"dataframe\">\n",
              "  <thead>\n",
              "    <tr style=\"text-align: right;\">\n",
              "      <th></th>\n",
              "      <th>Grupo</th>\n",
              "    </tr>\n",
              "  </thead>\n",
              "  <tbody>\n",
              "    <tr>\n",
              "      <th>0</th>\n",
              "      <td>0</td>\n",
              "    </tr>\n",
              "    <tr>\n",
              "      <th>1</th>\n",
              "      <td>0</td>\n",
              "    </tr>\n",
              "    <tr>\n",
              "      <th>2</th>\n",
              "      <td>1</td>\n",
              "    </tr>\n",
              "    <tr>\n",
              "      <th>3</th>\n",
              "      <td>0</td>\n",
              "    </tr>\n",
              "    <tr>\n",
              "      <th>4</th>\n",
              "      <td>1</td>\n",
              "    </tr>\n",
              "    <tr>\n",
              "      <th>...</th>\n",
              "      <td>...</td>\n",
              "    </tr>\n",
              "    <tr>\n",
              "      <th>195</th>\n",
              "      <td>3</td>\n",
              "    </tr>\n",
              "    <tr>\n",
              "      <th>196</th>\n",
              "      <td>2</td>\n",
              "    </tr>\n",
              "    <tr>\n",
              "      <th>197</th>\n",
              "      <td>3</td>\n",
              "    </tr>\n",
              "    <tr>\n",
              "      <th>198</th>\n",
              "      <td>2</td>\n",
              "    </tr>\n",
              "    <tr>\n",
              "      <th>199</th>\n",
              "      <td>3</td>\n",
              "    </tr>\n",
              "  </tbody>\n",
              "</table>\n",
              "<p>200 rows × 1 columns</p>\n",
              "</div>\n",
              "      <button class=\"colab-df-convert\" onclick=\"convertToInteractive('df-ec5005b4-7b95-4ebf-94be-ff633e9d5873')\"\n",
              "              title=\"Convert this dataframe to an interactive table.\"\n",
              "              style=\"display:none;\">\n",
              "        \n",
              "  <svg xmlns=\"http://www.w3.org/2000/svg\" height=\"24px\"viewBox=\"0 0 24 24\"\n",
              "       width=\"24px\">\n",
              "    <path d=\"M0 0h24v24H0V0z\" fill=\"none\"/>\n",
              "    <path d=\"M18.56 5.44l.94 2.06.94-2.06 2.06-.94-2.06-.94-.94-2.06-.94 2.06-2.06.94zm-11 1L8.5 8.5l.94-2.06 2.06-.94-2.06-.94L8.5 2.5l-.94 2.06-2.06.94zm10 10l.94 2.06.94-2.06 2.06-.94-2.06-.94-.94-2.06-.94 2.06-2.06.94z\"/><path d=\"M17.41 7.96l-1.37-1.37c-.4-.4-.92-.59-1.43-.59-.52 0-1.04.2-1.43.59L10.3 9.45l-7.72 7.72c-.78.78-.78 2.05 0 2.83L4 21.41c.39.39.9.59 1.41.59.51 0 1.02-.2 1.41-.59l7.78-7.78 2.81-2.81c.8-.78.8-2.07 0-2.86zM5.41 20L4 18.59l7.72-7.72 1.47 1.35L5.41 20z\"/>\n",
              "  </svg>\n",
              "      </button>\n",
              "      \n",
              "  <style>\n",
              "    .colab-df-container {\n",
              "      display:flex;\n",
              "      flex-wrap:wrap;\n",
              "      gap: 12px;\n",
              "    }\n",
              "\n",
              "    .colab-df-convert {\n",
              "      background-color: #E8F0FE;\n",
              "      border: none;\n",
              "      border-radius: 50%;\n",
              "      cursor: pointer;\n",
              "      display: none;\n",
              "      fill: #1967D2;\n",
              "      height: 32px;\n",
              "      padding: 0 0 0 0;\n",
              "      width: 32px;\n",
              "    }\n",
              "\n",
              "    .colab-df-convert:hover {\n",
              "      background-color: #E2EBFA;\n",
              "      box-shadow: 0px 1px 2px rgba(60, 64, 67, 0.3), 0px 1px 3px 1px rgba(60, 64, 67, 0.15);\n",
              "      fill: #174EA6;\n",
              "    }\n",
              "\n",
              "    [theme=dark] .colab-df-convert {\n",
              "      background-color: #3B4455;\n",
              "      fill: #D2E3FC;\n",
              "    }\n",
              "\n",
              "    [theme=dark] .colab-df-convert:hover {\n",
              "      background-color: #434B5C;\n",
              "      box-shadow: 0px 1px 3px 1px rgba(0, 0, 0, 0.15);\n",
              "      filter: drop-shadow(0px 1px 2px rgba(0, 0, 0, 0.3));\n",
              "      fill: #FFFFFF;\n",
              "    }\n",
              "  </style>\n",
              "\n",
              "      <script>\n",
              "        const buttonEl =\n",
              "          document.querySelector('#df-ec5005b4-7b95-4ebf-94be-ff633e9d5873 button.colab-df-convert');\n",
              "        buttonEl.style.display =\n",
              "          google.colab.kernel.accessAllowed ? 'block' : 'none';\n",
              "\n",
              "        async function convertToInteractive(key) {\n",
              "          const element = document.querySelector('#df-ec5005b4-7b95-4ebf-94be-ff633e9d5873');\n",
              "          const dataTable =\n",
              "            await google.colab.kernel.invokeFunction('convertToInteractive',\n",
              "                                                     [key], {});\n",
              "          if (!dataTable) return;\n",
              "\n",
              "          const docLinkHtml = 'Like what you see? Visit the ' +\n",
              "            '<a target=\"_blank\" href=https://colab.research.google.com/notebooks/data_table.ipynb>data table notebook</a>'\n",
              "            + ' to learn more about interactive tables.';\n",
              "          element.innerHTML = '';\n",
              "          dataTable['output_type'] = 'display_data';\n",
              "          await google.colab.output.renderOutput(dataTable, element);\n",
              "          const docLink = document.createElement('div');\n",
              "          docLink.innerHTML = docLinkHtml;\n",
              "          element.appendChild(docLink);\n",
              "        }\n",
              "      </script>\n",
              "    </div>\n",
              "  </div>\n",
              "  "
            ]
          },
          "metadata": {},
          "execution_count": 83
        }
      ]
    },
    {
      "cell_type": "code",
      "source": [
        "# Juntando o atributo Grupo ao dataframe original. Será criado um novo dataframe para manter a integridade dos dados\n",
        "df5 = pd.concat([df,agrupamento3],axis=1)\n",
        "df5"
      ],
      "metadata": {
        "colab": {
          "base_uri": "https://localhost:8080/",
          "height": 0
        },
        "id": "e01gahrXyVEF",
        "outputId": "5d822330-09ec-44da-a5f5-2e5a82c82515"
      },
      "execution_count": 84,
      "outputs": [
        {
          "output_type": "execute_result",
          "data": {
            "text/plain": [
              "     CustomerID  genero  idade  rendimento  pontuacao  Grupo\n",
              "0             1    Male     19          15         39      0\n",
              "1             2    Male     21          15         81      0\n",
              "2             3  Female     20          16          6      1\n",
              "3             4  Female     23          16         77      0\n",
              "4             5  Female     31          17         40      1\n",
              "..          ...     ...    ...         ...        ...    ...\n",
              "195         196  Female     35         120         79      3\n",
              "196         197  Female     45         126         28      2\n",
              "197         198    Male     32         126         74      3\n",
              "198         199    Male     32         137         18      2\n",
              "199         200    Male     30         137         83      3\n",
              "\n",
              "[200 rows x 6 columns]"
            ],
            "text/html": [
              "\n",
              "  <div id=\"df-bc8c3589-017d-49b7-9af6-79ac409c1fda\">\n",
              "    <div class=\"colab-df-container\">\n",
              "      <div>\n",
              "<style scoped>\n",
              "    .dataframe tbody tr th:only-of-type {\n",
              "        vertical-align: middle;\n",
              "    }\n",
              "\n",
              "    .dataframe tbody tr th {\n",
              "        vertical-align: top;\n",
              "    }\n",
              "\n",
              "    .dataframe thead th {\n",
              "        text-align: right;\n",
              "    }\n",
              "</style>\n",
              "<table border=\"1\" class=\"dataframe\">\n",
              "  <thead>\n",
              "    <tr style=\"text-align: right;\">\n",
              "      <th></th>\n",
              "      <th>CustomerID</th>\n",
              "      <th>genero</th>\n",
              "      <th>idade</th>\n",
              "      <th>rendimento</th>\n",
              "      <th>pontuacao</th>\n",
              "      <th>Grupo</th>\n",
              "    </tr>\n",
              "  </thead>\n",
              "  <tbody>\n",
              "    <tr>\n",
              "      <th>0</th>\n",
              "      <td>1</td>\n",
              "      <td>Male</td>\n",
              "      <td>19</td>\n",
              "      <td>15</td>\n",
              "      <td>39</td>\n",
              "      <td>0</td>\n",
              "    </tr>\n",
              "    <tr>\n",
              "      <th>1</th>\n",
              "      <td>2</td>\n",
              "      <td>Male</td>\n",
              "      <td>21</td>\n",
              "      <td>15</td>\n",
              "      <td>81</td>\n",
              "      <td>0</td>\n",
              "    </tr>\n",
              "    <tr>\n",
              "      <th>2</th>\n",
              "      <td>3</td>\n",
              "      <td>Female</td>\n",
              "      <td>20</td>\n",
              "      <td>16</td>\n",
              "      <td>6</td>\n",
              "      <td>1</td>\n",
              "    </tr>\n",
              "    <tr>\n",
              "      <th>3</th>\n",
              "      <td>4</td>\n",
              "      <td>Female</td>\n",
              "      <td>23</td>\n",
              "      <td>16</td>\n",
              "      <td>77</td>\n",
              "      <td>0</td>\n",
              "    </tr>\n",
              "    <tr>\n",
              "      <th>4</th>\n",
              "      <td>5</td>\n",
              "      <td>Female</td>\n",
              "      <td>31</td>\n",
              "      <td>17</td>\n",
              "      <td>40</td>\n",
              "      <td>1</td>\n",
              "    </tr>\n",
              "    <tr>\n",
              "      <th>...</th>\n",
              "      <td>...</td>\n",
              "      <td>...</td>\n",
              "      <td>...</td>\n",
              "      <td>...</td>\n",
              "      <td>...</td>\n",
              "      <td>...</td>\n",
              "    </tr>\n",
              "    <tr>\n",
              "      <th>195</th>\n",
              "      <td>196</td>\n",
              "      <td>Female</td>\n",
              "      <td>35</td>\n",
              "      <td>120</td>\n",
              "      <td>79</td>\n",
              "      <td>3</td>\n",
              "    </tr>\n",
              "    <tr>\n",
              "      <th>196</th>\n",
              "      <td>197</td>\n",
              "      <td>Female</td>\n",
              "      <td>45</td>\n",
              "      <td>126</td>\n",
              "      <td>28</td>\n",
              "      <td>2</td>\n",
              "    </tr>\n",
              "    <tr>\n",
              "      <th>197</th>\n",
              "      <td>198</td>\n",
              "      <td>Male</td>\n",
              "      <td>32</td>\n",
              "      <td>126</td>\n",
              "      <td>74</td>\n",
              "      <td>3</td>\n",
              "    </tr>\n",
              "    <tr>\n",
              "      <th>198</th>\n",
              "      <td>199</td>\n",
              "      <td>Male</td>\n",
              "      <td>32</td>\n",
              "      <td>137</td>\n",
              "      <td>18</td>\n",
              "      <td>2</td>\n",
              "    </tr>\n",
              "    <tr>\n",
              "      <th>199</th>\n",
              "      <td>200</td>\n",
              "      <td>Male</td>\n",
              "      <td>30</td>\n",
              "      <td>137</td>\n",
              "      <td>83</td>\n",
              "      <td>3</td>\n",
              "    </tr>\n",
              "  </tbody>\n",
              "</table>\n",
              "<p>200 rows × 6 columns</p>\n",
              "</div>\n",
              "      <button class=\"colab-df-convert\" onclick=\"convertToInteractive('df-bc8c3589-017d-49b7-9af6-79ac409c1fda')\"\n",
              "              title=\"Convert this dataframe to an interactive table.\"\n",
              "              style=\"display:none;\">\n",
              "        \n",
              "  <svg xmlns=\"http://www.w3.org/2000/svg\" height=\"24px\"viewBox=\"0 0 24 24\"\n",
              "       width=\"24px\">\n",
              "    <path d=\"M0 0h24v24H0V0z\" fill=\"none\"/>\n",
              "    <path d=\"M18.56 5.44l.94 2.06.94-2.06 2.06-.94-2.06-.94-.94-2.06-.94 2.06-2.06.94zm-11 1L8.5 8.5l.94-2.06 2.06-.94-2.06-.94L8.5 2.5l-.94 2.06-2.06.94zm10 10l.94 2.06.94-2.06 2.06-.94-2.06-.94-.94-2.06-.94 2.06-2.06.94z\"/><path d=\"M17.41 7.96l-1.37-1.37c-.4-.4-.92-.59-1.43-.59-.52 0-1.04.2-1.43.59L10.3 9.45l-7.72 7.72c-.78.78-.78 2.05 0 2.83L4 21.41c.39.39.9.59 1.41.59.51 0 1.02-.2 1.41-.59l7.78-7.78 2.81-2.81c.8-.78.8-2.07 0-2.86zM5.41 20L4 18.59l7.72-7.72 1.47 1.35L5.41 20z\"/>\n",
              "  </svg>\n",
              "      </button>\n",
              "      \n",
              "  <style>\n",
              "    .colab-df-container {\n",
              "      display:flex;\n",
              "      flex-wrap:wrap;\n",
              "      gap: 12px;\n",
              "    }\n",
              "\n",
              "    .colab-df-convert {\n",
              "      background-color: #E8F0FE;\n",
              "      border: none;\n",
              "      border-radius: 50%;\n",
              "      cursor: pointer;\n",
              "      display: none;\n",
              "      fill: #1967D2;\n",
              "      height: 32px;\n",
              "      padding: 0 0 0 0;\n",
              "      width: 32px;\n",
              "    }\n",
              "\n",
              "    .colab-df-convert:hover {\n",
              "      background-color: #E2EBFA;\n",
              "      box-shadow: 0px 1px 2px rgba(60, 64, 67, 0.3), 0px 1px 3px 1px rgba(60, 64, 67, 0.15);\n",
              "      fill: #174EA6;\n",
              "    }\n",
              "\n",
              "    [theme=dark] .colab-df-convert {\n",
              "      background-color: #3B4455;\n",
              "      fill: #D2E3FC;\n",
              "    }\n",
              "\n",
              "    [theme=dark] .colab-df-convert:hover {\n",
              "      background-color: #434B5C;\n",
              "      box-shadow: 0px 1px 3px 1px rgba(0, 0, 0, 0.15);\n",
              "      filter: drop-shadow(0px 1px 2px rgba(0, 0, 0, 0.3));\n",
              "      fill: #FFFFFF;\n",
              "    }\n",
              "  </style>\n",
              "\n",
              "      <script>\n",
              "        const buttonEl =\n",
              "          document.querySelector('#df-bc8c3589-017d-49b7-9af6-79ac409c1fda button.colab-df-convert');\n",
              "        buttonEl.style.display =\n",
              "          google.colab.kernel.accessAllowed ? 'block' : 'none';\n",
              "\n",
              "        async function convertToInteractive(key) {\n",
              "          const element = document.querySelector('#df-bc8c3589-017d-49b7-9af6-79ac409c1fda');\n",
              "          const dataTable =\n",
              "            await google.colab.kernel.invokeFunction('convertToInteractive',\n",
              "                                                     [key], {});\n",
              "          if (!dataTable) return;\n",
              "\n",
              "          const docLinkHtml = 'Like what you see? Visit the ' +\n",
              "            '<a target=\"_blank\" href=https://colab.research.google.com/notebooks/data_table.ipynb>data table notebook</a>'\n",
              "            + ' to learn more about interactive tables.';\n",
              "          element.innerHTML = '';\n",
              "          dataTable['output_type'] = 'display_data';\n",
              "          await google.colab.output.renderOutput(dataTable, element);\n",
              "          const docLink = document.createElement('div');\n",
              "          docLink.innerHTML = docLinkHtml;\n",
              "          element.appendChild(docLink);\n",
              "        }\n",
              "      </script>\n",
              "    </div>\n",
              "  </div>\n",
              "  "
            ]
          },
          "metadata": {},
          "execution_count": 84
        }
      ]
    },
    {
      "cell_type": "markdown",
      "source": [
        "Visualizando os dados"
      ],
      "metadata": {
        "id": "R4o60HQTyY00"
      }
    },
    {
      "cell_type": "code",
      "source": [
        "# Buscando os dados da linha 125\n",
        "df5.loc[125,:]"
      ],
      "metadata": {
        "colab": {
          "base_uri": "https://localhost:8080/"
        },
        "id": "6DDdISVqybJg",
        "outputId": "d2302505-4d96-4e72-9c6a-44d850e507c3"
      },
      "execution_count": 85,
      "outputs": [
        {
          "output_type": "execute_result",
          "data": {
            "text/plain": [
              "CustomerID       126\n",
              "genero        Female\n",
              "idade             31\n",
              "rendimento        70\n",
              "pontuacao         77\n",
              "Grupo              0\n",
              "Name: 125, dtype: object"
            ]
          },
          "metadata": {},
          "execution_count": 85
        }
      ]
    },
    {
      "cell_type": "code",
      "source": [
        "# Buscando os dados usando o CustomerID\n",
        "df5.loc[df5.CustomerID == 76]"
      ],
      "metadata": {
        "colab": {
          "base_uri": "https://localhost:8080/",
          "height": 0
        },
        "id": "pbtyvfcYycX8",
        "outputId": "91e4f04b-17c8-4375-973f-03bdb1791795"
      },
      "execution_count": 86,
      "outputs": [
        {
          "output_type": "execute_result",
          "data": {
            "text/plain": [
              "    CustomerID genero  idade  rendimento  pontuacao  Grupo\n",
              "75          76   Male     26          54         54      3"
            ],
            "text/html": [
              "\n",
              "  <div id=\"df-9caff512-9a0f-45c7-9227-3513926228c1\">\n",
              "    <div class=\"colab-df-container\">\n",
              "      <div>\n",
              "<style scoped>\n",
              "    .dataframe tbody tr th:only-of-type {\n",
              "        vertical-align: middle;\n",
              "    }\n",
              "\n",
              "    .dataframe tbody tr th {\n",
              "        vertical-align: top;\n",
              "    }\n",
              "\n",
              "    .dataframe thead th {\n",
              "        text-align: right;\n",
              "    }\n",
              "</style>\n",
              "<table border=\"1\" class=\"dataframe\">\n",
              "  <thead>\n",
              "    <tr style=\"text-align: right;\">\n",
              "      <th></th>\n",
              "      <th>CustomerID</th>\n",
              "      <th>genero</th>\n",
              "      <th>idade</th>\n",
              "      <th>rendimento</th>\n",
              "      <th>pontuacao</th>\n",
              "      <th>Grupo</th>\n",
              "    </tr>\n",
              "  </thead>\n",
              "  <tbody>\n",
              "    <tr>\n",
              "      <th>75</th>\n",
              "      <td>76</td>\n",
              "      <td>Male</td>\n",
              "      <td>26</td>\n",
              "      <td>54</td>\n",
              "      <td>54</td>\n",
              "      <td>3</td>\n",
              "    </tr>\n",
              "  </tbody>\n",
              "</table>\n",
              "</div>\n",
              "      <button class=\"colab-df-convert\" onclick=\"convertToInteractive('df-9caff512-9a0f-45c7-9227-3513926228c1')\"\n",
              "              title=\"Convert this dataframe to an interactive table.\"\n",
              "              style=\"display:none;\">\n",
              "        \n",
              "  <svg xmlns=\"http://www.w3.org/2000/svg\" height=\"24px\"viewBox=\"0 0 24 24\"\n",
              "       width=\"24px\">\n",
              "    <path d=\"M0 0h24v24H0V0z\" fill=\"none\"/>\n",
              "    <path d=\"M18.56 5.44l.94 2.06.94-2.06 2.06-.94-2.06-.94-.94-2.06-.94 2.06-2.06.94zm-11 1L8.5 8.5l.94-2.06 2.06-.94-2.06-.94L8.5 2.5l-.94 2.06-2.06.94zm10 10l.94 2.06.94-2.06 2.06-.94-2.06-.94-.94-2.06-.94 2.06-2.06.94z\"/><path d=\"M17.41 7.96l-1.37-1.37c-.4-.4-.92-.59-1.43-.59-.52 0-1.04.2-1.43.59L10.3 9.45l-7.72 7.72c-.78.78-.78 2.05 0 2.83L4 21.41c.39.39.9.59 1.41.59.51 0 1.02-.2 1.41-.59l7.78-7.78 2.81-2.81c.8-.78.8-2.07 0-2.86zM5.41 20L4 18.59l7.72-7.72 1.47 1.35L5.41 20z\"/>\n",
              "  </svg>\n",
              "      </button>\n",
              "      \n",
              "  <style>\n",
              "    .colab-df-container {\n",
              "      display:flex;\n",
              "      flex-wrap:wrap;\n",
              "      gap: 12px;\n",
              "    }\n",
              "\n",
              "    .colab-df-convert {\n",
              "      background-color: #E8F0FE;\n",
              "      border: none;\n",
              "      border-radius: 50%;\n",
              "      cursor: pointer;\n",
              "      display: none;\n",
              "      fill: #1967D2;\n",
              "      height: 32px;\n",
              "      padding: 0 0 0 0;\n",
              "      width: 32px;\n",
              "    }\n",
              "\n",
              "    .colab-df-convert:hover {\n",
              "      background-color: #E2EBFA;\n",
              "      box-shadow: 0px 1px 2px rgba(60, 64, 67, 0.3), 0px 1px 3px 1px rgba(60, 64, 67, 0.15);\n",
              "      fill: #174EA6;\n",
              "    }\n",
              "\n",
              "    [theme=dark] .colab-df-convert {\n",
              "      background-color: #3B4455;\n",
              "      fill: #D2E3FC;\n",
              "    }\n",
              "\n",
              "    [theme=dark] .colab-df-convert:hover {\n",
              "      background-color: #434B5C;\n",
              "      box-shadow: 0px 1px 3px 1px rgba(0, 0, 0, 0.15);\n",
              "      filter: drop-shadow(0px 1px 2px rgba(0, 0, 0, 0.3));\n",
              "      fill: #FFFFFF;\n",
              "    }\n",
              "  </style>\n",
              "\n",
              "      <script>\n",
              "        const buttonEl =\n",
              "          document.querySelector('#df-9caff512-9a0f-45c7-9227-3513926228c1 button.colab-df-convert');\n",
              "        buttonEl.style.display =\n",
              "          google.colab.kernel.accessAllowed ? 'block' : 'none';\n",
              "\n",
              "        async function convertToInteractive(key) {\n",
              "          const element = document.querySelector('#df-9caff512-9a0f-45c7-9227-3513926228c1');\n",
              "          const dataTable =\n",
              "            await google.colab.kernel.invokeFunction('convertToInteractive',\n",
              "                                                     [key], {});\n",
              "          if (!dataTable) return;\n",
              "\n",
              "          const docLinkHtml = 'Like what you see? Visit the ' +\n",
              "            '<a target=\"_blank\" href=https://colab.research.google.com/notebooks/data_table.ipynb>data table notebook</a>'\n",
              "            + ' to learn more about interactive tables.';\n",
              "          element.innerHTML = '';\n",
              "          dataTable['output_type'] = 'display_data';\n",
              "          await google.colab.output.renderOutput(dataTable, element);\n",
              "          const docLink = document.createElement('div');\n",
              "          docLink.innerHTML = docLinkHtml;\n",
              "          element.appendChild(docLink);\n",
              "        }\n",
              "      </script>\n",
              "    </div>\n",
              "  </div>\n",
              "  "
            ]
          },
          "metadata": {},
          "execution_count": 86
        }
      ]
    },
    {
      "cell_type": "markdown",
      "source": [
        "# Agrupamento Hierárquico ( Agglomerative Hierarchical Clustering )\n",
        "\n",
        "A análise de agrupamentos por métodos hierárquicos  é um método “não supervisionado” de reconhecimento de “padrões naturais” de comportamento em amostras com base em dados multivariados.\n",
        "\n",
        "O objetivo da técnica é reunir amostras (objetos) com base na sua “proximidade” (semelhança), reduzindo a “dimensionalidade” dos dados e permitindo a visualização de dados multidimensionais através de um gráfico bidimensional chamado dendrograma."
      ],
      "metadata": {
        "id": "CUvjocM8_hDB"
      }
    },
    {
      "cell_type": "markdown",
      "source": [
        "## Algoritmo hierárquico com PCA"
      ],
      "metadata": {
        "id": "QgPV05N1B85a"
      }
    },
    {
      "cell_type": "code",
      "source": [
        "# Relembrando o dataframe original\n",
        "df.head()"
      ],
      "metadata": {
        "colab": {
          "base_uri": "https://localhost:8080/",
          "height": 0
        },
        "id": "dNwKU4xACGsx",
        "outputId": "57c64cd1-a765-4d26-c735-3538220b1d69"
      },
      "execution_count": 87,
      "outputs": [
        {
          "output_type": "execute_result",
          "data": {
            "text/plain": [
              "   CustomerID  genero  idade  rendimento  pontuacao\n",
              "0           1    Male     19          15         39\n",
              "1           2    Male     21          15         81\n",
              "2           3  Female     20          16          6\n",
              "3           4  Female     23          16         77\n",
              "4           5  Female     31          17         40"
            ],
            "text/html": [
              "\n",
              "  <div id=\"df-e1c00fa0-d788-46ce-9049-746ce95e6f48\">\n",
              "    <div class=\"colab-df-container\">\n",
              "      <div>\n",
              "<style scoped>\n",
              "    .dataframe tbody tr th:only-of-type {\n",
              "        vertical-align: middle;\n",
              "    }\n",
              "\n",
              "    .dataframe tbody tr th {\n",
              "        vertical-align: top;\n",
              "    }\n",
              "\n",
              "    .dataframe thead th {\n",
              "        text-align: right;\n",
              "    }\n",
              "</style>\n",
              "<table border=\"1\" class=\"dataframe\">\n",
              "  <thead>\n",
              "    <tr style=\"text-align: right;\">\n",
              "      <th></th>\n",
              "      <th>CustomerID</th>\n",
              "      <th>genero</th>\n",
              "      <th>idade</th>\n",
              "      <th>rendimento</th>\n",
              "      <th>pontuacao</th>\n",
              "    </tr>\n",
              "  </thead>\n",
              "  <tbody>\n",
              "    <tr>\n",
              "      <th>0</th>\n",
              "      <td>1</td>\n",
              "      <td>Male</td>\n",
              "      <td>19</td>\n",
              "      <td>15</td>\n",
              "      <td>39</td>\n",
              "    </tr>\n",
              "    <tr>\n",
              "      <th>1</th>\n",
              "      <td>2</td>\n",
              "      <td>Male</td>\n",
              "      <td>21</td>\n",
              "      <td>15</td>\n",
              "      <td>81</td>\n",
              "    </tr>\n",
              "    <tr>\n",
              "      <th>2</th>\n",
              "      <td>3</td>\n",
              "      <td>Female</td>\n",
              "      <td>20</td>\n",
              "      <td>16</td>\n",
              "      <td>6</td>\n",
              "    </tr>\n",
              "    <tr>\n",
              "      <th>3</th>\n",
              "      <td>4</td>\n",
              "      <td>Female</td>\n",
              "      <td>23</td>\n",
              "      <td>16</td>\n",
              "      <td>77</td>\n",
              "    </tr>\n",
              "    <tr>\n",
              "      <th>4</th>\n",
              "      <td>5</td>\n",
              "      <td>Female</td>\n",
              "      <td>31</td>\n",
              "      <td>17</td>\n",
              "      <td>40</td>\n",
              "    </tr>\n",
              "  </tbody>\n",
              "</table>\n",
              "</div>\n",
              "      <button class=\"colab-df-convert\" onclick=\"convertToInteractive('df-e1c00fa0-d788-46ce-9049-746ce95e6f48')\"\n",
              "              title=\"Convert this dataframe to an interactive table.\"\n",
              "              style=\"display:none;\">\n",
              "        \n",
              "  <svg xmlns=\"http://www.w3.org/2000/svg\" height=\"24px\"viewBox=\"0 0 24 24\"\n",
              "       width=\"24px\">\n",
              "    <path d=\"M0 0h24v24H0V0z\" fill=\"none\"/>\n",
              "    <path d=\"M18.56 5.44l.94 2.06.94-2.06 2.06-.94-2.06-.94-.94-2.06-.94 2.06-2.06.94zm-11 1L8.5 8.5l.94-2.06 2.06-.94-2.06-.94L8.5 2.5l-.94 2.06-2.06.94zm10 10l.94 2.06.94-2.06 2.06-.94-2.06-.94-.94-2.06-.94 2.06-2.06.94z\"/><path d=\"M17.41 7.96l-1.37-1.37c-.4-.4-.92-.59-1.43-.59-.52 0-1.04.2-1.43.59L10.3 9.45l-7.72 7.72c-.78.78-.78 2.05 0 2.83L4 21.41c.39.39.9.59 1.41.59.51 0 1.02-.2 1.41-.59l7.78-7.78 2.81-2.81c.8-.78.8-2.07 0-2.86zM5.41 20L4 18.59l7.72-7.72 1.47 1.35L5.41 20z\"/>\n",
              "  </svg>\n",
              "      </button>\n",
              "      \n",
              "  <style>\n",
              "    .colab-df-container {\n",
              "      display:flex;\n",
              "      flex-wrap:wrap;\n",
              "      gap: 12px;\n",
              "    }\n",
              "\n",
              "    .colab-df-convert {\n",
              "      background-color: #E8F0FE;\n",
              "      border: none;\n",
              "      border-radius: 50%;\n",
              "      cursor: pointer;\n",
              "      display: none;\n",
              "      fill: #1967D2;\n",
              "      height: 32px;\n",
              "      padding: 0 0 0 0;\n",
              "      width: 32px;\n",
              "    }\n",
              "\n",
              "    .colab-df-convert:hover {\n",
              "      background-color: #E2EBFA;\n",
              "      box-shadow: 0px 1px 2px rgba(60, 64, 67, 0.3), 0px 1px 3px 1px rgba(60, 64, 67, 0.15);\n",
              "      fill: #174EA6;\n",
              "    }\n",
              "\n",
              "    [theme=dark] .colab-df-convert {\n",
              "      background-color: #3B4455;\n",
              "      fill: #D2E3FC;\n",
              "    }\n",
              "\n",
              "    [theme=dark] .colab-df-convert:hover {\n",
              "      background-color: #434B5C;\n",
              "      box-shadow: 0px 1px 3px 1px rgba(0, 0, 0, 0.15);\n",
              "      filter: drop-shadow(0px 1px 2px rgba(0, 0, 0, 0.3));\n",
              "      fill: #FFFFFF;\n",
              "    }\n",
              "  </style>\n",
              "\n",
              "      <script>\n",
              "        const buttonEl =\n",
              "          document.querySelector('#df-e1c00fa0-d788-46ce-9049-746ce95e6f48 button.colab-df-convert');\n",
              "        buttonEl.style.display =\n",
              "          google.colab.kernel.accessAllowed ? 'block' : 'none';\n",
              "\n",
              "        async function convertToInteractive(key) {\n",
              "          const element = document.querySelector('#df-e1c00fa0-d788-46ce-9049-746ce95e6f48');\n",
              "          const dataTable =\n",
              "            await google.colab.kernel.invokeFunction('convertToInteractive',\n",
              "                                                     [key], {});\n",
              "          if (!dataTable) return;\n",
              "\n",
              "          const docLinkHtml = 'Like what you see? Visit the ' +\n",
              "            '<a target=\"_blank\" href=https://colab.research.google.com/notebooks/data_table.ipynb>data table notebook</a>'\n",
              "            + ' to learn more about interactive tables.';\n",
              "          element.innerHTML = '';\n",
              "          dataTable['output_type'] = 'display_data';\n",
              "          await google.colab.output.renderOutput(dataTable, element);\n",
              "          const docLink = document.createElement('div');\n",
              "          docLink.innerHTML = docLinkHtml;\n",
              "          element.appendChild(docLink);\n",
              "        }\n",
              "      </script>\n",
              "    </div>\n",
              "  </div>\n",
              "  "
            ]
          },
          "metadata": {},
          "execution_count": 87
        }
      ]
    },
    {
      "cell_type": "code",
      "source": [
        "# Visualizando o dataframe escalonado\n",
        "df2_esc"
      ],
      "metadata": {
        "id": "6eumFIFvCZXh",
        "colab": {
          "base_uri": "https://localhost:8080/"
        },
        "outputId": "1f200fa3-31b8-4137-f8bb-9f25462db3c2"
      },
      "execution_count": 88,
      "outputs": [
        {
          "output_type": "execute_result",
          "data": {
            "text/plain": [
              "array([[ 1.12815215, -1.42456879, -1.73899919, -0.43480148],\n",
              "       [ 1.12815215, -1.28103541, -1.73899919,  1.19570407],\n",
              "       [-0.88640526, -1.3528021 , -1.70082976, -1.71591298],\n",
              "       [-0.88640526, -1.13750203, -1.70082976,  1.04041783],\n",
              "       [-0.88640526, -0.56336851, -1.66266033, -0.39597992],\n",
              "       [-0.88640526, -1.20926872, -1.66266033,  1.00159627],\n",
              "       [-0.88640526, -0.27630176, -1.62449091, -1.71591298],\n",
              "       [-0.88640526, -1.13750203, -1.62449091,  1.70038436],\n",
              "       [ 1.12815215,  1.80493225, -1.58632148, -1.83237767],\n",
              "       [-0.88640526, -0.6351352 , -1.58632148,  0.84631002],\n",
              "       [ 1.12815215,  2.02023231, -1.58632148, -1.4053405 ],\n",
              "       [-0.88640526, -0.27630176, -1.58632148,  1.89449216],\n",
              "       [-0.88640526,  1.37433211, -1.54815205, -1.36651894],\n",
              "       [-0.88640526, -1.06573534, -1.54815205,  1.04041783],\n",
              "       [ 1.12815215, -0.13276838, -1.54815205, -1.44416206],\n",
              "       [ 1.12815215, -1.20926872, -1.54815205,  1.11806095],\n",
              "       [-0.88640526, -0.27630176, -1.50998262, -0.59008772],\n",
              "       [ 1.12815215, -1.3528021 , -1.50998262,  0.61338066],\n",
              "       [ 1.12815215,  0.94373197, -1.43364376, -0.82301709],\n",
              "       [-0.88640526, -0.27630176, -1.43364376,  1.8556706 ],\n",
              "       [ 1.12815215, -0.27630176, -1.39547433, -0.59008772],\n",
              "       [ 1.12815215, -0.99396865, -1.39547433,  0.88513158],\n",
              "       [-0.88640526,  0.51313183, -1.3573049 , -1.75473454],\n",
              "       [ 1.12815215, -0.56336851, -1.3573049 ,  0.88513158],\n",
              "       [-0.88640526,  1.08726535, -1.24279661, -1.4053405 ],\n",
              "       [ 1.12815215, -0.70690189, -1.24279661,  1.23452563],\n",
              "       [-0.88640526,  0.44136514, -1.24279661, -0.7065524 ],\n",
              "       [ 1.12815215, -0.27630176, -1.24279661,  0.41927286],\n",
              "       [-0.88640526,  0.08253169, -1.20462718, -0.74537397],\n",
              "       [-0.88640526, -1.13750203, -1.20462718,  1.42863343],\n",
              "       [ 1.12815215,  1.51786549, -1.16645776, -1.7935561 ],\n",
              "       [-0.88640526, -1.28103541, -1.16645776,  0.88513158],\n",
              "       [ 1.12815215,  1.01549866, -1.05194947, -1.7935561 ],\n",
              "       [ 1.12815215, -1.49633548, -1.05194947,  1.62274124],\n",
              "       [-0.88640526,  0.7284319 , -1.05194947, -1.4053405 ],\n",
              "       [-0.88640526, -1.28103541, -1.05194947,  1.19570407],\n",
              "       [-0.88640526,  0.22606507, -1.01378004, -1.28887582],\n",
              "       [-0.88640526, -0.6351352 , -1.01378004,  0.88513158],\n",
              "       [-0.88640526, -0.20453507, -0.89927175, -0.93948177],\n",
              "       [-0.88640526, -1.3528021 , -0.89927175,  0.96277471],\n",
              "       [-0.88640526,  1.87669894, -0.86110232, -0.59008772],\n",
              "       [ 1.12815215, -1.06573534, -0.86110232,  1.62274124],\n",
              "       [ 1.12815215,  0.65666521, -0.82293289, -0.55126616],\n",
              "       [-0.88640526, -0.56336851, -0.82293289,  0.41927286],\n",
              "       [-0.88640526,  0.7284319 , -0.82293289, -0.86183865],\n",
              "       [-0.88640526, -1.06573534, -0.82293289,  0.5745591 ],\n",
              "       [-0.88640526,  0.80019859, -0.78476346,  0.18634349],\n",
              "       [-0.88640526, -0.85043527, -0.78476346, -0.12422899],\n",
              "       [-0.88640526, -0.70690189, -0.78476346, -0.3183368 ],\n",
              "       [-0.88640526, -0.56336851, -0.78476346, -0.3183368 ],\n",
              "       [-0.88640526,  0.7284319 , -0.70842461,  0.06987881],\n",
              "       [ 1.12815215, -0.41983513, -0.70842461,  0.38045129],\n",
              "       [-0.88640526, -0.56336851, -0.67025518,  0.14752193],\n",
              "       [ 1.12815215,  1.4460988 , -0.67025518,  0.38045129],\n",
              "       [-0.88640526,  0.80019859, -0.67025518, -0.20187212],\n",
              "       [ 1.12815215,  0.58489852, -0.67025518, -0.35715836],\n",
              "       [-0.88640526,  0.87196528, -0.63208575, -0.00776431],\n",
              "       [ 1.12815215,  2.16376569, -0.63208575, -0.16305055],\n",
              "       [-0.88640526, -0.85043527, -0.55574689,  0.03105725],\n",
              "       [ 1.12815215,  1.01549866, -0.55574689, -0.16305055],\n",
              "       [ 1.12815215,  2.23553238, -0.55574689,  0.22516505],\n",
              "       [ 1.12815215, -1.42456879, -0.55574689,  0.18634349],\n",
              "       [-0.88640526,  2.02023231, -0.51757746,  0.06987881],\n",
              "       [-0.88640526,  1.08726535, -0.51757746,  0.34162973],\n",
              "       [ 1.12815215,  1.73316556, -0.47940803,  0.03105725],\n",
              "       [ 1.12815215, -1.49633548, -0.47940803,  0.34162973],\n",
              "       [-0.88640526,  0.29783176, -0.47940803, -0.00776431],\n",
              "       [-0.88640526,  2.091999  , -0.47940803, -0.08540743],\n",
              "       [ 1.12815215, -1.42456879, -0.47940803,  0.34162973],\n",
              "       [-0.88640526, -0.49160182, -0.47940803, -0.12422899],\n",
              "       [ 1.12815215,  2.23553238, -0.4412386 ,  0.18634349],\n",
              "       [-0.88640526,  0.58489852, -0.4412386 , -0.3183368 ],\n",
              "       [-0.88640526,  1.51786549, -0.40306917, -0.04658587],\n",
              "       [-0.88640526,  1.51786549, -0.40306917,  0.22516505],\n",
              "       [ 1.12815215,  1.4460988 , -0.25039146, -0.12422899],\n",
              "       [ 1.12815215, -0.92220196, -0.25039146,  0.14752193],\n",
              "       [-0.88640526,  0.44136514, -0.25039146,  0.10870037],\n",
              "       [ 1.12815215,  0.08253169, -0.25039146, -0.08540743],\n",
              "       [-0.88640526, -1.13750203, -0.25039146,  0.06987881],\n",
              "       [-0.88640526,  0.7284319 , -0.25039146, -0.3183368 ],\n",
              "       [ 1.12815215,  1.30256542, -0.25039146,  0.03105725],\n",
              "       [ 1.12815215, -0.06100169, -0.25039146,  0.18634349],\n",
              "       [ 1.12815215,  2.02023231, -0.25039146, -0.35715836],\n",
              "       [-0.88640526,  0.51313183, -0.25039146, -0.24069368],\n",
              "       [-0.88640526, -1.28103541, -0.25039146,  0.26398661],\n",
              "       [ 1.12815215,  0.65666521, -0.25039146, -0.16305055],\n",
              "       [-0.88640526,  1.15903204, -0.13588317,  0.30280817],\n",
              "       [-0.88640526, -1.20926872, -0.13588317,  0.18634349],\n",
              "       [-0.88640526, -0.34806844, -0.09771374,  0.38045129],\n",
              "       [-0.88640526,  0.80019859, -0.09771374, -0.16305055],\n",
              "       [-0.88640526,  2.091999  , -0.05954431,  0.18634349],\n",
              "       [ 1.12815215, -1.49633548, -0.05954431, -0.35715836],\n",
              "       [ 1.12815215,  0.65666521, -0.02137488, -0.04658587],\n",
              "       [-0.88640526,  0.08253169, -0.02137488, -0.39597992],\n",
              "       [-0.88640526, -0.49160182, -0.02137488, -0.3183368 ],\n",
              "       [ 1.12815215, -1.06573534, -0.02137488,  0.06987881],\n",
              "       [-0.88640526,  0.58489852, -0.02137488, -0.12422899],\n",
              "       [-0.88640526, -0.85043527, -0.02137488, -0.00776431],\n",
              "       [ 1.12815215,  0.65666521,  0.01679455, -0.3183368 ],\n",
              "       [ 1.12815215, -1.3528021 ,  0.01679455, -0.04658587],\n",
              "       [-0.88640526, -1.13750203,  0.05496398, -0.35715836],\n",
              "       [-0.88640526,  0.7284319 ,  0.05496398, -0.08540743],\n",
              "       [ 1.12815215,  2.02023231,  0.05496398,  0.34162973],\n",
              "       [ 1.12815215, -0.92220196,  0.05496398,  0.18634349],\n",
              "       [ 1.12815215,  0.7284319 ,  0.05496398,  0.22516505],\n",
              "       [-0.88640526, -1.28103541,  0.05496398, -0.3183368 ],\n",
              "       [-0.88640526,  1.94846562,  0.09313341, -0.00776431],\n",
              "       [ 1.12815215,  1.08726535,  0.09313341, -0.16305055],\n",
              "       [ 1.12815215,  2.091999  ,  0.09313341, -0.27951524],\n",
              "       [ 1.12815215,  1.94846562,  0.09313341, -0.08540743],\n",
              "       [ 1.12815215,  1.87669894,  0.09313341,  0.06987881],\n",
              "       [-0.88640526, -1.42456879,  0.09313341,  0.14752193],\n",
              "       [-0.88640526, -0.06100169,  0.13130284, -0.3183368 ],\n",
              "       [ 1.12815215, -1.42456879,  0.13130284, -0.16305055],\n",
              "       [-0.88640526, -1.49633548,  0.16947227, -0.08540743],\n",
              "       [-0.88640526, -1.42456879,  0.16947227, -0.00776431],\n",
              "       [-0.88640526,  1.73316556,  0.16947227, -0.27951524],\n",
              "       [-0.88640526,  0.7284319 ,  0.16947227,  0.34162973],\n",
              "       [-0.88640526,  0.87196528,  0.24581112, -0.27951524],\n",
              "       [-0.88640526,  0.80019859,  0.24581112,  0.26398661],\n",
              "       [ 1.12815215, -0.85043527,  0.24581112,  0.22516505],\n",
              "       [-0.88640526, -0.06100169,  0.24581112, -0.39597992],\n",
              "       [-0.88640526,  0.08253169,  0.32214998,  0.30280817],\n",
              "       [ 1.12815215,  0.010765  ,  0.32214998,  1.58391968],\n",
              "       [-0.88640526, -1.13750203,  0.36031941, -0.82301709],\n",
              "       [-0.88640526, -0.56336851,  0.36031941,  1.04041783],\n",
              "       [ 1.12815215,  0.29783176,  0.39848884, -0.59008772],\n",
              "       [ 1.12815215,  0.08253169,  0.39848884,  1.73920592],\n",
              "       [ 1.12815215,  1.4460988 ,  0.39848884, -1.52180518],\n",
              "       [ 1.12815215, -0.06100169,  0.39848884,  0.96277471],\n",
              "       [ 1.12815215,  0.58489852,  0.39848884, -1.5994483 ],\n",
              "       [ 1.12815215,  0.010765  ,  0.39848884,  0.96277471],\n",
              "       [-0.88640526, -0.99396865,  0.43665827, -0.62890928],\n",
              "       [-0.88640526, -0.56336851,  0.43665827,  0.80748846],\n",
              "       [ 1.12815215, -1.3528021 ,  0.4748277 , -1.75473454],\n",
              "       [-0.88640526, -0.70690189,  0.4748277 ,  1.46745499],\n",
              "       [-0.88640526,  0.36959845,  0.4748277 , -1.67709142],\n",
              "       [ 1.12815215, -0.49160182,  0.4748277 ,  0.88513158],\n",
              "       [ 1.12815215, -1.42456879,  0.51299713, -1.56062674],\n",
              "       [-0.88640526, -0.27630176,  0.51299713,  0.84631002],\n",
              "       [-0.88640526,  1.30256542,  0.55116656, -1.75473454],\n",
              "       [ 1.12815215, -0.49160182,  0.55116656,  1.6615628 ],\n",
              "       [-0.88640526, -0.77866858,  0.58933599, -0.39597992],\n",
              "       [-0.88640526, -0.49160182,  0.58933599,  1.42863343],\n",
              "       [ 1.12815215, -0.99396865,  0.62750542, -1.48298362],\n",
              "       [ 1.12815215, -0.77866858,  0.62750542,  1.81684904],\n",
              "       [ 1.12815215,  0.65666521,  0.62750542, -0.55126616],\n",
              "       [-0.88640526, -0.49160182,  0.62750542,  0.92395314],\n",
              "       [-0.88640526, -0.34806844,  0.66567484, -1.09476801],\n",
              "       [ 1.12815215, -0.34806844,  0.66567484,  1.54509812],\n",
              "       [ 1.12815215,  0.29783176,  0.66567484, -1.28887582],\n",
              "       [ 1.12815215,  0.010765  ,  0.66567484,  1.46745499],\n",
              "       [-0.88640526,  0.36959845,  0.66567484, -1.17241113],\n",
              "       [-0.88640526, -0.06100169,  0.66567484,  1.00159627],\n",
              "       [-0.88640526,  0.58489852,  0.66567484, -1.32769738],\n",
              "       [-0.88640526, -0.85043527,  0.66567484,  1.50627656],\n",
              "       [ 1.12815215, -0.13276838,  0.66567484, -1.91002079],\n",
              "       [-0.88640526, -0.6351352 ,  0.66567484,  1.07923939],\n",
              "       [ 1.12815215, -0.34806844,  0.66567484, -1.91002079],\n",
              "       [-0.88640526, -0.6351352 ,  0.66567484,  0.88513158],\n",
              "       [-0.88640526,  1.23079873,  0.70384427, -0.59008772],\n",
              "       [-0.88640526, -0.70690189,  0.70384427,  1.27334719],\n",
              "       [ 1.12815215, -1.42456879,  0.78018313, -1.75473454],\n",
              "       [-0.88640526, -0.56336851,  0.78018313,  1.6615628 ],\n",
              "       [ 1.12815215,  0.80019859,  0.93286085, -0.93948177],\n",
              "       [-0.88640526, -0.20453507,  0.93286085,  0.96277471],\n",
              "       [ 1.12815215,  0.22606507,  0.97103028, -1.17241113],\n",
              "       [-0.88640526, -0.41983513,  0.97103028,  1.73920592],\n",
              "       [-0.88640526, -0.20453507,  1.00919971, -0.90066021],\n",
              "       [ 1.12815215, -0.49160182,  1.00919971,  0.49691598],\n",
              "       [ 1.12815215,  0.08253169,  1.00919971, -1.44416206],\n",
              "       [ 1.12815215, -0.77866858,  1.00919971,  0.96277471],\n",
              "       [ 1.12815215, -0.20453507,  1.00919971, -1.56062674],\n",
              "       [ 1.12815215, -0.20453507,  1.00919971,  1.62274124],\n",
              "       [-0.88640526,  0.94373197,  1.04736914, -1.44416206],\n",
              "       [-0.88640526, -0.6351352 ,  1.04736914,  1.38981187],\n",
              "       [ 1.12815215,  1.37433211,  1.04736914, -1.36651894],\n",
              "       [ 1.12815215, -0.85043527,  1.04736914,  0.72984534],\n",
              "       [ 1.12815215,  1.4460988 ,  1.23821628, -1.4053405 ],\n",
              "       [ 1.12815215, -0.27630176,  1.23821628,  1.54509812],\n",
              "       [-0.88640526, -0.13276838,  1.390894  , -0.7065524 ],\n",
              "       [-0.88640526, -0.49160182,  1.390894  ,  1.38981187],\n",
              "       [ 1.12815215,  0.51313183,  1.42906343, -1.36651894],\n",
              "       [-0.88640526, -0.70690189,  1.42906343,  1.46745499],\n",
              "       [-0.88640526,  0.15429838,  1.46723286, -0.43480148],\n",
              "       [ 1.12815215, -0.6351352 ,  1.46723286,  1.81684904],\n",
              "       [-0.88640526,  1.08726535,  1.54357172, -1.01712489],\n",
              "       [ 1.12815215, -0.77866858,  1.54357172,  0.69102378],\n",
              "       [-0.88640526,  0.15429838,  1.61991057, -1.28887582],\n",
              "       [-0.88640526, -0.20453507,  1.61991057,  1.35099031],\n",
              "       [-0.88640526, -0.34806844,  1.61991057, -1.05594645],\n",
              "       [-0.88640526, -0.49160182,  1.61991057,  0.72984534],\n",
              "       [ 1.12815215, -0.41983513,  2.00160487, -1.63826986],\n",
              "       [-0.88640526, -0.06100169,  2.00160487,  1.58391968],\n",
              "       [-0.88640526,  0.58489852,  2.26879087, -1.32769738],\n",
              "       [-0.88640526, -0.27630176,  2.26879087,  1.11806095],\n",
              "       [-0.88640526,  0.44136514,  2.49780745, -0.86183865],\n",
              "       [ 1.12815215, -0.49160182,  2.49780745,  0.92395314],\n",
              "       [ 1.12815215, -0.49160182,  2.91767117, -1.25005425],\n",
              "       [ 1.12815215, -0.6351352 ,  2.91767117,  1.27334719]])"
            ]
          },
          "metadata": {},
          "execution_count": 88
        }
      ]
    },
    {
      "cell_type": "code",
      "source": [
        "df2_esc.shape"
      ],
      "metadata": {
        "colab": {
          "base_uri": "https://localhost:8080/"
        },
        "id": "aVuT_6BACaeE",
        "outputId": "18eacbae-4f36-496d-8d59-347a729a9629"
      },
      "execution_count": 89,
      "outputs": [
        {
          "output_type": "execute_result",
          "data": {
            "text/plain": [
              "(200, 4)"
            ]
          },
          "metadata": {},
          "execution_count": 89
        }
      ]
    },
    {
      "cell_type": "markdown",
      "source": [
        "## Componentes principais"
      ],
      "metadata": {
        "id": "YOt8p55oDe7-"
      }
    },
    {
      "cell_type": "code",
      "source": [
        "# Importando a biblioteca necessária: PCA\n",
        "from sklearn.decomposition import PCA"
      ],
      "metadata": {
        "id": "ufHS-v79DeID"
      },
      "execution_count": 90,
      "outputs": []
    },
    {
      "cell_type": "code",
      "source": [
        "# Reduzindo para 2 a quantidade de atributos necessários utilizando o PCA\n",
        "pca = PCA(n_components=2)"
      ],
      "metadata": {
        "id": "f6_ctFbnDn2v"
      },
      "execution_count": 91,
      "outputs": []
    },
    {
      "cell_type": "code",
      "source": [
        "df2_pca = pca.fit_transform(df2_esc)"
      ],
      "metadata": {
        "id": "KXBaEcDVDpd5"
      },
      "execution_count": 92,
      "outputs": []
    },
    {
      "cell_type": "code",
      "source": [
        "df2_pca"
      ],
      "metadata": {
        "id": "up3sTd0gDqrC",
        "colab": {
          "base_uri": "https://localhost:8080/"
        },
        "outputId": "9e929c18-bb11-4f5d-827c-cbcf80420107"
      },
      "execution_count": 93,
      "outputs": [
        {
          "output_type": "execute_result",
          "data": {
            "text/plain": [
              "array([[-4.06382715e-01, -5.20713635e-01],\n",
              "       [-1.42767287e+00, -3.67310199e-01],\n",
              "       [ 5.07605706e-02, -1.89406774e+00],\n",
              "       [-1.69451310e+00, -1.63190805e+00],\n",
              "       [-3.13108383e-01, -1.81048272e+00],\n",
              "       [-1.71744627e+00, -1.59926418e+00],\n",
              "       [ 7.90821124e-01, -1.94727112e+00],\n",
              "       [-2.14832159e+00, -1.50537369e+00],\n",
              "       [ 2.77428623e+00, -8.82987672e-01],\n",
              "       [-1.21629477e+00, -1.61640464e+00],\n",
              "       [ 2.62905084e+00, -8.61237043e-01],\n",
              "       [-1.68947038e+00, -1.54542784e+00],\n",
              "       [ 1.68582253e+00, -2.02394479e+00],\n",
              "       [-1.64607339e+00, -1.52251259e+00],\n",
              "       [ 1.17443628e+00, -6.12790961e-01],\n",
              "       [-1.32613070e+00, -2.36719149e-01],\n",
              "       [ 1.67728253e-02, -1.74344572e+00],\n",
              "       [-1.07842454e+00, -2.44715641e-01],\n",
              "       [ 1.48758780e+00, -5.72676028e-01],\n",
              "       [-1.66373169e+00, -1.43259774e+00],\n",
              "       [ 4.88090311e-01, -3.92921145e-01],\n",
              "       [-1.01895051e+00, -1.66247511e-01],\n",
              "       [ 1.35891492e+00, -1.82866936e+00],\n",
              "       [-7.22972722e-01, -1.81687017e-01],\n",
              "       [ 1.51315931e+00, -1.76451196e+00],\n",
              "       [-1.06241157e+00, -4.31150614e-02],\n",
              "       [ 5.88832908e-01, -1.62541614e+00],\n",
              "       [-2.06188227e-01, -1.71906970e-01],\n",
              "       [ 3.68426440e-01, -1.56300645e+00],\n",
              "       [-1.96420414e+00, -1.21211990e+00],\n",
              "       [ 2.54759194e+00, -5.27913522e-01],\n",
              "       [-1.68983067e+00, -1.22412321e+00],\n",
              "       [ 2.20131721e+00, -3.88195647e-01],\n",
              "       [-1.87329695e+00,  2.24855270e-01],\n",
              "       [ 1.26515693e+00, -1.58125854e+00],\n",
              "       [-1.90386557e+00, -1.10444099e+00],\n",
              "       [ 8.39344590e-01, -1.48793867e+00],\n",
              "       [-1.24644437e+00, -1.17425940e+00],\n",
              "       [ 3.02432444e-01, -1.31960089e+00],\n",
              "       [-1.79415868e+00, -1.00420352e+00],\n",
              "       [ 1.49387594e+00, -1.47013252e+00],\n",
              "       [-1.57824777e+00,  3.26252676e-01],\n",
              "       [ 1.09972892e+00, -4.75148304e-02],\n",
              "       [-8.78229151e-01, -1.08373653e+00],\n",
              "       [ 8.90421740e-01, -1.34990772e+00],\n",
              "       [-1.33047664e+00, -1.01561907e+00],\n",
              "       [ 2.19540681e-01, -1.21995587e+00],\n",
              "       [-7.02592333e-01, -1.08085693e+00],\n",
              "       [-4.70519161e-01, -1.11577393e+00],\n",
              "       [-3.71782513e-01, -1.13065684e+00],\n",
              "       [ 2.49709965e-01, -1.16611641e+00],\n",
              "       [-2.81507713e-01,  2.47898317e-01],\n",
              "       [-6.92486630e-01, -9.94947343e-01],\n",
              "       [ 1.00183656e+00,  8.36296961e-02],\n",
              "       [ 4.85517270e-01, -1.17239636e+00],\n",
              "       [ 9.16095461e-01,  9.67976267e-02],\n",
              "       [ 4.01316916e-01, -1.13059450e+00],\n",
              "       [ 1.86862991e+00, -1.76710825e-02],\n",
              "       [-8.10654470e-01, -8.89574289e-01],\n",
              "       [ 1.07827242e+00,  1.59810666e-01],\n",
              "       [ 1.65086088e+00,  7.33740960e-02],\n",
              "       [-8.40256337e-01,  4.48881521e-01],\n",
              "       [ 1.13717903e+00, -1.15401647e+00],\n",
              "       [ 3.08719686e-01, -1.02922982e+00],\n",
              "       [ 1.43815483e+00,  1.63848653e-01],\n",
              "       [-9.96758186e-01,  5.30768704e-01],\n",
              "       [ 5.44171232e-03, -9.54225943e-01],\n",
              "       [ 1.29298442e+00, -1.14827597e+00],\n",
              "       [-9.47389862e-01,  5.23327249e-01],\n",
              "       [-4.57607937e-01, -8.84390383e-01],\n",
              "       [ 1.67683173e+00,  1.56994962e-01],\n",
              "       [ 4.16021294e-01, -9.86837080e-01],\n",
              "       [ 8.70906219e-01, -1.02631905e+00],\n",
              "       [ 6.84235085e-01, -9.98271327e-01],\n",
              "       [ 1.34595784e+00,  3.52842574e-01],\n",
              "       [-4.69867989e-01,  6.26458338e-01],\n",
              "       [ 2.27835275e-02, -7.81833032e-01],\n",
              "       [ 3.81292376e-01,  4.98237051e-01],\n",
              "       [-1.03665230e+00, -6.22127824e-01],\n",
              "       [ 5.13597177e-01, -8.55673851e-01],\n",
              "       [ 1.14055197e+00,  3.83752756e-01],\n",
              "       [ 9.58845944e-02,  5.41167687e-01],\n",
              "       [ 1.90090826e+00,  2.69270021e-01],\n",
              "       [ 3.12157595e-01, -8.25335848e-01],\n",
              "       [-1.26872547e+00, -5.87210823e-01],\n",
              "       [ 8.29573578e-01,  4.30691769e-01],\n",
              "       [ 3.82433784e-01, -7.48585816e-01],\n",
              "       [-1.16671899e+00, -5.15038230e-01],\n",
              "       [-7.07867782e-01, -5.55092382e-01],\n",
              "       [ 4.55367669e-01, -7.30251123e-01],\n",
              "       [ 1.10375960e+00, -7.98926738e-01],\n",
              "       [-5.19300383e-01,  7.79947493e-01],\n",
              "       [ 7.48178745e-01,  6.17967591e-01],\n",
              "       [ 1.21223952e-01, -6.21459016e-01],\n",
              "       [-3.27057250e-01, -5.53913735e-01],\n",
              "       [-5.16662945e-01,  8.08582982e-01],\n",
              "       [ 2.80131086e-01, -6.45501482e-01],\n",
              "       [-7.87237308e-01, -4.84651914e-01],\n",
              "       [ 9.34617726e-01,  6.19129095e-01],\n",
              "       [-6.34366480e-01,  8.55537580e-01],\n",
              "       [-7.45169167e-01, -4.32528995e-01],\n",
              "       [ 3.51736123e-01, -5.97959120e-01],\n",
              "       [ 1.41903955e+00,  5.75066566e-01],\n",
              "       [-4.98392518e-01,  8.64138980e-01],\n",
              "       [ 6.10411629e-01,  6.96992316e-01],\n",
              "       [-8.70573120e-01, -4.13639266e-01],\n",
              "       [ 1.13743087e+00, -6.87241003e-01],\n",
              "       [ 1.12369414e+00,  6.48926087e-01],\n",
              "       [ 1.89485259e+00,  5.32725254e-01],\n",
              "       [ 1.66277942e+00,  5.67642254e-01],\n",
              "       [ 1.50674188e+00,  5.91110981e-01],\n",
              "       [-1.28954958e+00, -3.21465312e-01],\n",
              "       [-3.17759179e-02, -4.81725557e-01],\n",
              "       [-6.04429349e-01,  9.38586267e-01],\n",
              "       [-1.17937838e+00, -2.79646307e-01],\n",
              "       [-1.18334467e+00, -2.79074127e-01],\n",
              "       [ 1.17553272e+00, -6.34545905e-01],\n",
              "       [ 5.76993109e-02, -4.66256439e-01],\n",
              "       [ 5.82648530e-01, -4.86829980e-01],\n",
              "       [ 1.59937938e-01, -4.23293075e-01],\n",
              "       [-4.76852264e-01,  1.00675048e+00],\n",
              "       [ 2.08622326e-02, -4.02111508e-01],\n",
              "       [-3.60876912e-01, -2.86453243e-01],\n",
              "       [-8.18252351e-01,  1.11611009e+00],\n",
              "       [-4.27018733e-01, -2.46936984e-01],\n",
              "       [-1.31210277e+00, -1.14141375e-01],\n",
              "       [ 8.72125709e-01,  9.20380930e-01],\n",
              "       [-8.76017553e-01,  1.18311437e+00],\n",
              "       [ 2.30203421e+00,  7.05154010e-01],\n",
              "       [-4.41408104e-01,  1.11786092e+00],\n",
              "       [ 1.76294893e+00,  7.86437844e-01],\n",
              "       [-3.92039780e-01,  1.11041946e+00],\n",
              "       [-4.62082916e-01, -1.83367350e-01],\n",
              "       [-1.15256325e+00, -7.97638257e-02],\n",
              "       [ 5.36209096e-01,  1.02974833e+00],\n",
              "       [-1.70487623e+00,  3.24442165e-02],\n",
              "       [ 1.19570032e+00, -4.03729862e-01],\n",
              "       [-6.84747745e-01,  1.21291448e+00],\n",
              "       [ 3.53272095e-01,  1.08643311e+00],\n",
              "       [-9.82221565e-01, -4.71043747e-02],\n",
              "       [ 1.89035883e+00, -4.50063966e-01],\n",
              "       [-1.21855815e+00,  1.35146929e+00],\n",
              "       [-4.74910385e-01, -6.48138980e-02],\n",
              "       [-1.53080042e+00,  9.37407158e-02],\n",
              "       [ 5.95450970e-01,  1.13742569e+00],\n",
              "       [-1.52316497e+00,  1.45568084e+00],\n",
              "       [ 1.09090711e+00,  1.06243584e+00],\n",
              "       [-1.18435761e+00,  7.08613124e-02],\n",
              "       [ 3.00846740e-01, -1.23166897e-01],\n",
              "       [-1.04051604e+00,  1.41219361e+00],\n",
              "       [ 1.35051212e+00,  1.05272281e+00],\n",
              "       [-7.40339814e-01,  1.36697269e+00],\n",
              "       [ 8.47864590e-01, -2.05595090e-01],\n",
              "       [-9.41714425e-01,  6.34354417e-02],\n",
              "       [ 1.10263878e+00, -2.43946728e-01],\n",
              "       [-1.83144095e+00,  1.97380086e-01],\n",
              "       [ 1.48097906e+00,  1.03326246e+00],\n",
              "       [-1.38999563e+00,  1.30980723e-01],\n",
              "       [ 1.33287409e+00,  1.05558682e+00],\n",
              "       [-1.25665910e+00,  1.10946634e-01],\n",
              "       [ 1.04004275e+00, -2.05581064e-01],\n",
              "       [-1.57293263e+00,  1.87665496e-01],\n",
              "       [ 4.84983547e-01,  1.27086361e+00],\n",
              "       [-1.74133333e+00,  2.71269219e-01],\n",
              "       [ 1.45445958e+00,  1.24115857e+00],\n",
              "       [-1.01540884e+00,  2.78776132e-01],\n",
              "       [ 1.21928466e+00,  1.30585854e+00],\n",
              "       [-1.69709206e+00,  4.10446083e-01],\n",
              "       [ 2.64157486e-01,  1.44867334e-01],\n",
              "       [-4.21324839e-01,  1.58177549e+00],\n",
              "       [ 1.30698699e+00,  1.32190295e+00],\n",
              "       [-9.38805793e-01,  1.65962313e+00],\n",
              "       [ 1.18951561e+00,  1.33964832e+00],\n",
              "       [-9.97203383e-01,  1.66820738e+00],\n",
              "       [ 1.42716078e+00, -1.08217936e-03],\n",
              "       [-1.60565560e+00,  4.55127547e-01],\n",
              "       [ 2.14205006e+00,  1.22517962e+00],\n",
              "       [-8.28402441e-01,  1.67223290e+00],\n",
              "       [ 2.21692493e+00,  1.35977748e+00],\n",
              "       [-9.94630016e-01,  1.84289057e+00],\n",
              "       [ 1.77867756e-01,  4.49552248e-01],\n",
              "       [-1.50900833e+00,  7.03127688e-01],\n",
              "       [ 1.54730865e+00,  1.60656936e+00],\n",
              "       [-1.71068006e+00,  7.62674919e-01],\n",
              "       [ 1.88205612e-01,  5.06252606e-01],\n",
              "       [-1.42953569e+00,  2.08340094e+00],\n",
              "       [ 1.22953909e+00,  4.07829870e-01],\n",
              "       [-7.55384802e-01,  2.04050460e+00],\n",
              "       [ 7.73957706e-01,  5.34939526e-01],\n",
              "       [-1.28626064e+00,  8.44610416e-01],\n",
              "       [ 2.68375609e-01,  6.11070624e-01],\n",
              "       [-1.05705706e+00,  8.10267154e-01],\n",
              "       [ 1.08870927e+00,  2.11339899e+00],\n",
              "       [-1.34984935e+00,  1.14586069e+00],\n",
              "       [ 1.09288835e+00,  9.82840852e-01],\n",
              "       [-1.17957174e+00,  1.32456784e+00],\n",
              "       [ 6.72751128e-01,  1.22106095e+00],\n",
              "       [-7.23719161e-01,  2.76501038e+00],\n",
              "       [ 7.67096226e-01,  2.86193009e+00],\n",
              "       [-1.06501524e+00,  3.13725616e+00]])"
            ]
          },
          "metadata": {},
          "execution_count": 93
        }
      ]
    },
    {
      "cell_type": "markdown",
      "source": [
        "Dendrograma\n",
        "\n",
        "O que é um dendrograma?\n",
        "\n",
        "Representação esquemática ou diagrama que lembra a estrutura de uma árvore (ex.: dendrograma filogenético)."
      ],
      "metadata": {
        "id": "TuKHUsZNEH_J"
      }
    },
    {
      "cell_type": "code",
      "source": [
        "import matplotlib.pyplot as plt\n",
        "from scipy.cluster.hierarchy import dendrogram, linkage"
      ],
      "metadata": {
        "id": "xuKq1rUSEY5h"
      },
      "execution_count": 94,
      "outputs": []
    },
    {
      "cell_type": "code",
      "source": [
        "dendrograma = dendrogram(linkage(df2_pca,method = \"complete\"))"
      ],
      "metadata": {
        "colab": {
          "base_uri": "https://localhost:8080/",
          "height": 0
        },
        "id": "VbKvffSIEzUj",
        "outputId": "492cbbab-3086-4b10-aac5-24467eef1799"
      },
      "execution_count": 95,
      "outputs": [
        {
          "output_type": "display_data",
          "data": {
            "text/plain": [
              "<Figure size 432x288 with 1 Axes>"
            ],
            "image/png": "[encoded data removed]"
          },
          "metadata": {
            "needs_background": "light"
          }
        }
      ]
    },
    {
      "cell_type": "markdown",
      "source": [
        "## Vemos no gráfico que o dendrograma fez uma divisão em 3 clusters ( laranja, verde e vermelho )"
      ],
      "metadata": {
        "id": "-1crN0zlGjDV"
      }
    },
    {
      "cell_type": "code",
      "source": [
        "from sklearn.cluster import AgglomerativeClustering"
      ],
      "metadata": {
        "id": "mSntcZxuE_0d"
      },
      "execution_count": 96,
      "outputs": []
    },
    {
      "cell_type": "code",
      "source": [
        "hier = AgglomerativeClustering(n_clusters=3,affinity=\"euclidean\", linkage=\"complete\")\n",
        "classificacao4 = hier.fit_predict(df2_pca)"
      ],
      "metadata": {
        "id": "J71OcnDGFGKQ"
      },
      "execution_count": 97,
      "outputs": []
    },
    {
      "cell_type": "code",
      "source": [
        "classificacao4"
      ],
      "metadata": {
        "colab": {
          "base_uri": "https://localhost:8080/"
        },
        "id": "eMfo0YY_GNb5",
        "outputId": "d3d47030-9c68-4181-d0c1-9440cd222768"
      },
      "execution_count": 98,
      "outputs": [
        {
          "output_type": "execute_result",
          "data": {
            "text/plain": [
              "array([2, 2, 2, 2, 2, 2, 2, 2, 1, 2, 1, 2, 1, 2, 1, 2, 2, 2, 1, 2, 2, 2,\n",
              "       1, 2, 1, 2, 2, 2, 2, 2, 1, 2, 1, 0, 1, 2, 2, 2, 2, 2, 1, 0, 1, 2,\n",
              "       2, 2, 2, 2, 2, 2, 2, 2, 2, 1, 2, 1, 2, 1, 2, 1, 1, 0, 1, 2, 1, 0,\n",
              "       2, 1, 0, 2, 1, 2, 2, 2, 1, 0, 2, 2, 2, 2, 1, 2, 1, 2, 2, 1, 2, 2,\n",
              "       2, 2, 1, 0, 1, 2, 2, 0, 2, 2, 1, 0, 2, 2, 1, 0, 1, 2, 1, 1, 1, 1,\n",
              "       1, 2, 2, 0, 2, 2, 1, 2, 2, 2, 0, 2, 2, 0, 2, 2, 1, 0, 1, 0, 1, 0,\n",
              "       2, 2, 1, 0, 1, 0, 1, 2, 1, 0, 2, 0, 1, 0, 1, 2, 2, 0, 1, 0, 1, 2,\n",
              "       1, 0, 1, 0, 1, 2, 1, 0, 1, 0, 1, 0, 1, 0, 2, 0, 1, 0, 1, 0, 1, 0,\n",
              "       1, 0, 1, 0, 2, 0, 1, 0, 2, 0, 1, 0, 1, 0, 2, 0, 0, 0, 1, 0, 1, 0,\n",
              "       0, 0])"
            ]
          },
          "metadata": {},
          "execution_count": 98
        }
      ]
    },
    {
      "cell_type": "markdown",
      "source": [
        "## Criando um gráfico de dispersão para representar os 3 clusters criados"
      ],
      "metadata": {
        "id": "vBjXic_iTW_i"
      }
    },
    {
      "cell_type": "code",
      "source": [
        "import plotly.express as px"
      ],
      "metadata": {
        "id": "-m7ky6nHSNAp"
      },
      "execution_count": 99,
      "outputs": []
    },
    {
      "cell_type": "code",
      "source": [
        "graf4 = px.scatter( x = df2_pca[:,0], y = df2_pca[:,1], color = classificacao4)\n",
        "graf4.update_layout( width=800, height = 500, title_text=\"Agrupamento Hierárquico\")\n",
        "graf4.show()"
      ],
      "metadata": {
        "colab": {
          "base_uri": "https://localhost:8080/",
          "height": 0
        },
        "id": "mE6kBPtrSTx8",
        "outputId": "aea6f00a-9105-4d25-ef64-bc64b3ba8ee3"
      },
      "execution_count": 100,
      "outputs": [
        {
          "output_type": "display_data",
          "data": {
            "text/html": [
              "<html>\n",
              "<head><meta charset=\"utf-8\" /></head>\n",
              "<body>\n",
              "    <div>            <script src=\"https://cdnjs.cloudflare.com/ajax/libs/mathjax/2.7.5/MathJax.js?config=TeX-AMS-MML_SVG\"></script><script type=\"text/javascript\">if (window.MathJax) {MathJax.Hub.Config({SVG: {font: \"STIX-Web\"}});}</script>                <script type=\"text/javascript\">window.PlotlyConfig = {MathJaxConfig: 'local'};</script>\n",
              "        <script src=\"https://cdn.plot.ly/plotly-2.8.3.min.js\"></script>                <div id=\"8f8805eb-0040-47f3-a98e-8c87a0bc7839\" class=\"plotly-graph-div\" style=\"height:500px; width:800px;\"></div>            <script type=\"text/javascript\">                                    window.PLOTLYENV=window.PLOTLYENV || {};                                    if (document.getElementById(\"8f8805eb-0040-47f3-a98e-8c87a0bc7839\")) {                    Plotly.newPlot(                        \"8f8805eb-0040-47f3-a98e-8c87a0bc7839\",                        [{\"hovertemplate\":\"x=%{x}<br>y=%{y}<br>color=%{marker.color}<extra></extra>\",\"legendgroup\":\"\",\"marker\":{\"color\":[2,2,2,2,2,2,2,2,1,2,1,2,1,2,1,2,2,2,1,2,2,2,1,2,1,2,2,2,2,2,1,2,1,0,1,2,2,2,2,2,1,0,1,2,2,2,2,2,2,2,2,2,2,1,2,1,2,1,2,1,1,0,1,2,1,0,2,1,0,2,1,2,2,2,1,0,2,2,2,2,1,2,1,2,2,1,2,2,2,2,1,0,1,2,2,0,2,2,1,0,2,2,1,0,1,2,1,1,1,1,1,2,2,0,2,2,1,2,2,2,0,2,2,0,2,2,1,0,1,0,1,0,2,2,1,0,1,0,1,2,1,0,2,0,1,0,1,2,2,0,1,0,1,2,1,0,1,0,1,2,1,0,1,0,1,0,1,0,2,0,1,0,1,0,1,0,1,0,1,0,2,0,1,0,2,0,1,0,1,0,2,0,0,0,1,0,1,0,0,0],\"coloraxis\":\"coloraxis\",\"symbol\":\"circle\"},\"mode\":\"markers\",\"name\":\"\",\"orientation\":\"v\",\"showlegend\":false,\"x\":[-0.4063827151579539,-1.4276728699542152,0.05076057064985002,-1.694513100169418,-0.3131083826452846,-1.717446272386949,0.7908211244257646,-2.1483215883542,2.7742862260886674,-1.2162947672439097,2.629050844956019,-1.689470377641948,1.685822526686192,-1.646073388391044,1.1744362769650314,-1.326130701573071,0.016772825250205205,-1.0784245398454668,1.487587800437728,-1.6637316850276518,0.48809031054841423,-1.018950512841659,1.35891492179377,-0.7229727219419837,1.5131593111179211,-1.0624115725397136,0.5888329082822423,-0.20618822719626823,0.36842644009595854,-1.9642041381454174,2.547591941703815,-1.689830671589703,2.201317214598138,-1.8732969500021546,1.2651569258897126,-1.9038655693749462,0.8393445904066115,-1.2464443678738237,0.30243244384012896,-1.7941586766122868,1.4938759431071387,-1.5782477713162935,1.099728921816946,-0.8782291512115799,0.8904217399754469,-1.3304766384693378,0.21954068055520304,-0.7025923326402417,-0.4705191605153139,-0.3717825125309376,0.24970996494043868,-0.2815077131008843,-0.6924866296286218,1.0018365576425536,0.48551726967594544,0.9160954614703921,0.4013169164741282,1.8686299121045258,-0.8106544702734044,1.0782724221226085,1.6508608817087034,-0.8402563370647809,1.137179031532557,0.3087196858373392,1.4381548317970312,-0.9967581864763178,0.005441712322809042,1.2929844217837325,-0.9473898624841294,-0.4576079371069295,1.6768317273764533,0.4160212938629904,0.8709062189112103,0.6842350851144381,1.3459578368199983,-0.46986798871898217,0.0227835275021329,0.38129237614031347,-1.0366522954978958,0.5135971765800988,1.1405519695231807,0.0958845943591651,1.9009082577261656,0.3121575949473138,-1.2687254676228237,0.8295735777340393,0.3824337841231019,-1.166718993134776,-0.7078677824225231,0.4553676690460315,1.103759604398971,-0.5193003831583215,0.7481787449289868,0.12122395198590478,-0.3270572496078209,-0.5166629453678594,0.28013108613444954,-0.787237308193644,0.9346177256723055,-0.6343664799057346,-0.745169166816311,0.3517361231838084,1.4190395463925514,-0.49839251797472106,0.6104116290174958,-0.8705731196287977,1.1374308683413323,1.1236941442060857,1.89485259458105,1.6627794224561225,1.5067418791514935,-1.2895495786039513,-0.03177591786850641,-0.6044293485739525,-1.1793783797343846,-1.183344665398417,1.1755327240546332,0.05769931091423421,0.5826485300414681,0.15993793845573587,-0.4768522640779112,0.020862232627353535,-0.360876912401163,-0.8182523512624218,-0.42701873330661577,-1.3121027731184056,0.8721257089736012,-0.876017552689582,2.3020342087232586,-0.4414081041117519,1.762948930473222,-0.39203978011956386,-0.462082915569698,-1.1525632502566512,0.5362090958896765,-1.7048762333723564,1.1957003175874013,-0.6847477445155672,0.35327209470348325,-0.9822215652229159,1.8903588330351604,-1.2185581471846807,-0.47491038477561015,-1.5308004157280417,0.5954509698400304,-1.5231649685727817,1.09090710578571,-1.1843576060160614,0.30084673997659733,-1.0405160438763343,1.350512124505412,-0.7403398142591732,0.8478645895546993,-0.941714424772607,1.1026387808437048,-1.8314409514521104,1.4809790578020479,-1.3899956263663327,1.3328740858254835,-1.2566591022257811,1.0400427519858484,-1.5729326275525262,0.48498354746985955,-1.7413333339561599,1.4544595776235612,-1.015408839303048,1.219284661601264,-1.697092060895272,0.2641574863393399,-0.42132483898281414,1.3069869943602062,-0.9388057928888904,1.189515612875785,-0.997203383029261,1.4271607847544405,-1.605655595525751,2.1420500635099184,-0.8284024409658702,2.2169249270629487,-0.99463001568595,0.17786775565644064,-1.5090083250224569,1.5473086450691251,-1.7106800597086955,0.18820561172151373,-1.4295356877643843,1.2295390899347067,-0.7553848018404683,0.7739577057261265,-1.2862606425463154,0.2683756088121477,-1.057057061265303,1.0887092711656483,-1.3498493540651368,1.0928883525986548,-1.1795717394785525,0.6727511283562331,-0.7237191611767173,0.7670962256094708,-1.065015236202076],\"xaxis\":\"x\",\"y\":[-0.5207136347541887,-0.3673101985064729,-1.8940677431734187,-1.6319080463761149,-1.8104827229475533,-1.5992641803386483,-1.9472711231346211,-1.5053736875274362,-0.88298767174758,-1.6164046413069522,-0.8612370431432437,-1.5454278393385181,-2.0239447888163213,-1.5225125897317864,-0.6127909605390449,-0.23671914937157346,-1.7434457225503468,-0.24471564122901998,-0.5726760275517866,-1.4325977447537255,-0.39292114499292013,-0.16624751103390276,-1.828669357439307,-0.181687017398983,-1.7645119588687985,-0.04311506139167001,-1.6254161367177842,-0.17190696972129163,-1.563006447705596,-1.2121199030829253,-0.5279135219026179,-1.2241232127435877,-0.38819564740584867,0.22485527030598657,-1.5812585396653853,-1.1044409860268523,-1.4879386679529718,-1.174259402048703,-1.3196008889709374,-1.00420352471446,-1.4701325172117226,0.326252676328915,-0.04751483040251683,-1.0837365309459663,-1.3499077218383466,-1.0156190695273388,-1.219955868798189,-1.0808569291192682,-1.11577392962271,-1.1306568411100706,-1.1661164102701524,0.24789831732088355,-0.9949473431804704,0.08362969608219466,-1.1723963625393439,0.0967976267452531,-1.1305945011699412,-0.017671082502633453,-0.8895742893243904,0.15981066559025772,0.07337409597985196,0.44888152110433754,-1.1540164731713893,-1.029229823881031,0.1638486533635385,0.5307687042548868,-0.9542259428324893,-1.1482759720309321,0.5233272485112065,-0.884390383061653,0.15699496246764225,-0.9868370801359377,-1.0263190520842682,-0.9982713274617552,0.3528425737074088,0.6264583378713758,-0.7818330323281885,0.49823705064055307,-0.6221278237704353,-0.8556738511382878,0.3837527564076342,0.5411676867504268,0.2692700209386686,-0.8253358483008142,-0.5872108232669937,0.4306917690846773,-0.7485858164579056,-0.5150382303260997,-0.5550923821371821,-0.730251123281095,-0.7989267383413949,0.7799474928640203,0.6179675910763388,-0.621459016469583,-0.5539137349137074,0.8085829823343175,-0.645501482052833,-0.48465191376957606,0.6191290945508281,0.8555375799963929,-0.4325289948297953,-0.5979591195429735,0.5750665661725765,0.8641389804506094,0.6969923161491758,-0.4136392655392183,-0.6872410034821063,0.6489260874956144,0.5327252536744401,0.5676422541778816,0.5911109811344266,-0.32146531231626163,-0.48172555698778124,0.9385862666214316,-0.2796463071978737,-0.2790741273351218,-0.6345459046795736,-0.46625643941658945,-0.48682997956140406,-0.4232930745726977,1.0067504829951561,-0.4021115083032069,-0.2864532431386728,1.1161100933775603,-0.24693698369237152,-0.11414137508744021,0.9203809296167391,1.1831143650407487,0.7051540104406648,1.1178609204637866,0.7864378437583976,1.1104194647201062,-0.18336734996964724,-0.0797638257127327,1.0297483338189093,0.03244421652630466,-0.40372986168940894,1.2129144755134416,1.0864331066756725,-0.0471043746902338,-0.45006396576968244,1.3514692877717687,-0.0648138979933829,0.09374071578305374,1.1374256921110288,1.455680838153359,1.0624358372835663,0.07086131243824621,-0.12316689671935167,1.4121936071657661,1.0527228058378642,1.3669726928409314,-0.20559508976258814,0.06343544167959811,-0.24394672820649396,0.19738008630189274,1.0332624554484882,0.1309807232354738,1.0555868226795297,0.1109466342193931,-0.20558106354150898,0.18766549609223704,1.270863614338607,0.27126921883104194,1.2411585725400613,0.278776132042758,1.3058585397672104,0.4104460834351245,0.1448673336823879,1.5817754908393107,1.3219029547290604,1.659623127452626,1.3396483242941337,1.668207384157857,-0.0010821793645226642,0.4551275466312245,1.2251796150462468,1.672232904474012,1.3597774819843615,1.8428905728771183,0.44955224792481,0.7031276880168835,1.606569364940434,0.7626749189513592,0.5062526057666057,2.083400944800047,0.4078298702445222,2.0405045961881436,0.5349395264838593,0.844610415820959,0.6110706235089192,0.8102671539442224,2.1133989864408,1.1458606921229166,0.9828408518675974,1.3245678423943796,1.2210609455755657,2.765010382457773,2.8619300945446935,3.137256163241103],\"yaxis\":\"y\",\"type\":\"scatter\"}],                        {\"template\":{\"data\":{\"bar\":[{\"error_x\":{\"color\":\"#2a3f5f\"},\"error_y\":{\"color\":\"#2a3f5f\"},\"marker\":{\"line\":{\"color\":\"#E5ECF6\",\"width\":0.5},\"pattern\":{\"fillmode\":\"overlay\",\"size\":10,\"solidity\":0.2}},\"type\":\"bar\"}],\"barpolar\":[{\"marker\":{\"line\":{\"color\":\"#E5ECF6\",\"width\":0.5},\"pattern\":{\"fillmode\":\"overlay\",\"size\":10,\"solidity\":0.2}},\"type\":\"barpolar\"}],\"carpet\":[{\"aaxis\":{\"endlinecolor\":\"#2a3f5f\",\"gridcolor\":\"white\",\"linecolor\":\"white\",\"minorgridcolor\":\"white\",\"startlinecolor\":\"#2a3f5f\"},\"baxis\":{\"endlinecolor\":\"#2a3f5f\",\"gridcolor\":\"white\",\"linecolor\":\"white\",\"minorgridcolor\":\"white\",\"startlinecolor\":\"#2a3f5f\"},\"type\":\"carpet\"}],\"choropleth\":[{\"colorbar\":{\"outlinewidth\":0,\"ticks\":\"\"},\"type\":\"choropleth\"}],\"contour\":[{\"colorbar\":{\"outlinewidth\":0,\"ticks\":\"\"},\"colorscale\":[[0.0,\"#0d0887\"],[0.1111111111111111,\"#46039f\"],[0.2222222222222222,\"#7201a8\"],[0.3333333333333333,\"#9c179e\"],[0.4444444444444444,\"#bd3786\"],[0.5555555555555556,\"#d8576b\"],[0.6666666666666666,\"#ed7953\"],[0.7777777777777778,\"#fb9f3a\"],[0.8888888888888888,\"#fdca26\"],[1.0,\"#f0f921\"]],\"type\":\"contour\"}],\"contourcarpet\":[{\"colorbar\":{\"outlinewidth\":0,\"ticks\":\"\"},\"type\":\"contourcarpet\"}],\"heatmap\":[{\"colorbar\":{\"outlinewidth\":0,\"ticks\":\"\"},\"colorscale\":[[0.0,\"#0d0887\"],[0.1111111111111111,\"#46039f\"],[0.2222222222222222,\"#7201a8\"],[0.3333333333333333,\"#9c179e\"],[0.4444444444444444,\"#bd3786\"],[0.5555555555555556,\"#d8576b\"],[0.6666666666666666,\"#ed7953\"],[0.7777777777777778,\"#fb9f3a\"],[0.8888888888888888,\"#fdca26\"],[1.0,\"#f0f921\"]],\"type\":\"heatmap\"}],\"heatmapgl\":[{\"colorbar\":{\"outlinewidth\":0,\"ticks\":\"\"},\"colorscale\":[[0.0,\"#0d0887\"],[0.1111111111111111,\"#46039f\"],[0.2222222222222222,\"#7201a8\"],[0.3333333333333333,\"#9c179e\"],[0.4444444444444444,\"#bd3786\"],[0.5555555555555556,\"#d8576b\"],[0.6666666666666666,\"#ed7953\"],[0.7777777777777778,\"#fb9f3a\"],[0.8888888888888888,\"#fdca26\"],[1.0,\"#f0f921\"]],\"type\":\"heatmapgl\"}],\"histogram\":[{\"marker\":{\"pattern\":{\"fillmode\":\"overlay\",\"size\":10,\"solidity\":0.2}},\"type\":\"histogram\"}],\"histogram2d\":[{\"colorbar\":{\"outlinewidth\":0,\"ticks\":\"\"},\"colorscale\":[[0.0,\"#0d0887\"],[0.1111111111111111,\"#46039f\"],[0.2222222222222222,\"#7201a8\"],[0.3333333333333333,\"#9c179e\"],[0.4444444444444444,\"#bd3786\"],[0.5555555555555556,\"#d8576b\"],[0.6666666666666666,\"#ed7953\"],[0.7777777777777778,\"#fb9f3a\"],[0.8888888888888888,\"#fdca26\"],[1.0,\"#f0f921\"]],\"type\":\"histogram2d\"}],\"histogram2dcontour\":[{\"colorbar\":{\"outlinewidth\":0,\"ticks\":\"\"},\"colorscale\":[[0.0,\"#0d0887\"],[0.1111111111111111,\"#46039f\"],[0.2222222222222222,\"#7201a8\"],[0.3333333333333333,\"#9c179e\"],[0.4444444444444444,\"#bd3786\"],[0.5555555555555556,\"#d8576b\"],[0.6666666666666666,\"#ed7953\"],[0.7777777777777778,\"#fb9f3a\"],[0.8888888888888888,\"#fdca26\"],[1.0,\"#f0f921\"]],\"type\":\"histogram2dcontour\"}],\"mesh3d\":[{\"colorbar\":{\"outlinewidth\":0,\"ticks\":\"\"},\"type\":\"mesh3d\"}],\"parcoords\":[{\"line\":{\"colorbar\":{\"outlinewidth\":0,\"ticks\":\"\"}},\"type\":\"parcoords\"}],\"pie\":[{\"automargin\":true,\"type\":\"pie\"}],\"scatter\":[{\"marker\":{\"colorbar\":{\"outlinewidth\":0,\"ticks\":\"\"}},\"type\":\"scatter\"}],\"scatter3d\":[{\"line\":{\"colorbar\":{\"outlinewidth\":0,\"ticks\":\"\"}},\"marker\":{\"colorbar\":{\"outlinewidth\":0,\"ticks\":\"\"}},\"type\":\"scatter3d\"}],\"scattercarpet\":[{\"marker\":{\"colorbar\":{\"outlinewidth\":0,\"ticks\":\"\"}},\"type\":\"scattercarpet\"}],\"scattergeo\":[{\"marker\":{\"colorbar\":{\"outlinewidth\":0,\"ticks\":\"\"}},\"type\":\"scattergeo\"}],\"scattergl\":[{\"marker\":{\"colorbar\":{\"outlinewidth\":0,\"ticks\":\"\"}},\"type\":\"scattergl\"}],\"scattermapbox\":[{\"marker\":{\"colorbar\":{\"outlinewidth\":0,\"ticks\":\"\"}},\"type\":\"scattermapbox\"}],\"scatterpolar\":[{\"marker\":{\"colorbar\":{\"outlinewidth\":0,\"ticks\":\"\"}},\"type\":\"scatterpolar\"}],\"scatterpolargl\":[{\"marker\":{\"colorbar\":{\"outlinewidth\":0,\"ticks\":\"\"}},\"type\":\"scatterpolargl\"}],\"scatterternary\":[{\"marker\":{\"colorbar\":{\"outlinewidth\":0,\"ticks\":\"\"}},\"type\":\"scatterternary\"}],\"surface\":[{\"colorbar\":{\"outlinewidth\":0,\"ticks\":\"\"},\"colorscale\":[[0.0,\"#0d0887\"],[0.1111111111111111,\"#46039f\"],[0.2222222222222222,\"#7201a8\"],[0.3333333333333333,\"#9c179e\"],[0.4444444444444444,\"#bd3786\"],[0.5555555555555556,\"#d8576b\"],[0.6666666666666666,\"#ed7953\"],[0.7777777777777778,\"#fb9f3a\"],[0.8888888888888888,\"#fdca26\"],[1.0,\"#f0f921\"]],\"type\":\"surface\"}],\"table\":[{\"cells\":{\"fill\":{\"color\":\"#EBF0F8\"},\"line\":{\"color\":\"white\"}},\"header\":{\"fill\":{\"color\":\"#C8D4E3\"},\"line\":{\"color\":\"white\"}},\"type\":\"table\"}]},\"layout\":{\"annotationdefaults\":{\"arrowcolor\":\"#2a3f5f\",\"arrowhead\":0,\"arrowwidth\":1},\"autotypenumbers\":\"strict\",\"coloraxis\":{\"colorbar\":{\"outlinewidth\":0,\"ticks\":\"\"}},\"colorscale\":{\"diverging\":[[0,\"#8e0152\"],[0.1,\"#c51b7d\"],[0.2,\"#de77ae\"],[0.3,\"#f1b6da\"],[0.4,\"#fde0ef\"],[0.5,\"#f7f7f7\"],[0.6,\"#e6f5d0\"],[0.7,\"#b8e186\"],[0.8,\"#7fbc41\"],[0.9,\"#4d9221\"],[1,\"#276419\"]],\"sequential\":[[0.0,\"#0d0887\"],[0.1111111111111111,\"#46039f\"],[0.2222222222222222,\"#7201a8\"],[0.3333333333333333,\"#9c179e\"],[0.4444444444444444,\"#bd3786\"],[0.5555555555555556,\"#d8576b\"],[0.6666666666666666,\"#ed7953\"],[0.7777777777777778,\"#fb9f3a\"],[0.8888888888888888,\"#fdca26\"],[1.0,\"#f0f921\"]],\"sequentialminus\":[[0.0,\"#0d0887\"],[0.1111111111111111,\"#46039f\"],[0.2222222222222222,\"#7201a8\"],[0.3333333333333333,\"#9c179e\"],[0.4444444444444444,\"#bd3786\"],[0.5555555555555556,\"#d8576b\"],[0.6666666666666666,\"#ed7953\"],[0.7777777777777778,\"#fb9f3a\"],[0.8888888888888888,\"#fdca26\"],[1.0,\"#f0f921\"]]},\"colorway\":[\"#636efa\",\"#EF553B\",\"#00cc96\",\"#ab63fa\",\"#FFA15A\",\"#19d3f3\",\"#FF6692\",\"#B6E880\",\"#FF97FF\",\"#FECB52\"],\"font\":{\"color\":\"#2a3f5f\"},\"geo\":{\"bgcolor\":\"white\",\"lakecolor\":\"white\",\"landcolor\":\"#E5ECF6\",\"showlakes\":true,\"showland\":true,\"subunitcolor\":\"white\"},\"hoverlabel\":{\"align\":\"left\"},\"hovermode\":\"closest\",\"mapbox\":{\"style\":\"light\"},\"paper_bgcolor\":\"white\",\"plot_bgcolor\":\"#E5ECF6\",\"polar\":{\"angularaxis\":{\"gridcolor\":\"white\",\"linecolor\":\"white\",\"ticks\":\"\"},\"bgcolor\":\"#E5ECF6\",\"radialaxis\":{\"gridcolor\":\"white\",\"linecolor\":\"white\",\"ticks\":\"\"}},\"scene\":{\"xaxis\":{\"backgroundcolor\":\"#E5ECF6\",\"gridcolor\":\"white\",\"gridwidth\":2,\"linecolor\":\"white\",\"showbackground\":true,\"ticks\":\"\",\"zerolinecolor\":\"white\"},\"yaxis\":{\"backgroundcolor\":\"#E5ECF6\",\"gridcolor\":\"white\",\"gridwidth\":2,\"linecolor\":\"white\",\"showbackground\":true,\"ticks\":\"\",\"zerolinecolor\":\"white\"},\"zaxis\":{\"backgroundcolor\":\"#E5ECF6\",\"gridcolor\":\"white\",\"gridwidth\":2,\"linecolor\":\"white\",\"showbackground\":true,\"ticks\":\"\",\"zerolinecolor\":\"white\"}},\"shapedefaults\":{\"line\":{\"color\":\"#2a3f5f\"}},\"ternary\":{\"aaxis\":{\"gridcolor\":\"white\",\"linecolor\":\"white\",\"ticks\":\"\"},\"baxis\":{\"gridcolor\":\"white\",\"linecolor\":\"white\",\"ticks\":\"\"},\"bgcolor\":\"#E5ECF6\",\"caxis\":{\"gridcolor\":\"white\",\"linecolor\":\"white\",\"ticks\":\"\"}},\"title\":{\"x\":0.05},\"xaxis\":{\"automargin\":true,\"gridcolor\":\"white\",\"linecolor\":\"white\",\"ticks\":\"\",\"title\":{\"standoff\":15},\"zerolinecolor\":\"white\",\"zerolinewidth\":2},\"yaxis\":{\"automargin\":true,\"gridcolor\":\"white\",\"linecolor\":\"white\",\"ticks\":\"\",\"title\":{\"standoff\":15},\"zerolinecolor\":\"white\",\"zerolinewidth\":2}}},\"xaxis\":{\"anchor\":\"y\",\"domain\":[0.0,1.0],\"title\":{\"text\":\"x\"}},\"yaxis\":{\"anchor\":\"x\",\"domain\":[0.0,1.0],\"title\":{\"text\":\"y\"}},\"coloraxis\":{\"colorbar\":{\"title\":{\"text\":\"color\"}},\"colorscale\":[[0.0,\"#0d0887\"],[0.1111111111111111,\"#46039f\"],[0.2222222222222222,\"#7201a8\"],[0.3333333333333333,\"#9c179e\"],[0.4444444444444444,\"#bd3786\"],[0.5555555555555556,\"#d8576b\"],[0.6666666666666666,\"#ed7953\"],[0.7777777777777778,\"#fb9f3a\"],[0.8888888888888888,\"#fdca26\"],[1.0,\"#f0f921\"]]},\"legend\":{\"tracegroupgap\":0},\"margin\":{\"t\":60},\"title\":{\"text\":\"Agrupamento Hier\\u00e1rquico\"},\"width\":800,\"height\":500},                        {\"responsive\": true}                    ).then(function(){\n",
              "                            \n",
              "var gd = document.getElementById('8f8805eb-0040-47f3-a98e-8c87a0bc7839');\n",
              "var x = new MutationObserver(function (mutations, observer) {{\n",
              "        var display = window.getComputedStyle(gd).display;\n",
              "        if (!display || display === 'none') {{\n",
              "            console.log([gd, 'removed!']);\n",
              "            Plotly.purge(gd);\n",
              "            observer.disconnect();\n",
              "        }}\n",
              "}});\n",
              "\n",
              "// Listen for the removal of the full notebook cells\n",
              "var notebookContainer = gd.closest('#notebook-container');\n",
              "if (notebookContainer) {{\n",
              "    x.observe(notebookContainer, {childList: true});\n",
              "}}\n",
              "\n",
              "// Listen for the clearing of the current output cell\n",
              "var outputEl = gd.closest('.output');\n",
              "if (outputEl) {{\n",
              "    x.observe(outputEl, {childList: true});\n",
              "}}\n",
              "\n",
              "                        })                };                            </script>        </div>\n",
              "</body>\n",
              "</html>"
            ]
          },
          "metadata": {}
        }
      ]
    },
    {
      "cell_type": "markdown",
      "source": [
        "Agrupando os dados na nova coluna Grupo"
      ],
      "metadata": {
        "id": "66pxeqzpULdK"
      }
    },
    {
      "cell_type": "code",
      "source": [
        "agrupamento4 = pd.DataFrame(classificacao4, columns = [\"Grupo\"])\n",
        "agrupamento4"
      ],
      "metadata": {
        "colab": {
          "base_uri": "https://localhost:8080/",
          "height": 0
        },
        "id": "F2ZEJD09UOPo",
        "outputId": "a910453a-cbaa-4984-997f-368579756437"
      },
      "execution_count": 101,
      "outputs": [
        {
          "output_type": "execute_result",
          "data": {
            "text/plain": [
              "     Grupo\n",
              "0        2\n",
              "1        2\n",
              "2        2\n",
              "3        2\n",
              "4        2\n",
              "..     ...\n",
              "195      0\n",
              "196      1\n",
              "197      0\n",
              "198      0\n",
              "199      0\n",
              "\n",
              "[200 rows x 1 columns]"
            ],
            "text/html": [
              "\n",
              "  <div id=\"df-5ff9ad24-6536-4bcd-838c-cf7da7dc846c\">\n",
              "    <div class=\"colab-df-container\">\n",
              "      <div>\n",
              "<style scoped>\n",
              "    .dataframe tbody tr th:only-of-type {\n",
              "        vertical-align: middle;\n",
              "    }\n",
              "\n",
              "    .dataframe tbody tr th {\n",
              "        vertical-align: top;\n",
              "    }\n",
              "\n",
              "    .dataframe thead th {\n",
              "        text-align: right;\n",
              "    }\n",
              "</style>\n",
              "<table border=\"1\" class=\"dataframe\">\n",
              "  <thead>\n",
              "    <tr style=\"text-align: right;\">\n",
              "      <th></th>\n",
              "      <th>Grupo</th>\n",
              "    </tr>\n",
              "  </thead>\n",
              "  <tbody>\n",
              "    <tr>\n",
              "      <th>0</th>\n",
              "      <td>2</td>\n",
              "    </tr>\n",
              "    <tr>\n",
              "      <th>1</th>\n",
              "      <td>2</td>\n",
              "    </tr>\n",
              "    <tr>\n",
              "      <th>2</th>\n",
              "      <td>2</td>\n",
              "    </tr>\n",
              "    <tr>\n",
              "      <th>3</th>\n",
              "      <td>2</td>\n",
              "    </tr>\n",
              "    <tr>\n",
              "      <th>4</th>\n",
              "      <td>2</td>\n",
              "    </tr>\n",
              "    <tr>\n",
              "      <th>...</th>\n",
              "      <td>...</td>\n",
              "    </tr>\n",
              "    <tr>\n",
              "      <th>195</th>\n",
              "      <td>0</td>\n",
              "    </tr>\n",
              "    <tr>\n",
              "      <th>196</th>\n",
              "      <td>1</td>\n",
              "    </tr>\n",
              "    <tr>\n",
              "      <th>197</th>\n",
              "      <td>0</td>\n",
              "    </tr>\n",
              "    <tr>\n",
              "      <th>198</th>\n",
              "      <td>0</td>\n",
              "    </tr>\n",
              "    <tr>\n",
              "      <th>199</th>\n",
              "      <td>0</td>\n",
              "    </tr>\n",
              "  </tbody>\n",
              "</table>\n",
              "<p>200 rows × 1 columns</p>\n",
              "</div>\n",
              "      <button class=\"colab-df-convert\" onclick=\"convertToInteractive('df-5ff9ad24-6536-4bcd-838c-cf7da7dc846c')\"\n",
              "              title=\"Convert this dataframe to an interactive table.\"\n",
              "              style=\"display:none;\">\n",
              "        \n",
              "  <svg xmlns=\"http://www.w3.org/2000/svg\" height=\"24px\"viewBox=\"0 0 24 24\"\n",
              "       width=\"24px\">\n",
              "    <path d=\"M0 0h24v24H0V0z\" fill=\"none\"/>\n",
              "    <path d=\"M18.56 5.44l.94 2.06.94-2.06 2.06-.94-2.06-.94-.94-2.06-.94 2.06-2.06.94zm-11 1L8.5 8.5l.94-2.06 2.06-.94-2.06-.94L8.5 2.5l-.94 2.06-2.06.94zm10 10l.94 2.06.94-2.06 2.06-.94-2.06-.94-.94-2.06-.94 2.06-2.06.94z\"/><path d=\"M17.41 7.96l-1.37-1.37c-.4-.4-.92-.59-1.43-.59-.52 0-1.04.2-1.43.59L10.3 9.45l-7.72 7.72c-.78.78-.78 2.05 0 2.83L4 21.41c.39.39.9.59 1.41.59.51 0 1.02-.2 1.41-.59l7.78-7.78 2.81-2.81c.8-.78.8-2.07 0-2.86zM5.41 20L4 18.59l7.72-7.72 1.47 1.35L5.41 20z\"/>\n",
              "  </svg>\n",
              "      </button>\n",
              "      \n",
              "  <style>\n",
              "    .colab-df-container {\n",
              "      display:flex;\n",
              "      flex-wrap:wrap;\n",
              "      gap: 12px;\n",
              "    }\n",
              "\n",
              "    .colab-df-convert {\n",
              "      background-color: #E8F0FE;\n",
              "      border: none;\n",
              "      border-radius: 50%;\n",
              "      cursor: pointer;\n",
              "      display: none;\n",
              "      fill: #1967D2;\n",
              "      height: 32px;\n",
              "      padding: 0 0 0 0;\n",
              "      width: 32px;\n",
              "    }\n",
              "\n",
              "    .colab-df-convert:hover {\n",
              "      background-color: #E2EBFA;\n",
              "      box-shadow: 0px 1px 2px rgba(60, 64, 67, 0.3), 0px 1px 3px 1px rgba(60, 64, 67, 0.15);\n",
              "      fill: #174EA6;\n",
              "    }\n",
              "\n",
              "    [theme=dark] .colab-df-convert {\n",
              "      background-color: #3B4455;\n",
              "      fill: #D2E3FC;\n",
              "    }\n",
              "\n",
              "    [theme=dark] .colab-df-convert:hover {\n",
              "      background-color: #434B5C;\n",
              "      box-shadow: 0px 1px 3px 1px rgba(0, 0, 0, 0.15);\n",
              "      filter: drop-shadow(0px 1px 2px rgba(0, 0, 0, 0.3));\n",
              "      fill: #FFFFFF;\n",
              "    }\n",
              "  </style>\n",
              "\n",
              "      <script>\n",
              "        const buttonEl =\n",
              "          document.querySelector('#df-5ff9ad24-6536-4bcd-838c-cf7da7dc846c button.colab-df-convert');\n",
              "        buttonEl.style.display =\n",
              "          google.colab.kernel.accessAllowed ? 'block' : 'none';\n",
              "\n",
              "        async function convertToInteractive(key) {\n",
              "          const element = document.querySelector('#df-5ff9ad24-6536-4bcd-838c-cf7da7dc846c');\n",
              "          const dataTable =\n",
              "            await google.colab.kernel.invokeFunction('convertToInteractive',\n",
              "                                                     [key], {});\n",
              "          if (!dataTable) return;\n",
              "\n",
              "          const docLinkHtml = 'Like what you see? Visit the ' +\n",
              "            '<a target=\"_blank\" href=https://colab.research.google.com/notebooks/data_table.ipynb>data table notebook</a>'\n",
              "            + ' to learn more about interactive tables.';\n",
              "          element.innerHTML = '';\n",
              "          dataTable['output_type'] = 'display_data';\n",
              "          await google.colab.output.renderOutput(dataTable, element);\n",
              "          const docLink = document.createElement('div');\n",
              "          docLink.innerHTML = docLinkHtml;\n",
              "          element.appendChild(docLink);\n",
              "        }\n",
              "      </script>\n",
              "    </div>\n",
              "  </div>\n",
              "  "
            ]
          },
          "metadata": {},
          "execution_count": 101
        }
      ]
    },
    {
      "cell_type": "code",
      "source": [
        "# Juntando o atributo Grupo ao dataframe original. Será criado um novo dataframe para manter a integridade dos dados\n",
        "df6 = pd.concat([df,agrupamento4],axis=1)\n",
        "df6"
      ],
      "metadata": {
        "colab": {
          "base_uri": "https://localhost:8080/",
          "height": 0
        },
        "id": "cTytFrk4UtWP",
        "outputId": "af3dcd7d-5eca-4db7-a619-61f7a89ebf56"
      },
      "execution_count": 102,
      "outputs": [
        {
          "output_type": "execute_result",
          "data": {
            "text/plain": [
              "     CustomerID  genero  idade  rendimento  pontuacao  Grupo\n",
              "0             1    Male     19          15         39      2\n",
              "1             2    Male     21          15         81      2\n",
              "2             3  Female     20          16          6      2\n",
              "3             4  Female     23          16         77      2\n",
              "4             5  Female     31          17         40      2\n",
              "..          ...     ...    ...         ...        ...    ...\n",
              "195         196  Female     35         120         79      0\n",
              "196         197  Female     45         126         28      1\n",
              "197         198    Male     32         126         74      0\n",
              "198         199    Male     32         137         18      0\n",
              "199         200    Male     30         137         83      0\n",
              "\n",
              "[200 rows x 6 columns]"
            ],
            "text/html": [
              "\n",
              "  <div id=\"df-9ad2cb45-846a-4693-afff-f5cc51e9afb5\">\n",
              "    <div class=\"colab-df-container\">\n",
              "      <div>\n",
              "<style scoped>\n",
              "    .dataframe tbody tr th:only-of-type {\n",
              "        vertical-align: middle;\n",
              "    }\n",
              "\n",
              "    .dataframe tbody tr th {\n",
              "        vertical-align: top;\n",
              "    }\n",
              "\n",
              "    .dataframe thead th {\n",
              "        text-align: right;\n",
              "    }\n",
              "</style>\n",
              "<table border=\"1\" class=\"dataframe\">\n",
              "  <thead>\n",
              "    <tr style=\"text-align: right;\">\n",
              "      <th></th>\n",
              "      <th>CustomerID</th>\n",
              "      <th>genero</th>\n",
              "      <th>idade</th>\n",
              "      <th>rendimento</th>\n",
              "      <th>pontuacao</th>\n",
              "      <th>Grupo</th>\n",
              "    </tr>\n",
              "  </thead>\n",
              "  <tbody>\n",
              "    <tr>\n",
              "      <th>0</th>\n",
              "      <td>1</td>\n",
              "      <td>Male</td>\n",
              "      <td>19</td>\n",
              "      <td>15</td>\n",
              "      <td>39</td>\n",
              "      <td>2</td>\n",
              "    </tr>\n",
              "    <tr>\n",
              "      <th>1</th>\n",
              "      <td>2</td>\n",
              "      <td>Male</td>\n",
              "      <td>21</td>\n",
              "      <td>15</td>\n",
              "      <td>81</td>\n",
              "      <td>2</td>\n",
              "    </tr>\n",
              "    <tr>\n",
              "      <th>2</th>\n",
              "      <td>3</td>\n",
              "      <td>Female</td>\n",
              "      <td>20</td>\n",
              "      <td>16</td>\n",
              "      <td>6</td>\n",
              "      <td>2</td>\n",
              "    </tr>\n",
              "    <tr>\n",
              "      <th>3</th>\n",
              "      <td>4</td>\n",
              "      <td>Female</td>\n",
              "      <td>23</td>\n",
              "      <td>16</td>\n",
              "      <td>77</td>\n",
              "      <td>2</td>\n",
              "    </tr>\n",
              "    <tr>\n",
              "      <th>4</th>\n",
              "      <td>5</td>\n",
              "      <td>Female</td>\n",
              "      <td>31</td>\n",
              "      <td>17</td>\n",
              "      <td>40</td>\n",
              "      <td>2</td>\n",
              "    </tr>\n",
              "    <tr>\n",
              "      <th>...</th>\n",
              "      <td>...</td>\n",
              "      <td>...</td>\n",
              "      <td>...</td>\n",
              "      <td>...</td>\n",
              "      <td>...</td>\n",
              "      <td>...</td>\n",
              "    </tr>\n",
              "    <tr>\n",
              "      <th>195</th>\n",
              "      <td>196</td>\n",
              "      <td>Female</td>\n",
              "      <td>35</td>\n",
              "      <td>120</td>\n",
              "      <td>79</td>\n",
              "      <td>0</td>\n",
              "    </tr>\n",
              "    <tr>\n",
              "      <th>196</th>\n",
              "      <td>197</td>\n",
              "      <td>Female</td>\n",
              "      <td>45</td>\n",
              "      <td>126</td>\n",
              "      <td>28</td>\n",
              "      <td>1</td>\n",
              "    </tr>\n",
              "    <tr>\n",
              "      <th>197</th>\n",
              "      <td>198</td>\n",
              "      <td>Male</td>\n",
              "      <td>32</td>\n",
              "      <td>126</td>\n",
              "      <td>74</td>\n",
              "      <td>0</td>\n",
              "    </tr>\n",
              "    <tr>\n",
              "      <th>198</th>\n",
              "      <td>199</td>\n",
              "      <td>Male</td>\n",
              "      <td>32</td>\n",
              "      <td>137</td>\n",
              "      <td>18</td>\n",
              "      <td>0</td>\n",
              "    </tr>\n",
              "    <tr>\n",
              "      <th>199</th>\n",
              "      <td>200</td>\n",
              "      <td>Male</td>\n",
              "      <td>30</td>\n",
              "      <td>137</td>\n",
              "      <td>83</td>\n",
              "      <td>0</td>\n",
              "    </tr>\n",
              "  </tbody>\n",
              "</table>\n",
              "<p>200 rows × 6 columns</p>\n",
              "</div>\n",
              "      <button class=\"colab-df-convert\" onclick=\"convertToInteractive('df-9ad2cb45-846a-4693-afff-f5cc51e9afb5')\"\n",
              "              title=\"Convert this dataframe to an interactive table.\"\n",
              "              style=\"display:none;\">\n",
              "        \n",
              "  <svg xmlns=\"http://www.w3.org/2000/svg\" height=\"24px\"viewBox=\"0 0 24 24\"\n",
              "       width=\"24px\">\n",
              "    <path d=\"M0 0h24v24H0V0z\" fill=\"none\"/>\n",
              "    <path d=\"M18.56 5.44l.94 2.06.94-2.06 2.06-.94-2.06-.94-.94-2.06-.94 2.06-2.06.94zm-11 1L8.5 8.5l.94-2.06 2.06-.94-2.06-.94L8.5 2.5l-.94 2.06-2.06.94zm10 10l.94 2.06.94-2.06 2.06-.94-2.06-.94-.94-2.06-.94 2.06-2.06.94z\"/><path d=\"M17.41 7.96l-1.37-1.37c-.4-.4-.92-.59-1.43-.59-.52 0-1.04.2-1.43.59L10.3 9.45l-7.72 7.72c-.78.78-.78 2.05 0 2.83L4 21.41c.39.39.9.59 1.41.59.51 0 1.02-.2 1.41-.59l7.78-7.78 2.81-2.81c.8-.78.8-2.07 0-2.86zM5.41 20L4 18.59l7.72-7.72 1.47 1.35L5.41 20z\"/>\n",
              "  </svg>\n",
              "      </button>\n",
              "      \n",
              "  <style>\n",
              "    .colab-df-container {\n",
              "      display:flex;\n",
              "      flex-wrap:wrap;\n",
              "      gap: 12px;\n",
              "    }\n",
              "\n",
              "    .colab-df-convert {\n",
              "      background-color: #E8F0FE;\n",
              "      border: none;\n",
              "      border-radius: 50%;\n",
              "      cursor: pointer;\n",
              "      display: none;\n",
              "      fill: #1967D2;\n",
              "      height: 32px;\n",
              "      padding: 0 0 0 0;\n",
              "      width: 32px;\n",
              "    }\n",
              "\n",
              "    .colab-df-convert:hover {\n",
              "      background-color: #E2EBFA;\n",
              "      box-shadow: 0px 1px 2px rgba(60, 64, 67, 0.3), 0px 1px 3px 1px rgba(60, 64, 67, 0.15);\n",
              "      fill: #174EA6;\n",
              "    }\n",
              "\n",
              "    [theme=dark] .colab-df-convert {\n",
              "      background-color: #3B4455;\n",
              "      fill: #D2E3FC;\n",
              "    }\n",
              "\n",
              "    [theme=dark] .colab-df-convert:hover {\n",
              "      background-color: #434B5C;\n",
              "      box-shadow: 0px 1px 3px 1px rgba(0, 0, 0, 0.15);\n",
              "      filter: drop-shadow(0px 1px 2px rgba(0, 0, 0, 0.3));\n",
              "      fill: #FFFFFF;\n",
              "    }\n",
              "  </style>\n",
              "\n",
              "      <script>\n",
              "        const buttonEl =\n",
              "          document.querySelector('#df-9ad2cb45-846a-4693-afff-f5cc51e9afb5 button.colab-df-convert');\n",
              "        buttonEl.style.display =\n",
              "          google.colab.kernel.accessAllowed ? 'block' : 'none';\n",
              "\n",
              "        async function convertToInteractive(key) {\n",
              "          const element = document.querySelector('#df-9ad2cb45-846a-4693-afff-f5cc51e9afb5');\n",
              "          const dataTable =\n",
              "            await google.colab.kernel.invokeFunction('convertToInteractive',\n",
              "                                                     [key], {});\n",
              "          if (!dataTable) return;\n",
              "\n",
              "          const docLinkHtml = 'Like what you see? Visit the ' +\n",
              "            '<a target=\"_blank\" href=https://colab.research.google.com/notebooks/data_table.ipynb>data table notebook</a>'\n",
              "            + ' to learn more about interactive tables.';\n",
              "          element.innerHTML = '';\n",
              "          dataTable['output_type'] = 'display_data';\n",
              "          await google.colab.output.renderOutput(dataTable, element);\n",
              "          const docLink = document.createElement('div');\n",
              "          docLink.innerHTML = docLinkHtml;\n",
              "          element.appendChild(docLink);\n",
              "        }\n",
              "      </script>\n",
              "    </div>\n",
              "  </div>\n",
              "  "
            ]
          },
          "metadata": {},
          "execution_count": 102
        }
      ]
    },
    {
      "cell_type": "code",
      "source": [
        "# Acessando os dados através do índice\n",
        "df4.iloc[98,:]"
      ],
      "metadata": {
        "colab": {
          "base_uri": "https://localhost:8080/"
        },
        "id": "Pdt2oXY9U8l2",
        "outputId": "c5cf93b5-1065-46a5-89ac-8cabd8ef366b"
      },
      "execution_count": 103,
      "outputs": [
        {
          "output_type": "execute_result",
          "data": {
            "text/plain": [
              "CustomerID      99\n",
              "genero        Male\n",
              "idade           48\n",
              "rendimento      61\n",
              "pontuacao       42\n",
              "Grupo            0\n",
              "Name: 98, dtype: object"
            ]
          },
          "metadata": {},
          "execution_count": 103
        }
      ]
    },
    {
      "cell_type": "markdown",
      "source": [
        "## Agrupamento hierárquico com todos atributos"
      ],
      "metadata": {
        "id": "wsC4EBD49wOu"
      }
    },
    {
      "cell_type": "code",
      "source": [
        "# Usaremos agora o dataframe df2_esc escalonado para criar o modelo\n",
        "df2_esc.shape"
      ],
      "metadata": {
        "colab": {
          "base_uri": "https://localhost:8080/"
        },
        "id": "1CGy6yN29-iw",
        "outputId": "dc5f832e-442a-4162-9bf7-0259f897c580"
      },
      "execution_count": 104,
      "outputs": [
        {
          "output_type": "execute_result",
          "data": {
            "text/plain": [
              "(200, 4)"
            ]
          },
          "metadata": {},
          "execution_count": 104
        }
      ]
    },
    {
      "cell_type": "markdown",
      "source": [
        "Criando o dendrograma"
      ],
      "metadata": {
        "id": "dW4zHSRG-_Gd"
      }
    },
    {
      "cell_type": "code",
      "source": [
        "import matplotlib.pyplot as plt\n",
        "from scipy.cluster.hierarchy import dendrogram, linkage"
      ],
      "metadata": {
        "id": "jQwbJq5O_CSp"
      },
      "execution_count": 105,
      "outputs": []
    },
    {
      "cell_type": "code",
      "source": [
        "dendrograma = dendrogram(linkage(df2_esc,method = \"average\"))"
      ],
      "metadata": {
        "colab": {
          "base_uri": "https://localhost:8080/",
          "height": 0
        },
        "id": "1BxWjaTY_Dnb",
        "outputId": "274dcb90-3d0f-4b87-db59-5de4f9fc41ef"
      },
      "execution_count": 106,
      "outputs": [
        {
          "output_type": "display_data",
          "data": {
            "text/plain": [
              "<Figure size 432x288 with 1 Axes>"
            ],
            "image/png": "[encoded data removed]"
          },
          "metadata": {
            "needs_background": "light"
          }
        }
      ]
    },
    {
      "cell_type": "markdown",
      "source": [
        "Usando como método 'average' ou média no dendrograma e usando a base completa e escalonada fica dividida em 7 grupos ( laranja, verde, vermelho, lilás, marrom, rosa e cinza ), demostrando que a quantidade ideal de clusters será 7. Outros métodos como 'complete', 'single' e 'ward' separam em quantidades diferentes, mas para fins didáticos usarei o método 'average'."
      ],
      "metadata": {
        "id": "ETZIN6uG_Qlj"
      }
    },
    {
      "cell_type": "code",
      "source": [
        "from sklearn.cluster import AgglomerativeClustering"
      ],
      "metadata": {
        "id": "ZUdy84az_rqt"
      },
      "execution_count": 107,
      "outputs": []
    },
    {
      "cell_type": "code",
      "source": [
        "hier = AgglomerativeClustering(n_clusters=7,affinity=\"euclidean\", linkage=\"average\") # o linkage deve ser o mesmo do método\n",
        "classificacao5 = hier.fit_predict(df2_esc)"
      ],
      "metadata": {
        "id": "GqLl7eo7_xc1"
      },
      "execution_count": 108,
      "outputs": []
    },
    {
      "cell_type": "code",
      "source": [
        "classificacao5"
      ],
      "metadata": {
        "colab": {
          "base_uri": "https://localhost:8080/"
        },
        "id": "l8KVqodg_3Fj",
        "outputId": "65e4c644-a98e-47cf-e2bc-50469dab30d7"
      },
      "execution_count": 109,
      "outputs": [
        {
          "output_type": "execute_result",
          "data": {
            "text/plain": [
              "array([5, 5, 4, 0, 4, 0, 4, 0, 1, 0, 1, 0, 4, 0, 5, 5, 4, 5, 1, 0, 5, 5,\n",
              "       4, 5, 4, 5, 4, 5, 4, 0, 1, 0, 1, 5, 4, 0, 4, 0, 4, 0, 4, 5, 1, 0,\n",
              "       4, 0, 4, 0, 0, 0, 4, 5, 0, 1, 4, 1, 4, 1, 0, 1, 1, 5, 4, 4, 1, 5,\n",
              "       4, 4, 5, 0, 1, 4, 4, 4, 1, 5, 4, 1, 0, 4, 1, 1, 1, 4, 0, 1, 4, 0,\n",
              "       4, 4, 4, 5, 1, 4, 4, 5, 4, 0, 1, 5, 0, 4, 1, 5, 1, 0, 4, 1, 1, 1,\n",
              "       1, 0, 4, 5, 0, 0, 4, 4, 4, 4, 5, 4, 4, 2, 0, 0, 3, 2, 3, 2, 3, 2,\n",
              "       0, 0, 3, 0, 6, 2, 3, 0, 6, 2, 0, 0, 3, 2, 3, 0, 6, 2, 3, 2, 6, 0,\n",
              "       6, 0, 3, 0, 3, 0, 6, 0, 3, 0, 3, 0, 3, 0, 6, 2, 3, 2, 3, 2, 6, 0,\n",
              "       3, 2, 3, 2, 6, 0, 3, 0, 6, 2, 6, 2, 6, 0, 6, 0, 3, 0, 6, 0, 6, 2,\n",
              "       3, 2])"
            ]
          },
          "metadata": {},
          "execution_count": 109
        }
      ]
    },
    {
      "cell_type": "markdown",
      "source": [
        "Agrupamento"
      ],
      "metadata": {
        "id": "NvTkqt_SAFsP"
      }
    },
    {
      "cell_type": "code",
      "source": [
        "agrupamento4 = pd.DataFrame(classificacao5, columns = [\"Grupo\"])\n",
        "agrupamento4"
      ],
      "metadata": {
        "colab": {
          "base_uri": "https://localhost:8080/",
          "height": 0
        },
        "id": "hSRhO0zkCBkx",
        "outputId": "1befc320-b2f9-40e1-b749-e677139adb84"
      },
      "execution_count": 110,
      "outputs": [
        {
          "output_type": "execute_result",
          "data": {
            "text/plain": [
              "     Grupo\n",
              "0        5\n",
              "1        5\n",
              "2        4\n",
              "3        0\n",
              "4        4\n",
              "..     ...\n",
              "195      0\n",
              "196      6\n",
              "197      2\n",
              "198      3\n",
              "199      2\n",
              "\n",
              "[200 rows x 1 columns]"
            ],
            "text/html": [
              "\n",
              "  <div id=\"df-870b9d82-8f14-4a76-adf4-c6702961751a\">\n",
              "    <div class=\"colab-df-container\">\n",
              "      <div>\n",
              "<style scoped>\n",
              "    .dataframe tbody tr th:only-of-type {\n",
              "        vertical-align: middle;\n",
              "    }\n",
              "\n",
              "    .dataframe tbody tr th {\n",
              "        vertical-align: top;\n",
              "    }\n",
              "\n",
              "    .dataframe thead th {\n",
              "        text-align: right;\n",
              "    }\n",
              "</style>\n",
              "<table border=\"1\" class=\"dataframe\">\n",
              "  <thead>\n",
              "    <tr style=\"text-align: right;\">\n",
              "      <th></th>\n",
              "      <th>Grupo</th>\n",
              "    </tr>\n",
              "  </thead>\n",
              "  <tbody>\n",
              "    <tr>\n",
              "      <th>0</th>\n",
              "      <td>5</td>\n",
              "    </tr>\n",
              "    <tr>\n",
              "      <th>1</th>\n",
              "      <td>5</td>\n",
              "    </tr>\n",
              "    <tr>\n",
              "      <th>2</th>\n",
              "      <td>4</td>\n",
              "    </tr>\n",
              "    <tr>\n",
              "      <th>3</th>\n",
              "      <td>0</td>\n",
              "    </tr>\n",
              "    <tr>\n",
              "      <th>4</th>\n",
              "      <td>4</td>\n",
              "    </tr>\n",
              "    <tr>\n",
              "      <th>...</th>\n",
              "      <td>...</td>\n",
              "    </tr>\n",
              "    <tr>\n",
              "      <th>195</th>\n",
              "      <td>0</td>\n",
              "    </tr>\n",
              "    <tr>\n",
              "      <th>196</th>\n",
              "      <td>6</td>\n",
              "    </tr>\n",
              "    <tr>\n",
              "      <th>197</th>\n",
              "      <td>2</td>\n",
              "    </tr>\n",
              "    <tr>\n",
              "      <th>198</th>\n",
              "      <td>3</td>\n",
              "    </tr>\n",
              "    <tr>\n",
              "      <th>199</th>\n",
              "      <td>2</td>\n",
              "    </tr>\n",
              "  </tbody>\n",
              "</table>\n",
              "<p>200 rows × 1 columns</p>\n",
              "</div>\n",
              "      <button class=\"colab-df-convert\" onclick=\"convertToInteractive('df-870b9d82-8f14-4a76-adf4-c6702961751a')\"\n",
              "              title=\"Convert this dataframe to an interactive table.\"\n",
              "              style=\"display:none;\">\n",
              "        \n",
              "  <svg xmlns=\"http://www.w3.org/2000/svg\" height=\"24px\"viewBox=\"0 0 24 24\"\n",
              "       width=\"24px\">\n",
              "    <path d=\"M0 0h24v24H0V0z\" fill=\"none\"/>\n",
              "    <path d=\"M18.56 5.44l.94 2.06.94-2.06 2.06-.94-2.06-.94-.94-2.06-.94 2.06-2.06.94zm-11 1L8.5 8.5l.94-2.06 2.06-.94-2.06-.94L8.5 2.5l-.94 2.06-2.06.94zm10 10l.94 2.06.94-2.06 2.06-.94-2.06-.94-.94-2.06-.94 2.06-2.06.94z\"/><path d=\"M17.41 7.96l-1.37-1.37c-.4-.4-.92-.59-1.43-.59-.52 0-1.04.2-1.43.59L10.3 9.45l-7.72 7.72c-.78.78-.78 2.05 0 2.83L4 21.41c.39.39.9.59 1.41.59.51 0 1.02-.2 1.41-.59l7.78-7.78 2.81-2.81c.8-.78.8-2.07 0-2.86zM5.41 20L4 18.59l7.72-7.72 1.47 1.35L5.41 20z\"/>\n",
              "  </svg>\n",
              "      </button>\n",
              "      \n",
              "  <style>\n",
              "    .colab-df-container {\n",
              "      display:flex;\n",
              "      flex-wrap:wrap;\n",
              "      gap: 12px;\n",
              "    }\n",
              "\n",
              "    .colab-df-convert {\n",
              "      background-color: #E8F0FE;\n",
              "      border: none;\n",
              "      border-radius: 50%;\n",
              "      cursor: pointer;\n",
              "      display: none;\n",
              "      fill: #1967D2;\n",
              "      height: 32px;\n",
              "      padding: 0 0 0 0;\n",
              "      width: 32px;\n",
              "    }\n",
              "\n",
              "    .colab-df-convert:hover {\n",
              "      background-color: #E2EBFA;\n",
              "      box-shadow: 0px 1px 2px rgba(60, 64, 67, 0.3), 0px 1px 3px 1px rgba(60, 64, 67, 0.15);\n",
              "      fill: #174EA6;\n",
              "    }\n",
              "\n",
              "    [theme=dark] .colab-df-convert {\n",
              "      background-color: #3B4455;\n",
              "      fill: #D2E3FC;\n",
              "    }\n",
              "\n",
              "    [theme=dark] .colab-df-convert:hover {\n",
              "      background-color: #434B5C;\n",
              "      box-shadow: 0px 1px 3px 1px rgba(0, 0, 0, 0.15);\n",
              "      filter: drop-shadow(0px 1px 2px rgba(0, 0, 0, 0.3));\n",
              "      fill: #FFFFFF;\n",
              "    }\n",
              "  </style>\n",
              "\n",
              "      <script>\n",
              "        const buttonEl =\n",
              "          document.querySelector('#df-870b9d82-8f14-4a76-adf4-c6702961751a button.colab-df-convert');\n",
              "        buttonEl.style.display =\n",
              "          google.colab.kernel.accessAllowed ? 'block' : 'none';\n",
              "\n",
              "        async function convertToInteractive(key) {\n",
              "          const element = document.querySelector('#df-870b9d82-8f14-4a76-adf4-c6702961751a');\n",
              "          const dataTable =\n",
              "            await google.colab.kernel.invokeFunction('convertToInteractive',\n",
              "                                                     [key], {});\n",
              "          if (!dataTable) return;\n",
              "\n",
              "          const docLinkHtml = 'Like what you see? Visit the ' +\n",
              "            '<a target=\"_blank\" href=https://colab.research.google.com/notebooks/data_table.ipynb>data table notebook</a>'\n",
              "            + ' to learn more about interactive tables.';\n",
              "          element.innerHTML = '';\n",
              "          dataTable['output_type'] = 'display_data';\n",
              "          await google.colab.output.renderOutput(dataTable, element);\n",
              "          const docLink = document.createElement('div');\n",
              "          docLink.innerHTML = docLinkHtml;\n",
              "          element.appendChild(docLink);\n",
              "        }\n",
              "      </script>\n",
              "    </div>\n",
              "  </div>\n",
              "  "
            ]
          },
          "metadata": {},
          "execution_count": 110
        }
      ]
    },
    {
      "cell_type": "code",
      "source": [
        "# Juntando o atributo Grupo ao dataframe original. Será criado um novo dataframe para manter a integridade dos dados\n",
        "df7 = pd.concat([df,agrupamento4],axis=1)\n",
        "df7"
      ],
      "metadata": {
        "colab": {
          "base_uri": "https://localhost:8080/",
          "height": 0
        },
        "id": "5wwh66BUCLYb",
        "outputId": "1e6411a1-f6b6-4773-9106-dc47c1c0d55f"
      },
      "execution_count": 111,
      "outputs": [
        {
          "output_type": "execute_result",
          "data": {
            "text/plain": [
              "     CustomerID  genero  idade  rendimento  pontuacao  Grupo\n",
              "0             1    Male     19          15         39      5\n",
              "1             2    Male     21          15         81      5\n",
              "2             3  Female     20          16          6      4\n",
              "3             4  Female     23          16         77      0\n",
              "4             5  Female     31          17         40      4\n",
              "..          ...     ...    ...         ...        ...    ...\n",
              "195         196  Female     35         120         79      0\n",
              "196         197  Female     45         126         28      6\n",
              "197         198    Male     32         126         74      2\n",
              "198         199    Male     32         137         18      3\n",
              "199         200    Male     30         137         83      2\n",
              "\n",
              "[200 rows x 6 columns]"
            ],
            "text/html": [
              "\n",
              "  <div id=\"df-b7907787-605f-417a-bb72-1f00decdfd58\">\n",
              "    <div class=\"colab-df-container\">\n",
              "      <div>\n",
              "<style scoped>\n",
              "    .dataframe tbody tr th:only-of-type {\n",
              "        vertical-align: middle;\n",
              "    }\n",
              "\n",
              "    .dataframe tbody tr th {\n",
              "        vertical-align: top;\n",
              "    }\n",
              "\n",
              "    .dataframe thead th {\n",
              "        text-align: right;\n",
              "    }\n",
              "</style>\n",
              "<table border=\"1\" class=\"dataframe\">\n",
              "  <thead>\n",
              "    <tr style=\"text-align: right;\">\n",
              "      <th></th>\n",
              "      <th>CustomerID</th>\n",
              "      <th>genero</th>\n",
              "      <th>idade</th>\n",
              "      <th>rendimento</th>\n",
              "      <th>pontuacao</th>\n",
              "      <th>Grupo</th>\n",
              "    </tr>\n",
              "  </thead>\n",
              "  <tbody>\n",
              "    <tr>\n",
              "      <th>0</th>\n",
              "      <td>1</td>\n",
              "      <td>Male</td>\n",
              "      <td>19</td>\n",
              "      <td>15</td>\n",
              "      <td>39</td>\n",
              "      <td>5</td>\n",
              "    </tr>\n",
              "    <tr>\n",
              "      <th>1</th>\n",
              "      <td>2</td>\n",
              "      <td>Male</td>\n",
              "      <td>21</td>\n",
              "      <td>15</td>\n",
              "      <td>81</td>\n",
              "      <td>5</td>\n",
              "    </tr>\n",
              "    <tr>\n",
              "      <th>2</th>\n",
              "      <td>3</td>\n",
              "      <td>Female</td>\n",
              "      <td>20</td>\n",
              "      <td>16</td>\n",
              "      <td>6</td>\n",
              "      <td>4</td>\n",
              "    </tr>\n",
              "    <tr>\n",
              "      <th>3</th>\n",
              "      <td>4</td>\n",
              "      <td>Female</td>\n",
              "      <td>23</td>\n",
              "      <td>16</td>\n",
              "      <td>77</td>\n",
              "      <td>0</td>\n",
              "    </tr>\n",
              "    <tr>\n",
              "      <th>4</th>\n",
              "      <td>5</td>\n",
              "      <td>Female</td>\n",
              "      <td>31</td>\n",
              "      <td>17</td>\n",
              "      <td>40</td>\n",
              "      <td>4</td>\n",
              "    </tr>\n",
              "    <tr>\n",
              "      <th>...</th>\n",
              "      <td>...</td>\n",
              "      <td>...</td>\n",
              "      <td>...</td>\n",
              "      <td>...</td>\n",
              "      <td>...</td>\n",
              "      <td>...</td>\n",
              "    </tr>\n",
              "    <tr>\n",
              "      <th>195</th>\n",
              "      <td>196</td>\n",
              "      <td>Female</td>\n",
              "      <td>35</td>\n",
              "      <td>120</td>\n",
              "      <td>79</td>\n",
              "      <td>0</td>\n",
              "    </tr>\n",
              "    <tr>\n",
              "      <th>196</th>\n",
              "      <td>197</td>\n",
              "      <td>Female</td>\n",
              "      <td>45</td>\n",
              "      <td>126</td>\n",
              "      <td>28</td>\n",
              "      <td>6</td>\n",
              "    </tr>\n",
              "    <tr>\n",
              "      <th>197</th>\n",
              "      <td>198</td>\n",
              "      <td>Male</td>\n",
              "      <td>32</td>\n",
              "      <td>126</td>\n",
              "      <td>74</td>\n",
              "      <td>2</td>\n",
              "    </tr>\n",
              "    <tr>\n",
              "      <th>198</th>\n",
              "      <td>199</td>\n",
              "      <td>Male</td>\n",
              "      <td>32</td>\n",
              "      <td>137</td>\n",
              "      <td>18</td>\n",
              "      <td>3</td>\n",
              "    </tr>\n",
              "    <tr>\n",
              "      <th>199</th>\n",
              "      <td>200</td>\n",
              "      <td>Male</td>\n",
              "      <td>30</td>\n",
              "      <td>137</td>\n",
              "      <td>83</td>\n",
              "      <td>2</td>\n",
              "    </tr>\n",
              "  </tbody>\n",
              "</table>\n",
              "<p>200 rows × 6 columns</p>\n",
              "</div>\n",
              "      <button class=\"colab-df-convert\" onclick=\"convertToInteractive('df-b7907787-605f-417a-bb72-1f00decdfd58')\"\n",
              "              title=\"Convert this dataframe to an interactive table.\"\n",
              "              style=\"display:none;\">\n",
              "        \n",
              "  <svg xmlns=\"http://www.w3.org/2000/svg\" height=\"24px\"viewBox=\"0 0 24 24\"\n",
              "       width=\"24px\">\n",
              "    <path d=\"M0 0h24v24H0V0z\" fill=\"none\"/>\n",
              "    <path d=\"M18.56 5.44l.94 2.06.94-2.06 2.06-.94-2.06-.94-.94-2.06-.94 2.06-2.06.94zm-11 1L8.5 8.5l.94-2.06 2.06-.94-2.06-.94L8.5 2.5l-.94 2.06-2.06.94zm10 10l.94 2.06.94-2.06 2.06-.94-2.06-.94-.94-2.06-.94 2.06-2.06.94z\"/><path d=\"M17.41 7.96l-1.37-1.37c-.4-.4-.92-.59-1.43-.59-.52 0-1.04.2-1.43.59L10.3 9.45l-7.72 7.72c-.78.78-.78 2.05 0 2.83L4 21.41c.39.39.9.59 1.41.59.51 0 1.02-.2 1.41-.59l7.78-7.78 2.81-2.81c.8-.78.8-2.07 0-2.86zM5.41 20L4 18.59l7.72-7.72 1.47 1.35L5.41 20z\"/>\n",
              "  </svg>\n",
              "      </button>\n",
              "      \n",
              "  <style>\n",
              "    .colab-df-container {\n",
              "      display:flex;\n",
              "      flex-wrap:wrap;\n",
              "      gap: 12px;\n",
              "    }\n",
              "\n",
              "    .colab-df-convert {\n",
              "      background-color: #E8F0FE;\n",
              "      border: none;\n",
              "      border-radius: 50%;\n",
              "      cursor: pointer;\n",
              "      display: none;\n",
              "      fill: #1967D2;\n",
              "      height: 32px;\n",
              "      padding: 0 0 0 0;\n",
              "      width: 32px;\n",
              "    }\n",
              "\n",
              "    .colab-df-convert:hover {\n",
              "      background-color: #E2EBFA;\n",
              "      box-shadow: 0px 1px 2px rgba(60, 64, 67, 0.3), 0px 1px 3px 1px rgba(60, 64, 67, 0.15);\n",
              "      fill: #174EA6;\n",
              "    }\n",
              "\n",
              "    [theme=dark] .colab-df-convert {\n",
              "      background-color: #3B4455;\n",
              "      fill: #D2E3FC;\n",
              "    }\n",
              "\n",
              "    [theme=dark] .colab-df-convert:hover {\n",
              "      background-color: #434B5C;\n",
              "      box-shadow: 0px 1px 3px 1px rgba(0, 0, 0, 0.15);\n",
              "      filter: drop-shadow(0px 1px 2px rgba(0, 0, 0, 0.3));\n",
              "      fill: #FFFFFF;\n",
              "    }\n",
              "  </style>\n",
              "\n",
              "      <script>\n",
              "        const buttonEl =\n",
              "          document.querySelector('#df-b7907787-605f-417a-bb72-1f00decdfd58 button.colab-df-convert');\n",
              "        buttonEl.style.display =\n",
              "          google.colab.kernel.accessAllowed ? 'block' : 'none';\n",
              "\n",
              "        async function convertToInteractive(key) {\n",
              "          const element = document.querySelector('#df-b7907787-605f-417a-bb72-1f00decdfd58');\n",
              "          const dataTable =\n",
              "            await google.colab.kernel.invokeFunction('convertToInteractive',\n",
              "                                                     [key], {});\n",
              "          if (!dataTable) return;\n",
              "\n",
              "          const docLinkHtml = 'Like what you see? Visit the ' +\n",
              "            '<a target=\"_blank\" href=https://colab.research.google.com/notebooks/data_table.ipynb>data table notebook</a>'\n",
              "            + ' to learn more about interactive tables.';\n",
              "          element.innerHTML = '';\n",
              "          dataTable['output_type'] = 'display_data';\n",
              "          await google.colab.output.renderOutput(dataTable, element);\n",
              "          const docLink = document.createElement('div');\n",
              "          docLink.innerHTML = docLinkHtml;\n",
              "          element.appendChild(docLink);\n",
              "        }\n",
              "      </script>\n",
              "    </div>\n",
              "  </div>\n",
              "  "
            ]
          },
          "metadata": {},
          "execution_count": 111
        }
      ]
    },
    {
      "cell_type": "code",
      "source": [
        "# Acessando os dados através do índice\n",
        "df7.iloc[50,:]"
      ],
      "metadata": {
        "colab": {
          "base_uri": "https://localhost:8080/"
        },
        "id": "F-igRd_xCSAL",
        "outputId": "96500d84-db26-4539-e07d-e57570c13f31"
      },
      "execution_count": 112,
      "outputs": [
        {
          "output_type": "execute_result",
          "data": {
            "text/plain": [
              "CustomerID        51\n",
              "genero        Female\n",
              "idade             49\n",
              "rendimento        42\n",
              "pontuacao         52\n",
              "Grupo              4\n",
              "Name: 50, dtype: object"
            ]
          },
          "metadata": {},
          "execution_count": 112
        }
      ]
    },
    {
      "cell_type": "markdown",
      "source": [
        "# DBSCAN - Density Based Spatial Clustering of Application with Noise\n",
        "\n",
        "DBSCAN, ou traduzindo: Clusterização Espacial Baseada em Densidade de Aplicações com Ruído) é um método de clusterização não paramétrico baseado em densidade, proposto por ESTER et al (1996),  que é significativamente efetivo para  identificar clusters de formato arbitrário e de diferentes tamanhos, identificar e separar os ruídos dos dados e detectar clusters “naturais” e seus arranjos dentro do espaço de dados, sem qualquer informação preliminar sobre os grupos. \n",
        "\n",
        "O método requer somente um parâmetro de entrada, mas dá suporte para determinar um apropriado valor para ele.  "
      ],
      "metadata": {
        "id": "j-ELeINeibkX"
      }
    },
    {
      "cell_type": "markdown",
      "source": [
        "## DBSCAN com PCA\n",
        "\n",
        "Inicialmente utilizaremos o algoritmo DBSCAN associado ao PCA, reduzindo a quantidade de variáveis para a análise.\n",
        "\n",
        "Usaremos o dataframe df2_esc escalonado."
      ],
      "metadata": {
        "id": "722EyedKjOmu"
      }
    },
    {
      "cell_type": "code",
      "source": [
        "df2_esc"
      ],
      "metadata": {
        "id": "CUUIqKn2jnrL"
      },
      "execution_count": null,
      "outputs": []
    },
    {
      "cell_type": "code",
      "source": [
        "df2_esc.shape"
      ],
      "metadata": {
        "colab": {
          "base_uri": "https://localhost:8080/"
        },
        "id": "kw5zhX_XkXRC",
        "outputId": "233390a0-ff94-41d4-d977-83d45d9341bd"
      },
      "execution_count": 114,
      "outputs": [
        {
          "output_type": "execute_result",
          "data": {
            "text/plain": [
              "(200, 4)"
            ]
          },
          "metadata": {},
          "execution_count": 114
        }
      ]
    },
    {
      "cell_type": "markdown",
      "source": [
        "Componentes principais"
      ],
      "metadata": {
        "id": "ILgLxNZTkdt6"
      }
    },
    {
      "cell_type": "code",
      "source": [
        "from sklearn.decomposition import PCA"
      ],
      "metadata": {
        "id": "G4kW8Ra9kgfa"
      },
      "execution_count": 115,
      "outputs": []
    },
    {
      "cell_type": "code",
      "source": [
        "pca = PCA(n_components=2)"
      ],
      "metadata": {
        "id": "MSmrgOUgk57B"
      },
      "execution_count": 116,
      "outputs": []
    },
    {
      "cell_type": "code",
      "source": [
        "df2_pca =pca.fit_transform(df2_esc)"
      ],
      "metadata": {
        "id": "dRT_EdSAlA-z"
      },
      "execution_count": 117,
      "outputs": []
    },
    {
      "cell_type": "code",
      "source": [
        "df2_pca"
      ],
      "metadata": {
        "colab": {
          "base_uri": "https://localhost:8080/"
        },
        "id": "WadCCh9NlKNB",
        "outputId": "34682c83-aaf4-4e93-e114-92d4b967b675"
      },
      "execution_count": 118,
      "outputs": [
        {
          "output_type": "execute_result",
          "data": {
            "text/plain": [
              "array([[-4.06382715e-01, -5.20713635e-01],\n",
              "       [-1.42767287e+00, -3.67310199e-01],\n",
              "       [ 5.07605706e-02, -1.89406774e+00],\n",
              "       [-1.69451310e+00, -1.63190805e+00],\n",
              "       [-3.13108383e-01, -1.81048272e+00],\n",
              "       [-1.71744627e+00, -1.59926418e+00],\n",
              "       [ 7.90821124e-01, -1.94727112e+00],\n",
              "       [-2.14832159e+00, -1.50537369e+00],\n",
              "       [ 2.77428623e+00, -8.82987672e-01],\n",
              "       [-1.21629477e+00, -1.61640464e+00],\n",
              "       [ 2.62905084e+00, -8.61237043e-01],\n",
              "       [-1.68947038e+00, -1.54542784e+00],\n",
              "       [ 1.68582253e+00, -2.02394479e+00],\n",
              "       [-1.64607339e+00, -1.52251259e+00],\n",
              "       [ 1.17443628e+00, -6.12790961e-01],\n",
              "       [-1.32613070e+00, -2.36719149e-01],\n",
              "       [ 1.67728253e-02, -1.74344572e+00],\n",
              "       [-1.07842454e+00, -2.44715641e-01],\n",
              "       [ 1.48758780e+00, -5.72676028e-01],\n",
              "       [-1.66373169e+00, -1.43259774e+00],\n",
              "       [ 4.88090311e-01, -3.92921145e-01],\n",
              "       [-1.01895051e+00, -1.66247511e-01],\n",
              "       [ 1.35891492e+00, -1.82866936e+00],\n",
              "       [-7.22972722e-01, -1.81687017e-01],\n",
              "       [ 1.51315931e+00, -1.76451196e+00],\n",
              "       [-1.06241157e+00, -4.31150614e-02],\n",
              "       [ 5.88832908e-01, -1.62541614e+00],\n",
              "       [-2.06188227e-01, -1.71906970e-01],\n",
              "       [ 3.68426440e-01, -1.56300645e+00],\n",
              "       [-1.96420414e+00, -1.21211990e+00],\n",
              "       [ 2.54759194e+00, -5.27913522e-01],\n",
              "       [-1.68983067e+00, -1.22412321e+00],\n",
              "       [ 2.20131721e+00, -3.88195647e-01],\n",
              "       [-1.87329695e+00,  2.24855270e-01],\n",
              "       [ 1.26515693e+00, -1.58125854e+00],\n",
              "       [-1.90386557e+00, -1.10444099e+00],\n",
              "       [ 8.39344590e-01, -1.48793867e+00],\n",
              "       [-1.24644437e+00, -1.17425940e+00],\n",
              "       [ 3.02432444e-01, -1.31960089e+00],\n",
              "       [-1.79415868e+00, -1.00420352e+00],\n",
              "       [ 1.49387594e+00, -1.47013252e+00],\n",
              "       [-1.57824777e+00,  3.26252676e-01],\n",
              "       [ 1.09972892e+00, -4.75148304e-02],\n",
              "       [-8.78229151e-01, -1.08373653e+00],\n",
              "       [ 8.90421740e-01, -1.34990772e+00],\n",
              "       [-1.33047664e+00, -1.01561907e+00],\n",
              "       [ 2.19540681e-01, -1.21995587e+00],\n",
              "       [-7.02592333e-01, -1.08085693e+00],\n",
              "       [-4.70519161e-01, -1.11577393e+00],\n",
              "       [-3.71782513e-01, -1.13065684e+00],\n",
              "       [ 2.49709965e-01, -1.16611641e+00],\n",
              "       [-2.81507713e-01,  2.47898317e-01],\n",
              "       [-6.92486630e-01, -9.94947343e-01],\n",
              "       [ 1.00183656e+00,  8.36296961e-02],\n",
              "       [ 4.85517270e-01, -1.17239636e+00],\n",
              "       [ 9.16095461e-01,  9.67976267e-02],\n",
              "       [ 4.01316916e-01, -1.13059450e+00],\n",
              "       [ 1.86862991e+00, -1.76710825e-02],\n",
              "       [-8.10654470e-01, -8.89574289e-01],\n",
              "       [ 1.07827242e+00,  1.59810666e-01],\n",
              "       [ 1.65086088e+00,  7.33740960e-02],\n",
              "       [-8.40256337e-01,  4.48881521e-01],\n",
              "       [ 1.13717903e+00, -1.15401647e+00],\n",
              "       [ 3.08719686e-01, -1.02922982e+00],\n",
              "       [ 1.43815483e+00,  1.63848653e-01],\n",
              "       [-9.96758186e-01,  5.30768704e-01],\n",
              "       [ 5.44171232e-03, -9.54225943e-01],\n",
              "       [ 1.29298442e+00, -1.14827597e+00],\n",
              "       [-9.47389862e-01,  5.23327249e-01],\n",
              "       [-4.57607937e-01, -8.84390383e-01],\n",
              "       [ 1.67683173e+00,  1.56994962e-01],\n",
              "       [ 4.16021294e-01, -9.86837080e-01],\n",
              "       [ 8.70906219e-01, -1.02631905e+00],\n",
              "       [ 6.84235085e-01, -9.98271327e-01],\n",
              "       [ 1.34595784e+00,  3.52842574e-01],\n",
              "       [-4.69867989e-01,  6.26458338e-01],\n",
              "       [ 2.27835275e-02, -7.81833032e-01],\n",
              "       [ 3.81292376e-01,  4.98237051e-01],\n",
              "       [-1.03665230e+00, -6.22127824e-01],\n",
              "       [ 5.13597177e-01, -8.55673851e-01],\n",
              "       [ 1.14055197e+00,  3.83752756e-01],\n",
              "       [ 9.58845944e-02,  5.41167687e-01],\n",
              "       [ 1.90090826e+00,  2.69270021e-01],\n",
              "       [ 3.12157595e-01, -8.25335848e-01],\n",
              "       [-1.26872547e+00, -5.87210823e-01],\n",
              "       [ 8.29573578e-01,  4.30691769e-01],\n",
              "       [ 3.82433784e-01, -7.48585816e-01],\n",
              "       [-1.16671899e+00, -5.15038230e-01],\n",
              "       [-7.07867782e-01, -5.55092382e-01],\n",
              "       [ 4.55367669e-01, -7.30251123e-01],\n",
              "       [ 1.10375960e+00, -7.98926738e-01],\n",
              "       [-5.19300383e-01,  7.79947493e-01],\n",
              "       [ 7.48178745e-01,  6.17967591e-01],\n",
              "       [ 1.21223952e-01, -6.21459016e-01],\n",
              "       [-3.27057250e-01, -5.53913735e-01],\n",
              "       [-5.16662945e-01,  8.08582982e-01],\n",
              "       [ 2.80131086e-01, -6.45501482e-01],\n",
              "       [-7.87237308e-01, -4.84651914e-01],\n",
              "       [ 9.34617726e-01,  6.19129095e-01],\n",
              "       [-6.34366480e-01,  8.55537580e-01],\n",
              "       [-7.45169167e-01, -4.32528995e-01],\n",
              "       [ 3.51736123e-01, -5.97959120e-01],\n",
              "       [ 1.41903955e+00,  5.75066566e-01],\n",
              "       [-4.98392518e-01,  8.64138980e-01],\n",
              "       [ 6.10411629e-01,  6.96992316e-01],\n",
              "       [-8.70573120e-01, -4.13639266e-01],\n",
              "       [ 1.13743087e+00, -6.87241003e-01],\n",
              "       [ 1.12369414e+00,  6.48926087e-01],\n",
              "       [ 1.89485259e+00,  5.32725254e-01],\n",
              "       [ 1.66277942e+00,  5.67642254e-01],\n",
              "       [ 1.50674188e+00,  5.91110981e-01],\n",
              "       [-1.28954958e+00, -3.21465312e-01],\n",
              "       [-3.17759179e-02, -4.81725557e-01],\n",
              "       [-6.04429349e-01,  9.38586267e-01],\n",
              "       [-1.17937838e+00, -2.79646307e-01],\n",
              "       [-1.18334467e+00, -2.79074127e-01],\n",
              "       [ 1.17553272e+00, -6.34545905e-01],\n",
              "       [ 5.76993109e-02, -4.66256439e-01],\n",
              "       [ 5.82648530e-01, -4.86829980e-01],\n",
              "       [ 1.59937938e-01, -4.23293075e-01],\n",
              "       [-4.76852264e-01,  1.00675048e+00],\n",
              "       [ 2.08622326e-02, -4.02111508e-01],\n",
              "       [-3.60876912e-01, -2.86453243e-01],\n",
              "       [-8.18252351e-01,  1.11611009e+00],\n",
              "       [-4.27018733e-01, -2.46936984e-01],\n",
              "       [-1.31210277e+00, -1.14141375e-01],\n",
              "       [ 8.72125709e-01,  9.20380930e-01],\n",
              "       [-8.76017553e-01,  1.18311437e+00],\n",
              "       [ 2.30203421e+00,  7.05154010e-01],\n",
              "       [-4.41408104e-01,  1.11786092e+00],\n",
              "       [ 1.76294893e+00,  7.86437844e-01],\n",
              "       [-3.92039780e-01,  1.11041946e+00],\n",
              "       [-4.62082916e-01, -1.83367350e-01],\n",
              "       [-1.15256325e+00, -7.97638257e-02],\n",
              "       [ 5.36209096e-01,  1.02974833e+00],\n",
              "       [-1.70487623e+00,  3.24442165e-02],\n",
              "       [ 1.19570032e+00, -4.03729862e-01],\n",
              "       [-6.84747745e-01,  1.21291448e+00],\n",
              "       [ 3.53272095e-01,  1.08643311e+00],\n",
              "       [-9.82221565e-01, -4.71043747e-02],\n",
              "       [ 1.89035883e+00, -4.50063966e-01],\n",
              "       [-1.21855815e+00,  1.35146929e+00],\n",
              "       [-4.74910385e-01, -6.48138980e-02],\n",
              "       [-1.53080042e+00,  9.37407158e-02],\n",
              "       [ 5.95450970e-01,  1.13742569e+00],\n",
              "       [-1.52316497e+00,  1.45568084e+00],\n",
              "       [ 1.09090711e+00,  1.06243584e+00],\n",
              "       [-1.18435761e+00,  7.08613124e-02],\n",
              "       [ 3.00846740e-01, -1.23166897e-01],\n",
              "       [-1.04051604e+00,  1.41219361e+00],\n",
              "       [ 1.35051212e+00,  1.05272281e+00],\n",
              "       [-7.40339814e-01,  1.36697269e+00],\n",
              "       [ 8.47864590e-01, -2.05595090e-01],\n",
              "       [-9.41714425e-01,  6.34354417e-02],\n",
              "       [ 1.10263878e+00, -2.43946728e-01],\n",
              "       [-1.83144095e+00,  1.97380086e-01],\n",
              "       [ 1.48097906e+00,  1.03326246e+00],\n",
              "       [-1.38999563e+00,  1.30980723e-01],\n",
              "       [ 1.33287409e+00,  1.05558682e+00],\n",
              "       [-1.25665910e+00,  1.10946634e-01],\n",
              "       [ 1.04004275e+00, -2.05581064e-01],\n",
              "       [-1.57293263e+00,  1.87665496e-01],\n",
              "       [ 4.84983547e-01,  1.27086361e+00],\n",
              "       [-1.74133333e+00,  2.71269219e-01],\n",
              "       [ 1.45445958e+00,  1.24115857e+00],\n",
              "       [-1.01540884e+00,  2.78776132e-01],\n",
              "       [ 1.21928466e+00,  1.30585854e+00],\n",
              "       [-1.69709206e+00,  4.10446083e-01],\n",
              "       [ 2.64157486e-01,  1.44867334e-01],\n",
              "       [-4.21324839e-01,  1.58177549e+00],\n",
              "       [ 1.30698699e+00,  1.32190295e+00],\n",
              "       [-9.38805793e-01,  1.65962313e+00],\n",
              "       [ 1.18951561e+00,  1.33964832e+00],\n",
              "       [-9.97203383e-01,  1.66820738e+00],\n",
              "       [ 1.42716078e+00, -1.08217936e-03],\n",
              "       [-1.60565560e+00,  4.55127547e-01],\n",
              "       [ 2.14205006e+00,  1.22517962e+00],\n",
              "       [-8.28402441e-01,  1.67223290e+00],\n",
              "       [ 2.21692493e+00,  1.35977748e+00],\n",
              "       [-9.94630016e-01,  1.84289057e+00],\n",
              "       [ 1.77867756e-01,  4.49552248e-01],\n",
              "       [-1.50900833e+00,  7.03127688e-01],\n",
              "       [ 1.54730865e+00,  1.60656936e+00],\n",
              "       [-1.71068006e+00,  7.62674919e-01],\n",
              "       [ 1.88205612e-01,  5.06252606e-01],\n",
              "       [-1.42953569e+00,  2.08340094e+00],\n",
              "       [ 1.22953909e+00,  4.07829870e-01],\n",
              "       [-7.55384802e-01,  2.04050460e+00],\n",
              "       [ 7.73957706e-01,  5.34939526e-01],\n",
              "       [-1.28626064e+00,  8.44610416e-01],\n",
              "       [ 2.68375609e-01,  6.11070624e-01],\n",
              "       [-1.05705706e+00,  8.10267154e-01],\n",
              "       [ 1.08870927e+00,  2.11339899e+00],\n",
              "       [-1.34984935e+00,  1.14586069e+00],\n",
              "       [ 1.09288835e+00,  9.82840852e-01],\n",
              "       [-1.17957174e+00,  1.32456784e+00],\n",
              "       [ 6.72751128e-01,  1.22106095e+00],\n",
              "       [-7.23719161e-01,  2.76501038e+00],\n",
              "       [ 7.67096226e-01,  2.86193009e+00],\n",
              "       [-1.06501524e+00,  3.13725616e+00]])"
            ]
          },
          "metadata": {},
          "execution_count": 118
        }
      ]
    },
    {
      "cell_type": "code",
      "source": [
        "from sklearn.cluster import DBSCAN"
      ],
      "metadata": {
        "id": "caZ7rlSUlPiq"
      },
      "execution_count": 119,
      "outputs": []
    },
    {
      "cell_type": "code",
      "source": [
        "dbscan = DBSCAN(eps = 0.32, min_samples= 3)"
      ],
      "metadata": {
        "id": "jryuD7OglW9B"
      },
      "execution_count": 126,
      "outputs": []
    },
    {
      "cell_type": "code",
      "source": [
        "dbscan.fit(df2_pca)"
      ],
      "metadata": {
        "colab": {
          "base_uri": "https://localhost:8080/"
        },
        "id": "8d0oP1yrlsMk",
        "outputId": "dd64541e-34cf-4456-c647-26940e7e258a"
      },
      "execution_count": 127,
      "outputs": [
        {
          "output_type": "execute_result",
          "data": {
            "text/plain": [
              "DBSCAN(eps=0.32, min_samples=3)"
            ]
          },
          "metadata": {},
          "execution_count": 127
        }
      ]
    },
    {
      "cell_type": "code",
      "source": [
        "classificacao6 = dbscan.labels_"
      ],
      "metadata": {
        "id": "9rDZqZd_l5o5"
      },
      "execution_count": 128,
      "outputs": []
    },
    {
      "cell_type": "code",
      "source": [
        "classificacao6"
      ],
      "metadata": {
        "colab": {
          "base_uri": "https://localhost:8080/"
        },
        "id": "ezkRdvMwmA8L",
        "outputId": "5b8b83a2-73cc-4cae-9ea7-5664552b0d6d"
      },
      "execution_count": 129,
      "outputs": [
        {
          "output_type": "execute_result",
          "data": {
            "text/plain": [
              "array([ 0,  0, -1,  1, -1,  1, -1, -1, -1, -1, -1,  1,  3,  1,  2,  0, -1,\n",
              "        0,  2,  1,  0,  0,  3,  0,  3,  0,  0,  0,  0,  1, -1,  1, -1,  0,\n",
              "        3,  1,  0, -1,  0,  1,  3,  0,  2,  4,  0, -1,  0,  4,  4,  4,  0,\n",
              "       -1,  4,  2,  0,  2,  0,  2,  4,  2,  2,  0,  0,  0,  2,  0,  0,  0,\n",
              "        0,  4,  2,  0,  0,  0,  2,  0,  0,  2,  0,  0,  2,  2,  2,  0,  0,\n",
              "        2,  0,  0,  0,  0,  2,  0,  2,  0,  0,  0,  0,  0,  2,  0,  0,  0,\n",
              "        2,  0,  2,  0,  2,  2,  2,  2,  2,  0,  0,  0,  0,  0,  2,  0,  0,\n",
              "        0,  0,  0,  0,  0,  0,  0,  2,  0, -1,  0,  2,  0,  0,  0,  5,  0,\n",
              "        2,  0,  5,  0, -1,  0,  0,  0,  5, -1,  2,  0,  2,  0,  2,  0,  2,\n",
              "        0,  2,  0,  2,  0,  2,  0,  2,  0,  5,  0,  2,  0,  2,  0,  2, -1,\n",
              "        2,  0,  2,  0,  2,  0, -1,  0, -1,  0,  2,  0, -1,  0,  2, -1,  2,\n",
              "        0,  2,  0,  2,  0, -1,  0,  2,  0,  5, -1, -1, -1])"
            ]
          },
          "metadata": {},
          "execution_count": 129
        }
      ]
    },
    {
      "cell_type": "markdown",
      "source": [
        "É possível identificar uma quantidade considerável de ruídos ( -1 ) na criação do modelo utilizando PCA. Ajustando o eps que define o raio de seleção do cluster ( default = 0.5 ) para valores maiores cria uma predominância do cluster 0. Encontramos um maior equilíbrio com eps = 0.32, mesmo com tantos ruídos."
      ],
      "metadata": {
        "id": "I56ji8Tcockz"
      }
    },
    {
      "cell_type": "code",
      "source": [
        "import plotly.express as px"
      ],
      "metadata": {
        "id": "nmVK0Tz5mPGY"
      },
      "execution_count": 124,
      "outputs": []
    },
    {
      "cell_type": "code",
      "source": [
        "graf5 = px.scatter( x = df2_pca[:,0], y = df2_pca[:,1], color = classificacao6)\n",
        "graf5.update_layout( width=800, height = 500, title_text=\"Agrupamento DBSCAN\")\n",
        "graf5.show()"
      ],
      "metadata": {
        "colab": {
          "base_uri": "https://localhost:8080/",
          "height": 517
        },
        "id": "WJ4JFPVqmP7Q",
        "outputId": "bc9c6ab2-0b0a-4314-dfa3-7f2a68c95d97"
      },
      "execution_count": 130,
      "outputs": [
        {
          "output_type": "display_data",
          "data": {
            "text/html": [
              "<html>\n",
              "<head><meta charset=\"utf-8\" /></head>\n",
              "<body>\n",
              "    <div>            <script src=\"https://cdnjs.cloudflare.com/ajax/libs/mathjax/2.7.5/MathJax.js?config=TeX-AMS-MML_SVG\"></script><script type=\"text/javascript\">if (window.MathJax) {MathJax.Hub.Config({SVG: {font: \"STIX-Web\"}});}</script>                <script type=\"text/javascript\">window.PlotlyConfig = {MathJaxConfig: 'local'};</script>\n",
              "        <script src=\"https://cdn.plot.ly/plotly-2.8.3.min.js\"></script>                <div id=\"b1ae89ca-40a7-4507-bb77-36b298b2baac\" class=\"plotly-graph-div\" style=\"height:500px; width:800px;\"></div>            <script type=\"text/javascript\">                                    window.PLOTLYENV=window.PLOTLYENV || {};                                    if (document.getElementById(\"b1ae89ca-40a7-4507-bb77-36b298b2baac\")) {                    Plotly.newPlot(                        \"b1ae89ca-40a7-4507-bb77-36b298b2baac\",                        [{\"hovertemplate\":\"x=%{x}<br>y=%{y}<br>color=%{marker.color}<extra></extra>\",\"legendgroup\":\"\",\"marker\":{\"color\":[0,0,-1,1,-1,1,-1,-1,-1,-1,-1,1,3,1,2,0,-1,0,2,1,0,0,3,0,3,0,0,0,0,1,-1,1,-1,0,3,1,0,-1,0,1,3,0,2,4,0,-1,0,4,4,4,0,-1,4,2,0,2,0,2,4,2,2,0,0,0,2,0,0,0,0,4,2,0,0,0,2,0,0,2,0,0,2,2,2,0,0,2,0,0,0,0,2,0,2,0,0,0,0,0,2,0,0,0,2,0,2,0,2,2,2,2,2,0,0,0,0,0,2,0,0,0,0,0,0,0,0,0,2,0,-1,0,2,0,0,0,5,0,2,0,5,0,-1,0,0,0,5,-1,2,0,2,0,2,0,2,0,2,0,2,0,2,0,2,0,5,0,2,0,2,0,2,-1,2,0,2,0,2,0,-1,0,-1,0,2,0,-1,0,2,-1,2,0,2,0,2,0,-1,0,2,0,5,-1,-1,-1],\"coloraxis\":\"coloraxis\",\"symbol\":\"circle\"},\"mode\":\"markers\",\"name\":\"\",\"orientation\":\"v\",\"showlegend\":false,\"x\":[-0.4063827151579539,-1.4276728699542152,0.05076057064985002,-1.694513100169418,-0.3131083826452846,-1.717446272386949,0.7908211244257646,-2.1483215883542,2.7742862260886674,-1.2162947672439097,2.629050844956019,-1.689470377641948,1.685822526686192,-1.646073388391044,1.1744362769650314,-1.326130701573071,0.016772825250205205,-1.0784245398454668,1.487587800437728,-1.6637316850276518,0.48809031054841423,-1.018950512841659,1.35891492179377,-0.7229727219419837,1.5131593111179211,-1.0624115725397136,0.5888329082822423,-0.20618822719626823,0.36842644009595854,-1.9642041381454174,2.547591941703815,-1.689830671589703,2.201317214598138,-1.8732969500021546,1.2651569258897126,-1.9038655693749462,0.8393445904066115,-1.2464443678738237,0.30243244384012896,-1.7941586766122868,1.4938759431071387,-1.5782477713162935,1.099728921816946,-0.8782291512115799,0.8904217399754469,-1.3304766384693378,0.21954068055520304,-0.7025923326402417,-0.4705191605153139,-0.3717825125309376,0.24970996494043868,-0.2815077131008843,-0.6924866296286218,1.0018365576425536,0.48551726967594544,0.9160954614703921,0.4013169164741282,1.8686299121045258,-0.8106544702734044,1.0782724221226085,1.6508608817087034,-0.8402563370647809,1.137179031532557,0.3087196858373392,1.4381548317970312,-0.9967581864763178,0.005441712322809042,1.2929844217837325,-0.9473898624841294,-0.4576079371069295,1.6768317273764533,0.4160212938629904,0.8709062189112103,0.6842350851144381,1.3459578368199983,-0.46986798871898217,0.0227835275021329,0.38129237614031347,-1.0366522954978958,0.5135971765800988,1.1405519695231807,0.0958845943591651,1.9009082577261656,0.3121575949473138,-1.2687254676228237,0.8295735777340393,0.3824337841231019,-1.166718993134776,-0.7078677824225231,0.4553676690460315,1.103759604398971,-0.5193003831583215,0.7481787449289868,0.12122395198590478,-0.3270572496078209,-0.5166629453678594,0.28013108613444954,-0.787237308193644,0.9346177256723055,-0.6343664799057346,-0.745169166816311,0.3517361231838084,1.4190395463925514,-0.49839251797472106,0.6104116290174958,-0.8705731196287977,1.1374308683413323,1.1236941442060857,1.89485259458105,1.6627794224561225,1.5067418791514935,-1.2895495786039513,-0.03177591786850641,-0.6044293485739525,-1.1793783797343846,-1.183344665398417,1.1755327240546332,0.05769931091423421,0.5826485300414681,0.15993793845573587,-0.4768522640779112,0.020862232627353535,-0.360876912401163,-0.8182523512624218,-0.42701873330661577,-1.3121027731184056,0.8721257089736012,-0.876017552689582,2.3020342087232586,-0.4414081041117519,1.762948930473222,-0.39203978011956386,-0.462082915569698,-1.1525632502566512,0.5362090958896765,-1.7048762333723564,1.1957003175874013,-0.6847477445155672,0.35327209470348325,-0.9822215652229159,1.8903588330351604,-1.2185581471846807,-0.47491038477561015,-1.5308004157280417,0.5954509698400304,-1.5231649685727817,1.09090710578571,-1.1843576060160614,0.30084673997659733,-1.0405160438763343,1.350512124505412,-0.7403398142591732,0.8478645895546993,-0.941714424772607,1.1026387808437048,-1.8314409514521104,1.4809790578020479,-1.3899956263663327,1.3328740858254835,-1.2566591022257811,1.0400427519858484,-1.5729326275525262,0.48498354746985955,-1.7413333339561599,1.4544595776235612,-1.015408839303048,1.219284661601264,-1.697092060895272,0.2641574863393399,-0.42132483898281414,1.3069869943602062,-0.9388057928888904,1.189515612875785,-0.997203383029261,1.4271607847544405,-1.605655595525751,2.1420500635099184,-0.8284024409658702,2.2169249270629487,-0.99463001568595,0.17786775565644064,-1.5090083250224569,1.5473086450691251,-1.7106800597086955,0.18820561172151373,-1.4295356877643843,1.2295390899347067,-0.7553848018404683,0.7739577057261265,-1.2862606425463154,0.2683756088121477,-1.057057061265303,1.0887092711656483,-1.3498493540651368,1.0928883525986548,-1.1795717394785525,0.6727511283562331,-0.7237191611767173,0.7670962256094708,-1.065015236202076],\"xaxis\":\"x\",\"y\":[-0.5207136347541887,-0.3673101985064729,-1.8940677431734187,-1.6319080463761149,-1.8104827229475533,-1.5992641803386483,-1.9472711231346211,-1.5053736875274362,-0.88298767174758,-1.6164046413069522,-0.8612370431432437,-1.5454278393385181,-2.0239447888163213,-1.5225125897317864,-0.6127909605390449,-0.23671914937157346,-1.7434457225503468,-0.24471564122901998,-0.5726760275517866,-1.4325977447537255,-0.39292114499292013,-0.16624751103390276,-1.828669357439307,-0.181687017398983,-1.7645119588687985,-0.04311506139167001,-1.6254161367177842,-0.17190696972129163,-1.563006447705596,-1.2121199030829253,-0.5279135219026179,-1.2241232127435877,-0.38819564740584867,0.22485527030598657,-1.5812585396653853,-1.1044409860268523,-1.4879386679529718,-1.174259402048703,-1.3196008889709374,-1.00420352471446,-1.4701325172117226,0.326252676328915,-0.04751483040251683,-1.0837365309459663,-1.3499077218383466,-1.0156190695273388,-1.219955868798189,-1.0808569291192682,-1.11577392962271,-1.1306568411100706,-1.1661164102701524,0.24789831732088355,-0.9949473431804704,0.08362969608219466,-1.1723963625393439,0.0967976267452531,-1.1305945011699412,-0.017671082502633453,-0.8895742893243904,0.15981066559025772,0.07337409597985196,0.44888152110433754,-1.1540164731713893,-1.029229823881031,0.1638486533635385,0.5307687042548868,-0.9542259428324893,-1.1482759720309321,0.5233272485112065,-0.884390383061653,0.15699496246764225,-0.9868370801359377,-1.0263190520842682,-0.9982713274617552,0.3528425737074088,0.6264583378713758,-0.7818330323281885,0.49823705064055307,-0.6221278237704353,-0.8556738511382878,0.3837527564076342,0.5411676867504268,0.2692700209386686,-0.8253358483008142,-0.5872108232669937,0.4306917690846773,-0.7485858164579056,-0.5150382303260997,-0.5550923821371821,-0.730251123281095,-0.7989267383413949,0.7799474928640203,0.6179675910763388,-0.621459016469583,-0.5539137349137074,0.8085829823343175,-0.645501482052833,-0.48465191376957606,0.6191290945508281,0.8555375799963929,-0.4325289948297953,-0.5979591195429735,0.5750665661725765,0.8641389804506094,0.6969923161491758,-0.4136392655392183,-0.6872410034821063,0.6489260874956144,0.5327252536744401,0.5676422541778816,0.5911109811344266,-0.32146531231626163,-0.48172555698778124,0.9385862666214316,-0.2796463071978737,-0.2790741273351218,-0.6345459046795736,-0.46625643941658945,-0.48682997956140406,-0.4232930745726977,1.0067504829951561,-0.4021115083032069,-0.2864532431386728,1.1161100933775603,-0.24693698369237152,-0.11414137508744021,0.9203809296167391,1.1831143650407487,0.7051540104406648,1.1178609204637866,0.7864378437583976,1.1104194647201062,-0.18336734996964724,-0.0797638257127327,1.0297483338189093,0.03244421652630466,-0.40372986168940894,1.2129144755134416,1.0864331066756725,-0.0471043746902338,-0.45006396576968244,1.3514692877717687,-0.0648138979933829,0.09374071578305374,1.1374256921110288,1.455680838153359,1.0624358372835663,0.07086131243824621,-0.12316689671935167,1.4121936071657661,1.0527228058378642,1.3669726928409314,-0.20559508976258814,0.06343544167959811,-0.24394672820649396,0.19738008630189274,1.0332624554484882,0.1309807232354738,1.0555868226795297,0.1109466342193931,-0.20558106354150898,0.18766549609223704,1.270863614338607,0.27126921883104194,1.2411585725400613,0.278776132042758,1.3058585397672104,0.4104460834351245,0.1448673336823879,1.5817754908393107,1.3219029547290604,1.659623127452626,1.3396483242941337,1.668207384157857,-0.0010821793645226642,0.4551275466312245,1.2251796150462468,1.672232904474012,1.3597774819843615,1.8428905728771183,0.44955224792481,0.7031276880168835,1.606569364940434,0.7626749189513592,0.5062526057666057,2.083400944800047,0.4078298702445222,2.0405045961881436,0.5349395264838593,0.844610415820959,0.6110706235089192,0.8102671539442224,2.1133989864408,1.1458606921229166,0.9828408518675974,1.3245678423943796,1.2210609455755657,2.765010382457773,2.8619300945446935,3.137256163241103],\"yaxis\":\"y\",\"type\":\"scatter\"}],                        {\"template\":{\"data\":{\"bar\":[{\"error_x\":{\"color\":\"#2a3f5f\"},\"error_y\":{\"color\":\"#2a3f5f\"},\"marker\":{\"line\":{\"color\":\"#E5ECF6\",\"width\":0.5},\"pattern\":{\"fillmode\":\"overlay\",\"size\":10,\"solidity\":0.2}},\"type\":\"bar\"}],\"barpolar\":[{\"marker\":{\"line\":{\"color\":\"#E5ECF6\",\"width\":0.5},\"pattern\":{\"fillmode\":\"overlay\",\"size\":10,\"solidity\":0.2}},\"type\":\"barpolar\"}],\"carpet\":[{\"aaxis\":{\"endlinecolor\":\"#2a3f5f\",\"gridcolor\":\"white\",\"linecolor\":\"white\",\"minorgridcolor\":\"white\",\"startlinecolor\":\"#2a3f5f\"},\"baxis\":{\"endlinecolor\":\"#2a3f5f\",\"gridcolor\":\"white\",\"linecolor\":\"white\",\"minorgridcolor\":\"white\",\"startlinecolor\":\"#2a3f5f\"},\"type\":\"carpet\"}],\"choropleth\":[{\"colorbar\":{\"outlinewidth\":0,\"ticks\":\"\"},\"type\":\"choropleth\"}],\"contour\":[{\"colorbar\":{\"outlinewidth\":0,\"ticks\":\"\"},\"colorscale\":[[0.0,\"#0d0887\"],[0.1111111111111111,\"#46039f\"],[0.2222222222222222,\"#7201a8\"],[0.3333333333333333,\"#9c179e\"],[0.4444444444444444,\"#bd3786\"],[0.5555555555555556,\"#d8576b\"],[0.6666666666666666,\"#ed7953\"],[0.7777777777777778,\"#fb9f3a\"],[0.8888888888888888,\"#fdca26\"],[1.0,\"#f0f921\"]],\"type\":\"contour\"}],\"contourcarpet\":[{\"colorbar\":{\"outlinewidth\":0,\"ticks\":\"\"},\"type\":\"contourcarpet\"}],\"heatmap\":[{\"colorbar\":{\"outlinewidth\":0,\"ticks\":\"\"},\"colorscale\":[[0.0,\"#0d0887\"],[0.1111111111111111,\"#46039f\"],[0.2222222222222222,\"#7201a8\"],[0.3333333333333333,\"#9c179e\"],[0.4444444444444444,\"#bd3786\"],[0.5555555555555556,\"#d8576b\"],[0.6666666666666666,\"#ed7953\"],[0.7777777777777778,\"#fb9f3a\"],[0.8888888888888888,\"#fdca26\"],[1.0,\"#f0f921\"]],\"type\":\"heatmap\"}],\"heatmapgl\":[{\"colorbar\":{\"outlinewidth\":0,\"ticks\":\"\"},\"colorscale\":[[0.0,\"#0d0887\"],[0.1111111111111111,\"#46039f\"],[0.2222222222222222,\"#7201a8\"],[0.3333333333333333,\"#9c179e\"],[0.4444444444444444,\"#bd3786\"],[0.5555555555555556,\"#d8576b\"],[0.6666666666666666,\"#ed7953\"],[0.7777777777777778,\"#fb9f3a\"],[0.8888888888888888,\"#fdca26\"],[1.0,\"#f0f921\"]],\"type\":\"heatmapgl\"}],\"histogram\":[{\"marker\":{\"pattern\":{\"fillmode\":\"overlay\",\"size\":10,\"solidity\":0.2}},\"type\":\"histogram\"}],\"histogram2d\":[{\"colorbar\":{\"outlinewidth\":0,\"ticks\":\"\"},\"colorscale\":[[0.0,\"#0d0887\"],[0.1111111111111111,\"#46039f\"],[0.2222222222222222,\"#7201a8\"],[0.3333333333333333,\"#9c179e\"],[0.4444444444444444,\"#bd3786\"],[0.5555555555555556,\"#d8576b\"],[0.6666666666666666,\"#ed7953\"],[0.7777777777777778,\"#fb9f3a\"],[0.8888888888888888,\"#fdca26\"],[1.0,\"#f0f921\"]],\"type\":\"histogram2d\"}],\"histogram2dcontour\":[{\"colorbar\":{\"outlinewidth\":0,\"ticks\":\"\"},\"colorscale\":[[0.0,\"#0d0887\"],[0.1111111111111111,\"#46039f\"],[0.2222222222222222,\"#7201a8\"],[0.3333333333333333,\"#9c179e\"],[0.4444444444444444,\"#bd3786\"],[0.5555555555555556,\"#d8576b\"],[0.6666666666666666,\"#ed7953\"],[0.7777777777777778,\"#fb9f3a\"],[0.8888888888888888,\"#fdca26\"],[1.0,\"#f0f921\"]],\"type\":\"histogram2dcontour\"}],\"mesh3d\":[{\"colorbar\":{\"outlinewidth\":0,\"ticks\":\"\"},\"type\":\"mesh3d\"}],\"parcoords\":[{\"line\":{\"colorbar\":{\"outlinewidth\":0,\"ticks\":\"\"}},\"type\":\"parcoords\"}],\"pie\":[{\"automargin\":true,\"type\":\"pie\"}],\"scatter\":[{\"marker\":{\"colorbar\":{\"outlinewidth\":0,\"ticks\":\"\"}},\"type\":\"scatter\"}],\"scatter3d\":[{\"line\":{\"colorbar\":{\"outlinewidth\":0,\"ticks\":\"\"}},\"marker\":{\"colorbar\":{\"outlinewidth\":0,\"ticks\":\"\"}},\"type\":\"scatter3d\"}],\"scattercarpet\":[{\"marker\":{\"colorbar\":{\"outlinewidth\":0,\"ticks\":\"\"}},\"type\":\"scattercarpet\"}],\"scattergeo\":[{\"marker\":{\"colorbar\":{\"outlinewidth\":0,\"ticks\":\"\"}},\"type\":\"scattergeo\"}],\"scattergl\":[{\"marker\":{\"colorbar\":{\"outlinewidth\":0,\"ticks\":\"\"}},\"type\":\"scattergl\"}],\"scattermapbox\":[{\"marker\":{\"colorbar\":{\"outlinewidth\":0,\"ticks\":\"\"}},\"type\":\"scattermapbox\"}],\"scatterpolar\":[{\"marker\":{\"colorbar\":{\"outlinewidth\":0,\"ticks\":\"\"}},\"type\":\"scatterpolar\"}],\"scatterpolargl\":[{\"marker\":{\"colorbar\":{\"outlinewidth\":0,\"ticks\":\"\"}},\"type\":\"scatterpolargl\"}],\"scatterternary\":[{\"marker\":{\"colorbar\":{\"outlinewidth\":0,\"ticks\":\"\"}},\"type\":\"scatterternary\"}],\"surface\":[{\"colorbar\":{\"outlinewidth\":0,\"ticks\":\"\"},\"colorscale\":[[0.0,\"#0d0887\"],[0.1111111111111111,\"#46039f\"],[0.2222222222222222,\"#7201a8\"],[0.3333333333333333,\"#9c179e\"],[0.4444444444444444,\"#bd3786\"],[0.5555555555555556,\"#d8576b\"],[0.6666666666666666,\"#ed7953\"],[0.7777777777777778,\"#fb9f3a\"],[0.8888888888888888,\"#fdca26\"],[1.0,\"#f0f921\"]],\"type\":\"surface\"}],\"table\":[{\"cells\":{\"fill\":{\"color\":\"#EBF0F8\"},\"line\":{\"color\":\"white\"}},\"header\":{\"fill\":{\"color\":\"#C8D4E3\"},\"line\":{\"color\":\"white\"}},\"type\":\"table\"}]},\"layout\":{\"annotationdefaults\":{\"arrowcolor\":\"#2a3f5f\",\"arrowhead\":0,\"arrowwidth\":1},\"autotypenumbers\":\"strict\",\"coloraxis\":{\"colorbar\":{\"outlinewidth\":0,\"ticks\":\"\"}},\"colorscale\":{\"diverging\":[[0,\"#8e0152\"],[0.1,\"#c51b7d\"],[0.2,\"#de77ae\"],[0.3,\"#f1b6da\"],[0.4,\"#fde0ef\"],[0.5,\"#f7f7f7\"],[0.6,\"#e6f5d0\"],[0.7,\"#b8e186\"],[0.8,\"#7fbc41\"],[0.9,\"#4d9221\"],[1,\"#276419\"]],\"sequential\":[[0.0,\"#0d0887\"],[0.1111111111111111,\"#46039f\"],[0.2222222222222222,\"#7201a8\"],[0.3333333333333333,\"#9c179e\"],[0.4444444444444444,\"#bd3786\"],[0.5555555555555556,\"#d8576b\"],[0.6666666666666666,\"#ed7953\"],[0.7777777777777778,\"#fb9f3a\"],[0.8888888888888888,\"#fdca26\"],[1.0,\"#f0f921\"]],\"sequentialminus\":[[0.0,\"#0d0887\"],[0.1111111111111111,\"#46039f\"],[0.2222222222222222,\"#7201a8\"],[0.3333333333333333,\"#9c179e\"],[0.4444444444444444,\"#bd3786\"],[0.5555555555555556,\"#d8576b\"],[0.6666666666666666,\"#ed7953\"],[0.7777777777777778,\"#fb9f3a\"],[0.8888888888888888,\"#fdca26\"],[1.0,\"#f0f921\"]]},\"colorway\":[\"#636efa\",\"#EF553B\",\"#00cc96\",\"#ab63fa\",\"#FFA15A\",\"#19d3f3\",\"#FF6692\",\"#B6E880\",\"#FF97FF\",\"#FECB52\"],\"font\":{\"color\":\"#2a3f5f\"},\"geo\":{\"bgcolor\":\"white\",\"lakecolor\":\"white\",\"landcolor\":\"#E5ECF6\",\"showlakes\":true,\"showland\":true,\"subunitcolor\":\"white\"},\"hoverlabel\":{\"align\":\"left\"},\"hovermode\":\"closest\",\"mapbox\":{\"style\":\"light\"},\"paper_bgcolor\":\"white\",\"plot_bgcolor\":\"#E5ECF6\",\"polar\":{\"angularaxis\":{\"gridcolor\":\"white\",\"linecolor\":\"white\",\"ticks\":\"\"},\"bgcolor\":\"#E5ECF6\",\"radialaxis\":{\"gridcolor\":\"white\",\"linecolor\":\"white\",\"ticks\":\"\"}},\"scene\":{\"xaxis\":{\"backgroundcolor\":\"#E5ECF6\",\"gridcolor\":\"white\",\"gridwidth\":2,\"linecolor\":\"white\",\"showbackground\":true,\"ticks\":\"\",\"zerolinecolor\":\"white\"},\"yaxis\":{\"backgroundcolor\":\"#E5ECF6\",\"gridcolor\":\"white\",\"gridwidth\":2,\"linecolor\":\"white\",\"showbackground\":true,\"ticks\":\"\",\"zerolinecolor\":\"white\"},\"zaxis\":{\"backgroundcolor\":\"#E5ECF6\",\"gridcolor\":\"white\",\"gridwidth\":2,\"linecolor\":\"white\",\"showbackground\":true,\"ticks\":\"\",\"zerolinecolor\":\"white\"}},\"shapedefaults\":{\"line\":{\"color\":\"#2a3f5f\"}},\"ternary\":{\"aaxis\":{\"gridcolor\":\"white\",\"linecolor\":\"white\",\"ticks\":\"\"},\"baxis\":{\"gridcolor\":\"white\",\"linecolor\":\"white\",\"ticks\":\"\"},\"bgcolor\":\"#E5ECF6\",\"caxis\":{\"gridcolor\":\"white\",\"linecolor\":\"white\",\"ticks\":\"\"}},\"title\":{\"x\":0.05},\"xaxis\":{\"automargin\":true,\"gridcolor\":\"white\",\"linecolor\":\"white\",\"ticks\":\"\",\"title\":{\"standoff\":15},\"zerolinecolor\":\"white\",\"zerolinewidth\":2},\"yaxis\":{\"automargin\":true,\"gridcolor\":\"white\",\"linecolor\":\"white\",\"ticks\":\"\",\"title\":{\"standoff\":15},\"zerolinecolor\":\"white\",\"zerolinewidth\":2}}},\"xaxis\":{\"anchor\":\"y\",\"domain\":[0.0,1.0],\"title\":{\"text\":\"x\"}},\"yaxis\":{\"anchor\":\"x\",\"domain\":[0.0,1.0],\"title\":{\"text\":\"y\"}},\"coloraxis\":{\"colorbar\":{\"title\":{\"text\":\"color\"}},\"colorscale\":[[0.0,\"#0d0887\"],[0.1111111111111111,\"#46039f\"],[0.2222222222222222,\"#7201a8\"],[0.3333333333333333,\"#9c179e\"],[0.4444444444444444,\"#bd3786\"],[0.5555555555555556,\"#d8576b\"],[0.6666666666666666,\"#ed7953\"],[0.7777777777777778,\"#fb9f3a\"],[0.8888888888888888,\"#fdca26\"],[1.0,\"#f0f921\"]]},\"legend\":{\"tracegroupgap\":0},\"margin\":{\"t\":60},\"title\":{\"text\":\"Agrupamento DBSCAN\"},\"width\":800,\"height\":500},                        {\"responsive\": true}                    ).then(function(){\n",
              "                            \n",
              "var gd = document.getElementById('b1ae89ca-40a7-4507-bb77-36b298b2baac');\n",
              "var x = new MutationObserver(function (mutations, observer) {{\n",
              "        var display = window.getComputedStyle(gd).display;\n",
              "        if (!display || display === 'none') {{\n",
              "            console.log([gd, 'removed!']);\n",
              "            Plotly.purge(gd);\n",
              "            observer.disconnect();\n",
              "        }}\n",
              "}});\n",
              "\n",
              "// Listen for the removal of the full notebook cells\n",
              "var notebookContainer = gd.closest('#notebook-container');\n",
              "if (notebookContainer) {{\n",
              "    x.observe(notebookContainer, {childList: true});\n",
              "}}\n",
              "\n",
              "// Listen for the clearing of the current output cell\n",
              "var outputEl = gd.closest('.output');\n",
              "if (outputEl) {{\n",
              "    x.observe(outputEl, {childList: true});\n",
              "}}\n",
              "\n",
              "                        })                };                            </script>        </div>\n",
              "</body>\n",
              "</html>"
            ]
          },
          "metadata": {}
        }
      ]
    },
    {
      "cell_type": "markdown",
      "source": [
        "Agrupamento"
      ],
      "metadata": {
        "id": "2SSJj6g1pQ2p"
      }
    },
    {
      "cell_type": "code",
      "source": [
        "agrupamento5 = pd.DataFrame(classificacao6, columns=[\"Grupo\"])"
      ],
      "metadata": {
        "id": "kC-GbXl3pSLo"
      },
      "execution_count": 131,
      "outputs": []
    },
    {
      "cell_type": "code",
      "source": [
        "agrupamento5"
      ],
      "metadata": {
        "colab": {
          "base_uri": "https://localhost:8080/",
          "height": 424
        },
        "id": "fixDc3MQpiDZ",
        "outputId": "fe456b30-46df-4962-a846-33cae00b71d4"
      },
      "execution_count": 132,
      "outputs": [
        {
          "output_type": "execute_result",
          "data": {
            "text/plain": [
              "     Grupo\n",
              "0        0\n",
              "1        0\n",
              "2       -1\n",
              "3        1\n",
              "4       -1\n",
              "..     ...\n",
              "195      0\n",
              "196      5\n",
              "197     -1\n",
              "198     -1\n",
              "199     -1\n",
              "\n",
              "[200 rows x 1 columns]"
            ],
            "text/html": [
              "\n",
              "  <div id=\"df-9e6f7103-2adc-4748-965c-7b6a8384e5cb\">\n",
              "    <div class=\"colab-df-container\">\n",
              "      <div>\n",
              "<style scoped>\n",
              "    .dataframe tbody tr th:only-of-type {\n",
              "        vertical-align: middle;\n",
              "    }\n",
              "\n",
              "    .dataframe tbody tr th {\n",
              "        vertical-align: top;\n",
              "    }\n",
              "\n",
              "    .dataframe thead th {\n",
              "        text-align: right;\n",
              "    }\n",
              "</style>\n",
              "<table border=\"1\" class=\"dataframe\">\n",
              "  <thead>\n",
              "    <tr style=\"text-align: right;\">\n",
              "      <th></th>\n",
              "      <th>Grupo</th>\n",
              "    </tr>\n",
              "  </thead>\n",
              "  <tbody>\n",
              "    <tr>\n",
              "      <th>0</th>\n",
              "      <td>0</td>\n",
              "    </tr>\n",
              "    <tr>\n",
              "      <th>1</th>\n",
              "      <td>0</td>\n",
              "    </tr>\n",
              "    <tr>\n",
              "      <th>2</th>\n",
              "      <td>-1</td>\n",
              "    </tr>\n",
              "    <tr>\n",
              "      <th>3</th>\n",
              "      <td>1</td>\n",
              "    </tr>\n",
              "    <tr>\n",
              "      <th>4</th>\n",
              "      <td>-1</td>\n",
              "    </tr>\n",
              "    <tr>\n",
              "      <th>...</th>\n",
              "      <td>...</td>\n",
              "    </tr>\n",
              "    <tr>\n",
              "      <th>195</th>\n",
              "      <td>0</td>\n",
              "    </tr>\n",
              "    <tr>\n",
              "      <th>196</th>\n",
              "      <td>5</td>\n",
              "    </tr>\n",
              "    <tr>\n",
              "      <th>197</th>\n",
              "      <td>-1</td>\n",
              "    </tr>\n",
              "    <tr>\n",
              "      <th>198</th>\n",
              "      <td>-1</td>\n",
              "    </tr>\n",
              "    <tr>\n",
              "      <th>199</th>\n",
              "      <td>-1</td>\n",
              "    </tr>\n",
              "  </tbody>\n",
              "</table>\n",
              "<p>200 rows × 1 columns</p>\n",
              "</div>\n",
              "      <button class=\"colab-df-convert\" onclick=\"convertToInteractive('df-9e6f7103-2adc-4748-965c-7b6a8384e5cb')\"\n",
              "              title=\"Convert this dataframe to an interactive table.\"\n",
              "              style=\"display:none;\">\n",
              "        \n",
              "  <svg xmlns=\"http://www.w3.org/2000/svg\" height=\"24px\"viewBox=\"0 0 24 24\"\n",
              "       width=\"24px\">\n",
              "    <path d=\"M0 0h24v24H0V0z\" fill=\"none\"/>\n",
              "    <path d=\"M18.56 5.44l.94 2.06.94-2.06 2.06-.94-2.06-.94-.94-2.06-.94 2.06-2.06.94zm-11 1L8.5 8.5l.94-2.06 2.06-.94-2.06-.94L8.5 2.5l-.94 2.06-2.06.94zm10 10l.94 2.06.94-2.06 2.06-.94-2.06-.94-.94-2.06-.94 2.06-2.06.94z\"/><path d=\"M17.41 7.96l-1.37-1.37c-.4-.4-.92-.59-1.43-.59-.52 0-1.04.2-1.43.59L10.3 9.45l-7.72 7.72c-.78.78-.78 2.05 0 2.83L4 21.41c.39.39.9.59 1.41.59.51 0 1.02-.2 1.41-.59l7.78-7.78 2.81-2.81c.8-.78.8-2.07 0-2.86zM5.41 20L4 18.59l7.72-7.72 1.47 1.35L5.41 20z\"/>\n",
              "  </svg>\n",
              "      </button>\n",
              "      \n",
              "  <style>\n",
              "    .colab-df-container {\n",
              "      display:flex;\n",
              "      flex-wrap:wrap;\n",
              "      gap: 12px;\n",
              "    }\n",
              "\n",
              "    .colab-df-convert {\n",
              "      background-color: #E8F0FE;\n",
              "      border: none;\n",
              "      border-radius: 50%;\n",
              "      cursor: pointer;\n",
              "      display: none;\n",
              "      fill: #1967D2;\n",
              "      height: 32px;\n",
              "      padding: 0 0 0 0;\n",
              "      width: 32px;\n",
              "    }\n",
              "\n",
              "    .colab-df-convert:hover {\n",
              "      background-color: #E2EBFA;\n",
              "      box-shadow: 0px 1px 2px rgba(60, 64, 67, 0.3), 0px 1px 3px 1px rgba(60, 64, 67, 0.15);\n",
              "      fill: #174EA6;\n",
              "    }\n",
              "\n",
              "    [theme=dark] .colab-df-convert {\n",
              "      background-color: #3B4455;\n",
              "      fill: #D2E3FC;\n",
              "    }\n",
              "\n",
              "    [theme=dark] .colab-df-convert:hover {\n",
              "      background-color: #434B5C;\n",
              "      box-shadow: 0px 1px 3px 1px rgba(0, 0, 0, 0.15);\n",
              "      filter: drop-shadow(0px 1px 2px rgba(0, 0, 0, 0.3));\n",
              "      fill: #FFFFFF;\n",
              "    }\n",
              "  </style>\n",
              "\n",
              "      <script>\n",
              "        const buttonEl =\n",
              "          document.querySelector('#df-9e6f7103-2adc-4748-965c-7b6a8384e5cb button.colab-df-convert');\n",
              "        buttonEl.style.display =\n",
              "          google.colab.kernel.accessAllowed ? 'block' : 'none';\n",
              "\n",
              "        async function convertToInteractive(key) {\n",
              "          const element = document.querySelector('#df-9e6f7103-2adc-4748-965c-7b6a8384e5cb');\n",
              "          const dataTable =\n",
              "            await google.colab.kernel.invokeFunction('convertToInteractive',\n",
              "                                                     [key], {});\n",
              "          if (!dataTable) return;\n",
              "\n",
              "          const docLinkHtml = 'Like what you see? Visit the ' +\n",
              "            '<a target=\"_blank\" href=https://colab.research.google.com/notebooks/data_table.ipynb>data table notebook</a>'\n",
              "            + ' to learn more about interactive tables.';\n",
              "          element.innerHTML = '';\n",
              "          dataTable['output_type'] = 'display_data';\n",
              "          await google.colab.output.renderOutput(dataTable, element);\n",
              "          const docLink = document.createElement('div');\n",
              "          docLink.innerHTML = docLinkHtml;\n",
              "          element.appendChild(docLink);\n",
              "        }\n",
              "      </script>\n",
              "    </div>\n",
              "  </div>\n",
              "  "
            ]
          },
          "metadata": {},
          "execution_count": 132
        }
      ]
    },
    {
      "cell_type": "markdown",
      "source": [
        "Juntando o atributo Grupo ao dataframe original. Será criado um novo dataframe para manter a integridade dos dados"
      ],
      "metadata": {
        "id": "EozfDHmkpokV"
      }
    },
    {
      "cell_type": "code",
      "source": [
        "df8 = pd.concat([df,agrupamento5],axis=1)\n",
        "df8"
      ],
      "metadata": {
        "colab": {
          "base_uri": "https://localhost:8080/",
          "height": 424
        },
        "id": "QbqphhS1p3KI",
        "outputId": "8b92e8a9-43b7-4ea8-e390-ddd55ba14024"
      },
      "execution_count": 133,
      "outputs": [
        {
          "output_type": "execute_result",
          "data": {
            "text/plain": [
              "     CustomerID  genero  idade  rendimento  pontuacao  Grupo\n",
              "0             1    Male     19          15         39      0\n",
              "1             2    Male     21          15         81      0\n",
              "2             3  Female     20          16          6     -1\n",
              "3             4  Female     23          16         77      1\n",
              "4             5  Female     31          17         40     -1\n",
              "..          ...     ...    ...         ...        ...    ...\n",
              "195         196  Female     35         120         79      0\n",
              "196         197  Female     45         126         28      5\n",
              "197         198    Male     32         126         74     -1\n",
              "198         199    Male     32         137         18     -1\n",
              "199         200    Male     30         137         83     -1\n",
              "\n",
              "[200 rows x 6 columns]"
            ],
            "text/html": [
              "\n",
              "  <div id=\"df-73ca966a-8011-4b3c-b703-b224cd4f905b\">\n",
              "    <div class=\"colab-df-container\">\n",
              "      <div>\n",
              "<style scoped>\n",
              "    .dataframe tbody tr th:only-of-type {\n",
              "        vertical-align: middle;\n",
              "    }\n",
              "\n",
              "    .dataframe tbody tr th {\n",
              "        vertical-align: top;\n",
              "    }\n",
              "\n",
              "    .dataframe thead th {\n",
              "        text-align: right;\n",
              "    }\n",
              "</style>\n",
              "<table border=\"1\" class=\"dataframe\">\n",
              "  <thead>\n",
              "    <tr style=\"text-align: right;\">\n",
              "      <th></th>\n",
              "      <th>CustomerID</th>\n",
              "      <th>genero</th>\n",
              "      <th>idade</th>\n",
              "      <th>rendimento</th>\n",
              "      <th>pontuacao</th>\n",
              "      <th>Grupo</th>\n",
              "    </tr>\n",
              "  </thead>\n",
              "  <tbody>\n",
              "    <tr>\n",
              "      <th>0</th>\n",
              "      <td>1</td>\n",
              "      <td>Male</td>\n",
              "      <td>19</td>\n",
              "      <td>15</td>\n",
              "      <td>39</td>\n",
              "      <td>0</td>\n",
              "    </tr>\n",
              "    <tr>\n",
              "      <th>1</th>\n",
              "      <td>2</td>\n",
              "      <td>Male</td>\n",
              "      <td>21</td>\n",
              "      <td>15</td>\n",
              "      <td>81</td>\n",
              "      <td>0</td>\n",
              "    </tr>\n",
              "    <tr>\n",
              "      <th>2</th>\n",
              "      <td>3</td>\n",
              "      <td>Female</td>\n",
              "      <td>20</td>\n",
              "      <td>16</td>\n",
              "      <td>6</td>\n",
              "      <td>-1</td>\n",
              "    </tr>\n",
              "    <tr>\n",
              "      <th>3</th>\n",
              "      <td>4</td>\n",
              "      <td>Female</td>\n",
              "      <td>23</td>\n",
              "      <td>16</td>\n",
              "      <td>77</td>\n",
              "      <td>1</td>\n",
              "    </tr>\n",
              "    <tr>\n",
              "      <th>4</th>\n",
              "      <td>5</td>\n",
              "      <td>Female</td>\n",
              "      <td>31</td>\n",
              "      <td>17</td>\n",
              "      <td>40</td>\n",
              "      <td>-1</td>\n",
              "    </tr>\n",
              "    <tr>\n",
              "      <th>...</th>\n",
              "      <td>...</td>\n",
              "      <td>...</td>\n",
              "      <td>...</td>\n",
              "      <td>...</td>\n",
              "      <td>...</td>\n",
              "      <td>...</td>\n",
              "    </tr>\n",
              "    <tr>\n",
              "      <th>195</th>\n",
              "      <td>196</td>\n",
              "      <td>Female</td>\n",
              "      <td>35</td>\n",
              "      <td>120</td>\n",
              "      <td>79</td>\n",
              "      <td>0</td>\n",
              "    </tr>\n",
              "    <tr>\n",
              "      <th>196</th>\n",
              "      <td>197</td>\n",
              "      <td>Female</td>\n",
              "      <td>45</td>\n",
              "      <td>126</td>\n",
              "      <td>28</td>\n",
              "      <td>5</td>\n",
              "    </tr>\n",
              "    <tr>\n",
              "      <th>197</th>\n",
              "      <td>198</td>\n",
              "      <td>Male</td>\n",
              "      <td>32</td>\n",
              "      <td>126</td>\n",
              "      <td>74</td>\n",
              "      <td>-1</td>\n",
              "    </tr>\n",
              "    <tr>\n",
              "      <th>198</th>\n",
              "      <td>199</td>\n",
              "      <td>Male</td>\n",
              "      <td>32</td>\n",
              "      <td>137</td>\n",
              "      <td>18</td>\n",
              "      <td>-1</td>\n",
              "    </tr>\n",
              "    <tr>\n",
              "      <th>199</th>\n",
              "      <td>200</td>\n",
              "      <td>Male</td>\n",
              "      <td>30</td>\n",
              "      <td>137</td>\n",
              "      <td>83</td>\n",
              "      <td>-1</td>\n",
              "    </tr>\n",
              "  </tbody>\n",
              "</table>\n",
              "<p>200 rows × 6 columns</p>\n",
              "</div>\n",
              "      <button class=\"colab-df-convert\" onclick=\"convertToInteractive('df-73ca966a-8011-4b3c-b703-b224cd4f905b')\"\n",
              "              title=\"Convert this dataframe to an interactive table.\"\n",
              "              style=\"display:none;\">\n",
              "        \n",
              "  <svg xmlns=\"http://www.w3.org/2000/svg\" height=\"24px\"viewBox=\"0 0 24 24\"\n",
              "       width=\"24px\">\n",
              "    <path d=\"M0 0h24v24H0V0z\" fill=\"none\"/>\n",
              "    <path d=\"M18.56 5.44l.94 2.06.94-2.06 2.06-.94-2.06-.94-.94-2.06-.94 2.06-2.06.94zm-11 1L8.5 8.5l.94-2.06 2.06-.94-2.06-.94L8.5 2.5l-.94 2.06-2.06.94zm10 10l.94 2.06.94-2.06 2.06-.94-2.06-.94-.94-2.06-.94 2.06-2.06.94z\"/><path d=\"M17.41 7.96l-1.37-1.37c-.4-.4-.92-.59-1.43-.59-.52 0-1.04.2-1.43.59L10.3 9.45l-7.72 7.72c-.78.78-.78 2.05 0 2.83L4 21.41c.39.39.9.59 1.41.59.51 0 1.02-.2 1.41-.59l7.78-7.78 2.81-2.81c.8-.78.8-2.07 0-2.86zM5.41 20L4 18.59l7.72-7.72 1.47 1.35L5.41 20z\"/>\n",
              "  </svg>\n",
              "      </button>\n",
              "      \n",
              "  <style>\n",
              "    .colab-df-container {\n",
              "      display:flex;\n",
              "      flex-wrap:wrap;\n",
              "      gap: 12px;\n",
              "    }\n",
              "\n",
              "    .colab-df-convert {\n",
              "      background-color: #E8F0FE;\n",
              "      border: none;\n",
              "      border-radius: 50%;\n",
              "      cursor: pointer;\n",
              "      display: none;\n",
              "      fill: #1967D2;\n",
              "      height: 32px;\n",
              "      padding: 0 0 0 0;\n",
              "      width: 32px;\n",
              "    }\n",
              "\n",
              "    .colab-df-convert:hover {\n",
              "      background-color: #E2EBFA;\n",
              "      box-shadow: 0px 1px 2px rgba(60, 64, 67, 0.3), 0px 1px 3px 1px rgba(60, 64, 67, 0.15);\n",
              "      fill: #174EA6;\n",
              "    }\n",
              "\n",
              "    [theme=dark] .colab-df-convert {\n",
              "      background-color: #3B4455;\n",
              "      fill: #D2E3FC;\n",
              "    }\n",
              "\n",
              "    [theme=dark] .colab-df-convert:hover {\n",
              "      background-color: #434B5C;\n",
              "      box-shadow: 0px 1px 3px 1px rgba(0, 0, 0, 0.15);\n",
              "      filter: drop-shadow(0px 1px 2px rgba(0, 0, 0, 0.3));\n",
              "      fill: #FFFFFF;\n",
              "    }\n",
              "  </style>\n",
              "\n",
              "      <script>\n",
              "        const buttonEl =\n",
              "          document.querySelector('#df-73ca966a-8011-4b3c-b703-b224cd4f905b button.colab-df-convert');\n",
              "        buttonEl.style.display =\n",
              "          google.colab.kernel.accessAllowed ? 'block' : 'none';\n",
              "\n",
              "        async function convertToInteractive(key) {\n",
              "          const element = document.querySelector('#df-73ca966a-8011-4b3c-b703-b224cd4f905b');\n",
              "          const dataTable =\n",
              "            await google.colab.kernel.invokeFunction('convertToInteractive',\n",
              "                                                     [key], {});\n",
              "          if (!dataTable) return;\n",
              "\n",
              "          const docLinkHtml = 'Like what you see? Visit the ' +\n",
              "            '<a target=\"_blank\" href=https://colab.research.google.com/notebooks/data_table.ipynb>data table notebook</a>'\n",
              "            + ' to learn more about interactive tables.';\n",
              "          element.innerHTML = '';\n",
              "          dataTable['output_type'] = 'display_data';\n",
              "          await google.colab.output.renderOutput(dataTable, element);\n",
              "          const docLink = document.createElement('div');\n",
              "          docLink.innerHTML = docLinkHtml;\n",
              "          element.appendChild(docLink);\n",
              "        }\n",
              "      </script>\n",
              "    </div>\n",
              "  </div>\n",
              "  "
            ]
          },
          "metadata": {},
          "execution_count": 133
        }
      ]
    }
  ]
}